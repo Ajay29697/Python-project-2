{
  "nbformat": 4,
  "nbformat_minor": 0,
  "metadata": {
    "colab": {
      "provenance": []
    },
    "kernelspec": {
      "name": "python3",
      "display_name": "Python 3"
    },
    "language_info": {
      "name": "python"
    }
  },
  "cells": [
    {
      "cell_type": "code",
      "execution_count": 1,
      "metadata": {
        "id": "J1Amkwt79B1E"
      },
      "outputs": [],
      "source": [
        "import numpy as np\n",
        "import pandas as pd\n",
        "import seaborn as sns\n",
        "import matplotlib as mpl\n",
        "import matplotlib.pyplot as plt\n",
        "import statsmodels.api as sm\n",
        "from statsmodels.graphics.gofplots import qqplot\n",
        "import plotly.express as px\n",
        "import plotly.graph_objects as go\n",
        "from plotly.subplots import make_subplots\n",
        "import warnings\n",
        "warnings.filterwarnings('ignore')\n",
        "from sklearn import tree, ensemble\n",
        "from sklearn.model_selection import train_test_split\n",
        "from sklearn.metrics import f1_score\n",
        "from sklearn.ensemble import RandomForestClassifier, AdaBoostClassifier\n",
        "from sklearn.neighbors import KNeighborsClassifier\n",
        "from sklearn.svm import SVC\n",
        "from xgboost import XGBClassifier\n",
        "from sklearn.pipeline import make_pipeline\n",
        "from sklearn.preprocessing import StandardScaler\n",
        "from sklearn.model_selection import cross_val_score\n",
        "from sklearn.metrics import classification_report\n",
        "from sklearn.metrics import roc_auc_score\n",
        "from sklearn.utils import resample\n",
        "import os"
      ]
    },
    {
      "cell_type": "code",
      "source": [
        "df_players = pd.read_csv('players.csv')\n",
        "df_players.head()"
      ],
      "metadata": {
        "colab": {
          "base_uri": "https://localhost:8080/",
          "height": 206
        },
        "id": "UuztHqje9iqJ",
        "outputId": "d14581e2-9dd4-4939-af62-f1ba5d09a99e"
      },
      "execution_count": 2,
      "outputs": [
        {
          "output_type": "execute_result",
          "data": {
            "text/plain": [
              "   nflId height  weight   birthDate       collegeName Position  \\\n",
              "0  42901    6-1     208  1992-07-25     James Madison       SS   \n",
              "1  43501    6-0     220  1994-08-11  Central Michigan       FS   \n",
              "2  43534    6-0     205  1993-06-02          Illinois       SS   \n",
              "3  43535    6-1     235  1992-12-22            Temple      MLB   \n",
              "4  44174    6-1     236  1993-02-22        Texas Tech      ILB   \n",
              "\n",
              "         displayName  \n",
              "0       Dean Marlowe  \n",
              "1      Kavon Frazier  \n",
              "2  Clayton Fejedelem  \n",
              "3   Tyler Matakevich  \n",
              "4       Sam Eguavoen  "
            ],
            "text/html": [
              "\n",
              "\n",
              "  <div id=\"df-562dabf4-cc3d-4e38-8c6b-f0a301711295\">\n",
              "    <div class=\"colab-df-container\">\n",
              "      <div>\n",
              "<style scoped>\n",
              "    .dataframe tbody tr th:only-of-type {\n",
              "        vertical-align: middle;\n",
              "    }\n",
              "\n",
              "    .dataframe tbody tr th {\n",
              "        vertical-align: top;\n",
              "    }\n",
              "\n",
              "    .dataframe thead th {\n",
              "        text-align: right;\n",
              "    }\n",
              "</style>\n",
              "<table border=\"1\" class=\"dataframe\">\n",
              "  <thead>\n",
              "    <tr style=\"text-align: right;\">\n",
              "      <th></th>\n",
              "      <th>nflId</th>\n",
              "      <th>height</th>\n",
              "      <th>weight</th>\n",
              "      <th>birthDate</th>\n",
              "      <th>collegeName</th>\n",
              "      <th>Position</th>\n",
              "      <th>displayName</th>\n",
              "    </tr>\n",
              "  </thead>\n",
              "  <tbody>\n",
              "    <tr>\n",
              "      <th>0</th>\n",
              "      <td>42901</td>\n",
              "      <td>6-1</td>\n",
              "      <td>208</td>\n",
              "      <td>1992-07-25</td>\n",
              "      <td>James Madison</td>\n",
              "      <td>SS</td>\n",
              "      <td>Dean Marlowe</td>\n",
              "    </tr>\n",
              "    <tr>\n",
              "      <th>1</th>\n",
              "      <td>43501</td>\n",
              "      <td>6-0</td>\n",
              "      <td>220</td>\n",
              "      <td>1994-08-11</td>\n",
              "      <td>Central Michigan</td>\n",
              "      <td>FS</td>\n",
              "      <td>Kavon Frazier</td>\n",
              "    </tr>\n",
              "    <tr>\n",
              "      <th>2</th>\n",
              "      <td>43534</td>\n",
              "      <td>6-0</td>\n",
              "      <td>205</td>\n",
              "      <td>1993-06-02</td>\n",
              "      <td>Illinois</td>\n",
              "      <td>SS</td>\n",
              "      <td>Clayton Fejedelem</td>\n",
              "    </tr>\n",
              "    <tr>\n",
              "      <th>3</th>\n",
              "      <td>43535</td>\n",
              "      <td>6-1</td>\n",
              "      <td>235</td>\n",
              "      <td>1992-12-22</td>\n",
              "      <td>Temple</td>\n",
              "      <td>MLB</td>\n",
              "      <td>Tyler Matakevich</td>\n",
              "    </tr>\n",
              "    <tr>\n",
              "      <th>4</th>\n",
              "      <td>44174</td>\n",
              "      <td>6-1</td>\n",
              "      <td>236</td>\n",
              "      <td>1993-02-22</td>\n",
              "      <td>Texas Tech</td>\n",
              "      <td>ILB</td>\n",
              "      <td>Sam Eguavoen</td>\n",
              "    </tr>\n",
              "  </tbody>\n",
              "</table>\n",
              "</div>\n",
              "      <button class=\"colab-df-convert\" onclick=\"convertToInteractive('df-562dabf4-cc3d-4e38-8c6b-f0a301711295')\"\n",
              "              title=\"Convert this dataframe to an interactive table.\"\n",
              "              style=\"display:none;\">\n",
              "\n",
              "  <svg xmlns=\"http://www.w3.org/2000/svg\" height=\"24px\"viewBox=\"0 0 24 24\"\n",
              "       width=\"24px\">\n",
              "    <path d=\"M0 0h24v24H0V0z\" fill=\"none\"/>\n",
              "    <path d=\"M18.56 5.44l.94 2.06.94-2.06 2.06-.94-2.06-.94-.94-2.06-.94 2.06-2.06.94zm-11 1L8.5 8.5l.94-2.06 2.06-.94-2.06-.94L8.5 2.5l-.94 2.06-2.06.94zm10 10l.94 2.06.94-2.06 2.06-.94-2.06-.94-.94-2.06-.94 2.06-2.06.94z\"/><path d=\"M17.41 7.96l-1.37-1.37c-.4-.4-.92-.59-1.43-.59-.52 0-1.04.2-1.43.59L10.3 9.45l-7.72 7.72c-.78.78-.78 2.05 0 2.83L4 21.41c.39.39.9.59 1.41.59.51 0 1.02-.2 1.41-.59l7.78-7.78 2.81-2.81c.8-.78.8-2.07 0-2.86zM5.41 20L4 18.59l7.72-7.72 1.47 1.35L5.41 20z\"/>\n",
              "  </svg>\n",
              "      </button>\n",
              "\n",
              "\n",
              "\n",
              "    <div id=\"df-13853713-f157-4ef0-a4d9-5c3c5f1bb6fa\">\n",
              "      <button class=\"colab-df-quickchart\" onclick=\"quickchart('df-13853713-f157-4ef0-a4d9-5c3c5f1bb6fa')\"\n",
              "              title=\"Suggest charts.\"\n",
              "              style=\"display:none;\">\n",
              "\n",
              "<svg xmlns=\"http://www.w3.org/2000/svg\" height=\"24px\"viewBox=\"0 0 24 24\"\n",
              "     width=\"24px\">\n",
              "    <g>\n",
              "        <path d=\"M19 3H5c-1.1 0-2 .9-2 2v14c0 1.1.9 2 2 2h14c1.1 0 2-.9 2-2V5c0-1.1-.9-2-2-2zM9 17H7v-7h2v7zm4 0h-2V7h2v10zm4 0h-2v-4h2v4z\"/>\n",
              "    </g>\n",
              "</svg>\n",
              "      </button>\n",
              "    </div>\n",
              "\n",
              "<style>\n",
              "  .colab-df-quickchart {\n",
              "    background-color: #E8F0FE;\n",
              "    border: none;\n",
              "    border-radius: 50%;\n",
              "    cursor: pointer;\n",
              "    display: none;\n",
              "    fill: #1967D2;\n",
              "    height: 32px;\n",
              "    padding: 0 0 0 0;\n",
              "    width: 32px;\n",
              "  }\n",
              "\n",
              "  .colab-df-quickchart:hover {\n",
              "    background-color: #E2EBFA;\n",
              "    box-shadow: 0px 1px 2px rgba(60, 64, 67, 0.3), 0px 1px 3px 1px rgba(60, 64, 67, 0.15);\n",
              "    fill: #174EA6;\n",
              "  }\n",
              "\n",
              "  [theme=dark] .colab-df-quickchart {\n",
              "    background-color: #3B4455;\n",
              "    fill: #D2E3FC;\n",
              "  }\n",
              "\n",
              "  [theme=dark] .colab-df-quickchart:hover {\n",
              "    background-color: #434B5C;\n",
              "    box-shadow: 0px 1px 3px 1px rgba(0, 0, 0, 0.15);\n",
              "    filter: drop-shadow(0px 1px 2px rgba(0, 0, 0, 0.3));\n",
              "    fill: #FFFFFF;\n",
              "  }\n",
              "</style>\n",
              "\n",
              "    <script>\n",
              "      async function quickchart(key) {\n",
              "        const containerElement = document.querySelector('#' + key);\n",
              "        const charts = await google.colab.kernel.invokeFunction(\n",
              "            'suggestCharts', [key], {});\n",
              "      }\n",
              "    </script>\n",
              "\n",
              "      <script>\n",
              "\n",
              "function displayQuickchartButton(domScope) {\n",
              "  let quickchartButtonEl =\n",
              "    domScope.querySelector('#df-13853713-f157-4ef0-a4d9-5c3c5f1bb6fa button.colab-df-quickchart');\n",
              "  quickchartButtonEl.style.display =\n",
              "    google.colab.kernel.accessAllowed ? 'block' : 'none';\n",
              "}\n",
              "\n",
              "        displayQuickchartButton(document);\n",
              "      </script>\n",
              "      <style>\n",
              "    .colab-df-container {\n",
              "      display:flex;\n",
              "      flex-wrap:wrap;\n",
              "      gap: 12px;\n",
              "    }\n",
              "\n",
              "    .colab-df-convert {\n",
              "      background-color: #E8F0FE;\n",
              "      border: none;\n",
              "      border-radius: 50%;\n",
              "      cursor: pointer;\n",
              "      display: none;\n",
              "      fill: #1967D2;\n",
              "      height: 32px;\n",
              "      padding: 0 0 0 0;\n",
              "      width: 32px;\n",
              "    }\n",
              "\n",
              "    .colab-df-convert:hover {\n",
              "      background-color: #E2EBFA;\n",
              "      box-shadow: 0px 1px 2px rgba(60, 64, 67, 0.3), 0px 1px 3px 1px rgba(60, 64, 67, 0.15);\n",
              "      fill: #174EA6;\n",
              "    }\n",
              "\n",
              "    [theme=dark] .colab-df-convert {\n",
              "      background-color: #3B4455;\n",
              "      fill: #D2E3FC;\n",
              "    }\n",
              "\n",
              "    [theme=dark] .colab-df-convert:hover {\n",
              "      background-color: #434B5C;\n",
              "      box-shadow: 0px 1px 3px 1px rgba(0, 0, 0, 0.15);\n",
              "      filter: drop-shadow(0px 1px 2px rgba(0, 0, 0, 0.3));\n",
              "      fill: #FFFFFF;\n",
              "    }\n",
              "  </style>\n",
              "\n",
              "      <script>\n",
              "        const buttonEl =\n",
              "          document.querySelector('#df-562dabf4-cc3d-4e38-8c6b-f0a301711295 button.colab-df-convert');\n",
              "        buttonEl.style.display =\n",
              "          google.colab.kernel.accessAllowed ? 'block' : 'none';\n",
              "\n",
              "        async function convertToInteractive(key) {\n",
              "          const element = document.querySelector('#df-562dabf4-cc3d-4e38-8c6b-f0a301711295');\n",
              "          const dataTable =\n",
              "            await google.colab.kernel.invokeFunction('convertToInteractive',\n",
              "                                                     [key], {});\n",
              "          if (!dataTable) return;\n",
              "\n",
              "          const docLinkHtml = 'Like what you see? Visit the ' +\n",
              "            '<a target=\"_blank\" href=https://colab.research.google.com/notebooks/data_table.ipynb>data table notebook</a>'\n",
              "            + ' to learn more about interactive tables.';\n",
              "          element.innerHTML = '';\n",
              "          dataTable['output_type'] = 'display_data';\n",
              "          await google.colab.output.renderOutput(dataTable, element);\n",
              "          const docLink = document.createElement('div');\n",
              "          docLink.innerHTML = docLinkHtml;\n",
              "          element.appendChild(docLink);\n",
              "        }\n",
              "      </script>\n",
              "    </div>\n",
              "  </div>\n"
            ]
          },
          "metadata": {},
          "execution_count": 2
        }
      ]
    },
    {
      "cell_type": "code",
      "source": [
        "df_games = pd.read_csv('games.csv')\n",
        "df_games.head()"
      ],
      "metadata": {
        "colab": {
          "base_uri": "https://localhost:8080/",
          "height": 206
        },
        "id": "iM1qRdBS9okw",
        "outputId": "6fe8ba97-0a01-498e-db34-05fd5536b0fe"
      },
      "execution_count": 3,
      "outputs": [
        {
          "output_type": "execute_result",
          "data": {
            "text/plain": [
              "       gameId  season  week    gameDate gameTimeEastern homeTeamAbbr  \\\n",
              "0  2018090600    2018     1  09/06/2018        20:20:00          PHI   \n",
              "1  2018090900    2018     1  09/09/2018        13:00:00          BAL   \n",
              "2  2018090901    2018     1  09/09/2018        13:00:00          CLE   \n",
              "3  2018090902    2018     1  09/09/2018        13:00:00          IND   \n",
              "4  2018090903    2018     1  09/09/2018        13:00:00          MIA   \n",
              "\n",
              "  visitorTeamAbbr  \n",
              "0             ATL  \n",
              "1             BUF  \n",
              "2             PIT  \n",
              "3             CIN  \n",
              "4             TEN  "
            ],
            "text/html": [
              "\n",
              "\n",
              "  <div id=\"df-1cc7b129-85a4-4384-b745-118648a21ac8\">\n",
              "    <div class=\"colab-df-container\">\n",
              "      <div>\n",
              "<style scoped>\n",
              "    .dataframe tbody tr th:only-of-type {\n",
              "        vertical-align: middle;\n",
              "    }\n",
              "\n",
              "    .dataframe tbody tr th {\n",
              "        vertical-align: top;\n",
              "    }\n",
              "\n",
              "    .dataframe thead th {\n",
              "        text-align: right;\n",
              "    }\n",
              "</style>\n",
              "<table border=\"1\" class=\"dataframe\">\n",
              "  <thead>\n",
              "    <tr style=\"text-align: right;\">\n",
              "      <th></th>\n",
              "      <th>gameId</th>\n",
              "      <th>season</th>\n",
              "      <th>week</th>\n",
              "      <th>gameDate</th>\n",
              "      <th>gameTimeEastern</th>\n",
              "      <th>homeTeamAbbr</th>\n",
              "      <th>visitorTeamAbbr</th>\n",
              "    </tr>\n",
              "  </thead>\n",
              "  <tbody>\n",
              "    <tr>\n",
              "      <th>0</th>\n",
              "      <td>2018090600</td>\n",
              "      <td>2018</td>\n",
              "      <td>1</td>\n",
              "      <td>09/06/2018</td>\n",
              "      <td>20:20:00</td>\n",
              "      <td>PHI</td>\n",
              "      <td>ATL</td>\n",
              "    </tr>\n",
              "    <tr>\n",
              "      <th>1</th>\n",
              "      <td>2018090900</td>\n",
              "      <td>2018</td>\n",
              "      <td>1</td>\n",
              "      <td>09/09/2018</td>\n",
              "      <td>13:00:00</td>\n",
              "      <td>BAL</td>\n",
              "      <td>BUF</td>\n",
              "    </tr>\n",
              "    <tr>\n",
              "      <th>2</th>\n",
              "      <td>2018090901</td>\n",
              "      <td>2018</td>\n",
              "      <td>1</td>\n",
              "      <td>09/09/2018</td>\n",
              "      <td>13:00:00</td>\n",
              "      <td>CLE</td>\n",
              "      <td>PIT</td>\n",
              "    </tr>\n",
              "    <tr>\n",
              "      <th>3</th>\n",
              "      <td>2018090902</td>\n",
              "      <td>2018</td>\n",
              "      <td>1</td>\n",
              "      <td>09/09/2018</td>\n",
              "      <td>13:00:00</td>\n",
              "      <td>IND</td>\n",
              "      <td>CIN</td>\n",
              "    </tr>\n",
              "    <tr>\n",
              "      <th>4</th>\n",
              "      <td>2018090903</td>\n",
              "      <td>2018</td>\n",
              "      <td>1</td>\n",
              "      <td>09/09/2018</td>\n",
              "      <td>13:00:00</td>\n",
              "      <td>MIA</td>\n",
              "      <td>TEN</td>\n",
              "    </tr>\n",
              "  </tbody>\n",
              "</table>\n",
              "</div>\n",
              "      <button class=\"colab-df-convert\" onclick=\"convertToInteractive('df-1cc7b129-85a4-4384-b745-118648a21ac8')\"\n",
              "              title=\"Convert this dataframe to an interactive table.\"\n",
              "              style=\"display:none;\">\n",
              "\n",
              "  <svg xmlns=\"http://www.w3.org/2000/svg\" height=\"24px\"viewBox=\"0 0 24 24\"\n",
              "       width=\"24px\">\n",
              "    <path d=\"M0 0h24v24H0V0z\" fill=\"none\"/>\n",
              "    <path d=\"M18.56 5.44l.94 2.06.94-2.06 2.06-.94-2.06-.94-.94-2.06-.94 2.06-2.06.94zm-11 1L8.5 8.5l.94-2.06 2.06-.94-2.06-.94L8.5 2.5l-.94 2.06-2.06.94zm10 10l.94 2.06.94-2.06 2.06-.94-2.06-.94-.94-2.06-.94 2.06-2.06.94z\"/><path d=\"M17.41 7.96l-1.37-1.37c-.4-.4-.92-.59-1.43-.59-.52 0-1.04.2-1.43.59L10.3 9.45l-7.72 7.72c-.78.78-.78 2.05 0 2.83L4 21.41c.39.39.9.59 1.41.59.51 0 1.02-.2 1.41-.59l7.78-7.78 2.81-2.81c.8-.78.8-2.07 0-2.86zM5.41 20L4 18.59l7.72-7.72 1.47 1.35L5.41 20z\"/>\n",
              "  </svg>\n",
              "      </button>\n",
              "\n",
              "\n",
              "\n",
              "    <div id=\"df-dd31a66b-e37b-4624-946a-226a7707aeca\">\n",
              "      <button class=\"colab-df-quickchart\" onclick=\"quickchart('df-dd31a66b-e37b-4624-946a-226a7707aeca')\"\n",
              "              title=\"Suggest charts.\"\n",
              "              style=\"display:none;\">\n",
              "\n",
              "<svg xmlns=\"http://www.w3.org/2000/svg\" height=\"24px\"viewBox=\"0 0 24 24\"\n",
              "     width=\"24px\">\n",
              "    <g>\n",
              "        <path d=\"M19 3H5c-1.1 0-2 .9-2 2v14c0 1.1.9 2 2 2h14c1.1 0 2-.9 2-2V5c0-1.1-.9-2-2-2zM9 17H7v-7h2v7zm4 0h-2V7h2v10zm4 0h-2v-4h2v4z\"/>\n",
              "    </g>\n",
              "</svg>\n",
              "      </button>\n",
              "    </div>\n",
              "\n",
              "<style>\n",
              "  .colab-df-quickchart {\n",
              "    background-color: #E8F0FE;\n",
              "    border: none;\n",
              "    border-radius: 50%;\n",
              "    cursor: pointer;\n",
              "    display: none;\n",
              "    fill: #1967D2;\n",
              "    height: 32px;\n",
              "    padding: 0 0 0 0;\n",
              "    width: 32px;\n",
              "  }\n",
              "\n",
              "  .colab-df-quickchart:hover {\n",
              "    background-color: #E2EBFA;\n",
              "    box-shadow: 0px 1px 2px rgba(60, 64, 67, 0.3), 0px 1px 3px 1px rgba(60, 64, 67, 0.15);\n",
              "    fill: #174EA6;\n",
              "  }\n",
              "\n",
              "  [theme=dark] .colab-df-quickchart {\n",
              "    background-color: #3B4455;\n",
              "    fill: #D2E3FC;\n",
              "  }\n",
              "\n",
              "  [theme=dark] .colab-df-quickchart:hover {\n",
              "    background-color: #434B5C;\n",
              "    box-shadow: 0px 1px 3px 1px rgba(0, 0, 0, 0.15);\n",
              "    filter: drop-shadow(0px 1px 2px rgba(0, 0, 0, 0.3));\n",
              "    fill: #FFFFFF;\n",
              "  }\n",
              "</style>\n",
              "\n",
              "    <script>\n",
              "      async function quickchart(key) {\n",
              "        const containerElement = document.querySelector('#' + key);\n",
              "        const charts = await google.colab.kernel.invokeFunction(\n",
              "            'suggestCharts', [key], {});\n",
              "      }\n",
              "    </script>\n",
              "\n",
              "      <script>\n",
              "\n",
              "function displayQuickchartButton(domScope) {\n",
              "  let quickchartButtonEl =\n",
              "    domScope.querySelector('#df-dd31a66b-e37b-4624-946a-226a7707aeca button.colab-df-quickchart');\n",
              "  quickchartButtonEl.style.display =\n",
              "    google.colab.kernel.accessAllowed ? 'block' : 'none';\n",
              "}\n",
              "\n",
              "        displayQuickchartButton(document);\n",
              "      </script>\n",
              "      <style>\n",
              "    .colab-df-container {\n",
              "      display:flex;\n",
              "      flex-wrap:wrap;\n",
              "      gap: 12px;\n",
              "    }\n",
              "\n",
              "    .colab-df-convert {\n",
              "      background-color: #E8F0FE;\n",
              "      border: none;\n",
              "      border-radius: 50%;\n",
              "      cursor: pointer;\n",
              "      display: none;\n",
              "      fill: #1967D2;\n",
              "      height: 32px;\n",
              "      padding: 0 0 0 0;\n",
              "      width: 32px;\n",
              "    }\n",
              "\n",
              "    .colab-df-convert:hover {\n",
              "      background-color: #E2EBFA;\n",
              "      box-shadow: 0px 1px 2px rgba(60, 64, 67, 0.3), 0px 1px 3px 1px rgba(60, 64, 67, 0.15);\n",
              "      fill: #174EA6;\n",
              "    }\n",
              "\n",
              "    [theme=dark] .colab-df-convert {\n",
              "      background-color: #3B4455;\n",
              "      fill: #D2E3FC;\n",
              "    }\n",
              "\n",
              "    [theme=dark] .colab-df-convert:hover {\n",
              "      background-color: #434B5C;\n",
              "      box-shadow: 0px 1px 3px 1px rgba(0, 0, 0, 0.15);\n",
              "      filter: drop-shadow(0px 1px 2px rgba(0, 0, 0, 0.3));\n",
              "      fill: #FFFFFF;\n",
              "    }\n",
              "  </style>\n",
              "\n",
              "      <script>\n",
              "        const buttonEl =\n",
              "          document.querySelector('#df-1cc7b129-85a4-4384-b745-118648a21ac8 button.colab-df-convert');\n",
              "        buttonEl.style.display =\n",
              "          google.colab.kernel.accessAllowed ? 'block' : 'none';\n",
              "\n",
              "        async function convertToInteractive(key) {\n",
              "          const element = document.querySelector('#df-1cc7b129-85a4-4384-b745-118648a21ac8');\n",
              "          const dataTable =\n",
              "            await google.colab.kernel.invokeFunction('convertToInteractive',\n",
              "                                                     [key], {});\n",
              "          if (!dataTable) return;\n",
              "\n",
              "          const docLinkHtml = 'Like what you see? Visit the ' +\n",
              "            '<a target=\"_blank\" href=https://colab.research.google.com/notebooks/data_table.ipynb>data table notebook</a>'\n",
              "            + ' to learn more about interactive tables.';\n",
              "          element.innerHTML = '';\n",
              "          dataTable['output_type'] = 'display_data';\n",
              "          await google.colab.output.renderOutput(dataTable, element);\n",
              "          const docLink = document.createElement('div');\n",
              "          docLink.innerHTML = docLinkHtml;\n",
              "          element.appendChild(docLink);\n",
              "        }\n",
              "      </script>\n",
              "    </div>\n",
              "  </div>\n"
            ]
          },
          "metadata": {},
          "execution_count": 3
        }
      ]
    },
    {
      "cell_type": "code",
      "source": [
        "df_plays = pd.read_csv('plays.csv')\n",
        "df_plays.head()"
      ],
      "metadata": {
        "colab": {
          "base_uri": "https://localhost:8080/",
          "height": 473
        },
        "id": "EDilP8109uMT",
        "outputId": "1c22112a-44dd-4553-fffc-74f3ccb5dc44"
      },
      "execution_count": 4,
      "outputs": [
        {
          "output_type": "execute_result",
          "data": {
            "text/plain": [
              "       gameId  playId                                    playDescription  \\\n",
              "0  2018090600      37  J.Elliott kicks 65 yards from PHI 35 to end zo...   \n",
              "1  2018090600     366  (9:20) C.Johnston punts 56 yards to ATL 36, Ce...   \n",
              "2  2018090600     658  (5:03) M.Bryant 21 yard field goal is GOOD, Ce...   \n",
              "3  2018090600     677  M.Bosher kicks 64 yards from ATL 35 to PHI 1. ...   \n",
              "4  2018090600     872  (:33) C.Johnston punts 65 yards to end zone, C...   \n",
              "\n",
              "   quarter  down  yardsToGo possessionTeam specialTeamsPlayType  \\\n",
              "0        1     0          0            PHI              Kickoff   \n",
              "1        1     4          4            PHI                 Punt   \n",
              "2        1     4          3            ATL           Field Goal   \n",
              "3        1     0          0            ATL              Kickoff   \n",
              "4        1     4         18            PHI                 Punt   \n",
              "\n",
              "  specialTeamsResult  kickerId  ... penaltyCodes  penaltyJerseyNumbers  \\\n",
              "0          Touchback   44966.0  ...          NaN                   NaN   \n",
              "1             Return   45603.0  ...         UNSd                PHI 18   \n",
              "2  Kick Attempt Good   27091.0  ...          NaN                   NaN   \n",
              "3             Return   37267.0  ...          NaN                   NaN   \n",
              "4          Touchback   45603.0  ...          NaN                   NaN   \n",
              "\n",
              "  penaltyYards  preSnapHomeScore preSnapVisitorScore passResult kickLength  \\\n",
              "0          NaN                 0                   0        NaN       66.0   \n",
              "1        -15.0                 0                   0        NaN       56.0   \n",
              "2          NaN                 0                   0        NaN       21.0   \n",
              "3          NaN                 0                   3        NaN       64.0   \n",
              "4          NaN                 0                   3        NaN       65.0   \n",
              "\n",
              "   kickReturnYardage  playResult  absoluteYardlineNumber  \n",
              "0                NaN          40                      45  \n",
              "1                5.0          36                      18  \n",
              "2                NaN           0                      13  \n",
              "3               30.0          34                      75  \n",
              "4                NaN          45                      45  \n",
              "\n",
              "[5 rows x 25 columns]"
            ],
            "text/html": [
              "\n",
              "\n",
              "  <div id=\"df-17341205-2b49-4501-819d-3b8be7db8803\">\n",
              "    <div class=\"colab-df-container\">\n",
              "      <div>\n",
              "<style scoped>\n",
              "    .dataframe tbody tr th:only-of-type {\n",
              "        vertical-align: middle;\n",
              "    }\n",
              "\n",
              "    .dataframe tbody tr th {\n",
              "        vertical-align: top;\n",
              "    }\n",
              "\n",
              "    .dataframe thead th {\n",
              "        text-align: right;\n",
              "    }\n",
              "</style>\n",
              "<table border=\"1\" class=\"dataframe\">\n",
              "  <thead>\n",
              "    <tr style=\"text-align: right;\">\n",
              "      <th></th>\n",
              "      <th>gameId</th>\n",
              "      <th>playId</th>\n",
              "      <th>playDescription</th>\n",
              "      <th>quarter</th>\n",
              "      <th>down</th>\n",
              "      <th>yardsToGo</th>\n",
              "      <th>possessionTeam</th>\n",
              "      <th>specialTeamsPlayType</th>\n",
              "      <th>specialTeamsResult</th>\n",
              "      <th>kickerId</th>\n",
              "      <th>...</th>\n",
              "      <th>penaltyCodes</th>\n",
              "      <th>penaltyJerseyNumbers</th>\n",
              "      <th>penaltyYards</th>\n",
              "      <th>preSnapHomeScore</th>\n",
              "      <th>preSnapVisitorScore</th>\n",
              "      <th>passResult</th>\n",
              "      <th>kickLength</th>\n",
              "      <th>kickReturnYardage</th>\n",
              "      <th>playResult</th>\n",
              "      <th>absoluteYardlineNumber</th>\n",
              "    </tr>\n",
              "  </thead>\n",
              "  <tbody>\n",
              "    <tr>\n",
              "      <th>0</th>\n",
              "      <td>2018090600</td>\n",
              "      <td>37</td>\n",
              "      <td>J.Elliott kicks 65 yards from PHI 35 to end zo...</td>\n",
              "      <td>1</td>\n",
              "      <td>0</td>\n",
              "      <td>0</td>\n",
              "      <td>PHI</td>\n",
              "      <td>Kickoff</td>\n",
              "      <td>Touchback</td>\n",
              "      <td>44966.0</td>\n",
              "      <td>...</td>\n",
              "      <td>NaN</td>\n",
              "      <td>NaN</td>\n",
              "      <td>NaN</td>\n",
              "      <td>0</td>\n",
              "      <td>0</td>\n",
              "      <td>NaN</td>\n",
              "      <td>66.0</td>\n",
              "      <td>NaN</td>\n",
              "      <td>40</td>\n",
              "      <td>45</td>\n",
              "    </tr>\n",
              "    <tr>\n",
              "      <th>1</th>\n",
              "      <td>2018090600</td>\n",
              "      <td>366</td>\n",
              "      <td>(9:20) C.Johnston punts 56 yards to ATL 36, Ce...</td>\n",
              "      <td>1</td>\n",
              "      <td>4</td>\n",
              "      <td>4</td>\n",
              "      <td>PHI</td>\n",
              "      <td>Punt</td>\n",
              "      <td>Return</td>\n",
              "      <td>45603.0</td>\n",
              "      <td>...</td>\n",
              "      <td>UNSd</td>\n",
              "      <td>PHI 18</td>\n",
              "      <td>-15.0</td>\n",
              "      <td>0</td>\n",
              "      <td>0</td>\n",
              "      <td>NaN</td>\n",
              "      <td>56.0</td>\n",
              "      <td>5.0</td>\n",
              "      <td>36</td>\n",
              "      <td>18</td>\n",
              "    </tr>\n",
              "    <tr>\n",
              "      <th>2</th>\n",
              "      <td>2018090600</td>\n",
              "      <td>658</td>\n",
              "      <td>(5:03) M.Bryant 21 yard field goal is GOOD, Ce...</td>\n",
              "      <td>1</td>\n",
              "      <td>4</td>\n",
              "      <td>3</td>\n",
              "      <td>ATL</td>\n",
              "      <td>Field Goal</td>\n",
              "      <td>Kick Attempt Good</td>\n",
              "      <td>27091.0</td>\n",
              "      <td>...</td>\n",
              "      <td>NaN</td>\n",
              "      <td>NaN</td>\n",
              "      <td>NaN</td>\n",
              "      <td>0</td>\n",
              "      <td>0</td>\n",
              "      <td>NaN</td>\n",
              "      <td>21.0</td>\n",
              "      <td>NaN</td>\n",
              "      <td>0</td>\n",
              "      <td>13</td>\n",
              "    </tr>\n",
              "    <tr>\n",
              "      <th>3</th>\n",
              "      <td>2018090600</td>\n",
              "      <td>677</td>\n",
              "      <td>M.Bosher kicks 64 yards from ATL 35 to PHI 1. ...</td>\n",
              "      <td>1</td>\n",
              "      <td>0</td>\n",
              "      <td>0</td>\n",
              "      <td>ATL</td>\n",
              "      <td>Kickoff</td>\n",
              "      <td>Return</td>\n",
              "      <td>37267.0</td>\n",
              "      <td>...</td>\n",
              "      <td>NaN</td>\n",
              "      <td>NaN</td>\n",
              "      <td>NaN</td>\n",
              "      <td>0</td>\n",
              "      <td>3</td>\n",
              "      <td>NaN</td>\n",
              "      <td>64.0</td>\n",
              "      <td>30.0</td>\n",
              "      <td>34</td>\n",
              "      <td>75</td>\n",
              "    </tr>\n",
              "    <tr>\n",
              "      <th>4</th>\n",
              "      <td>2018090600</td>\n",
              "      <td>872</td>\n",
              "      <td>(:33) C.Johnston punts 65 yards to end zone, C...</td>\n",
              "      <td>1</td>\n",
              "      <td>4</td>\n",
              "      <td>18</td>\n",
              "      <td>PHI</td>\n",
              "      <td>Punt</td>\n",
              "      <td>Touchback</td>\n",
              "      <td>45603.0</td>\n",
              "      <td>...</td>\n",
              "      <td>NaN</td>\n",
              "      <td>NaN</td>\n",
              "      <td>NaN</td>\n",
              "      <td>0</td>\n",
              "      <td>3</td>\n",
              "      <td>NaN</td>\n",
              "      <td>65.0</td>\n",
              "      <td>NaN</td>\n",
              "      <td>45</td>\n",
              "      <td>45</td>\n",
              "    </tr>\n",
              "  </tbody>\n",
              "</table>\n",
              "<p>5 rows × 25 columns</p>\n",
              "</div>\n",
              "      <button class=\"colab-df-convert\" onclick=\"convertToInteractive('df-17341205-2b49-4501-819d-3b8be7db8803')\"\n",
              "              title=\"Convert this dataframe to an interactive table.\"\n",
              "              style=\"display:none;\">\n",
              "\n",
              "  <svg xmlns=\"http://www.w3.org/2000/svg\" height=\"24px\"viewBox=\"0 0 24 24\"\n",
              "       width=\"24px\">\n",
              "    <path d=\"M0 0h24v24H0V0z\" fill=\"none\"/>\n",
              "    <path d=\"M18.56 5.44l.94 2.06.94-2.06 2.06-.94-2.06-.94-.94-2.06-.94 2.06-2.06.94zm-11 1L8.5 8.5l.94-2.06 2.06-.94-2.06-.94L8.5 2.5l-.94 2.06-2.06.94zm10 10l.94 2.06.94-2.06 2.06-.94-2.06-.94-.94-2.06-.94 2.06-2.06.94z\"/><path d=\"M17.41 7.96l-1.37-1.37c-.4-.4-.92-.59-1.43-.59-.52 0-1.04.2-1.43.59L10.3 9.45l-7.72 7.72c-.78.78-.78 2.05 0 2.83L4 21.41c.39.39.9.59 1.41.59.51 0 1.02-.2 1.41-.59l7.78-7.78 2.81-2.81c.8-.78.8-2.07 0-2.86zM5.41 20L4 18.59l7.72-7.72 1.47 1.35L5.41 20z\"/>\n",
              "  </svg>\n",
              "      </button>\n",
              "\n",
              "\n",
              "\n",
              "    <div id=\"df-88493c0a-a20e-4309-84c2-4eadf3d37355\">\n",
              "      <button class=\"colab-df-quickchart\" onclick=\"quickchart('df-88493c0a-a20e-4309-84c2-4eadf3d37355')\"\n",
              "              title=\"Suggest charts.\"\n",
              "              style=\"display:none;\">\n",
              "\n",
              "<svg xmlns=\"http://www.w3.org/2000/svg\" height=\"24px\"viewBox=\"0 0 24 24\"\n",
              "     width=\"24px\">\n",
              "    <g>\n",
              "        <path d=\"M19 3H5c-1.1 0-2 .9-2 2v14c0 1.1.9 2 2 2h14c1.1 0 2-.9 2-2V5c0-1.1-.9-2-2-2zM9 17H7v-7h2v7zm4 0h-2V7h2v10zm4 0h-2v-4h2v4z\"/>\n",
              "    </g>\n",
              "</svg>\n",
              "      </button>\n",
              "    </div>\n",
              "\n",
              "<style>\n",
              "  .colab-df-quickchart {\n",
              "    background-color: #E8F0FE;\n",
              "    border: none;\n",
              "    border-radius: 50%;\n",
              "    cursor: pointer;\n",
              "    display: none;\n",
              "    fill: #1967D2;\n",
              "    height: 32px;\n",
              "    padding: 0 0 0 0;\n",
              "    width: 32px;\n",
              "  }\n",
              "\n",
              "  .colab-df-quickchart:hover {\n",
              "    background-color: #E2EBFA;\n",
              "    box-shadow: 0px 1px 2px rgba(60, 64, 67, 0.3), 0px 1px 3px 1px rgba(60, 64, 67, 0.15);\n",
              "    fill: #174EA6;\n",
              "  }\n",
              "\n",
              "  [theme=dark] .colab-df-quickchart {\n",
              "    background-color: #3B4455;\n",
              "    fill: #D2E3FC;\n",
              "  }\n",
              "\n",
              "  [theme=dark] .colab-df-quickchart:hover {\n",
              "    background-color: #434B5C;\n",
              "    box-shadow: 0px 1px 3px 1px rgba(0, 0, 0, 0.15);\n",
              "    filter: drop-shadow(0px 1px 2px rgba(0, 0, 0, 0.3));\n",
              "    fill: #FFFFFF;\n",
              "  }\n",
              "</style>\n",
              "\n",
              "    <script>\n",
              "      async function quickchart(key) {\n",
              "        const containerElement = document.querySelector('#' + key);\n",
              "        const charts = await google.colab.kernel.invokeFunction(\n",
              "            'suggestCharts', [key], {});\n",
              "      }\n",
              "    </script>\n",
              "\n",
              "      <script>\n",
              "\n",
              "function displayQuickchartButton(domScope) {\n",
              "  let quickchartButtonEl =\n",
              "    domScope.querySelector('#df-88493c0a-a20e-4309-84c2-4eadf3d37355 button.colab-df-quickchart');\n",
              "  quickchartButtonEl.style.display =\n",
              "    google.colab.kernel.accessAllowed ? 'block' : 'none';\n",
              "}\n",
              "\n",
              "        displayQuickchartButton(document);\n",
              "      </script>\n",
              "      <style>\n",
              "    .colab-df-container {\n",
              "      display:flex;\n",
              "      flex-wrap:wrap;\n",
              "      gap: 12px;\n",
              "    }\n",
              "\n",
              "    .colab-df-convert {\n",
              "      background-color: #E8F0FE;\n",
              "      border: none;\n",
              "      border-radius: 50%;\n",
              "      cursor: pointer;\n",
              "      display: none;\n",
              "      fill: #1967D2;\n",
              "      height: 32px;\n",
              "      padding: 0 0 0 0;\n",
              "      width: 32px;\n",
              "    }\n",
              "\n",
              "    .colab-df-convert:hover {\n",
              "      background-color: #E2EBFA;\n",
              "      box-shadow: 0px 1px 2px rgba(60, 64, 67, 0.3), 0px 1px 3px 1px rgba(60, 64, 67, 0.15);\n",
              "      fill: #174EA6;\n",
              "    }\n",
              "\n",
              "    [theme=dark] .colab-df-convert {\n",
              "      background-color: #3B4455;\n",
              "      fill: #D2E3FC;\n",
              "    }\n",
              "\n",
              "    [theme=dark] .colab-df-convert:hover {\n",
              "      background-color: #434B5C;\n",
              "      box-shadow: 0px 1px 3px 1px rgba(0, 0, 0, 0.15);\n",
              "      filter: drop-shadow(0px 1px 2px rgba(0, 0, 0, 0.3));\n",
              "      fill: #FFFFFF;\n",
              "    }\n",
              "  </style>\n",
              "\n",
              "      <script>\n",
              "        const buttonEl =\n",
              "          document.querySelector('#df-17341205-2b49-4501-819d-3b8be7db8803 button.colab-df-convert');\n",
              "        buttonEl.style.display =\n",
              "          google.colab.kernel.accessAllowed ? 'block' : 'none';\n",
              "\n",
              "        async function convertToInteractive(key) {\n",
              "          const element = document.querySelector('#df-17341205-2b49-4501-819d-3b8be7db8803');\n",
              "          const dataTable =\n",
              "            await google.colab.kernel.invokeFunction('convertToInteractive',\n",
              "                                                     [key], {});\n",
              "          if (!dataTable) return;\n",
              "\n",
              "          const docLinkHtml = 'Like what you see? Visit the ' +\n",
              "            '<a target=\"_blank\" href=https://colab.research.google.com/notebooks/data_table.ipynb>data table notebook</a>'\n",
              "            + ' to learn more about interactive tables.';\n",
              "          element.innerHTML = '';\n",
              "          dataTable['output_type'] = 'display_data';\n",
              "          await google.colab.output.renderOutput(dataTable, element);\n",
              "          const docLink = document.createElement('div');\n",
              "          docLink.innerHTML = docLinkHtml;\n",
              "          element.appendChild(docLink);\n",
              "        }\n",
              "      </script>\n",
              "    </div>\n",
              "  </div>\n"
            ]
          },
          "metadata": {},
          "execution_count": 4
        }
      ]
    },
    {
      "cell_type": "code",
      "source": [
        "df_scouting = pd.read_csv('PFFScoutingData.csv')\n",
        "df_scouting.head()"
      ],
      "metadata": {
        "colab": {
          "base_uri": "https://localhost:8080/",
          "height": 478
        },
        "id": "EI30shIF9vuo",
        "outputId": "f13bbfa8-0c2a-407f-8180-4acc96ea28d3"
      },
      "execution_count": 5,
      "outputs": [
        {
          "output_type": "execute_result",
          "data": {
            "text/plain": [
              "       gameId  playId snapDetail  snapTime  operationTime  hangTime kickType  \\\n",
              "0  2018090600      37        NaN       NaN            NaN      3.85        D   \n",
              "1  2018090600     366         OK      0.84           2.12      4.46        N   \n",
              "2  2018090600     658        NaN       NaN            NaN       NaN      NaN   \n",
              "3  2018090600     677        NaN       NaN            NaN      4.06        D   \n",
              "4  2018090600     872         OK      0.84           2.00      4.35        N   \n",
              "\n",
              "  kickDirectionIntended kickDirectionActual returnDirectionIntended  \\\n",
              "0                     R                   R                     NaN   \n",
              "1                     C                   C                       C   \n",
              "2                   NaN                 NaN                     NaN   \n",
              "3                     R                   R                       C   \n",
              "4                     C                   L                     NaN   \n",
              "\n",
              "  returnDirectionActual missedTackler assistTackler tackler  \\\n",
              "0                   NaN           NaN           NaN     NaN   \n",
              "1                     R        PHI 57           NaN  PHI 54   \n",
              "2                   NaN           NaN           NaN     NaN   \n",
              "3                     C        ATL 83        ATL 22  ATL 27   \n",
              "4                   NaN           NaN           NaN     NaN   \n",
              "\n",
              "  kickoffReturnFormation         gunners puntRushers specialTeamsSafeties  \\\n",
              "0                  8-0-2             NaN         NaN       PHI 23; PHI 27   \n",
              "1                    NaN  PHI 18; PHI 29         NaN                  NaN   \n",
              "2                    NaN             NaN         NaN               PHI 58   \n",
              "3                  8-0-2             NaN         NaN       ATL 17; ATL 22   \n",
              "4                    NaN  PHI 18; PHI 29      ATL 85               ATL 37   \n",
              "\n",
              "                            vises kickContactType  \n",
              "0                             NaN             NaN  \n",
              "1  ATL 83; ATL 27; ATL 34; ATL 21              CC  \n",
              "2                             NaN             NaN  \n",
              "3                             NaN             NaN  \n",
              "4          ATL 83; ATL 34; ATL 21              BF  "
            ],
            "text/html": [
              "\n",
              "\n",
              "  <div id=\"df-049022b0-44cc-4ccd-9967-93a8bc68f4db\">\n",
              "    <div class=\"colab-df-container\">\n",
              "      <div>\n",
              "<style scoped>\n",
              "    .dataframe tbody tr th:only-of-type {\n",
              "        vertical-align: middle;\n",
              "    }\n",
              "\n",
              "    .dataframe tbody tr th {\n",
              "        vertical-align: top;\n",
              "    }\n",
              "\n",
              "    .dataframe thead th {\n",
              "        text-align: right;\n",
              "    }\n",
              "</style>\n",
              "<table border=\"1\" class=\"dataframe\">\n",
              "  <thead>\n",
              "    <tr style=\"text-align: right;\">\n",
              "      <th></th>\n",
              "      <th>gameId</th>\n",
              "      <th>playId</th>\n",
              "      <th>snapDetail</th>\n",
              "      <th>snapTime</th>\n",
              "      <th>operationTime</th>\n",
              "      <th>hangTime</th>\n",
              "      <th>kickType</th>\n",
              "      <th>kickDirectionIntended</th>\n",
              "      <th>kickDirectionActual</th>\n",
              "      <th>returnDirectionIntended</th>\n",
              "      <th>returnDirectionActual</th>\n",
              "      <th>missedTackler</th>\n",
              "      <th>assistTackler</th>\n",
              "      <th>tackler</th>\n",
              "      <th>kickoffReturnFormation</th>\n",
              "      <th>gunners</th>\n",
              "      <th>puntRushers</th>\n",
              "      <th>specialTeamsSafeties</th>\n",
              "      <th>vises</th>\n",
              "      <th>kickContactType</th>\n",
              "    </tr>\n",
              "  </thead>\n",
              "  <tbody>\n",
              "    <tr>\n",
              "      <th>0</th>\n",
              "      <td>2018090600</td>\n",
              "      <td>37</td>\n",
              "      <td>NaN</td>\n",
              "      <td>NaN</td>\n",
              "      <td>NaN</td>\n",
              "      <td>3.85</td>\n",
              "      <td>D</td>\n",
              "      <td>R</td>\n",
              "      <td>R</td>\n",
              "      <td>NaN</td>\n",
              "      <td>NaN</td>\n",
              "      <td>NaN</td>\n",
              "      <td>NaN</td>\n",
              "      <td>NaN</td>\n",
              "      <td>8-0-2</td>\n",
              "      <td>NaN</td>\n",
              "      <td>NaN</td>\n",
              "      <td>PHI 23; PHI 27</td>\n",
              "      <td>NaN</td>\n",
              "      <td>NaN</td>\n",
              "    </tr>\n",
              "    <tr>\n",
              "      <th>1</th>\n",
              "      <td>2018090600</td>\n",
              "      <td>366</td>\n",
              "      <td>OK</td>\n",
              "      <td>0.84</td>\n",
              "      <td>2.12</td>\n",
              "      <td>4.46</td>\n",
              "      <td>N</td>\n",
              "      <td>C</td>\n",
              "      <td>C</td>\n",
              "      <td>C</td>\n",
              "      <td>R</td>\n",
              "      <td>PHI 57</td>\n",
              "      <td>NaN</td>\n",
              "      <td>PHI 54</td>\n",
              "      <td>NaN</td>\n",
              "      <td>PHI 18; PHI 29</td>\n",
              "      <td>NaN</td>\n",
              "      <td>NaN</td>\n",
              "      <td>ATL 83; ATL 27; ATL 34; ATL 21</td>\n",
              "      <td>CC</td>\n",
              "    </tr>\n",
              "    <tr>\n",
              "      <th>2</th>\n",
              "      <td>2018090600</td>\n",
              "      <td>658</td>\n",
              "      <td>NaN</td>\n",
              "      <td>NaN</td>\n",
              "      <td>NaN</td>\n",
              "      <td>NaN</td>\n",
              "      <td>NaN</td>\n",
              "      <td>NaN</td>\n",
              "      <td>NaN</td>\n",
              "      <td>NaN</td>\n",
              "      <td>NaN</td>\n",
              "      <td>NaN</td>\n",
              "      <td>NaN</td>\n",
              "      <td>NaN</td>\n",
              "      <td>NaN</td>\n",
              "      <td>NaN</td>\n",
              "      <td>NaN</td>\n",
              "      <td>PHI 58</td>\n",
              "      <td>NaN</td>\n",
              "      <td>NaN</td>\n",
              "    </tr>\n",
              "    <tr>\n",
              "      <th>3</th>\n",
              "      <td>2018090600</td>\n",
              "      <td>677</td>\n",
              "      <td>NaN</td>\n",
              "      <td>NaN</td>\n",
              "      <td>NaN</td>\n",
              "      <td>4.06</td>\n",
              "      <td>D</td>\n",
              "      <td>R</td>\n",
              "      <td>R</td>\n",
              "      <td>C</td>\n",
              "      <td>C</td>\n",
              "      <td>ATL 83</td>\n",
              "      <td>ATL 22</td>\n",
              "      <td>ATL 27</td>\n",
              "      <td>8-0-2</td>\n",
              "      <td>NaN</td>\n",
              "      <td>NaN</td>\n",
              "      <td>ATL 17; ATL 22</td>\n",
              "      <td>NaN</td>\n",
              "      <td>NaN</td>\n",
              "    </tr>\n",
              "    <tr>\n",
              "      <th>4</th>\n",
              "      <td>2018090600</td>\n",
              "      <td>872</td>\n",
              "      <td>OK</td>\n",
              "      <td>0.84</td>\n",
              "      <td>2.00</td>\n",
              "      <td>4.35</td>\n",
              "      <td>N</td>\n",
              "      <td>C</td>\n",
              "      <td>L</td>\n",
              "      <td>NaN</td>\n",
              "      <td>NaN</td>\n",
              "      <td>NaN</td>\n",
              "      <td>NaN</td>\n",
              "      <td>NaN</td>\n",
              "      <td>NaN</td>\n",
              "      <td>PHI 18; PHI 29</td>\n",
              "      <td>ATL 85</td>\n",
              "      <td>ATL 37</td>\n",
              "      <td>ATL 83; ATL 34; ATL 21</td>\n",
              "      <td>BF</td>\n",
              "    </tr>\n",
              "  </tbody>\n",
              "</table>\n",
              "</div>\n",
              "      <button class=\"colab-df-convert\" onclick=\"convertToInteractive('df-049022b0-44cc-4ccd-9967-93a8bc68f4db')\"\n",
              "              title=\"Convert this dataframe to an interactive table.\"\n",
              "              style=\"display:none;\">\n",
              "\n",
              "  <svg xmlns=\"http://www.w3.org/2000/svg\" height=\"24px\"viewBox=\"0 0 24 24\"\n",
              "       width=\"24px\">\n",
              "    <path d=\"M0 0h24v24H0V0z\" fill=\"none\"/>\n",
              "    <path d=\"M18.56 5.44l.94 2.06.94-2.06 2.06-.94-2.06-.94-.94-2.06-.94 2.06-2.06.94zm-11 1L8.5 8.5l.94-2.06 2.06-.94-2.06-.94L8.5 2.5l-.94 2.06-2.06.94zm10 10l.94 2.06.94-2.06 2.06-.94-2.06-.94-.94-2.06-.94 2.06-2.06.94z\"/><path d=\"M17.41 7.96l-1.37-1.37c-.4-.4-.92-.59-1.43-.59-.52 0-1.04.2-1.43.59L10.3 9.45l-7.72 7.72c-.78.78-.78 2.05 0 2.83L4 21.41c.39.39.9.59 1.41.59.51 0 1.02-.2 1.41-.59l7.78-7.78 2.81-2.81c.8-.78.8-2.07 0-2.86zM5.41 20L4 18.59l7.72-7.72 1.47 1.35L5.41 20z\"/>\n",
              "  </svg>\n",
              "      </button>\n",
              "\n",
              "\n",
              "\n",
              "    <div id=\"df-746ff181-5bde-446a-9595-c6db957c5310\">\n",
              "      <button class=\"colab-df-quickchart\" onclick=\"quickchart('df-746ff181-5bde-446a-9595-c6db957c5310')\"\n",
              "              title=\"Suggest charts.\"\n",
              "              style=\"display:none;\">\n",
              "\n",
              "<svg xmlns=\"http://www.w3.org/2000/svg\" height=\"24px\"viewBox=\"0 0 24 24\"\n",
              "     width=\"24px\">\n",
              "    <g>\n",
              "        <path d=\"M19 3H5c-1.1 0-2 .9-2 2v14c0 1.1.9 2 2 2h14c1.1 0 2-.9 2-2V5c0-1.1-.9-2-2-2zM9 17H7v-7h2v7zm4 0h-2V7h2v10zm4 0h-2v-4h2v4z\"/>\n",
              "    </g>\n",
              "</svg>\n",
              "      </button>\n",
              "    </div>\n",
              "\n",
              "<style>\n",
              "  .colab-df-quickchart {\n",
              "    background-color: #E8F0FE;\n",
              "    border: none;\n",
              "    border-radius: 50%;\n",
              "    cursor: pointer;\n",
              "    display: none;\n",
              "    fill: #1967D2;\n",
              "    height: 32px;\n",
              "    padding: 0 0 0 0;\n",
              "    width: 32px;\n",
              "  }\n",
              "\n",
              "  .colab-df-quickchart:hover {\n",
              "    background-color: #E2EBFA;\n",
              "    box-shadow: 0px 1px 2px rgba(60, 64, 67, 0.3), 0px 1px 3px 1px rgba(60, 64, 67, 0.15);\n",
              "    fill: #174EA6;\n",
              "  }\n",
              "\n",
              "  [theme=dark] .colab-df-quickchart {\n",
              "    background-color: #3B4455;\n",
              "    fill: #D2E3FC;\n",
              "  }\n",
              "\n",
              "  [theme=dark] .colab-df-quickchart:hover {\n",
              "    background-color: #434B5C;\n",
              "    box-shadow: 0px 1px 3px 1px rgba(0, 0, 0, 0.15);\n",
              "    filter: drop-shadow(0px 1px 2px rgba(0, 0, 0, 0.3));\n",
              "    fill: #FFFFFF;\n",
              "  }\n",
              "</style>\n",
              "\n",
              "    <script>\n",
              "      async function quickchart(key) {\n",
              "        const containerElement = document.querySelector('#' + key);\n",
              "        const charts = await google.colab.kernel.invokeFunction(\n",
              "            'suggestCharts', [key], {});\n",
              "      }\n",
              "    </script>\n",
              "\n",
              "      <script>\n",
              "\n",
              "function displayQuickchartButton(domScope) {\n",
              "  let quickchartButtonEl =\n",
              "    domScope.querySelector('#df-746ff181-5bde-446a-9595-c6db957c5310 button.colab-df-quickchart');\n",
              "  quickchartButtonEl.style.display =\n",
              "    google.colab.kernel.accessAllowed ? 'block' : 'none';\n",
              "}\n",
              "\n",
              "        displayQuickchartButton(document);\n",
              "      </script>\n",
              "      <style>\n",
              "    .colab-df-container {\n",
              "      display:flex;\n",
              "      flex-wrap:wrap;\n",
              "      gap: 12px;\n",
              "    }\n",
              "\n",
              "    .colab-df-convert {\n",
              "      background-color: #E8F0FE;\n",
              "      border: none;\n",
              "      border-radius: 50%;\n",
              "      cursor: pointer;\n",
              "      display: none;\n",
              "      fill: #1967D2;\n",
              "      height: 32px;\n",
              "      padding: 0 0 0 0;\n",
              "      width: 32px;\n",
              "    }\n",
              "\n",
              "    .colab-df-convert:hover {\n",
              "      background-color: #E2EBFA;\n",
              "      box-shadow: 0px 1px 2px rgba(60, 64, 67, 0.3), 0px 1px 3px 1px rgba(60, 64, 67, 0.15);\n",
              "      fill: #174EA6;\n",
              "    }\n",
              "\n",
              "    [theme=dark] .colab-df-convert {\n",
              "      background-color: #3B4455;\n",
              "      fill: #D2E3FC;\n",
              "    }\n",
              "\n",
              "    [theme=dark] .colab-df-convert:hover {\n",
              "      background-color: #434B5C;\n",
              "      box-shadow: 0px 1px 3px 1px rgba(0, 0, 0, 0.15);\n",
              "      filter: drop-shadow(0px 1px 2px rgba(0, 0, 0, 0.3));\n",
              "      fill: #FFFFFF;\n",
              "    }\n",
              "  </style>\n",
              "\n",
              "      <script>\n",
              "        const buttonEl =\n",
              "          document.querySelector('#df-049022b0-44cc-4ccd-9967-93a8bc68f4db button.colab-df-convert');\n",
              "        buttonEl.style.display =\n",
              "          google.colab.kernel.accessAllowed ? 'block' : 'none';\n",
              "\n",
              "        async function convertToInteractive(key) {\n",
              "          const element = document.querySelector('#df-049022b0-44cc-4ccd-9967-93a8bc68f4db');\n",
              "          const dataTable =\n",
              "            await google.colab.kernel.invokeFunction('convertToInteractive',\n",
              "                                                     [key], {});\n",
              "          if (!dataTable) return;\n",
              "\n",
              "          const docLinkHtml = 'Like what you see? Visit the ' +\n",
              "            '<a target=\"_blank\" href=https://colab.research.google.com/notebooks/data_table.ipynb>data table notebook</a>'\n",
              "            + ' to learn more about interactive tables.';\n",
              "          element.innerHTML = '';\n",
              "          dataTable['output_type'] = 'display_data';\n",
              "          await google.colab.output.renderOutput(dataTable, element);\n",
              "          const docLink = document.createElement('div');\n",
              "          docLink.innerHTML = docLinkHtml;\n",
              "          element.appendChild(docLink);\n",
              "        }\n",
              "      </script>\n",
              "    </div>\n",
              "  </div>\n"
            ]
          },
          "metadata": {},
          "execution_count": 5
        }
      ]
    },
    {
      "cell_type": "code",
      "source": [
        "df_field_goal = df_plays[df_plays['specialTeamsPlayType'] == 'Field Goal']"
      ],
      "metadata": {
        "id": "cA3FvRt29zQI"
      },
      "execution_count": 6,
      "outputs": []
    },
    {
      "cell_type": "code",
      "source": [
        "df_field_goal.info()"
      ],
      "metadata": {
        "colab": {
          "base_uri": "https://localhost:8080/"
        },
        "id": "0BX5WT3wDR0J",
        "outputId": "506284bb-4fec-4c11-95d9-2d83f6a39fb8"
      },
      "execution_count": 7,
      "outputs": [
        {
          "output_type": "stream",
          "name": "stdout",
          "text": [
            "<class 'pandas.core.frame.DataFrame'>\n",
            "Int64Index: 2657 entries, 2 to 19965\n",
            "Data columns (total 25 columns):\n",
            " #   Column                  Non-Null Count  Dtype  \n",
            "---  ------                  --------------  -----  \n",
            " 0   gameId                  2657 non-null   int64  \n",
            " 1   playId                  2657 non-null   int64  \n",
            " 2   playDescription         2657 non-null   object \n",
            " 3   quarter                 2657 non-null   int64  \n",
            " 4   down                    2657 non-null   int64  \n",
            " 5   yardsToGo               2657 non-null   int64  \n",
            " 6   possessionTeam          2657 non-null   object \n",
            " 7   specialTeamsPlayType    2657 non-null   object \n",
            " 8   specialTeamsResult      2657 non-null   object \n",
            " 9   kickerId                2643 non-null   float64\n",
            " 10  returnerId              2 non-null      object \n",
            " 11  kickBlockerId           37 non-null     float64\n",
            " 12  yardlineSide            2657 non-null   object \n",
            " 13  yardlineNumber          2657 non-null   int64  \n",
            " 14  gameClock               2657 non-null   object \n",
            " 15  penaltyCodes            40 non-null     object \n",
            " 16  penaltyJerseyNumbers    40 non-null     object \n",
            " 17  penaltyYards            40 non-null     float64\n",
            " 18  preSnapHomeScore        2657 non-null   int64  \n",
            " 19  preSnapVisitorScore     2657 non-null   int64  \n",
            " 20  passResult              10 non-null     object \n",
            " 21  kickLength              2606 non-null   float64\n",
            " 22  kickReturnYardage       0 non-null      float64\n",
            " 23  playResult              2657 non-null   int64  \n",
            " 24  absoluteYardlineNumber  2657 non-null   int64  \n",
            "dtypes: float64(5), int64(10), object(10)\n",
            "memory usage: 539.7+ KB\n"
          ]
        }
      ]
    },
    {
      "cell_type": "code",
      "source": [
        "columns = ['yardsToGo', 'yardlineNumber', 'kickLength', 'playResult', 'specialTeamsResult']\n",
        "df = df_field_goal[columns]"
      ],
      "metadata": {
        "id": "KOgZIIXcDnvo"
      },
      "execution_count": 8,
      "outputs": []
    },
    {
      "cell_type": "code",
      "source": [
        "df"
      ],
      "metadata": {
        "colab": {
          "base_uri": "https://localhost:8080/",
          "height": 423
        },
        "id": "89mhkWwUDwFo",
        "outputId": "3dfedab8-81cf-4cac-e90c-631ca6056b77"
      },
      "execution_count": 9,
      "outputs": [
        {
          "output_type": "execute_result",
          "data": {
            "text/plain": [
              "       yardsToGo  yardlineNumber  kickLength  playResult    specialTeamsResult\n",
              "2              3               3        21.0           0     Kick Attempt Good\n",
              "6              8               8        26.0           0     Kick Attempt Good\n",
              "8             17              34        52.0           0     Kick Attempt Good\n",
              "33            13              23        41.0           0     Kick Attempt Good\n",
              "36             9              34        52.0          -8  Kick Attempt No Good\n",
              "...          ...             ...         ...         ...                   ...\n",
              "19952         10              17        36.0           0     Kick Attempt Good\n",
              "19955          3              12        30.0           0     Kick Attempt Good\n",
              "19959          6              18        36.0           0     Kick Attempt Good\n",
              "19962          8              29        47.0           0     Kick Attempt Good\n",
              "19965         15              15        33.0           0     Kick Attempt Good\n",
              "\n",
              "[2657 rows x 5 columns]"
            ],
            "text/html": [
              "\n",
              "\n",
              "  <div id=\"df-2feba85f-1718-4574-a9a0-41a24d57264d\">\n",
              "    <div class=\"colab-df-container\">\n",
              "      <div>\n",
              "<style scoped>\n",
              "    .dataframe tbody tr th:only-of-type {\n",
              "        vertical-align: middle;\n",
              "    }\n",
              "\n",
              "    .dataframe tbody tr th {\n",
              "        vertical-align: top;\n",
              "    }\n",
              "\n",
              "    .dataframe thead th {\n",
              "        text-align: right;\n",
              "    }\n",
              "</style>\n",
              "<table border=\"1\" class=\"dataframe\">\n",
              "  <thead>\n",
              "    <tr style=\"text-align: right;\">\n",
              "      <th></th>\n",
              "      <th>yardsToGo</th>\n",
              "      <th>yardlineNumber</th>\n",
              "      <th>kickLength</th>\n",
              "      <th>playResult</th>\n",
              "      <th>specialTeamsResult</th>\n",
              "    </tr>\n",
              "  </thead>\n",
              "  <tbody>\n",
              "    <tr>\n",
              "      <th>2</th>\n",
              "      <td>3</td>\n",
              "      <td>3</td>\n",
              "      <td>21.0</td>\n",
              "      <td>0</td>\n",
              "      <td>Kick Attempt Good</td>\n",
              "    </tr>\n",
              "    <tr>\n",
              "      <th>6</th>\n",
              "      <td>8</td>\n",
              "      <td>8</td>\n",
              "      <td>26.0</td>\n",
              "      <td>0</td>\n",
              "      <td>Kick Attempt Good</td>\n",
              "    </tr>\n",
              "    <tr>\n",
              "      <th>8</th>\n",
              "      <td>17</td>\n",
              "      <td>34</td>\n",
              "      <td>52.0</td>\n",
              "      <td>0</td>\n",
              "      <td>Kick Attempt Good</td>\n",
              "    </tr>\n",
              "    <tr>\n",
              "      <th>33</th>\n",
              "      <td>13</td>\n",
              "      <td>23</td>\n",
              "      <td>41.0</td>\n",
              "      <td>0</td>\n",
              "      <td>Kick Attempt Good</td>\n",
              "    </tr>\n",
              "    <tr>\n",
              "      <th>36</th>\n",
              "      <td>9</td>\n",
              "      <td>34</td>\n",
              "      <td>52.0</td>\n",
              "      <td>-8</td>\n",
              "      <td>Kick Attempt No Good</td>\n",
              "    </tr>\n",
              "    <tr>\n",
              "      <th>...</th>\n",
              "      <td>...</td>\n",
              "      <td>...</td>\n",
              "      <td>...</td>\n",
              "      <td>...</td>\n",
              "      <td>...</td>\n",
              "    </tr>\n",
              "    <tr>\n",
              "      <th>19952</th>\n",
              "      <td>10</td>\n",
              "      <td>17</td>\n",
              "      <td>36.0</td>\n",
              "      <td>0</td>\n",
              "      <td>Kick Attempt Good</td>\n",
              "    </tr>\n",
              "    <tr>\n",
              "      <th>19955</th>\n",
              "      <td>3</td>\n",
              "      <td>12</td>\n",
              "      <td>30.0</td>\n",
              "      <td>0</td>\n",
              "      <td>Kick Attempt Good</td>\n",
              "    </tr>\n",
              "    <tr>\n",
              "      <th>19959</th>\n",
              "      <td>6</td>\n",
              "      <td>18</td>\n",
              "      <td>36.0</td>\n",
              "      <td>0</td>\n",
              "      <td>Kick Attempt Good</td>\n",
              "    </tr>\n",
              "    <tr>\n",
              "      <th>19962</th>\n",
              "      <td>8</td>\n",
              "      <td>29</td>\n",
              "      <td>47.0</td>\n",
              "      <td>0</td>\n",
              "      <td>Kick Attempt Good</td>\n",
              "    </tr>\n",
              "    <tr>\n",
              "      <th>19965</th>\n",
              "      <td>15</td>\n",
              "      <td>15</td>\n",
              "      <td>33.0</td>\n",
              "      <td>0</td>\n",
              "      <td>Kick Attempt Good</td>\n",
              "    </tr>\n",
              "  </tbody>\n",
              "</table>\n",
              "<p>2657 rows × 5 columns</p>\n",
              "</div>\n",
              "      <button class=\"colab-df-convert\" onclick=\"convertToInteractive('df-2feba85f-1718-4574-a9a0-41a24d57264d')\"\n",
              "              title=\"Convert this dataframe to an interactive table.\"\n",
              "              style=\"display:none;\">\n",
              "\n",
              "  <svg xmlns=\"http://www.w3.org/2000/svg\" height=\"24px\"viewBox=\"0 0 24 24\"\n",
              "       width=\"24px\">\n",
              "    <path d=\"M0 0h24v24H0V0z\" fill=\"none\"/>\n",
              "    <path d=\"M18.56 5.44l.94 2.06.94-2.06 2.06-.94-2.06-.94-.94-2.06-.94 2.06-2.06.94zm-11 1L8.5 8.5l.94-2.06 2.06-.94-2.06-.94L8.5 2.5l-.94 2.06-2.06.94zm10 10l.94 2.06.94-2.06 2.06-.94-2.06-.94-.94-2.06-.94 2.06-2.06.94z\"/><path d=\"M17.41 7.96l-1.37-1.37c-.4-.4-.92-.59-1.43-.59-.52 0-1.04.2-1.43.59L10.3 9.45l-7.72 7.72c-.78.78-.78 2.05 0 2.83L4 21.41c.39.39.9.59 1.41.59.51 0 1.02-.2 1.41-.59l7.78-7.78 2.81-2.81c.8-.78.8-2.07 0-2.86zM5.41 20L4 18.59l7.72-7.72 1.47 1.35L5.41 20z\"/>\n",
              "  </svg>\n",
              "      </button>\n",
              "\n",
              "\n",
              "\n",
              "    <div id=\"df-59088fe1-ef72-4884-b889-c517b10c9b60\">\n",
              "      <button class=\"colab-df-quickchart\" onclick=\"quickchart('df-59088fe1-ef72-4884-b889-c517b10c9b60')\"\n",
              "              title=\"Suggest charts.\"\n",
              "              style=\"display:none;\">\n",
              "\n",
              "<svg xmlns=\"http://www.w3.org/2000/svg\" height=\"24px\"viewBox=\"0 0 24 24\"\n",
              "     width=\"24px\">\n",
              "    <g>\n",
              "        <path d=\"M19 3H5c-1.1 0-2 .9-2 2v14c0 1.1.9 2 2 2h14c1.1 0 2-.9 2-2V5c0-1.1-.9-2-2-2zM9 17H7v-7h2v7zm4 0h-2V7h2v10zm4 0h-2v-4h2v4z\"/>\n",
              "    </g>\n",
              "</svg>\n",
              "      </button>\n",
              "    </div>\n",
              "\n",
              "<style>\n",
              "  .colab-df-quickchart {\n",
              "    background-color: #E8F0FE;\n",
              "    border: none;\n",
              "    border-radius: 50%;\n",
              "    cursor: pointer;\n",
              "    display: none;\n",
              "    fill: #1967D2;\n",
              "    height: 32px;\n",
              "    padding: 0 0 0 0;\n",
              "    width: 32px;\n",
              "  }\n",
              "\n",
              "  .colab-df-quickchart:hover {\n",
              "    background-color: #E2EBFA;\n",
              "    box-shadow: 0px 1px 2px rgba(60, 64, 67, 0.3), 0px 1px 3px 1px rgba(60, 64, 67, 0.15);\n",
              "    fill: #174EA6;\n",
              "  }\n",
              "\n",
              "  [theme=dark] .colab-df-quickchart {\n",
              "    background-color: #3B4455;\n",
              "    fill: #D2E3FC;\n",
              "  }\n",
              "\n",
              "  [theme=dark] .colab-df-quickchart:hover {\n",
              "    background-color: #434B5C;\n",
              "    box-shadow: 0px 1px 3px 1px rgba(0, 0, 0, 0.15);\n",
              "    filter: drop-shadow(0px 1px 2px rgba(0, 0, 0, 0.3));\n",
              "    fill: #FFFFFF;\n",
              "  }\n",
              "</style>\n",
              "\n",
              "    <script>\n",
              "      async function quickchart(key) {\n",
              "        const containerElement = document.querySelector('#' + key);\n",
              "        const charts = await google.colab.kernel.invokeFunction(\n",
              "            'suggestCharts', [key], {});\n",
              "      }\n",
              "    </script>\n",
              "\n",
              "      <script>\n",
              "\n",
              "function displayQuickchartButton(domScope) {\n",
              "  let quickchartButtonEl =\n",
              "    domScope.querySelector('#df-59088fe1-ef72-4884-b889-c517b10c9b60 button.colab-df-quickchart');\n",
              "  quickchartButtonEl.style.display =\n",
              "    google.colab.kernel.accessAllowed ? 'block' : 'none';\n",
              "}\n",
              "\n",
              "        displayQuickchartButton(document);\n",
              "      </script>\n",
              "      <style>\n",
              "    .colab-df-container {\n",
              "      display:flex;\n",
              "      flex-wrap:wrap;\n",
              "      gap: 12px;\n",
              "    }\n",
              "\n",
              "    .colab-df-convert {\n",
              "      background-color: #E8F0FE;\n",
              "      border: none;\n",
              "      border-radius: 50%;\n",
              "      cursor: pointer;\n",
              "      display: none;\n",
              "      fill: #1967D2;\n",
              "      height: 32px;\n",
              "      padding: 0 0 0 0;\n",
              "      width: 32px;\n",
              "    }\n",
              "\n",
              "    .colab-df-convert:hover {\n",
              "      background-color: #E2EBFA;\n",
              "      box-shadow: 0px 1px 2px rgba(60, 64, 67, 0.3), 0px 1px 3px 1px rgba(60, 64, 67, 0.15);\n",
              "      fill: #174EA6;\n",
              "    }\n",
              "\n",
              "    [theme=dark] .colab-df-convert {\n",
              "      background-color: #3B4455;\n",
              "      fill: #D2E3FC;\n",
              "    }\n",
              "\n",
              "    [theme=dark] .colab-df-convert:hover {\n",
              "      background-color: #434B5C;\n",
              "      box-shadow: 0px 1px 3px 1px rgba(0, 0, 0, 0.15);\n",
              "      filter: drop-shadow(0px 1px 2px rgba(0, 0, 0, 0.3));\n",
              "      fill: #FFFFFF;\n",
              "    }\n",
              "  </style>\n",
              "\n",
              "      <script>\n",
              "        const buttonEl =\n",
              "          document.querySelector('#df-2feba85f-1718-4574-a9a0-41a24d57264d button.colab-df-convert');\n",
              "        buttonEl.style.display =\n",
              "          google.colab.kernel.accessAllowed ? 'block' : 'none';\n",
              "\n",
              "        async function convertToInteractive(key) {\n",
              "          const element = document.querySelector('#df-2feba85f-1718-4574-a9a0-41a24d57264d');\n",
              "          const dataTable =\n",
              "            await google.colab.kernel.invokeFunction('convertToInteractive',\n",
              "                                                     [key], {});\n",
              "          if (!dataTable) return;\n",
              "\n",
              "          const docLinkHtml = 'Like what you see? Visit the ' +\n",
              "            '<a target=\"_blank\" href=https://colab.research.google.com/notebooks/data_table.ipynb>data table notebook</a>'\n",
              "            + ' to learn more about interactive tables.';\n",
              "          element.innerHTML = '';\n",
              "          dataTable['output_type'] = 'display_data';\n",
              "          await google.colab.output.renderOutput(dataTable, element);\n",
              "          const docLink = document.createElement('div');\n",
              "          docLink.innerHTML = docLinkHtml;\n",
              "          element.appendChild(docLink);\n",
              "        }\n",
              "      </script>\n",
              "    </div>\n",
              "  </div>\n"
            ]
          },
          "metadata": {},
          "execution_count": 9
        }
      ]
    },
    {
      "cell_type": "code",
      "source": [
        "x = df.dropna()\n",
        "x['specialTeamsResult'] = x['specialTeamsResult'].apply(lambda x: 1 if str(x) in 'Kick Attempt Good' else 0)"
      ],
      "metadata": {
        "id": "1WOYC64kDxz4"
      },
      "execution_count": 10,
      "outputs": []
    },
    {
      "cell_type": "code",
      "source": [
        "x"
      ],
      "metadata": {
        "colab": {
          "base_uri": "https://localhost:8080/",
          "height": 423
        },
        "id": "It_HwmcJD5QE",
        "outputId": "b606c012-5a8f-42b5-b70b-0e7a1f260c23"
      },
      "execution_count": 11,
      "outputs": [
        {
          "output_type": "execute_result",
          "data": {
            "text/plain": [
              "       yardsToGo  yardlineNumber  kickLength  playResult  specialTeamsResult\n",
              "2              3               3        21.0           0                   1\n",
              "6              8               8        26.0           0                   1\n",
              "8             17              34        52.0           0                   1\n",
              "33            13              23        41.0           0                   1\n",
              "36             9              34        52.0          -8                   0\n",
              "...          ...             ...         ...         ...                 ...\n",
              "19952         10              17        36.0           0                   1\n",
              "19955          3              12        30.0           0                   1\n",
              "19959          6              18        36.0           0                   1\n",
              "19962          8              29        47.0           0                   1\n",
              "19965         15              15        33.0           0                   1\n",
              "\n",
              "[2606 rows x 5 columns]"
            ],
            "text/html": [
              "\n",
              "\n",
              "  <div id=\"df-13023012-5a89-46e7-931b-9348e897130b\">\n",
              "    <div class=\"colab-df-container\">\n",
              "      <div>\n",
              "<style scoped>\n",
              "    .dataframe tbody tr th:only-of-type {\n",
              "        vertical-align: middle;\n",
              "    }\n",
              "\n",
              "    .dataframe tbody tr th {\n",
              "        vertical-align: top;\n",
              "    }\n",
              "\n",
              "    .dataframe thead th {\n",
              "        text-align: right;\n",
              "    }\n",
              "</style>\n",
              "<table border=\"1\" class=\"dataframe\">\n",
              "  <thead>\n",
              "    <tr style=\"text-align: right;\">\n",
              "      <th></th>\n",
              "      <th>yardsToGo</th>\n",
              "      <th>yardlineNumber</th>\n",
              "      <th>kickLength</th>\n",
              "      <th>playResult</th>\n",
              "      <th>specialTeamsResult</th>\n",
              "    </tr>\n",
              "  </thead>\n",
              "  <tbody>\n",
              "    <tr>\n",
              "      <th>2</th>\n",
              "      <td>3</td>\n",
              "      <td>3</td>\n",
              "      <td>21.0</td>\n",
              "      <td>0</td>\n",
              "      <td>1</td>\n",
              "    </tr>\n",
              "    <tr>\n",
              "      <th>6</th>\n",
              "      <td>8</td>\n",
              "      <td>8</td>\n",
              "      <td>26.0</td>\n",
              "      <td>0</td>\n",
              "      <td>1</td>\n",
              "    </tr>\n",
              "    <tr>\n",
              "      <th>8</th>\n",
              "      <td>17</td>\n",
              "      <td>34</td>\n",
              "      <td>52.0</td>\n",
              "      <td>0</td>\n",
              "      <td>1</td>\n",
              "    </tr>\n",
              "    <tr>\n",
              "      <th>33</th>\n",
              "      <td>13</td>\n",
              "      <td>23</td>\n",
              "      <td>41.0</td>\n",
              "      <td>0</td>\n",
              "      <td>1</td>\n",
              "    </tr>\n",
              "    <tr>\n",
              "      <th>36</th>\n",
              "      <td>9</td>\n",
              "      <td>34</td>\n",
              "      <td>52.0</td>\n",
              "      <td>-8</td>\n",
              "      <td>0</td>\n",
              "    </tr>\n",
              "    <tr>\n",
              "      <th>...</th>\n",
              "      <td>...</td>\n",
              "      <td>...</td>\n",
              "      <td>...</td>\n",
              "      <td>...</td>\n",
              "      <td>...</td>\n",
              "    </tr>\n",
              "    <tr>\n",
              "      <th>19952</th>\n",
              "      <td>10</td>\n",
              "      <td>17</td>\n",
              "      <td>36.0</td>\n",
              "      <td>0</td>\n",
              "      <td>1</td>\n",
              "    </tr>\n",
              "    <tr>\n",
              "      <th>19955</th>\n",
              "      <td>3</td>\n",
              "      <td>12</td>\n",
              "      <td>30.0</td>\n",
              "      <td>0</td>\n",
              "      <td>1</td>\n",
              "    </tr>\n",
              "    <tr>\n",
              "      <th>19959</th>\n",
              "      <td>6</td>\n",
              "      <td>18</td>\n",
              "      <td>36.0</td>\n",
              "      <td>0</td>\n",
              "      <td>1</td>\n",
              "    </tr>\n",
              "    <tr>\n",
              "      <th>19962</th>\n",
              "      <td>8</td>\n",
              "      <td>29</td>\n",
              "      <td>47.0</td>\n",
              "      <td>0</td>\n",
              "      <td>1</td>\n",
              "    </tr>\n",
              "    <tr>\n",
              "      <th>19965</th>\n",
              "      <td>15</td>\n",
              "      <td>15</td>\n",
              "      <td>33.0</td>\n",
              "      <td>0</td>\n",
              "      <td>1</td>\n",
              "    </tr>\n",
              "  </tbody>\n",
              "</table>\n",
              "<p>2606 rows × 5 columns</p>\n",
              "</div>\n",
              "      <button class=\"colab-df-convert\" onclick=\"convertToInteractive('df-13023012-5a89-46e7-931b-9348e897130b')\"\n",
              "              title=\"Convert this dataframe to an interactive table.\"\n",
              "              style=\"display:none;\">\n",
              "\n",
              "  <svg xmlns=\"http://www.w3.org/2000/svg\" height=\"24px\"viewBox=\"0 0 24 24\"\n",
              "       width=\"24px\">\n",
              "    <path d=\"M0 0h24v24H0V0z\" fill=\"none\"/>\n",
              "    <path d=\"M18.56 5.44l.94 2.06.94-2.06 2.06-.94-2.06-.94-.94-2.06-.94 2.06-2.06.94zm-11 1L8.5 8.5l.94-2.06 2.06-.94-2.06-.94L8.5 2.5l-.94 2.06-2.06.94zm10 10l.94 2.06.94-2.06 2.06-.94-2.06-.94-.94-2.06-.94 2.06-2.06.94z\"/><path d=\"M17.41 7.96l-1.37-1.37c-.4-.4-.92-.59-1.43-.59-.52 0-1.04.2-1.43.59L10.3 9.45l-7.72 7.72c-.78.78-.78 2.05 0 2.83L4 21.41c.39.39.9.59 1.41.59.51 0 1.02-.2 1.41-.59l7.78-7.78 2.81-2.81c.8-.78.8-2.07 0-2.86zM5.41 20L4 18.59l7.72-7.72 1.47 1.35L5.41 20z\"/>\n",
              "  </svg>\n",
              "      </button>\n",
              "\n",
              "\n",
              "\n",
              "    <div id=\"df-29211b51-a30d-4cbd-9062-83a67994e1fc\">\n",
              "      <button class=\"colab-df-quickchart\" onclick=\"quickchart('df-29211b51-a30d-4cbd-9062-83a67994e1fc')\"\n",
              "              title=\"Suggest charts.\"\n",
              "              style=\"display:none;\">\n",
              "\n",
              "<svg xmlns=\"http://www.w3.org/2000/svg\" height=\"24px\"viewBox=\"0 0 24 24\"\n",
              "     width=\"24px\">\n",
              "    <g>\n",
              "        <path d=\"M19 3H5c-1.1 0-2 .9-2 2v14c0 1.1.9 2 2 2h14c1.1 0 2-.9 2-2V5c0-1.1-.9-2-2-2zM9 17H7v-7h2v7zm4 0h-2V7h2v10zm4 0h-2v-4h2v4z\"/>\n",
              "    </g>\n",
              "</svg>\n",
              "      </button>\n",
              "    </div>\n",
              "\n",
              "<style>\n",
              "  .colab-df-quickchart {\n",
              "    background-color: #E8F0FE;\n",
              "    border: none;\n",
              "    border-radius: 50%;\n",
              "    cursor: pointer;\n",
              "    display: none;\n",
              "    fill: #1967D2;\n",
              "    height: 32px;\n",
              "    padding: 0 0 0 0;\n",
              "    width: 32px;\n",
              "  }\n",
              "\n",
              "  .colab-df-quickchart:hover {\n",
              "    background-color: #E2EBFA;\n",
              "    box-shadow: 0px 1px 2px rgba(60, 64, 67, 0.3), 0px 1px 3px 1px rgba(60, 64, 67, 0.15);\n",
              "    fill: #174EA6;\n",
              "  }\n",
              "\n",
              "  [theme=dark] .colab-df-quickchart {\n",
              "    background-color: #3B4455;\n",
              "    fill: #D2E3FC;\n",
              "  }\n",
              "\n",
              "  [theme=dark] .colab-df-quickchart:hover {\n",
              "    background-color: #434B5C;\n",
              "    box-shadow: 0px 1px 3px 1px rgba(0, 0, 0, 0.15);\n",
              "    filter: drop-shadow(0px 1px 2px rgba(0, 0, 0, 0.3));\n",
              "    fill: #FFFFFF;\n",
              "  }\n",
              "</style>\n",
              "\n",
              "    <script>\n",
              "      async function quickchart(key) {\n",
              "        const containerElement = document.querySelector('#' + key);\n",
              "        const charts = await google.colab.kernel.invokeFunction(\n",
              "            'suggestCharts', [key], {});\n",
              "      }\n",
              "    </script>\n",
              "\n",
              "      <script>\n",
              "\n",
              "function displayQuickchartButton(domScope) {\n",
              "  let quickchartButtonEl =\n",
              "    domScope.querySelector('#df-29211b51-a30d-4cbd-9062-83a67994e1fc button.colab-df-quickchart');\n",
              "  quickchartButtonEl.style.display =\n",
              "    google.colab.kernel.accessAllowed ? 'block' : 'none';\n",
              "}\n",
              "\n",
              "        displayQuickchartButton(document);\n",
              "      </script>\n",
              "      <style>\n",
              "    .colab-df-container {\n",
              "      display:flex;\n",
              "      flex-wrap:wrap;\n",
              "      gap: 12px;\n",
              "    }\n",
              "\n",
              "    .colab-df-convert {\n",
              "      background-color: #E8F0FE;\n",
              "      border: none;\n",
              "      border-radius: 50%;\n",
              "      cursor: pointer;\n",
              "      display: none;\n",
              "      fill: #1967D2;\n",
              "      height: 32px;\n",
              "      padding: 0 0 0 0;\n",
              "      width: 32px;\n",
              "    }\n",
              "\n",
              "    .colab-df-convert:hover {\n",
              "      background-color: #E2EBFA;\n",
              "      box-shadow: 0px 1px 2px rgba(60, 64, 67, 0.3), 0px 1px 3px 1px rgba(60, 64, 67, 0.15);\n",
              "      fill: #174EA6;\n",
              "    }\n",
              "\n",
              "    [theme=dark] .colab-df-convert {\n",
              "      background-color: #3B4455;\n",
              "      fill: #D2E3FC;\n",
              "    }\n",
              "\n",
              "    [theme=dark] .colab-df-convert:hover {\n",
              "      background-color: #434B5C;\n",
              "      box-shadow: 0px 1px 3px 1px rgba(0, 0, 0, 0.15);\n",
              "      filter: drop-shadow(0px 1px 2px rgba(0, 0, 0, 0.3));\n",
              "      fill: #FFFFFF;\n",
              "    }\n",
              "  </style>\n",
              "\n",
              "      <script>\n",
              "        const buttonEl =\n",
              "          document.querySelector('#df-13023012-5a89-46e7-931b-9348e897130b button.colab-df-convert');\n",
              "        buttonEl.style.display =\n",
              "          google.colab.kernel.accessAllowed ? 'block' : 'none';\n",
              "\n",
              "        async function convertToInteractive(key) {\n",
              "          const element = document.querySelector('#df-13023012-5a89-46e7-931b-9348e897130b');\n",
              "          const dataTable =\n",
              "            await google.colab.kernel.invokeFunction('convertToInteractive',\n",
              "                                                     [key], {});\n",
              "          if (!dataTable) return;\n",
              "\n",
              "          const docLinkHtml = 'Like what you see? Visit the ' +\n",
              "            '<a target=\"_blank\" href=https://colab.research.google.com/notebooks/data_table.ipynb>data table notebook</a>'\n",
              "            + ' to learn more about interactive tables.';\n",
              "          element.innerHTML = '';\n",
              "          dataTable['output_type'] = 'display_data';\n",
              "          await google.colab.output.renderOutput(dataTable, element);\n",
              "          const docLink = document.createElement('div');\n",
              "          docLink.innerHTML = docLinkHtml;\n",
              "          element.appendChild(docLink);\n",
              "        }\n",
              "      </script>\n",
              "    </div>\n",
              "  </div>\n"
            ]
          },
          "metadata": {},
          "execution_count": 11
        }
      ]
    },
    {
      "cell_type": "code",
      "source": [
        "sns.set(style=\"whitegrid\")\n",
        "plt.figure(figsize=(8, 6))"
      ],
      "metadata": {
        "colab": {
          "base_uri": "https://localhost:8080/",
          "height": 52
        },
        "id": "LRbnt-a0D7I8",
        "outputId": "244e50ce-5d80-4420-cb06-27eb90596470"
      },
      "execution_count": 12,
      "outputs": [
        {
          "output_type": "execute_result",
          "data": {
            "text/plain": [
              "<Figure size 800x600 with 0 Axes>"
            ]
          },
          "metadata": {},
          "execution_count": 12
        },
        {
          "output_type": "display_data",
          "data": {
            "text/plain": [
              "<Figure size 800x600 with 0 Axes>"
            ]
          },
          "metadata": {}
        }
      ]
    },
    {
      "cell_type": "code",
      "source": [
        "ax = sns.countplot(data=df_field_goal, x=\"specialTeamsResult\", hue=\"specialTeamsResult\")\n",
        "ax.set(title=\"Count of Successful and Unsuccessful Field Goals\")\n",
        "ax.set_xlabel(\"Field Goal Result\")\n",
        "ax.set_ylabel(\"Count\")\n",
        "ax.legend(title=\"Result\")\n",
        "\n",
        "plt.show()"
      ],
      "metadata": {
        "colab": {
          "base_uri": "https://localhost:8080/",
          "height": 480
        },
        "id": "iQQVjDkyElxn",
        "outputId": "e1cdfc0c-5dc4-4449-9267-95b01b539629"
      },
      "execution_count": 13,
      "outputs": [
        {
          "output_type": "display_data",
          "data": {
            "text/plain": [
              "<Figure size 640x480 with 1 Axes>"
            ],
            "image/png": "[encoded data removed]"
          },
          "metadata": {}
        }
      ]
    },
    {
      "cell_type": "code",
      "source": [
        "y = x['specialTeamsResult']\n",
        "X_train, X_test, y_train, y_test = train_test_split(x.drop(columns=['specialTeamsResult'], axis=1), y, test_size=0.3)"
      ],
      "metadata": {
        "id": "sYN2G12bFDPK"
      },
      "execution_count": 14,
      "outputs": []
    },
    {
      "cell_type": "code",
      "source": [
        "ad_clf = AdaBoostClassifier()\n",
        "knearest_clf = KNeighborsClassifier()\n",
        "svc_clf = SVC(kernel=\"linear\", class_weight='balanced')\n",
        "xgboost_clf = XGBClassifier(scale_pos_weight=5)\n",
        "rndm_frst = RandomForestClassifier(n_estimators=100, class_weight=\"balanced\")"
      ],
      "metadata": {
        "id": "Oy38eckzFXOl"
      },
      "execution_count": 15,
      "outputs": []
    },
    {
      "cell_type": "code",
      "source": [
        "classifiers = [ad_clf, knearest_clf, svc_clf, rndm_frst, xgboost_clf]\n",
        "\n",
        "def run_classifier_models(cls_models, X_train, y_train, X_test, y_test):\n",
        "    for clsfr in cls_models:\n",
        "        clf = make_pipeline(StandardScaler(), clsfr)\n",
        "        clf.fit(X_train, y_train)\n",
        "        score = clf.score(X_test, y_test)\n",
        "        print('score for ', clsfr.__class__.__name__, score)\n",
        "        if \"SVC\" not in clsfr.__class__.__name__:\n",
        "            print('roc auc score', roc_auc_score(y_test, clf.predict_proba(X_test)[:, 1]))\n",
        "        print(\n",
        "            f\"Classification report for classifier {clf}:\\n\"\n",
        "            f\"{classification_report(y_test, clf.predict(X_test))}\\n\"\n",
        "        )\n",
        "\n",
        "run_classifier_models(classifiers, X_train, y_train, X_test, y_test)"
      ],
      "metadata": {
        "colab": {
          "base_uri": "https://localhost:8080/"
        },
        "id": "tWACS1wxFhwi",
        "outputId": "3d8e5c27-1ae7-4f83-a143-25fd412390bf"
      },
      "execution_count": 16,
      "outputs": [
        {
          "output_type": "stream",
          "name": "stdout",
          "text": [
            "score for  AdaBoostClassifier 1.0\n",
            "roc auc score 1.0\n",
            "Classification report for classifier Pipeline(steps=[('standardscaler', StandardScaler()),\n",
            "                ('adaboostclassifier', AdaBoostClassifier())]):\n",
            "              precision    recall  f1-score   support\n",
            "\n",
            "           0       1.00      1.00      1.00       120\n",
            "           1       1.00      1.00      1.00       662\n",
            "\n",
            "    accuracy                           1.00       782\n",
            "   macro avg       1.00      1.00      1.00       782\n",
            "weighted avg       1.00      1.00      1.00       782\n",
            "\n",
            "\n",
            "score for  KNeighborsClassifier 0.9987212276214834\n",
            "roc auc score 0.9958333333333333\n",
            "Classification report for classifier Pipeline(steps=[('standardscaler', StandardScaler()),\n",
            "                ('kneighborsclassifier', KNeighborsClassifier())]):\n",
            "              precision    recall  f1-score   support\n",
            "\n",
            "           0       1.00      0.99      1.00       120\n",
            "           1       1.00      1.00      1.00       662\n",
            "\n",
            "    accuracy                           1.00       782\n",
            "   macro avg       1.00      1.00      1.00       782\n",
            "weighted avg       1.00      1.00      1.00       782\n",
            "\n",
            "\n",
            "score for  SVC 0.9987212276214834\n",
            "Classification report for classifier Pipeline(steps=[('standardscaler', StandardScaler()),\n",
            "                ('svc', SVC(class_weight='balanced', kernel='linear'))]):\n",
            "              precision    recall  f1-score   support\n",
            "\n",
            "           0       1.00      0.99      1.00       120\n",
            "           1       1.00      1.00      1.00       662\n",
            "\n",
            "    accuracy                           1.00       782\n",
            "   macro avg       1.00      1.00      1.00       782\n",
            "weighted avg       1.00      1.00      1.00       782\n",
            "\n",
            "\n",
            "score for  RandomForestClassifier 0.9987212276214834\n",
            "roc auc score 1.0\n",
            "Classification report for classifier Pipeline(steps=[('standardscaler', StandardScaler()),\n",
            "                ('randomforestclassifier',\n",
            "                 RandomForestClassifier(class_weight='balanced'))]):\n",
            "              precision    recall  f1-score   support\n",
            "\n",
            "           0       1.00      0.99      1.00       120\n",
            "           1       1.00      1.00      1.00       662\n",
            "\n",
            "    accuracy                           1.00       782\n",
            "   macro avg       1.00      1.00      1.00       782\n",
            "weighted avg       1.00      1.00      1.00       782\n",
            "\n",
            "\n",
            "score for  XGBClassifier 0.9987212276214834\n",
            "roc auc score 0.9952416918429003\n",
            "Classification report for classifier Pipeline(steps=[('standardscaler', StandardScaler()),\n",
            "                ('xgbclassifier',\n",
            "                 XGBClassifier(base_score=None, booster=None, callbacks=None,\n",
            "                               colsample_bylevel=None, colsample_bynode=None,\n",
            "                               colsample_bytree=None,\n",
            "                               early_stopping_rounds=None,\n",
            "                               enable_categorical=False, eval_metric=None,\n",
            "                               feature_types=None, gamma=None, gpu_id=None,\n",
            "                               grow_policy=None, importance_type=None,\n",
            "                               interaction_constraints=None, learning_rate=None,\n",
            "                               max_bin=None, max_cat_threshold=None,\n",
            "                               max_cat_to_onehot=None, max_delta_step=None,\n",
            "                               max_depth=None, max_leaves=None,\n",
            "                               min_child_weight=None, missing=nan,\n",
            "                               monotone_constraints=None, n_estimators=100,\n",
            "                               n_jobs=None, num_parallel_tree=None,\n",
            "                               predictor=None, random_state=None, ...))]):\n",
            "              precision    recall  f1-score   support\n",
            "\n",
            "           0       1.00      0.99      1.00       120\n",
            "           1       1.00      1.00      1.00       662\n",
            "\n",
            "    accuracy                           1.00       782\n",
            "   macro avg       1.00      1.00      1.00       782\n",
            "weighted avg       1.00      1.00      1.00       782\n",
            "\n",
            "\n"
          ]
        }
      ]
    },
    {
      "cell_type": "code",
      "source": [
        "df_majority = x[x.specialTeamsResult==1]\n",
        "df_minority = x[x.specialTeamsResult==0]\n",
        "\n",
        "num_samples = 2218\n",
        "\n",
        "df_minority_upsampled = resample(df_minority, replace=True, n_samples=num_samples)\n",
        "\n",
        "df_upsampled = pd.concat([df_majority, df_minority_upsampled])\n",
        "\n",
        "df_upsampled.specialTeamsResult.value_counts()"
      ],
      "metadata": {
        "colab": {
          "base_uri": "https://localhost:8080/"
        },
        "id": "GQaNiql4FlRM",
        "outputId": "677b2aa7-871c-456b-a813-4b01457dea18"
      },
      "execution_count": 17,
      "outputs": [
        {
          "output_type": "execute_result",
          "data": {
            "text/plain": [
              "1    2218\n",
              "0    2218\n",
              "Name: specialTeamsResult, dtype: int64"
            ]
          },
          "metadata": {},
          "execution_count": 17
        }
      ]
    },
    {
      "cell_type": "code",
      "source": [
        "sns.set(style=\"whitegrid\")\n",
        "plt.figure(figsize=(8, 6))"
      ],
      "metadata": {
        "colab": {
          "base_uri": "https://localhost:8080/",
          "height": 52
        },
        "id": "RREZyfEqFsP6",
        "outputId": "23710548-c53d-4caa-9231-365a4648f4d6"
      },
      "execution_count": 18,
      "outputs": [
        {
          "output_type": "execute_result",
          "data": {
            "text/plain": [
              "<Figure size 800x600 with 0 Axes>"
            ]
          },
          "metadata": {},
          "execution_count": 18
        },
        {
          "output_type": "display_data",
          "data": {
            "text/plain": [
              "<Figure size 800x600 with 0 Axes>"
            ]
          },
          "metadata": {}
        }
      ]
    },
    {
      "cell_type": "code",
      "source": [
        "ax = sns.countplot(data=df_upsampled, x=\"specialTeamsResult\", hue=\"specialTeamsResult\")\n",
        "ax.set(title=\"Count of Successful and Unsuccessful Upsampled Special Teams\")\n",
        "ax.set_xlabel(\"Special Teams Result\")\n",
        "ax.set_ylabel(\"Count\")\n",
        "ax.legend(title=\"Result\")\n",
        "\n",
        "plt.show()"
      ],
      "metadata": {
        "colab": {
          "base_uri": "https://localhost:8080/",
          "height": 480
        },
        "id": "YblibgP8GEqA",
        "outputId": "04d979a8-9646-4698-83e8-4723020fd8c6"
      },
      "execution_count": 19,
      "outputs": [
        {
          "output_type": "display_data",
          "data": {
            "text/plain": [
              "<Figure size 640x480 with 1 Axes>"
            ],
            "image/png": "[encoded data removed]"
          },
          "metadata": {}
        }
      ]
    },
    {
      "cell_type": "code",
      "source": [
        "X_scaled_train, X_scaled_test, y_scaled_train, y_scaled_test = train_test_split(df_upsampled.drop(columns=['specialTeamsResult'], axis=1), df_upsampled['specialTeamsResult'], test_size=0.3)"
      ],
      "metadata": {
        "id": "ixXDNXLgGMq9"
      },
      "execution_count": 20,
      "outputs": []
    },
    {
      "cell_type": "code",
      "source": [
        "run_classifier_models(classifiers, X_scaled_train, y_scaled_train, X_scaled_test, y_scaled_test)"
      ],
      "metadata": {
        "colab": {
          "base_uri": "https://localhost:8080/"
        },
        "id": "XkXoJMaiGTCh",
        "outputId": "2cdeb978-24a9-4cf4-dddf-4ee82fafbc8f"
      },
      "execution_count": 21,
      "outputs": [
        {
          "output_type": "stream",
          "name": "stdout",
          "text": [
            "score for  AdaBoostClassifier 1.0\n",
            "roc auc score 1.0\n",
            "Classification report for classifier Pipeline(steps=[('standardscaler', StandardScaler()),\n",
            "                ('adaboostclassifier', AdaBoostClassifier())]):\n",
            "              precision    recall  f1-score   support\n",
            "\n",
            "           0       1.00      1.00      1.00       680\n",
            "           1       1.00      1.00      1.00       651\n",
            "\n",
            "    accuracy                           1.00      1331\n",
            "   macro avg       1.00      1.00      1.00      1331\n",
            "weighted avg       1.00      1.00      1.00      1331\n",
            "\n",
            "\n",
            "score for  KNeighborsClassifier 1.0\n",
            "roc auc score 1.0\n",
            "Classification report for classifier Pipeline(steps=[('standardscaler', StandardScaler()),\n",
            "                ('kneighborsclassifier', KNeighborsClassifier())]):\n",
            "              precision    recall  f1-score   support\n",
            "\n",
            "           0       1.00      1.00      1.00       680\n",
            "           1       1.00      1.00      1.00       651\n",
            "\n",
            "    accuracy                           1.00      1331\n",
            "   macro avg       1.00      1.00      1.00      1331\n",
            "weighted avg       1.00      1.00      1.00      1331\n",
            "\n",
            "\n",
            "score for  SVC 0.9954921111945906\n",
            "Classification report for classifier Pipeline(steps=[('standardscaler', StandardScaler()),\n",
            "                ('svc', SVC(class_weight='balanced', kernel='linear'))]):\n",
            "              precision    recall  f1-score   support\n",
            "\n",
            "           0       1.00      0.99      1.00       680\n",
            "           1       0.99      1.00      1.00       651\n",
            "\n",
            "    accuracy                           1.00      1331\n",
            "   macro avg       1.00      1.00      1.00      1331\n",
            "weighted avg       1.00      1.00      1.00      1331\n",
            "\n",
            "\n",
            "score for  RandomForestClassifier 1.0\n",
            "roc auc score 1.0\n",
            "Classification report for classifier Pipeline(steps=[('standardscaler', StandardScaler()),\n",
            "                ('randomforestclassifier',\n",
            "                 RandomForestClassifier(class_weight='balanced'))]):\n",
            "              precision    recall  f1-score   support\n",
            "\n",
            "           0       1.00      1.00      1.00       680\n",
            "           1       1.00      1.00      1.00       651\n",
            "\n",
            "    accuracy                           1.00      1331\n",
            "   macro avg       1.00      1.00      1.00      1331\n",
            "weighted avg       1.00      1.00      1.00      1331\n",
            "\n",
            "\n",
            "score for  XGBClassifier 1.0\n",
            "roc auc score 1.0\n",
            "Classification report for classifier Pipeline(steps=[('standardscaler', StandardScaler()),\n",
            "                ('xgbclassifier',\n",
            "                 XGBClassifier(base_score=None, booster=None, callbacks=None,\n",
            "                               colsample_bylevel=None, colsample_bynode=None,\n",
            "                               colsample_bytree=None,\n",
            "                               early_stopping_rounds=None,\n",
            "                               enable_categorical=False, eval_metric=None,\n",
            "                               feature_types=None, gamma=None, gpu_id=None,\n",
            "                               grow_policy=None, importance_type=None,\n",
            "                               interaction_constraints=None, learning_rate=None,\n",
            "                               max_bin=None, max_cat_threshold=None,\n",
            "                               max_cat_to_onehot=None, max_delta_step=None,\n",
            "                               max_depth=None, max_leaves=None,\n",
            "                               min_child_weight=None, missing=nan,\n",
            "                               monotone_constraints=None, n_estimators=100,\n",
            "                               n_jobs=None, num_parallel_tree=None,\n",
            "                               predictor=None, random_state=None, ...))]):\n",
            "              precision    recall  f1-score   support\n",
            "\n",
            "           0       1.00      1.00      1.00       680\n",
            "           1       1.00      1.00      1.00       651\n",
            "\n",
            "    accuracy                           1.00      1331\n",
            "   macro avg       1.00      1.00      1.00      1331\n",
            "weighted avg       1.00      1.00      1.00      1331\n",
            "\n",
            "\n"
          ]
        }
      ]
    },
    {
      "cell_type": "code",
      "source": [
        "a = df_plays['possessionTeam'].str.count('PHI')\n",
        "b = df_plays['specialTeamsPlayType'].str.count('Kickoff')\n",
        "c = df_plays['specialTeamsResult'].str.count('Touchback')"
      ],
      "metadata": {
        "id": "KWuzV9WrGWwW"
      },
      "execution_count": 22,
      "outputs": []
    },
    {
      "cell_type": "code",
      "source": [
        "y_true = pd.concat([a,b,c])\n",
        "y_true.head()"
      ],
      "metadata": {
        "colab": {
          "base_uri": "https://localhost:8080/"
        },
        "id": "aFbcgiZ-HFRa",
        "outputId": "0a3d1103-5329-416a-d969-1ed83bd2ff32"
      },
      "execution_count": 23,
      "outputs": [
        {
          "output_type": "execute_result",
          "data": {
            "text/plain": [
              "0    1\n",
              "1    1\n",
              "2    0\n",
              "3    0\n",
              "4    1\n",
              "dtype: int64"
            ]
          },
          "metadata": {},
          "execution_count": 23
        }
      ]
    },
    {
      "cell_type": "code",
      "source": [
        "a1 = df_plays['possessionTeam'].str.count('PHI')\n",
        "b1 = df_plays['specialTeamsPlayType'].str.count('Field Goal')\n",
        "c1 = df_plays['specialTeamsResult'].str.count('Kick Attempt Good')"
      ],
      "metadata": {
        "id": "EGwsqxV8HIlA"
      },
      "execution_count": 24,
      "outputs": []
    },
    {
      "cell_type": "code",
      "source": [
        "y_true1 = pd.concat([a1,b1,c1])\n",
        "y_true1.head()"
      ],
      "metadata": {
        "colab": {
          "base_uri": "https://localhost:8080/"
        },
        "id": "iDfyiaQGHSFH",
        "outputId": "446f828e-a379-49c4-e6b0-cd1462a0577e"
      },
      "execution_count": 25,
      "outputs": [
        {
          "output_type": "execute_result",
          "data": {
            "text/plain": [
              "0    1\n",
              "1    1\n",
              "2    0\n",
              "3    0\n",
              "4    1\n",
              "dtype: int64"
            ]
          },
          "metadata": {},
          "execution_count": 25
        }
      ]
    },
    {
      "cell_type": "code",
      "source": [
        "a2 = df_plays['possessionTeam'].str.count('PHI')\n",
        "b2 = df_plays['specialTeamsPlayType'].str.count('')\n",
        "c2 = df_plays['specialTeamsResult'].str.count('')"
      ],
      "metadata": {
        "id": "eYZKynI9HXLx"
      },
      "execution_count": 26,
      "outputs": []
    },
    {
      "cell_type": "code",
      "source": [
        "y_pred = pd.concat([a2, b2, c2])\n",
        "y_pred.head()"
      ],
      "metadata": {
        "colab": {
          "base_uri": "https://localhost:8080/"
        },
        "id": "bukq59vNHdit",
        "outputId": "ce2cdd16-dc04-45a3-96ee-8f4b0c1322e9"
      },
      "execution_count": 27,
      "outputs": [
        {
          "output_type": "execute_result",
          "data": {
            "text/plain": [
              "0    1\n",
              "1    1\n",
              "2    0\n",
              "3    0\n",
              "4    1\n",
              "dtype: int64"
            ]
          },
          "metadata": {},
          "execution_count": 27
        }
      ]
    },
    {
      "cell_type": "code",
      "source": [
        "df = pd.DataFrame({'': [1,f1_score(y_true, y_pred, average='macro'),f1_score(y_true1, y_pred, average='macro')]},\n",
        "                  index=['PHI','Kickoff/Touchback','Field Goal/Kick Attempt Good'])\n",
        "\n",
        "plot = df.plot.pie(y='', figsize=(5, 5))"
      ],
      "metadata": {
        "colab": {
          "base_uri": "https://localhost:8080/",
          "height": 422
        },
        "id": "8W956kklHhpR",
        "outputId": "d16f0161-f6c9-4f9e-dba7-3091fc0adc8a"
      },
      "execution_count": 28,
      "outputs": [
        {
          "output_type": "display_data",
          "data": {
            "text/plain": [
              "<Figure size 500x500 with 1 Axes>"
            ],
            "image/png": "[encoded data removed]"
          },
          "metadata": {}
        }
      ]
    },
    {
      "cell_type": "code",
      "source": [
        "f1_score(y_true, y_pred, average='macro'), f1_score(y_true1, y_pred, average='macro')"
      ],
      "metadata": {
        "colab": {
          "base_uri": "https://localhost:8080/"
        },
        "id": "FPkVEUnNHnZG",
        "outputId": "060ae06a-5d82-4ec7-80f6-3866ebaa0dc6"
      },
      "execution_count": 29,
      "outputs": [
        {
          "output_type": "execute_result",
          "data": {
            "text/plain": [
              "(0.0479627414765748, 0.048108817963346824)"
            ]
          },
          "metadata": {},
          "execution_count": 29
        }
      ]
    },
    {
      "cell_type": "code",
      "source": [
        "a = df_plays['possessionTeam'].str.count('BUF')\n",
        "b = df_plays['specialTeamsPlayType'].str.count('Punt')\n",
        "c = df_plays['specialTeamsResult'].str.count('Out of Bounds')"
      ],
      "metadata": {
        "id": "LEwjbyTxHrmH"
      },
      "execution_count": 30,
      "outputs": []
    },
    {
      "cell_type": "code",
      "source": [
        "y_true = pd.concat([a,b,c])"
      ],
      "metadata": {
        "id": "e8af-NaWH5RX"
      },
      "execution_count": 31,
      "outputs": []
    },
    {
      "cell_type": "code",
      "source": [
        "a1 = df_plays['possessionTeam'].str.count('PHI')\n",
        "b1 = df_plays['specialTeamsPlayType'].str.count('')\n",
        "c1 = df_plays['specialTeamsResult'].str.count('')"
      ],
      "metadata": {
        "id": "sUI8fSQiIJsb"
      },
      "execution_count": 32,
      "outputs": []
    },
    {
      "cell_type": "code",
      "source": [
        "y_pred  = pd.concat([a1,b1,c1])"
      ],
      "metadata": {
        "id": "Jm5wNkxXI_s7"
      },
      "execution_count": 33,
      "outputs": []
    },
    {
      "cell_type": "code",
      "source": [
        "df = pd.DataFrame({'': [1,f1_score(y_true, y_pred, average='macro')]},index=['BUF', 'Punt/Out of Bounds'])\n",
        "plot = df.plot.pie(y='', figsize=(5, 5))"
      ],
      "metadata": {
        "colab": {
          "base_uri": "https://localhost:8080/",
          "height": 422
        },
        "id": "MEUorzfbJDma",
        "outputId": "5566a801-eaf3-40b0-c758-3fca95fe997a"
      },
      "execution_count": 34,
      "outputs": [
        {
          "output_type": "display_data",
          "data": {
            "text/plain": [
              "<Figure size 500x500 with 1 Axes>"
            ],
            "image/png": "[encoded data removed]"
          },
          "metadata": {}
        }
      ]
    },
    {
      "cell_type": "code",
      "source": [
        "f1_score(y_true, y_pred, average='macro')"
      ],
      "metadata": {
        "colab": {
          "base_uri": "https://localhost:8080/"
        },
        "id": "L4PRA_eZJGcR",
        "outputId": "35ddf060-4de9-4b32-9f33-06770543dd75"
      },
      "execution_count": 35,
      "outputs": [
        {
          "output_type": "execute_result",
          "data": {
            "text/plain": [
              "0.03721140446687508"
            ]
          },
          "metadata": {},
          "execution_count": 35
        }
      ]
    },
    {
      "cell_type": "code",
      "source": [
        "a = df_plays['possessionTeam'].str.count('ATL')\n",
        "b = df_plays['specialTeamsPlayType'].str.count('Punt')\n",
        "c = df_plays['specialTeamsResult'].str.count('')"
      ],
      "metadata": {
        "id": "n0V8W6siJJwh"
      },
      "execution_count": 36,
      "outputs": []
    },
    {
      "cell_type": "code",
      "source": [
        "y_true = pd.concat([a,b,c])"
      ],
      "metadata": {
        "id": "HXc5hGL3JM11"
      },
      "execution_count": 37,
      "outputs": []
    },
    {
      "cell_type": "code",
      "source": [
        "a1 = df_plays['possessionTeam'].str.count('ATL')\n",
        "b1 = df_plays['specialTeamsPlayType'].str.count('')\n",
        "c1 = df_plays['specialTeamsResult'].str.count('')"
      ],
      "metadata": {
        "id": "5wkdc9cfJQJU"
      },
      "execution_count": 38,
      "outputs": []
    },
    {
      "cell_type": "code",
      "source": [
        "y_pred = pd.concat([a1,b1,c1])"
      ],
      "metadata": {
        "id": "YhagUUjlJUQ2"
      },
      "execution_count": 39,
      "outputs": []
    },
    {
      "cell_type": "code",
      "source": [
        "df = pd.DataFrame({'': [1,f1_score(y_true, y_pred, average='macro')]},index=['ATL', 'Punt'])\n",
        "plot = df.plot.pie(y='', figsize=(5, 5))"
      ],
      "metadata": {
        "colab": {
          "base_uri": "https://localhost:8080/",
          "height": 422
        },
        "id": "96K9pK7LJZVp",
        "outputId": "6ab3558e-58f8-48e6-ceb3-ee42feeb1f4b"
      },
      "execution_count": 40,
      "outputs": [
        {
          "output_type": "display_data",
          "data": {
            "text/plain": [
              "<Figure size 500x500 with 1 Axes>"
            ],
            "image/png": "[encoded data removed]"
          },
          "metadata": {}
        }
      ]
    },
    {
      "cell_type": "code",
      "source": [
        "f1_score(y_true, y_pred, average='macro')"
      ],
      "metadata": {
        "colab": {
          "base_uri": "https://localhost:8080/"
        },
        "id": "dwfwUnMhOiZM",
        "outputId": "1d49ebac-2e29-4156-dc30-cb653ecb48bb"
      },
      "execution_count": 41,
      "outputs": [
        {
          "output_type": "execute_result",
          "data": {
            "text/plain": [
              "0.6757741252503106"
            ]
          },
          "metadata": {},
          "execution_count": 41
        }
      ]
    },
    {
      "cell_type": "code",
      "source": [
        "df_plays['possessionTeam'].str.count('ATL')"
      ],
      "metadata": {
        "colab": {
          "base_uri": "https://localhost:8080/"
        },
        "id": "u5w47w9hOmfx",
        "outputId": "d436cca7-fe58-4f14-f4b0-0bad5aa9ea85"
      },
      "execution_count": 42,
      "outputs": [
        {
          "output_type": "execute_result",
          "data": {
            "text/plain": [
              "0        0\n",
              "1        0\n",
              "2        1\n",
              "3        1\n",
              "4        0\n",
              "        ..\n",
              "19974    0\n",
              "19975    0\n",
              "19976    0\n",
              "19977    0\n",
              "19978    0\n",
              "Name: possessionTeam, Length: 19979, dtype: int64"
            ]
          },
          "metadata": {},
          "execution_count": 42
        }
      ]
    },
    {
      "cell_type": "code",
      "source": [
        "df_plays['possessionTeam']. value_counts(), df_plays['specialTeamsPlayType']. value_counts(),df_plays['specialTeamsResult']. value_counts()"
      ],
      "metadata": {
        "colab": {
          "base_uri": "https://localhost:8080/"
        },
        "id": "CK-oWZVaOo9G",
        "outputId": "f0e329a1-525d-4df2-acdf-8dada4909158"
      },
      "execution_count": 43,
      "outputs": [
        {
          "output_type": "execute_result",
          "data": {
            "text/plain": [
              "(BAL    682\n",
              " NO     682\n",
              " LA     676\n",
              " TB     672\n",
              " KC     659\n",
              " GB     653\n",
              " NE     652\n",
              " HOU    648\n",
              " SEA    648\n",
              " IND    637\n",
              " TEN    637\n",
              " PIT    636\n",
              " BUF    631\n",
              " ATL    627\n",
              " MIA    625\n",
              " CHI    621\n",
              " DET    618\n",
              " ARI    618\n",
              " NYJ    616\n",
              " DAL    613\n",
              " CLE    610\n",
              " SF     606\n",
              " LAC    604\n",
              " CIN    601\n",
              " DEN    598\n",
              " NYG    593\n",
              " CAR    587\n",
              " MIN    584\n",
              " WAS    582\n",
              " JAX    579\n",
              " PHI    576\n",
              " OAK    394\n",
              " LV     214\n",
              " Name: possessionTeam, dtype: int64,\n",
              " Kickoff        7843\n",
              " Punt           5991\n",
              " Extra Point    3488\n",
              " Field Goal     2657\n",
              " Name: specialTeamsPlayType, dtype: int64,\n",
              " Kick Attempt Good           5470\n",
              " Return                      5207\n",
              " Touchback                   5156\n",
              " Fair Catch                  1645\n",
              " Downed                       834\n",
              " Out of Bounds                651\n",
              " Kick Attempt No Good         585\n",
              " Muffed                       214\n",
              " Non-Special Teams Result     101\n",
              " Blocked Kick Attempt          61\n",
              " Blocked Punt                  39\n",
              " Kickoff Team Recovery         16\n",
              " Name: specialTeamsResult, dtype: int64)"
            ]
          },
          "metadata": {},
          "execution_count": 43
        }
      ]
    },
    {
      "cell_type": "code",
      "source": [
        "df_scouting.columns"
      ],
      "metadata": {
        "colab": {
          "base_uri": "https://localhost:8080/"
        },
        "id": "mwzNxksNOs6S",
        "outputId": "e1f60b35-49a0-49a3-fa66-3e994fba3c6e"
      },
      "execution_count": 44,
      "outputs": [
        {
          "output_type": "execute_result",
          "data": {
            "text/plain": [
              "Index(['gameId', 'playId', 'snapDetail', 'snapTime', 'operationTime',\n",
              "       'hangTime', 'kickType', 'kickDirectionIntended', 'kickDirectionActual',\n",
              "       'returnDirectionIntended', 'returnDirectionActual', 'missedTackler',\n",
              "       'assistTackler', 'tackler', 'kickoffReturnFormation', 'gunners',\n",
              "       'puntRushers', 'specialTeamsSafeties', 'vises', 'kickContactType'],\n",
              "      dtype='object')"
            ]
          },
          "metadata": {},
          "execution_count": 44
        }
      ]
    },
    {
      "cell_type": "code",
      "source": [
        "df_scouting = df_scouting[['gameId', 'hangTime', 'operationTime', 'kickType', 'kickDirectionIntended', 'kickDirectionActual']]"
      ],
      "metadata": {
        "id": "GSTLZ1GlOxbS"
      },
      "execution_count": 45,
      "outputs": []
    },
    {
      "cell_type": "code",
      "source": [
        "df_scouting.duplicated().sum()"
      ],
      "metadata": {
        "colab": {
          "base_uri": "https://localhost:8080/"
        },
        "id": "V8StwgNUOz7X",
        "outputId": "03e7e457-14cb-4365-9ba2-c9bd80a9c786"
      },
      "execution_count": 46,
      "outputs": [
        {
          "output_type": "execute_result",
          "data": {
            "text/plain": [
              "5820"
            ]
          },
          "metadata": {},
          "execution_count": 46
        }
      ]
    },
    {
      "cell_type": "code",
      "source": [
        "df_scouting.drop_duplicates(inplace=True)"
      ],
      "metadata": {
        "id": "yA-OUSE3O2q4"
      },
      "execution_count": 47,
      "outputs": []
    },
    {
      "cell_type": "code",
      "source": [
        "print(\"data shape:\", df_scouting.shape)\n",
        "df_scouting.isna().sum()"
      ],
      "metadata": {
        "colab": {
          "base_uri": "https://localhost:8080/"
        },
        "id": "8uelJYOgO5Yu",
        "outputId": "3dfd2e97-5f4b-4e2e-c2a6-dd64b4c18ac0"
      },
      "execution_count": 48,
      "outputs": [
        {
          "output_type": "stream",
          "name": "stdout",
          "text": [
            "data shape: (14159, 6)\n"
          ]
        },
        {
          "output_type": "execute_result",
          "data": {
            "text/plain": [
              "gameId                      0\n",
              "hangTime                 1372\n",
              "operationTime            8242\n",
              "kickType                  801\n",
              "kickDirectionIntended     823\n",
              "kickDirectionActual       823\n",
              "dtype: int64"
            ]
          },
          "metadata": {},
          "execution_count": 48
        }
      ]
    },
    {
      "cell_type": "code",
      "source": [
        "df_scouting.dropna(axis=0, inplace=True)"
      ],
      "metadata": {
        "id": "WlyFXK6_O8QK"
      },
      "execution_count": 49,
      "outputs": []
    },
    {
      "cell_type": "code",
      "source": [
        "df_scouting.head(3)"
      ],
      "metadata": {
        "colab": {
          "base_uri": "https://localhost:8080/",
          "height": 143
        },
        "id": "FHsEtmVAO_E0",
        "outputId": "f35f014b-4b81-4118-c9e7-dd420cb6d7cd"
      },
      "execution_count": 50,
      "outputs": [
        {
          "output_type": "execute_result",
          "data": {
            "text/plain": [
              "       gameId  hangTime  operationTime kickType kickDirectionIntended  \\\n",
              "1  2018090600      4.46           2.12        N                     C   \n",
              "4  2018090600      4.35           2.00        N                     C   \n",
              "5  2018090600      4.98           2.19        N                     L   \n",
              "\n",
              "  kickDirectionActual  \n",
              "1                   C  \n",
              "4                   L  \n",
              "5                   L  "
            ],
            "text/html": [
              "\n",
              "\n",
              "  <div id=\"df-ca095c0d-f15e-4954-a4d4-94eb58ce2960\">\n",
              "    <div class=\"colab-df-container\">\n",
              "      <div>\n",
              "<style scoped>\n",
              "    .dataframe tbody tr th:only-of-type {\n",
              "        vertical-align: middle;\n",
              "    }\n",
              "\n",
              "    .dataframe tbody tr th {\n",
              "        vertical-align: top;\n",
              "    }\n",
              "\n",
              "    .dataframe thead th {\n",
              "        text-align: right;\n",
              "    }\n",
              "</style>\n",
              "<table border=\"1\" class=\"dataframe\">\n",
              "  <thead>\n",
              "    <tr style=\"text-align: right;\">\n",
              "      <th></th>\n",
              "      <th>gameId</th>\n",
              "      <th>hangTime</th>\n",
              "      <th>operationTime</th>\n",
              "      <th>kickType</th>\n",
              "      <th>kickDirectionIntended</th>\n",
              "      <th>kickDirectionActual</th>\n",
              "    </tr>\n",
              "  </thead>\n",
              "  <tbody>\n",
              "    <tr>\n",
              "      <th>1</th>\n",
              "      <td>2018090600</td>\n",
              "      <td>4.46</td>\n",
              "      <td>2.12</td>\n",
              "      <td>N</td>\n",
              "      <td>C</td>\n",
              "      <td>C</td>\n",
              "    </tr>\n",
              "    <tr>\n",
              "      <th>4</th>\n",
              "      <td>2018090600</td>\n",
              "      <td>4.35</td>\n",
              "      <td>2.00</td>\n",
              "      <td>N</td>\n",
              "      <td>C</td>\n",
              "      <td>L</td>\n",
              "    </tr>\n",
              "    <tr>\n",
              "      <th>5</th>\n",
              "      <td>2018090600</td>\n",
              "      <td>4.98</td>\n",
              "      <td>2.19</td>\n",
              "      <td>N</td>\n",
              "      <td>L</td>\n",
              "      <td>L</td>\n",
              "    </tr>\n",
              "  </tbody>\n",
              "</table>\n",
              "</div>\n",
              "      <button class=\"colab-df-convert\" onclick=\"convertToInteractive('df-ca095c0d-f15e-4954-a4d4-94eb58ce2960')\"\n",
              "              title=\"Convert this dataframe to an interactive table.\"\n",
              "              style=\"display:none;\">\n",
              "\n",
              "  <svg xmlns=\"http://www.w3.org/2000/svg\" height=\"24px\"viewBox=\"0 0 24 24\"\n",
              "       width=\"24px\">\n",
              "    <path d=\"M0 0h24v24H0V0z\" fill=\"none\"/>\n",
              "    <path d=\"M18.56 5.44l.94 2.06.94-2.06 2.06-.94-2.06-.94-.94-2.06-.94 2.06-2.06.94zm-11 1L8.5 8.5l.94-2.06 2.06-.94-2.06-.94L8.5 2.5l-.94 2.06-2.06.94zm10 10l.94 2.06.94-2.06 2.06-.94-2.06-.94-.94-2.06-.94 2.06-2.06.94z\"/><path d=\"M17.41 7.96l-1.37-1.37c-.4-.4-.92-.59-1.43-.59-.52 0-1.04.2-1.43.59L10.3 9.45l-7.72 7.72c-.78.78-.78 2.05 0 2.83L4 21.41c.39.39.9.59 1.41.59.51 0 1.02-.2 1.41-.59l7.78-7.78 2.81-2.81c.8-.78.8-2.07 0-2.86zM5.41 20L4 18.59l7.72-7.72 1.47 1.35L5.41 20z\"/>\n",
              "  </svg>\n",
              "      </button>\n",
              "\n",
              "\n",
              "\n",
              "    <div id=\"df-cb001a3d-f836-4c81-bed1-b1c30bfde3bf\">\n",
              "      <button class=\"colab-df-quickchart\" onclick=\"quickchart('df-cb001a3d-f836-4c81-bed1-b1c30bfde3bf')\"\n",
              "              title=\"Suggest charts.\"\n",
              "              style=\"display:none;\">\n",
              "\n",
              "<svg xmlns=\"http://www.w3.org/2000/svg\" height=\"24px\"viewBox=\"0 0 24 24\"\n",
              "     width=\"24px\">\n",
              "    <g>\n",
              "        <path d=\"M19 3H5c-1.1 0-2 .9-2 2v14c0 1.1.9 2 2 2h14c1.1 0 2-.9 2-2V5c0-1.1-.9-2-2-2zM9 17H7v-7h2v7zm4 0h-2V7h2v10zm4 0h-2v-4h2v4z\"/>\n",
              "    </g>\n",
              "</svg>\n",
              "      </button>\n",
              "    </div>\n",
              "\n",
              "<style>\n",
              "  .colab-df-quickchart {\n",
              "    background-color: #E8F0FE;\n",
              "    border: none;\n",
              "    border-radius: 50%;\n",
              "    cursor: pointer;\n",
              "    display: none;\n",
              "    fill: #1967D2;\n",
              "    height: 32px;\n",
              "    padding: 0 0 0 0;\n",
              "    width: 32px;\n",
              "  }\n",
              "\n",
              "  .colab-df-quickchart:hover {\n",
              "    background-color: #E2EBFA;\n",
              "    box-shadow: 0px 1px 2px rgba(60, 64, 67, 0.3), 0px 1px 3px 1px rgba(60, 64, 67, 0.15);\n",
              "    fill: #174EA6;\n",
              "  }\n",
              "\n",
              "  [theme=dark] .colab-df-quickchart {\n",
              "    background-color: #3B4455;\n",
              "    fill: #D2E3FC;\n",
              "  }\n",
              "\n",
              "  [theme=dark] .colab-df-quickchart:hover {\n",
              "    background-color: #434B5C;\n",
              "    box-shadow: 0px 1px 3px 1px rgba(0, 0, 0, 0.15);\n",
              "    filter: drop-shadow(0px 1px 2px rgba(0, 0, 0, 0.3));\n",
              "    fill: #FFFFFF;\n",
              "  }\n",
              "</style>\n",
              "\n",
              "    <script>\n",
              "      async function quickchart(key) {\n",
              "        const containerElement = document.querySelector('#' + key);\n",
              "        const charts = await google.colab.kernel.invokeFunction(\n",
              "            'suggestCharts', [key], {});\n",
              "      }\n",
              "    </script>\n",
              "\n",
              "      <script>\n",
              "\n",
              "function displayQuickchartButton(domScope) {\n",
              "  let quickchartButtonEl =\n",
              "    domScope.querySelector('#df-cb001a3d-f836-4c81-bed1-b1c30bfde3bf button.colab-df-quickchart');\n",
              "  quickchartButtonEl.style.display =\n",
              "    google.colab.kernel.accessAllowed ? 'block' : 'none';\n",
              "}\n",
              "\n",
              "        displayQuickchartButton(document);\n",
              "      </script>\n",
              "      <style>\n",
              "    .colab-df-container {\n",
              "      display:flex;\n",
              "      flex-wrap:wrap;\n",
              "      gap: 12px;\n",
              "    }\n",
              "\n",
              "    .colab-df-convert {\n",
              "      background-color: #E8F0FE;\n",
              "      border: none;\n",
              "      border-radius: 50%;\n",
              "      cursor: pointer;\n",
              "      display: none;\n",
              "      fill: #1967D2;\n",
              "      height: 32px;\n",
              "      padding: 0 0 0 0;\n",
              "      width: 32px;\n",
              "    }\n",
              "\n",
              "    .colab-df-convert:hover {\n",
              "      background-color: #E2EBFA;\n",
              "      box-shadow: 0px 1px 2px rgba(60, 64, 67, 0.3), 0px 1px 3px 1px rgba(60, 64, 67, 0.15);\n",
              "      fill: #174EA6;\n",
              "    }\n",
              "\n",
              "    [theme=dark] .colab-df-convert {\n",
              "      background-color: #3B4455;\n",
              "      fill: #D2E3FC;\n",
              "    }\n",
              "\n",
              "    [theme=dark] .colab-df-convert:hover {\n",
              "      background-color: #434B5C;\n",
              "      box-shadow: 0px 1px 3px 1px rgba(0, 0, 0, 0.15);\n",
              "      filter: drop-shadow(0px 1px 2px rgba(0, 0, 0, 0.3));\n",
              "      fill: #FFFFFF;\n",
              "    }\n",
              "  </style>\n",
              "\n",
              "      <script>\n",
              "        const buttonEl =\n",
              "          document.querySelector('#df-ca095c0d-f15e-4954-a4d4-94eb58ce2960 button.colab-df-convert');\n",
              "        buttonEl.style.display =\n",
              "          google.colab.kernel.accessAllowed ? 'block' : 'none';\n",
              "\n",
              "        async function convertToInteractive(key) {\n",
              "          const element = document.querySelector('#df-ca095c0d-f15e-4954-a4d4-94eb58ce2960');\n",
              "          const dataTable =\n",
              "            await google.colab.kernel.invokeFunction('convertToInteractive',\n",
              "                                                     [key], {});\n",
              "          if (!dataTable) return;\n",
              "\n",
              "          const docLinkHtml = 'Like what you see? Visit the ' +\n",
              "            '<a target=\"_blank\" href=https://colab.research.google.com/notebooks/data_table.ipynb>data table notebook</a>'\n",
              "            + ' to learn more about interactive tables.';\n",
              "          element.innerHTML = '';\n",
              "          dataTable['output_type'] = 'display_data';\n",
              "          await google.colab.output.renderOutput(dataTable, element);\n",
              "          const docLink = document.createElement('div');\n",
              "          docLink.innerHTML = docLinkHtml;\n",
              "          element.appendChild(docLink);\n",
              "        }\n",
              "      </script>\n",
              "    </div>\n",
              "  </div>\n"
            ]
          },
          "metadata": {},
          "execution_count": 50
        }
      ]
    },
    {
      "cell_type": "code",
      "source": [
        "df_plays.columns"
      ],
      "metadata": {
        "colab": {
          "base_uri": "https://localhost:8080/"
        },
        "id": "899zQQgYPDhM",
        "outputId": "d16a6dd8-2cd4-4c30-b0e6-8ba98e8de21a"
      },
      "execution_count": 51,
      "outputs": [
        {
          "output_type": "execute_result",
          "data": {
            "text/plain": [
              "Index(['gameId', 'playId', 'playDescription', 'quarter', 'down', 'yardsToGo',\n",
              "       'possessionTeam', 'specialTeamsPlayType', 'specialTeamsResult',\n",
              "       'kickerId', 'returnerId', 'kickBlockerId', 'yardlineSide',\n",
              "       'yardlineNumber', 'gameClock', 'penaltyCodes', 'penaltyJerseyNumbers',\n",
              "       'penaltyYards', 'preSnapHomeScore', 'preSnapVisitorScore', 'passResult',\n",
              "       'kickLength', 'kickReturnYardage', 'playResult',\n",
              "       'absoluteYardlineNumber'],\n",
              "      dtype='object')"
            ]
          },
          "metadata": {},
          "execution_count": 51
        }
      ]
    },
    {
      "cell_type": "code",
      "source": [
        "df_plays = df_plays[['gameId', 'playId', 'quarter', 'down', 'yardsToGo', 'possessionTeam', 'specialTeamsPlayType',\n",
        "              'specialTeamsResult', 'playResult']]"
      ],
      "metadata": {
        "id": "9J0mmEQJPJaL"
      },
      "execution_count": 52,
      "outputs": []
    },
    {
      "cell_type": "code",
      "source": [
        "df_plays.head(3)"
      ],
      "metadata": {
        "colab": {
          "base_uri": "https://localhost:8080/",
          "height": 143
        },
        "id": "E3-1neCBPNDI",
        "outputId": "a7a1f572-665e-4770-c731-e0043d2e3e13"
      },
      "execution_count": 53,
      "outputs": [
        {
          "output_type": "execute_result",
          "data": {
            "text/plain": [
              "       gameId  playId  quarter  down  yardsToGo possessionTeam  \\\n",
              "0  2018090600      37        1     0          0            PHI   \n",
              "1  2018090600     366        1     4          4            PHI   \n",
              "2  2018090600     658        1     4          3            ATL   \n",
              "\n",
              "  specialTeamsPlayType specialTeamsResult  playResult  \n",
              "0              Kickoff          Touchback          40  \n",
              "1                 Punt             Return          36  \n",
              "2           Field Goal  Kick Attempt Good           0  "
            ],
            "text/html": [
              "\n",
              "\n",
              "  <div id=\"df-92071d4b-9e68-4c8e-9250-23dbcdaaa770\">\n",
              "    <div class=\"colab-df-container\">\n",
              "      <div>\n",
              "<style scoped>\n",
              "    .dataframe tbody tr th:only-of-type {\n",
              "        vertical-align: middle;\n",
              "    }\n",
              "\n",
              "    .dataframe tbody tr th {\n",
              "        vertical-align: top;\n",
              "    }\n",
              "\n",
              "    .dataframe thead th {\n",
              "        text-align: right;\n",
              "    }\n",
              "</style>\n",
              "<table border=\"1\" class=\"dataframe\">\n",
              "  <thead>\n",
              "    <tr style=\"text-align: right;\">\n",
              "      <th></th>\n",
              "      <th>gameId</th>\n",
              "      <th>playId</th>\n",
              "      <th>quarter</th>\n",
              "      <th>down</th>\n",
              "      <th>yardsToGo</th>\n",
              "      <th>possessionTeam</th>\n",
              "      <th>specialTeamsPlayType</th>\n",
              "      <th>specialTeamsResult</th>\n",
              "      <th>playResult</th>\n",
              "    </tr>\n",
              "  </thead>\n",
              "  <tbody>\n",
              "    <tr>\n",
              "      <th>0</th>\n",
              "      <td>2018090600</td>\n",
              "      <td>37</td>\n",
              "      <td>1</td>\n",
              "      <td>0</td>\n",
              "      <td>0</td>\n",
              "      <td>PHI</td>\n",
              "      <td>Kickoff</td>\n",
              "      <td>Touchback</td>\n",
              "      <td>40</td>\n",
              "    </tr>\n",
              "    <tr>\n",
              "      <th>1</th>\n",
              "      <td>2018090600</td>\n",
              "      <td>366</td>\n",
              "      <td>1</td>\n",
              "      <td>4</td>\n",
              "      <td>4</td>\n",
              "      <td>PHI</td>\n",
              "      <td>Punt</td>\n",
              "      <td>Return</td>\n",
              "      <td>36</td>\n",
              "    </tr>\n",
              "    <tr>\n",
              "      <th>2</th>\n",
              "      <td>2018090600</td>\n",
              "      <td>658</td>\n",
              "      <td>1</td>\n",
              "      <td>4</td>\n",
              "      <td>3</td>\n",
              "      <td>ATL</td>\n",
              "      <td>Field Goal</td>\n",
              "      <td>Kick Attempt Good</td>\n",
              "      <td>0</td>\n",
              "    </tr>\n",
              "  </tbody>\n",
              "</table>\n",
              "</div>\n",
              "      <button class=\"colab-df-convert\" onclick=\"convertToInteractive('df-92071d4b-9e68-4c8e-9250-23dbcdaaa770')\"\n",
              "              title=\"Convert this dataframe to an interactive table.\"\n",
              "              style=\"display:none;\">\n",
              "\n",
              "  <svg xmlns=\"http://www.w3.org/2000/svg\" height=\"24px\"viewBox=\"0 0 24 24\"\n",
              "       width=\"24px\">\n",
              "    <path d=\"M0 0h24v24H0V0z\" fill=\"none\"/>\n",
              "    <path d=\"M18.56 5.44l.94 2.06.94-2.06 2.06-.94-2.06-.94-.94-2.06-.94 2.06-2.06.94zm-11 1L8.5 8.5l.94-2.06 2.06-.94-2.06-.94L8.5 2.5l-.94 2.06-2.06.94zm10 10l.94 2.06.94-2.06 2.06-.94-2.06-.94-.94-2.06-.94 2.06-2.06.94z\"/><path d=\"M17.41 7.96l-1.37-1.37c-.4-.4-.92-.59-1.43-.59-.52 0-1.04.2-1.43.59L10.3 9.45l-7.72 7.72c-.78.78-.78 2.05 0 2.83L4 21.41c.39.39.9.59 1.41.59.51 0 1.02-.2 1.41-.59l7.78-7.78 2.81-2.81c.8-.78.8-2.07 0-2.86zM5.41 20L4 18.59l7.72-7.72 1.47 1.35L5.41 20z\"/>\n",
              "  </svg>\n",
              "      </button>\n",
              "\n",
              "\n",
              "\n",
              "    <div id=\"df-db42515d-c2b5-4671-884e-319a41e07f13\">\n",
              "      <button class=\"colab-df-quickchart\" onclick=\"quickchart('df-db42515d-c2b5-4671-884e-319a41e07f13')\"\n",
              "              title=\"Suggest charts.\"\n",
              "              style=\"display:none;\">\n",
              "\n",
              "<svg xmlns=\"http://www.w3.org/2000/svg\" height=\"24px\"viewBox=\"0 0 24 24\"\n",
              "     width=\"24px\">\n",
              "    <g>\n",
              "        <path d=\"M19 3H5c-1.1 0-2 .9-2 2v14c0 1.1.9 2 2 2h14c1.1 0 2-.9 2-2V5c0-1.1-.9-2-2-2zM9 17H7v-7h2v7zm4 0h-2V7h2v10zm4 0h-2v-4h2v4z\"/>\n",
              "    </g>\n",
              "</svg>\n",
              "      </button>\n",
              "    </div>\n",
              "\n",
              "<style>\n",
              "  .colab-df-quickchart {\n",
              "    background-color: #E8F0FE;\n",
              "    border: none;\n",
              "    border-radius: 50%;\n",
              "    cursor: pointer;\n",
              "    display: none;\n",
              "    fill: #1967D2;\n",
              "    height: 32px;\n",
              "    padding: 0 0 0 0;\n",
              "    width: 32px;\n",
              "  }\n",
              "\n",
              "  .colab-df-quickchart:hover {\n",
              "    background-color: #E2EBFA;\n",
              "    box-shadow: 0px 1px 2px rgba(60, 64, 67, 0.3), 0px 1px 3px 1px rgba(60, 64, 67, 0.15);\n",
              "    fill: #174EA6;\n",
              "  }\n",
              "\n",
              "  [theme=dark] .colab-df-quickchart {\n",
              "    background-color: #3B4455;\n",
              "    fill: #D2E3FC;\n",
              "  }\n",
              "\n",
              "  [theme=dark] .colab-df-quickchart:hover {\n",
              "    background-color: #434B5C;\n",
              "    box-shadow: 0px 1px 3px 1px rgba(0, 0, 0, 0.15);\n",
              "    filter: drop-shadow(0px 1px 2px rgba(0, 0, 0, 0.3));\n",
              "    fill: #FFFFFF;\n",
              "  }\n",
              "</style>\n",
              "\n",
              "    <script>\n",
              "      async function quickchart(key) {\n",
              "        const containerElement = document.querySelector('#' + key);\n",
              "        const charts = await google.colab.kernel.invokeFunction(\n",
              "            'suggestCharts', [key], {});\n",
              "      }\n",
              "    </script>\n",
              "\n",
              "      <script>\n",
              "\n",
              "function displayQuickchartButton(domScope) {\n",
              "  let quickchartButtonEl =\n",
              "    domScope.querySelector('#df-db42515d-c2b5-4671-884e-319a41e07f13 button.colab-df-quickchart');\n",
              "  quickchartButtonEl.style.display =\n",
              "    google.colab.kernel.accessAllowed ? 'block' : 'none';\n",
              "}\n",
              "\n",
              "        displayQuickchartButton(document);\n",
              "      </script>\n",
              "      <style>\n",
              "    .colab-df-container {\n",
              "      display:flex;\n",
              "      flex-wrap:wrap;\n",
              "      gap: 12px;\n",
              "    }\n",
              "\n",
              "    .colab-df-convert {\n",
              "      background-color: #E8F0FE;\n",
              "      border: none;\n",
              "      border-radius: 50%;\n",
              "      cursor: pointer;\n",
              "      display: none;\n",
              "      fill: #1967D2;\n",
              "      height: 32px;\n",
              "      padding: 0 0 0 0;\n",
              "      width: 32px;\n",
              "    }\n",
              "\n",
              "    .colab-df-convert:hover {\n",
              "      background-color: #E2EBFA;\n",
              "      box-shadow: 0px 1px 2px rgba(60, 64, 67, 0.3), 0px 1px 3px 1px rgba(60, 64, 67, 0.15);\n",
              "      fill: #174EA6;\n",
              "    }\n",
              "\n",
              "    [theme=dark] .colab-df-convert {\n",
              "      background-color: #3B4455;\n",
              "      fill: #D2E3FC;\n",
              "    }\n",
              "\n",
              "    [theme=dark] .colab-df-convert:hover {\n",
              "      background-color: #434B5C;\n",
              "      box-shadow: 0px 1px 3px 1px rgba(0, 0, 0, 0.15);\n",
              "      filter: drop-shadow(0px 1px 2px rgba(0, 0, 0, 0.3));\n",
              "      fill: #FFFFFF;\n",
              "    }\n",
              "  </style>\n",
              "\n",
              "      <script>\n",
              "        const buttonEl =\n",
              "          document.querySelector('#df-92071d4b-9e68-4c8e-9250-23dbcdaaa770 button.colab-df-convert');\n",
              "        buttonEl.style.display =\n",
              "          google.colab.kernel.accessAllowed ? 'block' : 'none';\n",
              "\n",
              "        async function convertToInteractive(key) {\n",
              "          const element = document.querySelector('#df-92071d4b-9e68-4c8e-9250-23dbcdaaa770');\n",
              "          const dataTable =\n",
              "            await google.colab.kernel.invokeFunction('convertToInteractive',\n",
              "                                                     [key], {});\n",
              "          if (!dataTable) return;\n",
              "\n",
              "          const docLinkHtml = 'Like what you see? Visit the ' +\n",
              "            '<a target=\"_blank\" href=https://colab.research.google.com/notebooks/data_table.ipynb>data table notebook</a>'\n",
              "            + ' to learn more about interactive tables.';\n",
              "          element.innerHTML = '';\n",
              "          dataTable['output_type'] = 'display_data';\n",
              "          await google.colab.output.renderOutput(dataTable, element);\n",
              "          const docLink = document.createElement('div');\n",
              "          docLink.innerHTML = docLinkHtml;\n",
              "          element.appendChild(docLink);\n",
              "        }\n",
              "      </script>\n",
              "    </div>\n",
              "  </div>\n"
            ]
          },
          "metadata": {},
          "execution_count": 53
        }
      ]
    },
    {
      "cell_type": "code",
      "source": [
        "df_scouting['kickType'].unique()"
      ],
      "metadata": {
        "colab": {
          "base_uri": "https://localhost:8080/"
        },
        "id": "NGXFtCxvPQl3",
        "outputId": "e0bc1a2f-6331-47fe-9088-e74dcaf2a76a"
      },
      "execution_count": 54,
      "outputs": [
        {
          "output_type": "execute_result",
          "data": {
            "text/plain": [
              "array(['N', 'A', 'R'], dtype=object)"
            ]
          },
          "metadata": {},
          "execution_count": 54
        }
      ]
    },
    {
      "cell_type": "code",
      "source": [
        "df_scouting['kickType'] = df_scouting['kickType'].map({'N':'standard punt style', 'A':'Aussie-style punts', 'R':'Rugby style punt'})"
      ],
      "metadata": {
        "id": "0pBvMUKjPTnT"
      },
      "execution_count": 55,
      "outputs": []
    },
    {
      "cell_type": "code",
      "source": [
        "df_scouting['kickType'].value_counts()"
      ],
      "metadata": {
        "colab": {
          "base_uri": "https://localhost:8080/"
        },
        "id": "0LNwA5YgPWuy",
        "outputId": "3c222ecc-6927-470b-cbc5-14883a92bacb"
      },
      "execution_count": 56,
      "outputs": [
        {
          "output_type": "execute_result",
          "data": {
            "text/plain": [
              "standard punt style    4079\n",
              "Aussie-style punts     1780\n",
              "Rugby style punt          4\n",
              "Name: kickType, dtype: int64"
            ]
          },
          "metadata": {},
          "execution_count": 56
        }
      ]
    },
    {
      "cell_type": "code",
      "source": [
        "px.bar(df_scouting['kickType'].value_counts(), title='Most frequent kick types', labels={'index':'style', 'value':'count'})"
      ],
      "metadata": {
        "colab": {
          "base_uri": "https://localhost:8080/",
          "height": 542
        },
        "id": "dkmfKUA8PZFH",
        "outputId": "2241622a-a6a5-45ce-f4d3-ad2f96c23c82"
      },
      "execution_count": 57,
      "outputs": [
        {
          "output_type": "display_data",
          "data": {
            "text/html": [
              "<html>\n",
              "<head><meta charset=\"utf-8\" /></head>\n",
              "<body>\n",
              "    <div>            <script src=\"https://cdnjs.cloudflare.com/ajax/libs/mathjax/2.7.5/MathJax.js?config=TeX-AMS-MML_SVG\"></script><script type=\"text/javascript\">if (window.MathJax && window.MathJax.Hub && window.MathJax.Hub.Config) {window.MathJax.Hub.Config({SVG: {font: \"STIX-Web\"}});}</script>                <script type=\"text/javascript\">window.PlotlyConfig = {MathJaxConfig: 'local'};</script>\n",
              "        <script charset=\"utf-8\" src=\"https://cdn.plot.ly/plotly-2.24.1.min.js\"></script>                <div id=\"d1c07d4f-ee95-4a99-a87e-775bd7652b90\" class=\"plotly-graph-div\" style=\"height:525px; width:100%;\"></div>            <script type=\"text/javascript\">                                    window.PLOTLYENV=window.PLOTLYENV || {};                                    if (document.getElementById(\"d1c07d4f-ee95-4a99-a87e-775bd7652b90\")) {                    Plotly.newPlot(                        \"d1c07d4f-ee95-4a99-a87e-775bd7652b90\",                        [{\"alignmentgroup\":\"True\",\"hovertemplate\":\"variable=kickType\\u003cbr\\u003estyle=%{x}\\u003cbr\\u003ecount=%{y}\\u003cextra\\u003e\\u003c\\u002fextra\\u003e\",\"legendgroup\":\"kickType\",\"marker\":{\"color\":\"#636efa\",\"pattern\":{\"shape\":\"\"}},\"name\":\"kickType\",\"offsetgroup\":\"kickType\",\"orientation\":\"v\",\"showlegend\":true,\"textposition\":\"auto\",\"x\":[\"standard punt style\",\"Aussie-style punts\",\"Rugby style punt\"],\"xaxis\":\"x\",\"y\":[4079,1780,4],\"yaxis\":\"y\",\"type\":\"bar\"}],                        {\"template\":{\"data\":{\"histogram2dcontour\":[{\"type\":\"histogram2dcontour\",\"colorbar\":{\"outlinewidth\":0,\"ticks\":\"\"},\"colorscale\":[[0.0,\"#0d0887\"],[0.1111111111111111,\"#46039f\"],[0.2222222222222222,\"#7201a8\"],[0.3333333333333333,\"#9c179e\"],[0.4444444444444444,\"#bd3786\"],[0.5555555555555556,\"#d8576b\"],[0.6666666666666666,\"#ed7953\"],[0.7777777777777778,\"#fb9f3a\"],[0.8888888888888888,\"#fdca26\"],[1.0,\"#f0f921\"]]}],\"choropleth\":[{\"type\":\"choropleth\",\"colorbar\":{\"outlinewidth\":0,\"ticks\":\"\"}}],\"histogram2d\":[{\"type\":\"histogram2d\",\"colorbar\":{\"outlinewidth\":0,\"ticks\":\"\"},\"colorscale\":[[0.0,\"#0d0887\"],[0.1111111111111111,\"#46039f\"],[0.2222222222222222,\"#7201a8\"],[0.3333333333333333,\"#9c179e\"],[0.4444444444444444,\"#bd3786\"],[0.5555555555555556,\"#d8576b\"],[0.6666666666666666,\"#ed7953\"],[0.7777777777777778,\"#fb9f3a\"],[0.8888888888888888,\"#fdca26\"],[1.0,\"#f0f921\"]]}],\"heatmap\":[{\"type\":\"heatmap\",\"colorbar\":{\"outlinewidth\":0,\"ticks\":\"\"},\"colorscale\":[[0.0,\"#0d0887\"],[0.1111111111111111,\"#46039f\"],[0.2222222222222222,\"#7201a8\"],[0.3333333333333333,\"#9c179e\"],[0.4444444444444444,\"#bd3786\"],[0.5555555555555556,\"#d8576b\"],[0.6666666666666666,\"#ed7953\"],[0.7777777777777778,\"#fb9f3a\"],[0.8888888888888888,\"#fdca26\"],[1.0,\"#f0f921\"]]}],\"heatmapgl\":[{\"type\":\"heatmapgl\",\"colorbar\":{\"outlinewidth\":0,\"ticks\":\"\"},\"colorscale\":[[0.0,\"#0d0887\"],[0.1111111111111111,\"#46039f\"],[0.2222222222222222,\"#7201a8\"],[0.3333333333333333,\"#9c179e\"],[0.4444444444444444,\"#bd3786\"],[0.5555555555555556,\"#d8576b\"],[0.6666666666666666,\"#ed7953\"],[0.7777777777777778,\"#fb9f3a\"],[0.8888888888888888,\"#fdca26\"],[1.0,\"#f0f921\"]]}],\"contourcarpet\":[{\"type\":\"contourcarpet\",\"colorbar\":{\"outlinewidth\":0,\"ticks\":\"\"}}],\"contour\":[{\"type\":\"contour\",\"colorbar\":{\"outlinewidth\":0,\"ticks\":\"\"},\"colorscale\":[[0.0,\"#0d0887\"],[0.1111111111111111,\"#46039f\"],[0.2222222222222222,\"#7201a8\"],[0.3333333333333333,\"#9c179e\"],[0.4444444444444444,\"#bd3786\"],[0.5555555555555556,\"#d8576b\"],[0.6666666666666666,\"#ed7953\"],[0.7777777777777778,\"#fb9f3a\"],[0.8888888888888888,\"#fdca26\"],[1.0,\"#f0f921\"]]}],\"surface\":[{\"type\":\"surface\",\"colorbar\":{\"outlinewidth\":0,\"ticks\":\"\"},\"colorscale\":[[0.0,\"#0d0887\"],[0.1111111111111111,\"#46039f\"],[0.2222222222222222,\"#7201a8\"],[0.3333333333333333,\"#9c179e\"],[0.4444444444444444,\"#bd3786\"],[0.5555555555555556,\"#d8576b\"],[0.6666666666666666,\"#ed7953\"],[0.7777777777777778,\"#fb9f3a\"],[0.8888888888888888,\"#fdca26\"],[1.0,\"#f0f921\"]]}],\"mesh3d\":[{\"type\":\"mesh3d\",\"colorbar\":{\"outlinewidth\":0,\"ticks\":\"\"}}],\"scatter\":[{\"fillpattern\":{\"fillmode\":\"overlay\",\"size\":10,\"solidity\":0.2},\"type\":\"scatter\"}],\"parcoords\":[{\"type\":\"parcoords\",\"line\":{\"colorbar\":{\"outlinewidth\":0,\"ticks\":\"\"}}}],\"scatterpolargl\":[{\"type\":\"scatterpolargl\",\"marker\":{\"colorbar\":{\"outlinewidth\":0,\"ticks\":\"\"}}}],\"bar\":[{\"error_x\":{\"color\":\"#2a3f5f\"},\"error_y\":{\"color\":\"#2a3f5f\"},\"marker\":{\"line\":{\"color\":\"#E5ECF6\",\"width\":0.5},\"pattern\":{\"fillmode\":\"overlay\",\"size\":10,\"solidity\":0.2}},\"type\":\"bar\"}],\"scattergeo\":[{\"type\":\"scattergeo\",\"marker\":{\"colorbar\":{\"outlinewidth\":0,\"ticks\":\"\"}}}],\"scatterpolar\":[{\"type\":\"scatterpolar\",\"marker\":{\"colorbar\":{\"outlinewidth\":0,\"ticks\":\"\"}}}],\"histogram\":[{\"marker\":{\"pattern\":{\"fillmode\":\"overlay\",\"size\":10,\"solidity\":0.2}},\"type\":\"histogram\"}],\"scattergl\":[{\"type\":\"scattergl\",\"marker\":{\"colorbar\":{\"outlinewidth\":0,\"ticks\":\"\"}}}],\"scatter3d\":[{\"type\":\"scatter3d\",\"line\":{\"colorbar\":{\"outlinewidth\":0,\"ticks\":\"\"}},\"marker\":{\"colorbar\":{\"outlinewidth\":0,\"ticks\":\"\"}}}],\"scattermapbox\":[{\"type\":\"scattermapbox\",\"marker\":{\"colorbar\":{\"outlinewidth\":0,\"ticks\":\"\"}}}],\"scatterternary\":[{\"type\":\"scatterternary\",\"marker\":{\"colorbar\":{\"outlinewidth\":0,\"ticks\":\"\"}}}],\"scattercarpet\":[{\"type\":\"scattercarpet\",\"marker\":{\"colorbar\":{\"outlinewidth\":0,\"ticks\":\"\"}}}],\"carpet\":[{\"aaxis\":{\"endlinecolor\":\"#2a3f5f\",\"gridcolor\":\"white\",\"linecolor\":\"white\",\"minorgridcolor\":\"white\",\"startlinecolor\":\"#2a3f5f\"},\"baxis\":{\"endlinecolor\":\"#2a3f5f\",\"gridcolor\":\"white\",\"linecolor\":\"white\",\"minorgridcolor\":\"white\",\"startlinecolor\":\"#2a3f5f\"},\"type\":\"carpet\"}],\"table\":[{\"cells\":{\"fill\":{\"color\":\"#EBF0F8\"},\"line\":{\"color\":\"white\"}},\"header\":{\"fill\":{\"color\":\"#C8D4E3\"},\"line\":{\"color\":\"white\"}},\"type\":\"table\"}],\"barpolar\":[{\"marker\":{\"line\":{\"color\":\"#E5ECF6\",\"width\":0.5},\"pattern\":{\"fillmode\":\"overlay\",\"size\":10,\"solidity\":0.2}},\"type\":\"barpolar\"}],\"pie\":[{\"automargin\":true,\"type\":\"pie\"}]},\"layout\":{\"autotypenumbers\":\"strict\",\"colorway\":[\"#636efa\",\"#EF553B\",\"#00cc96\",\"#ab63fa\",\"#FFA15A\",\"#19d3f3\",\"#FF6692\",\"#B6E880\",\"#FF97FF\",\"#FECB52\"],\"font\":{\"color\":\"#2a3f5f\"},\"hovermode\":\"closest\",\"hoverlabel\":{\"align\":\"left\"},\"paper_bgcolor\":\"white\",\"plot_bgcolor\":\"#E5ECF6\",\"polar\":{\"bgcolor\":\"#E5ECF6\",\"angularaxis\":{\"gridcolor\":\"white\",\"linecolor\":\"white\",\"ticks\":\"\"},\"radialaxis\":{\"gridcolor\":\"white\",\"linecolor\":\"white\",\"ticks\":\"\"}},\"ternary\":{\"bgcolor\":\"#E5ECF6\",\"aaxis\":{\"gridcolor\":\"white\",\"linecolor\":\"white\",\"ticks\":\"\"},\"baxis\":{\"gridcolor\":\"white\",\"linecolor\":\"white\",\"ticks\":\"\"},\"caxis\":{\"gridcolor\":\"white\",\"linecolor\":\"white\",\"ticks\":\"\"}},\"coloraxis\":{\"colorbar\":{\"outlinewidth\":0,\"ticks\":\"\"}},\"colorscale\":{\"sequential\":[[0.0,\"#0d0887\"],[0.1111111111111111,\"#46039f\"],[0.2222222222222222,\"#7201a8\"],[0.3333333333333333,\"#9c179e\"],[0.4444444444444444,\"#bd3786\"],[0.5555555555555556,\"#d8576b\"],[0.6666666666666666,\"#ed7953\"],[0.7777777777777778,\"#fb9f3a\"],[0.8888888888888888,\"#fdca26\"],[1.0,\"#f0f921\"]],\"sequentialminus\":[[0.0,\"#0d0887\"],[0.1111111111111111,\"#46039f\"],[0.2222222222222222,\"#7201a8\"],[0.3333333333333333,\"#9c179e\"],[0.4444444444444444,\"#bd3786\"],[0.5555555555555556,\"#d8576b\"],[0.6666666666666666,\"#ed7953\"],[0.7777777777777778,\"#fb9f3a\"],[0.8888888888888888,\"#fdca26\"],[1.0,\"#f0f921\"]],\"diverging\":[[0,\"#8e0152\"],[0.1,\"#c51b7d\"],[0.2,\"#de77ae\"],[0.3,\"#f1b6da\"],[0.4,\"#fde0ef\"],[0.5,\"#f7f7f7\"],[0.6,\"#e6f5d0\"],[0.7,\"#b8e186\"],[0.8,\"#7fbc41\"],[0.9,\"#4d9221\"],[1,\"#276419\"]]},\"xaxis\":{\"gridcolor\":\"white\",\"linecolor\":\"white\",\"ticks\":\"\",\"title\":{\"standoff\":15},\"zerolinecolor\":\"white\",\"automargin\":true,\"zerolinewidth\":2},\"yaxis\":{\"gridcolor\":\"white\",\"linecolor\":\"white\",\"ticks\":\"\",\"title\":{\"standoff\":15},\"zerolinecolor\":\"white\",\"automargin\":true,\"zerolinewidth\":2},\"scene\":{\"xaxis\":{\"backgroundcolor\":\"#E5ECF6\",\"gridcolor\":\"white\",\"linecolor\":\"white\",\"showbackground\":true,\"ticks\":\"\",\"zerolinecolor\":\"white\",\"gridwidth\":2},\"yaxis\":{\"backgroundcolor\":\"#E5ECF6\",\"gridcolor\":\"white\",\"linecolor\":\"white\",\"showbackground\":true,\"ticks\":\"\",\"zerolinecolor\":\"white\",\"gridwidth\":2},\"zaxis\":{\"backgroundcolor\":\"#E5ECF6\",\"gridcolor\":\"white\",\"linecolor\":\"white\",\"showbackground\":true,\"ticks\":\"\",\"zerolinecolor\":\"white\",\"gridwidth\":2}},\"shapedefaults\":{\"line\":{\"color\":\"#2a3f5f\"}},\"annotationdefaults\":{\"arrowcolor\":\"#2a3f5f\",\"arrowhead\":0,\"arrowwidth\":1},\"geo\":{\"bgcolor\":\"white\",\"landcolor\":\"#E5ECF6\",\"subunitcolor\":\"white\",\"showland\":true,\"showlakes\":true,\"lakecolor\":\"white\"},\"title\":{\"x\":0.05},\"mapbox\":{\"style\":\"light\"}}},\"xaxis\":{\"anchor\":\"y\",\"domain\":[0.0,1.0],\"title\":{\"text\":\"style\"}},\"yaxis\":{\"anchor\":\"x\",\"domain\":[0.0,1.0],\"title\":{\"text\":\"count\"}},\"legend\":{\"title\":{\"text\":\"variable\"},\"tracegroupgap\":0},\"title\":{\"text\":\"Most frequent kick types\"},\"barmode\":\"relative\"},                        {\"responsive\": true}                    ).then(function(){\n",
              "                            \n",
              "var gd = document.getElementById('d1c07d4f-ee95-4a99-a87e-775bd7652b90');\n",
              "var x = new MutationObserver(function (mutations, observer) {{\n",
              "        var display = window.getComputedStyle(gd).display;\n",
              "        if (!display || display === 'none') {{\n",
              "            console.log([gd, 'removed!']);\n",
              "            Plotly.purge(gd);\n",
              "            observer.disconnect();\n",
              "        }}\n",
              "}});\n",
              "\n",
              "// Listen for the removal of the full notebook cells\n",
              "var notebookContainer = gd.closest('#notebook-container');\n",
              "if (notebookContainer) {{\n",
              "    x.observe(notebookContainer, {childList: true});\n",
              "}}\n",
              "\n",
              "// Listen for the clearing of the current output cell\n",
              "var outputEl = gd.closest('.output');\n",
              "if (outputEl) {{\n",
              "    x.observe(outputEl, {childList: true});\n",
              "}}\n",
              "\n",
              "                        })                };                            </script>        </div>\n",
              "</body>\n",
              "</html>"
            ]
          },
          "metadata": {}
        }
      ]
    },
    {
      "cell_type": "code",
      "source": [
        "df_scouting[df_scouting['kickDirectionActual']!=df_scouting['kickDirectionIntended']].shape[0]"
      ],
      "metadata": {
        "colab": {
          "base_uri": "https://localhost:8080/"
        },
        "id": "uhlEMwIkP1yM",
        "outputId": "24c4a0a3-d17c-442e-dbf3-0799afbf0b65"
      },
      "execution_count": 58,
      "outputs": [
        {
          "output_type": "execute_result",
          "data": {
            "text/plain": [
              "191"
            ]
          },
          "metadata": {},
          "execution_count": 58
        }
      ]
    },
    {
      "cell_type": "code",
      "source": [
        "Actual_Intend_direction = pd.pivot_table(data=df_scouting, index=['kickDirectionIntended'],\n",
        "                                         columns='kickDirectionActual', values='gameId', aggfunc='count').fillna(0)"
      ],
      "metadata": {
        "id": "5lWlBfVOQKdV"
      },
      "execution_count": 59,
      "outputs": []
    },
    {
      "cell_type": "code",
      "source": [
        "plt.figure(figsize=(7,5))\n",
        "sns.heatmap(Actual_Intend_direction, cmap='Blues', annot=True);"
      ],
      "metadata": {
        "colab": {
          "base_uri": "https://localhost:8080/",
          "height": 473
        },
        "id": "GTAAHWXBQPMO",
        "outputId": "3d05c0e6-ce9f-449b-d997-455f1791dd20"
      },
      "execution_count": 60,
      "outputs": [
        {
          "output_type": "display_data",
          "data": {
            "text/plain": [
              "<Figure size 700x500 with 2 Axes>"
            ],
            "image/png": "[encoded data removed]"
          },
          "metadata": {}
        }
      ]
    },
    {
      "cell_type": "code",
      "source": [
        "px.scatter(data_frame=df_scouting, x='operationTime', y='hangTime', marginal_x='histogram', marginal_y='histogram')"
      ],
      "metadata": {
        "colab": {
          "base_uri": "https://localhost:8080/",
          "height": 542
        },
        "id": "AoOZ-wFKQSgo",
        "outputId": "b64a2d42-b2ee-421c-db4c-24ce25541112"
      },
      "execution_count": 61,
      "outputs": [
        {
          "output_type": "display_data",
          "data": {
            "text/html": [
              "<html>\n",
              "<head><meta charset=\"utf-8\" /></head>\n",
              "<body>\n",
              "    <div>            <script src=\"https://cdnjs.cloudflare.com/ajax/libs/mathjax/2.7.5/MathJax.js?config=TeX-AMS-MML_SVG\"></script><script type=\"text/javascript\">if (window.MathJax && window.MathJax.Hub && window.MathJax.Hub.Config) {window.MathJax.Hub.Config({SVG: {font: \"STIX-Web\"}});}</script>                <script type=\"text/javascript\">window.PlotlyConfig = {MathJaxConfig: 'local'};</script>\n",
              "        <script charset=\"utf-8\" src=\"https://cdn.plot.ly/plotly-2.24.1.min.js\"></script>                <div id=\"e0510ce7-e118-4974-82be-6c88bb0ef1c4\" class=\"plotly-graph-div\" style=\"height:525px; width:100%;\"></div>            <script type=\"text/javascript\">                                    window.PLOTLYENV=window.PLOTLYENV || {};                                    if (document.getElementById(\"e0510ce7-e118-4974-82be-6c88bb0ef1c4\")) {                    Plotly.newPlot(                        \"e0510ce7-e118-4974-82be-6c88bb0ef1c4\",                        [{\"hovertemplate\":\"operationTime=%{x}\\u003cbr\\u003ehangTime=%{y}\\u003cextra\\u003e\\u003c\\u002fextra\\u003e\",\"legendgroup\":\"\",\"marker\":{\"color\":\"#636efa\",\"symbol\":\"circle\"},\"mode\":\"markers\",\"name\":\"\",\"showlegend\":false,\"x\":[2.12,2.0,2.19,2.0,2.12,2.04,2.35,2.1,2.12,2.03,2.09,2.11,2.15,2.03,2.05,2.16,2.25,2.2,2.1,2.21,2.25,2.25,2.08,2.25,2.22,2.07,2.26,2.17,2.19,2.06,2.06,2.25,2.14,2.28,2.3,2.37,2.09,2.31,2.28,2.17,2.27,2.23,2.14,2.21,2.19,2.25,2.05,2.05,2.07,2.11,2.33,2.18,1.49,2.31,2.12,2.2,2.27,2.23,2.14,2.09,2.1,2.24,2.04,1.98,2.13,2.07,2.17,2.23,2.21,2.36,2.24,2.26,2.32,2.12,2.31,2.19,2.28,2.43,2.09,2.07,1.94,1.99,2.15,2.12,2.02,2.03,2.08,2.03,2.07,2.17,2.16,2.11,2.14,2.23,2.25,2.16,2.2,2.17,2.15,2.22,2.08,2.18,2.03,2.28,2.22,2.1,2.29,2.04,2.24,2.03,2.24,1.98,2.27,2.29,2.05,2.17,1.98,2.36,2.19,2.06,2.32,2.19,2.1,2.01,2.33,2.21,2.26,2.17,2.21,2.1,2.26,2.23,2.12,2.15,2.29,2.32,2.27,2.26,2.17,2.23,2.08,2.33,2.31,2.35,2.18,1.97,2.13,2.23,2.23,2.11,2.15,2.05,2.12,2.26,2.06,2.05,2.07,2.04,2.19,2.16,2.05,2.07,2.23,2.01,1.98,1.86,1.99,2.04,2.09,2.12,2.13,2.22,2.19,2.09,2.1,2.23,2.31,2.29,2.03,1.97,2.15,2.11,2.05,2.08,1.94,2.07,2.13,2.08,2.07,2.14,2.04,2.11,2.05,1.99,2.08,2.01,2.01,2.03,2.14,2.06,2.09,2.19,2.06,2.01,2.11,2.25,2.12,2.19,1.93,2.19,2.14,2.18,2.19,2.12,2.24,2.23,2.01,2.18,2.36,2.05,2.28,2.09,2.12,2.25,2.23,2.1,2.15,2.13,2.09,2.12,2.06,2.16,2.07,2.09,1.97,2.15,2.15,2.32,2.35,2.2,1.98,2.15,2.18,2.18,2.07,2.18,2.1,2.23,2.12,2.14,2.09,2.01,2.01,2.06,2.17,1.85,1.96,2.04,2.2,2.01,2.08,1.9,2.06,1.87,2.08,2.07,2.1,2.04,1.95,2.31,2.0,2.23,1.65,1.94,2.16,2.1,2.29,2.06,2.26,2.16,2.02,2.24,2.24,2.05,2.17,2.06,2.19,2.31,2.2,2.27,2.24,2.05,2.15,2.18,2.22,2.07,2.21,2.01,2.12,2.12,2.29,2.02,2.13,2.24,2.14,2.08,2.13,2.41,2.29,2.26,2.27,2.13,2.04,2.03,2.03,2.06,2.2,2.06,2.15,2.13,1.97,2.19,1.88,2.14,2.1,2.16,2.19,2.03,2.1,2.13,2.11,2.13,1.8,1.9,2.1,2.07,2.16,2.25,2.11,2.19,2.18,2.13,2.16,2.08,2.13,2.19,2.28,2.15,2.02,2.18,2.21,2.06,2.2,2.14,2.07,2.15,2.02,2.28,2.06,2.29,2.28,2.09,2.16,2.36,2.08,2.4,2.0,2.34,2.17,2.22,2.27,2.14,2.1,1.89,2.08,2.15,2.03,2.19,1.91,1.94,2.1,1.91,2.06,2.05,2.01,1.99,2.09,1.97,2.01,1.95,2.16,2.45,2.2,2.13,2.24,2.25,2.0,2.18,2.03,2.09,2.2,2.16,2.15,2.18,2.17,2.14,1.95,2.06,2.46,2.17,2.14,2.31,2.1,2.09,2.12,2.05,2.14,2.11,2.03,2.05,2.09,2.09,2.1,2.05,2.12,2.11,2.32,2.21,2.05,2.11,2.0,2.3,2.25,2.25,2.32,2.18,2.15,2.01,2.21,2.08,2.09,1.95,2.21,1.94,2.25,2.0,2.04,2.13,1.99,2.03,2.01,2.08,1.9,2.1,2.07,2.08,1.99,2.19,2.15,1.93,2.19,2.19,2.19,2.14,2.16,1.99,2.02,2.12,2.08,2.14,2.0,2.03,1.98,2.06,2.11,1.97,2.02,2.17,2.04,2.16,2.12,2.12,2.24,1.93,2.02,2.21,2.07,2.14,2.27,2.27,2.25,2.03,2.24,2.13,2.06,2.18,2.16,2.02,2.27,2.11,2.2,2.16,1.99,1.91,2.2,2.16,1.99,2.08,2.23,2.43,2.22,2.17,2.2,2.18,2.18,2.13,2.15,2.19,2.07,2.16,2.17,2.18,2.23,2.0,2.11,1.82,2.13,2.14,2.11,2.25,2.26,2.23,2.23,2.36,2.05,2.07,2.0,2.11,2.01,2.1,2.24,2.05,2.16,2.25,2.08,2.04,2.19,2.04,1.85,2.19,2.24,2.1,2.09,2.09,2.11,2.06,2.1,2.03,2.15,2.15,2.13,2.21,2.09,2.04,2.09,2.09,2.17,2.0,2.11,2.08,2.09,2.03,2.02,2.12,2.24,2.02,2.32,2.26,2.21,2.24,2.07,2.1,2.06,2.1,1.97,2.04,2.05,2.11,2.04,2.15,1.87,2.23,2.24,2.21,2.27,2.24,1.89,2.17,2.19,2.35,2.08,2.11,2.05,2.09,2.08,2.06,2.21,2.11,2.17,2.18,1.98,2.15,2.15,2.25,2.12,2.16,2.06,1.96,2.27,2.01,2.02,2.17,1.94,1.76,1.98,2.06,2.0,2.06,2.01,2.23,2.06,2.04,2.09,2.16,2.35,2.26,2.21,2.17,2.04,2.31,2.55,2.02,2.14,2.13,2.03,2.18,2.29,2.19,2.12,2.07,2.31,2.2,2.2,2.2,2.25,2.18,2.2,2.05,2.22,2.07,2.1,2.2,2.09,2.17,2.21,2.08,2.31,2.04,2.12,2.27,2.11,2.06,2.19,2.1,2.07,1.98,2.09,2.01,2.0,2.27,2.07,2.1,1.92,2.1,2.17,2.14,2.26,2.22,2.07,2.0,1.82,2.09,2.2,2.12,2.06,2.2,2.14,2.28,2.22,1.84,1.88,2.17,2.0,2.13,2.02,2.1,2.07,2.03,1.66,2.07,2.06,2.11,2.07,2.19,2.22,2.24,2.07,2.25,2.04,2.19,2.31,2.11,2.32,2.21,2.28,2.13,2.13,2.11,2.08,2.1,2.09,2.06,2.12,2.18,2.14,2.09,2.13,2.16,1.98,2.4,2.05,2.22,2.2,2.22,2.13,2.34,2.01,2.19,2.11,2.15,2.15,2.16,2.23,2.13,2.19,2.02,2.22,2.13,2.06,2.06,2.13,2.23,2.01,2.22,2.21,2.0,2.08,2.05,2.25,2.23,2.24,2.27,2.17,2.16,2.36,2.3,2.06,2.17,2.04,2.14,2.05,2.19,2.13,2.13,2.16,2.17,2.17,1.98,2.3,2.22,1.93,2.27,1.93,1.84,1.82,1.92,2.22,2.01,2.33,2.26,2.27,2.2,2.09,2.27,2.07,2.18,2.14,1.82,2.16,2.09,2.1,3.2,2.21,2.15,2.04,2.1,2.18,1.8,2.04,2.21,2.05,2.15,2.13,2.05,2.17,2.14,2.11,2.06,2.11,2.01,2.01,2.05,2.12,2.08,2.06,2.01,2.19,2.02,1.99,2.03,2.12,2.07,2.0,2.12,2.06,2.12,1.98,2.12,2.06,2.21,2.16,2.09,2.06,2.06,2.39,1.9,2.29,2.1,2.27,1.83,2.04,2.22,2.15,2.28,2.42,2.22,2.3,2.33,2.06,2.15,1.76,2.04,1.9,2.09,2.04,2.71,1.71,2.13,2.03,2.0,2.09,2.07,2.14,2.12,2.05,2.11,2.04,2.14,2.07,2.07,2.08,2.01,2.2,2.09,2.14,2.12,2.16,2.16,2.15,2.05,2.0,2.13,2.09,2.11,2.26,2.12,2.01,2.1,2.15,1.92,2.2,2.04,2.16,2.18,1.98,1.93,1.85,2.19,2.14,2.14,2.15,2.16,2.11,2.14,2.07,2.12,2.31,2.17,2.07,2.09,2.2,2.12,1.86,2.26,2.05,2.16,2.0,2.21,2.05,2.0,2.09,2.19,2.26,2.05,2.12,2.22,2.12,2.14,2.02,1.86,2.02,2.02,1.88,2.0,2.21,2.15,2.07,2.19,2.22,2.18,2.16,2.15,2.03,2.24,2.07,2.09,2.13,2.07,2.08,2.02,2.12,2.06,2.24,2.0,2.15,2.04,2.02,2.51,2.0,2.21,2.13,2.09,2.24,2.05,2.03,2.09,2.07,2.15,2.13,2.04,2.02,2.21,2.07,2.13,2.15,2.08,2.16,2.03,2.05,2.11,2.14,2.05,2.06,2.11,2.14,2.13,2.2,2.08,2.13,2.08,2.12,2.1,2.04,2.13,2.13,2.08,2.09,2.11,1.98,2.15,2.11,2.11,2.15,2.02,2.07,2.12,2.1,2.23,1.93,2.02,2.28,2.12,2.18,2.07,2.25,1.86,2.13,2.15,2.19,2.36,2.16,2.26,1.97,2.15,1.95,2.19,2.07,2.08,2.07,2.26,2.45,2.09,2.17,2.17,2.15,2.02,2.08,2.11,2.13,2.15,2.03,2.17,2.0,1.92,2.04,2.21,2.06,2.06,2.17,2.06,2.04,2.13,2.1,2.21,2.13,2.04,2.07,2.18,2.25,2.24,2.17,2.24,2.3,2.09,2.25,2.17,2.08,2.01,2.13,2.07,2.21,2.13,2.15,2.15,2.15,2.19,2.27,1.99,2.14,2.12,2.07,2.15,1.86,1.9,2.15,2.17,2.14,2.17,2.08,2.29,2.23,2.22,2.17,2.14,2.03,2.08,2.21,1.97,2.18,2.17,2.32,2.32,2.2,2.22,2.25,2.32,2.0,2.19,2.12,2.03,2.24,2.29,2.19,2.23,2.12,2.11,2.02,2.09,2.17,2.19,2.15,2.17,2.06,2.09,2.19,2.1,2.04,2.09,2.06,1.94,1.76,2.19,2.1,2.03,2.28,2.2,2.13,2.16,2.2,2.09,2.22,2.17,2.07,2.08,2.16,2.13,2.2,2.18,2.12,1.94,2.12,1.96,1.93,2.35,2.09,2.14,2.2,2.17,2.2,2.01,2.2,2.2,2.15,2.01,2.04,2.06,2.11,2.15,2.04,2.15,2.15,2.31,2.21,2.02,2.09,1.99,2.34,2.09,2.23,2.18,2.08,2.11,2.15,2.25,2.23,2.18,2.21,2.09,2.19,2.09,2.02,2.2,1.98,2.15,2.08,2.02,2.15,2.21,2.14,2.23,2.16,2.16,2.1,2.01,2.05,2.05,2.17,2.07,2.07,2.26,2.08,2.07,2.08,2.33,1.99,2.06,2.06,2.1,2.28,2.26,2.19,2.07,2.09,2.15,2.17,2.1,2.07,2.15,2.2,2.04,2.2,2.16,2.11,2.12,2.14,2.1,2.07,2.08,2.3,2.52,2.15,2.13,1.77,2.09,2.03,2.07,2.06,2.03,2.13,2.09,2.0,2.11,1.97,1.93,2.18,2.33,2.2,2.27,2.18,2.28,2.12,2.0,2.08,2.11,2.08,2.18,2.17,2.0,2.13,2.19,2.18,2.24,2.1,2.1,2.23,2.3,2.12,2.09,2.24,2.07,2.26,2.0,2.14,2.02,1.99,2.14,2.22,2.05,2.21,2.2,2.04,2.2,2.04,2.03,2.02,2.07,2.0,2.09,2.29,2.18,2.28,2.2,2.2,2.17,2.05,2.15,2.1,2.05,2.25,2.05,2.1,2.1,2.23,2.13,2.14,2.1,2.13,2.22,2.3,2.23,2.28,2.43,2.0,2.04,2.0,2.28,1.94,2.19,2.28,2.18,2.0,2.17,2.01,2.01,2.0,2.15,2.14,2.09,2.23,2.1,2.17,2.08,2.39,2.07,2.22,2.12,2.24,2.0,2.13,2.07,2.09,2.19,2.19,2.19,2.21,2.12,2.19,2.06,2.01,2.06,2.14,2.05,2.07,2.0,2.02,2.07,2.07,2.17,2.16,2.13,2.04,2.09,2.27,2.24,2.2,2.14,2.08,2.28,2.05,1.96,2.28,2.05,2.13,2.0,2.17,2.08,2.03,2.07,2.23,2.13,2.11,2.22,2.13,2.05,2.14,2.06,1.95,2.08,2.18,2.0,2.07,2.18,1.83,2.24,2.05,2.3,2.21,2.07,2.11,2.32,2.15,2.28,2.19,2.24,2.38,2.47,2.04,2.15,2.12,2.24,2.09,2.32,2.21,2.22,2.19,2.29,2.08,2.12,1.93,2.19,2.08,2.24,2.26,2.06,2.11,2.12,2.07,2.16,2.42,2.27,2.24,2.29,2.29,2.18,2.26,2.09,2.31,2.38,2.17,2.2,2.07,2.06,2.07,2.06,1.98,2.28,2.13,2.13,2.03,2.05,2.15,2.25,2.21,2.17,2.19,2.11,2.16,2.15,2.06,1.98,2.17,2.24,2.22,2.05,2.19,2.24,2.14,2.19,2.08,2.16,2.16,2.16,2.24,2.16,2.22,2.23,2.29,2.27,2.08,2.12,2.16,2.13,2.11,2.2,2.36,2.18,2.13,2.22,2.2,1.99,2.13,2.03,2.11,2.05,2.08,2.1,1.91,2.19,2.08,2.23,2.2,2.17,2.07,2.11,2.2,2.11,1.98,2.18,2.16,2.1,2.23,2.25,2.02,2.0,2.01,2.23,2.07,2.0,2.24,2.18,2.15,2.07,2.05,1.97,2.0,2.1,2.06,1.98,2.15,2.04,2.06,2.09,2.02,2.09,1.88,2.12,2.11,1.88,2.06,2.16,2.26,2.21,2.35,2.11,2.32,2.29,2.14,2.21,2.07,2.14,2.15,2.28,2.43,2.23,2.26,2.27,2.14,2.14,2.12,1.92,2.1,2.32,2.14,2.13,2.23,2.19,2.2,2.24,2.25,2.27,2.31,2.23,2.15,2.18,2.16,2.12,2.02,2.11,2.1,2.13,2.04,2.14,2.08,2.2,2.16,2.11,2.1,2.08,2.09,2.14,2.19,2.2,2.22,2.09,2.06,2.17,2.05,2.09,2.03,2.11,2.09,2.06,2.15,2.06,2.09,2.22,2.18,2.14,2.06,2.05,2.12,2.14,2.23,2.17,2.26,2.22,2.23,2.05,2.13,2.22,2.17,2.1,2.09,2.1,1.98,2.04,2.03,1.97,2.03,2.08,2.07,2.12,1.94,2.08,2.13,2.11,2.16,2.14,2.06,2.13,2.23,2.1,2.16,2.16,2.17,2.17,1.94,2.12,2.06,1.97,2.08,2.16,2.11,2.12,2.03,2.2,2.19,2.2,2.11,2.18,2.25,2.26,2.11,1.99,2.04,2.12,2.09,2.12,2.05,2.16,1.94,1.73,2.07,2.26,2.15,2.18,2.09,2.09,2.24,2.11,2.14,2.02,2.1,2.08,2.12,2.09,2.35,2.14,1.96,2.13,2.12,2.15,2.27,2.07,2.32,2.11,2.24,2.21,2.22,2.31,2.22,2.31,2.17,2.24,2.12,2.21,2.25,2.16,2.14,2.22,2.09,2.16,2.12,2.2,2.11,2.15,2.01,2.06,2.21,2.03,2.16,2.16,1.97,2.16,2.18,2.19,2.1,2.17,2.13,2.14,2.06,2.15,2.11,2.16,2.17,2.12,2.09,2.16,2.22,2.17,2.11,2.2,2.22,2.15,2.16,2.23,2.24,2.1,2.21,2.27,1.99,2.17,2.17,2.27,2.16,2.4,2.14,2.14,2.0,2.04,2.22,2.25,1.99,2.32,2.23,2.42,2.26,2.14,2.33,2.3,2.38,2.21,2.22,2.33,2.21,2.42,2.03,2.07,2.15,1.98,2.04,2.11,2.03,2.07,1.95,2.17,1.98,2.07,2.24,2.08,2.26,2.15,2.13,2.21,2.16,2.23,2.09,2.25,2.13,1.95,1.98,2.0,2.11,2.1,2.08,2.14,2.14,2.09,2.08,2.18,1.92,2.31,2.13,2.11,2.29,2.15,2.01,2.23,2.21,2.13,2.27,2.27,2.14,2.24,2.19,2.21,2.12,2.21,2.25,2.0,2.23,2.01,2.12,2.18,2.28,2.2,2.05,2.14,2.13,2.11,2.3,2.17,2.11,2.24,2.16,2.38,2.26,2.19,2.26,2.02,2.26,2.3,2.14,2.27,2.15,2.23,2.18,2.23,2.29,2.13,2.13,2.28,1.85,2.08,2.08,2.05,1.91,2.14,2.12,2.09,2.19,2.2,2.15,2.17,2.0,2.11,2.2,2.14,2.3,2.15,2.16,2.26,2.16,2.17,2.14,2.19,2.09,2.13,2.14,2.18,2.25,2.14,2.14,2.16,1.93,2.07,2.2,2.04,1.98,2.1,1.99,2.1,2.08,2.05,2.23,2.11,2.21,2.17,2.21,2.12,2.12,2.21,2.12,2.02,2.12,2.11,2.2,2.16,2.13,2.23,2.18,2.12,2.13,2.19,2.01,2.17,2.09,2.46,2.06,2.39,2.1,2.24,2.21,2.1,2.3,2.14,2.07,1.98,2.16,2.1,2.16,2.16,2.18,2.13,2.3,2.13,2.11,2.16,2.19,2.16,2.15,2.17,2.16,2.14,2.0,2.18,2.3,2.18,2.13,2.11,1.91,2.11,2.15,2.21,2.18,2.18,2.08,2.07,2.12,2.16,2.04,2.16,2.07,2.14,2.07,2.25,2.24,1.93,2.07,2.17,2.12,2.14,2.1,2.1,2.05,2.0,2.06,2.18,1.91,2.1,2.13,2.06,2.19,2.17,2.25,2.2,2.31,2.17,2.14,2.08,2.06,2.17,2.11,2.09,2.09,2.17,2.08,2.22,2.27,2.13,2.09,2.09,2.16,2.21,2.03,2.03,2.07,2.03,2.21,2.13,2.16,2.19,2.07,2.11,2.3,2.14,2.22,2.32,2.11,2.14,2.19,2.11,2.19,2.04,2.16,2.1,2.11,2.09,2.21,2.07,2.15,2.1,2.16,2.19,2.07,2.23,2.36,2.17,2.22,2.19,2.18,2.04,2.22,2.02,2.33,2.11,2.18,2.08,2.23,2.18,2.16,2.1,2.16,1.98,2.07,1.95,1.84,1.93,2.04,2.01,1.97,2.04,2.07,2.02,2.21,2.24,2.1,2.07,2.35,2.26,2.08,2.26,2.14,2.21,2.35,2.13,2.36,2.17,2.24,2.27,2.17,2.15,2.08,2.08,2.04,2.21,1.96,2.08,2.1,2.13,2.04,2.08,2.02,2.15,2.07,1.97,2.15,2.17,2.1,1.99,2.01,2.12,2.17,2.07,2.1,2.05,2.12,2.09,2.15,2.06,1.96,2.17,1.98,2.0,2.24,2.11,2.14,2.16,2.1,2.13,2.26,2.11,2.07,1.79,1.99,2.04,2.11,2.1,1.92,2.09,2.01,1.97,2.31,2.1,2.19,2.16,2.18,1.92,1.97,1.91,2.13,2.12,2.05,2.14,1.91,2.14,1.95,2.18,2.12,2.22,2.27,2.17,2.14,2.18,2.34,2.24,2.13,2.33,2.3,2.24,2.01,2.12,2.13,2.23,2.32,2.04,2.01,1.99,2.14,1.93,2.07,2.25,2.24,2.29,2.21,2.18,2.17,2.17,2.08,2.11,2.09,2.23,2.01,2.09,2.22,2.02,2.26,2.13,2.09,2.07,2.13,2.06,2.17,2.16,2.06,2.08,2.18,2.13,2.28,1.97,2.04,2.1,2.16,2.1,2.14,1.91,2.35,2.25,2.3,2.14,2.13,2.16,2.19,2.24,2.26,2.2,2.17,2.2,2.09,2.25,2.07,2.17,2.04,2.11,2.19,2.25,2.03,2.12,2.06,2.25,2.18,1.96,2.31,2.14,2.27,2.14,2.16,2.17,2.16,2.07,2.2,2.07,2.23,2.13,2.13,2.01,2.18,2.16,2.1,2.04,2.16,2.17,2.18,2.17,2.17,2.16,2.18,2.11,2.13,2.18,2.2,2.13,2.33,2.17,1.81,1.99,2.23,2.08,2.2,2.2,2.3,2.08,2.21,2.28,2.35,2.16,2.3,2.18,2.15,2.26,2.17,2.16,2.27,2.07,2.22,2.07,2.09,2.1,2.16,2.03,2.09,2.15,2.04,2.09,2.2,2.21,2.19,2.2,2.03,2.28,2.13,2.27,1.97,2.1,2.05,2.15,2.0,2.11,2.01,2.07,2.12,2.11,2.05,2.09,2.07,2.06,2.11,2.21,2.19,2.14,1.95,2.13,1.89,2.29,1.93,2.09,1.99,2.22,1.94,2.3,2.19,2.24,2.16,2.09,2.18,2.28,2.22,2.17,2.25,2.17,2.16,2.09,2.22,2.22,2.15,2.13,2.09,2.25,2.07,1.9,2.09,2.13,2.14,2.3,2.24,2.01,2.12,2.17,2.1,2.16,2.15,2.17,2.09,2.11,2.07,2.12,2.08,2.08,2.16,2.1,2.28,2.22,2.08,2.27,2.25,2.08,2.15,2.18,2.15,2.22,2.21,2.22,2.15,2.26,2.2,2.19,2.15,2.18,2.18,2.1,2.09,1.97,2.05,2.16,2.25,2.11,2.21,2.11,2.18,2.11,1.95,2.08,2.3,2.11,2.09,1.97,2.07,2.27,2.05,2.08,2.15,2.03,2.09,2.11,2.06,2.16,2.14,2.1,2.13,2.2,2.12,2.16,2.08,2.07,2.11,2.06,2.09,2.13,2.19,2.17,2.14,2.1,2.16,2.13,2.12,2.16,2.16,2.07,2.01,2.22,2.06,2.07,1.82,1.97,2.18,2.06,2.25,2.18,2.13,2.13,2.15,2.1,2.13,2.06,2.16,2.16,2.18,2.0,2.03,2.23,1.86,2.08,2.13,2.17,1.92,2.07,1.91,2.19,1.92,2.14,2.19,2.14,2.28,2.2,1.92,2.13,2.24,2.11,2.24,2.16,2.2,2.2,2.08,2.1,2.18,2.1,2.02,2.16,2.06,2.0,2.11,2.07,2.11,2.12,2.24,2.25,2.1,2.16,2.09,2.13,2.29,2.04,2.1,2.14,1.7,2.07,2.01,1.96,2.01,2.03,2.28,2.05,1.96,2.03,2.32,1.96,2.19,2.1,1.97,2.17,2.01,2.1,2.22,2.12,2.15,2.23,2.13,2.16,2.11,2.16,2.24,2.28,2.23,2.11,2.05,2.12,2.03,2.08,2.1,2.25,1.99,2.1,2.24,2.0,2.21,2.22,2.08,2.2,2.03,2.23,2.1,1.56,1.94,2.04,2.13,2.04,2.21,2.08,2.03,2.32,2.13,1.93,2.24,2.32,2.21,2.17,2.25,2.16,2.13,2.22,2.16,2.23,2.22,2.03,2.13,2.01,2.08,2.22,2.01,2.03,2.18,2.05,2.01,2.23,2.12,2.12,2.14,2.21,2.2,2.21,2.02,2.32,2.28,2.13,2.22,2.04,2.12,1.73,1.96,2.14,2.0,2.04,2.09,2.05,2.08,1.98,2.09,2.2,2.2,2.26,2.17,1.9,2.13,2.16,2.1,2.23,2.09,2.13,2.05,2.2,2.17,2.14,2.05,2.17,2.06,2.15,2.05,2.12,2.06,2.05,2.14,2.04,2.09,2.05,2.02,2.04,2.04,2.16,2.05,2.16,2.23,2.06,2.18,2.16,2.19,2.16,2.19,2.11,2.08,2.21,2.16,2.13,2.07,2.14,2.21,2.05,2.22,1.97,2.24,2.15,2.22,2.09,2.45,2.09,2.08,2.13,2.07,2.12,2.16,2.21,2.14,2.04,2.16,2.11,2.29,2.2,2.22,2.04,2.14,2.04,2.11,2.02,1.95,2.03,2.08,2.08,2.05,2.02,2.14,2.19,2.1,2.31,2.1,2.16,2.14,2.14,1.98,2.07,2.05,1.71,2.11,2.06,2.01,2.07,2.04,2.02,2.22,2.06,1.94,1.98,2.07,2.3,2.15,2.17,2.09,2.18,2.16,2.24,2.23,2.17,2.23,2.09,2.24,2.03,1.94,2.17,1.91,2.17,1.84,1.94,2.16,2.12,2.07,2.39,2.25,2.24,2.21,2.14,2.15,2.12,2.08,2.18,2.0,2.17,1.91,2.13,2.19,2.17,2.09,2.07,2.13,2.15,2.14,1.87,2.11,2.13,2.08,2.1,2.13,2.19,2.02,2.04,2.1,2.07,2.24,1.97,2.07,2.1,2.01,2.19,2.21,2.13,2.23,2.26,2.15,1.88,2.13,2.2,2.19,2.17,2.25,2.2,2.1,2.13,2.06,2.14,2.18,2.16,2.1,2.16,2.09,2.18,2.09,2.17,2.12,2.14,2.14,2.19,2.26,2.2,2.17,2.22,2.04,2.23,2.17,2.23,2.2,2.02,2.21,2.16,2.14,2.07,2.1,1.74,2.08,2.04,2.12,2.18,2.12,2.05,2.19,2.1,2.16,2.17,2.24,2.02,2.24,2.1,2.13,2.18,2.09,2.13,2.13,2.1,2.15,1.99,2.33,2.2,2.1,2.17,2.16,2.14,2.26,2.02,2.23,2.1,2.09,2.15,2.08,2.19,2.13,2.13,2.24,2.27,2.22,2.17,2.11,2.24,2.08,2.11,2.08,2.16,2.25,2.05,2.21,2.01,1.98,2.08,2.14,2.05,2.08,2.11,2.07,2.12,2.02,2.09,2.11,1.99,2.08,2.13,2.04,1.99,2.0,2.24,2.12,2.08,2.04,1.96,2.1,2.15,2.25,2.25,1.93,2.36,2.2,2.23,2.15,2.22,2.2,2.12,2.21,2.18,2.2,2.28,2.16,2.32,2.21,2.27,2.08,2.24,2.27,2.03,2.3,2.14,2.31,2.05,2.18,2.21,2.3,2.19,2.14,2.18,2.13,2.14,2.16,2.19,2.33,1.98,1.93,2.11,2.22,2.23,2.12,2.22,2.18,2.18,2.14,2.14,2.16,2.22,1.91,2.21,2.09,2.08,1.9,1.93,2.03,2.03,2.05,2.09,1.99,1.96,1.99,2.07,2.02,2.12,2.06,2.08,2.07,2.08,2.04,2.03,2.07,2.03,2.22,2.12,1.98,2.12,2.11,2.02,2.02,2.01,2.19,2.14,2.06,2.07,2.21,2.2,2.21,2.09,2.23,2.19,2.21,2.12,2.0,2.14,2.05,2.14,2.22,2.2,2.16,2.03,2.11,2.08,2.17,2.12,2.11,2.15,2.24,2.12,2.03,2.1,2.0,2.15,2.17,2.13,2.03,1.98,2.07,2.19,2.11,2.11,2.12,2.15,1.98,2.05,2.03,1.98,2.1,2.03,2.09,1.99,2.04,2.06,2.1,2.02,2.04,1.99,2.12,2.12,2.18,2.31,2.15,2.18,1.85,1.99,2.16,2.15,2.14,2.04,2.01,2.06,2.12,2.1,2.17,2.09,2.24,2.16,2.12,2.15,2.18,2.26,2.01,2.18,2.09,1.9,2.15,2.03,1.95,1.86,2.06,1.98,1.93,2.19,2.14,2.08,2.24,2.09,2.21,2.24,2.13,2.1,2.14,2.29,2.12,2.26,2.33,2.14,2.06,2.19,2.11,2.09,2.21,2.12,2.45,1.99,2.32,2.25,2.35,2.15,2.15,2.27,2.3,2.05,1.96,2.12,1.99,1.97,2.12,2.1,2.18,2.03,2.18,2.02,2.13,1.98,2.21,2.22,2.15,2.15,2.05,2.12,2.24,1.94,2.14,2.2,2.26,2.11,2.12,2.13,2.14,2.27,2.13,2.15,2.16,2.21,2.05,2.15,2.22,2.12,2.15,2.18,2.31,2.08,1.96,2.15,2.11,2.02,2.16,2.02,2.03,2.23,2.05,2.17,2.21,2.2,2.3,2.09,2.02,2.17,2.21,2.25,2.2,2.1,2.2,2.2,2.17,2.17,2.08,2.23,2.13,2.07,2.24,2.12,2.15,2.08,2.26,2.14,2.2,2.15,2.05,2.21,1.94,2.04,2.13,2.11,2.14,1.89,2.15,2.22,2.05,2.22,2.04,2.23,2.09,2.23,2.14,2.06,2.23,2.02,1.88,2.12,2.18,2.2,2.08,2.27,1.94,2.08,2.24,2.27,2.09,2.09,2.26,2.22,2.18,2.19,2.13,2.13,2.16,2.25,2.17,2.19,2.12,2.16,2.24,2.09,2.19,2.07,2.07,2.12,2.05,2.17,2.05,2.07,2.01,2.07,1.94,2.22,2.14,2.1,2.06,2.08,2.09,1.38,2.15,2.12,2.1,2.14,2.15,2.15,2.16,1.85,2.0,1.98,2.05,2.17,2.03,2.01,2.0,1.98,1.97,2.23,2.15,2.0,2.13,2.07,2.23,2.17,2.25,2.13,2.28,2.24,2.12,2.0,2.14,2.16,2.06,1.98,2.26,2.16,2.13,2.14,2.15,2.04,2.18,2.17,2.09,2.18,2.15,2.05,2.27,2.26,2.3,2.3,2.1,2.11,2.23,2.14,2.25,2.21,2.17,2.16,2.23,2.24,2.16,2.1,2.1,2.21,2.19,2.23,2.27,2.15,2.09,2.07,2.23,2.11,2.31,2.36,2.16,2.07,1.98,2.26,1.83,2.19,2.21,2.33,2.1,2.24,2.24,2.15,1.93,2.17,2.11,2.29,2.23,2.18,2.2,2.19,2.18,2.25,2.22,2.22,2.25,2.16,2.23,2.34,2.22,2.16,2.25,2.2,2.25,2.16,2.34,2.24,2.2,2.2,2.28,2.16,2.28,2.14,2.29,2.17,2.15,2.25,2.25,2.01,2.14,2.12,2.1,1.99,2.09,2.06,2.15,2.05,2.16,2.01,1.99,2.11,2.09,2.0,2.24,1.96,1.99,2.04,1.88,1.86,2.13,2.05,2.02,2.11,1.99,2.17,2.08,2.23,2.22,2.16,2.17,2.17,2.13,2.15,2.15,2.13,2.3,2.08,2.11,2.11,2.21,2.15,2.17,2.07,2.16,2.12,2.12,2.23,2.18,2.2,2.27,2.21,2.11,2.06,2.29,2.35,2.11,2.34,2.03,2.05,2.09,2.17,2.1,2.24,2.2,2.23,2.18,2.31,2.18,2.18,2.18,2.21,2.13,2.14,2.22,2.19,2.03,2.18,2.02,2.12,2.26,2.26,2.24,2.25,2.23,2.26,2.08,2.29,2.2,2.17,2.2,2.04,2.06,2.18,1.98,2.15,2.05,2.14,2.12,2.09,2.2,1.99,2.18,2.15,2.37,2.18,2.14,2.09,2.09,2.35,2.2,2.28,2.21,2.2,2.2,2.01,2.02,2.02,2.04,2.2,2.09,2.03,2.1,1.79,2.19,2.07,2.14,2.17,2.19,2.05,2.19,2.12,2.06,2.31,2.31,2.18,1.96,1.99,2.16,1.96,2.3,2.26,2.18,2.15,2.13,2.12,2.14,2.25,2.21,2.34,2.26,2.16,2.13,2.25,2.17,2.23,2.18,2.11,2.24,2.11,2.28,2.11,2.24,2.07,2.08,2.03,2.0,1.87,2.02,1.79,2.01,2.1,2.18,2.03,1.95,2.08,2.04,2.16,2.15,1.84,2.14,2.04,2.06,2.11,2.01,2.07,1.91,2.13,2.11,2.08,2.13,2.14,2.1,2.04,2.11,2.13,2.14,2.13,2.1,2.18,2.04,2.07,2.26,2.22,2.21,2.27,2.13,2.18,2.09,2.18,2.16,2.07,2.1,2.19,2.16,2.13,2.12,2.31,2.05,2.33,2.12,2.16,2.08,2.09,1.9,2.02,2.07,2.02,2.14,2.23,2.1,2.06,2.14,2.15,2.19,2.19,2.1,2.15,2.05,2.18,2.16,2.12,2.26,2.1,2.17,2.11,2.12,2.11,2.27,2.12,2.15,2.09,2.04,2.17,2.02,2.18,2.23,2.22,1.98,2.19,1.92,2.28,2.2,2.23,2.19,2.28,2.31,2.27,2.35,2.15,2.06,2.11,2.11,2.21,2.07,2.12,2.17,2.11,2.05,2.11,1.98,2.17,2.13,2.05,2.35,2.27,2.21,2.22,2.03,2.32,2.13,2.04,2.06,2.13,1.99,2.14,2.21,2.16,2.06,2.24,2.14,2.05,2.05,2.34,2.11,2.38,2.03,2.24,2.33,2.29,1.95,2.23,2.2,2.19,2.13,2.13,2.13,2.11,2.02,2.06,2.13,2.21,1.99,2.07,2.06,1.97,2.3,2.27,2.15,2.45,2.2,2.18,2.31,2.19,2.26,2.21,2.13,2.01,2.15,1.83,2.17,2.22,2.28,2.21,2.33,2.18,2.16,2.18,2.32,2.14,2.09,3.57,2.19,2.24,2.16,2.19,2.2,2.34,2.13,2.03,2.28,2.25,2.0,2.34,2.14,2.18,2.13,2.24,2.0,2.21,2.35,2.22,2.2,2.21,2.09,2.14,2.12,2.23,2.17,2.15,2.14,2.16,2.04,2.15,2.15,2.13,2.15,2.05,2.14,2.07,2.22,2.07,2.05,2.08,2.18,2.2,2.12,2.16,1.82,2.23,2.2,2.21,2.11,2.11,2.14,2.23,2.21,1.96,2.22,2.43,1.94,2.24,2.11,2.13,2.36,2.24,2.26,2.15,2.06,2.19,2.0,2.27,2.31,2.17,2.19,2.28,2.22,2.31,2.18,1.75,2.09,1.97,2.14,2.13,1.84,2.08,1.99,2.12,2.1,2.2,2.06,2.06,2.26,2.18,2.15,2.18,2.13,2.16,2.07,2.19,2.01,2.0,2.19,2.19,2.16,2.18,2.22,2.25,2.24,2.19,2.27,2.23,2.23,2.16,2.19,2.16,2.18,2.1,2.17,2.26,2.23,2.2,2.2,2.17,2.15,2.15,2.15,2.25,2.09,2.03,2.3,2.13,2.29,2.03,1.93,2.1,2.07,2.19,2.0,1.97,2.1,2.14,2.26,2.27,1.96,2.15,2.38,2.13,2.22,2.24,2.18,2.04,2.24,2.17,2.08,2.23,2.0,2.2,2.24,2.21,2.14,2.23,2.15,2.07,2.04,2.21,2.13,2.06,2.24,2.03,2.18,2.17,2.07,2.19,2.24,2.24,2.19,2.21,2.19,2.25,2.19,2.23,2.18,2.38,1.88,2.11,2.32,2.01,2.06,2.12,2.02,2.06,2.09,2.16,2.18,1.97,2.12,2.02,2.15,2.05,2.1,2.06,2.15,2.05,2.16,2.05,2.12,2.06,2.16,2.01,2.02,2.0,2.16,2.13,2.13,2.19,2.21,2.18,2.08,2.09,2.1,2.19,2.14,2.17,2.14,2.17,2.07,2.11,2.07,2.02,2.04,2.14,2.14,2.18,2.22,2.04,2.2,2.24,2.22,2.13,2.22,2.06,2.09,2.08,2.05,2.19,2.1,2.05,2.07,2.13,2.14,2.05,2.15,2.21,2.21,2.12,2.32,2.28,2.14,2.14,2.14,2.2,2.15,2.14,2.17,2.06,2.19,2.07,2.22,2.29,2.05,2.05,2.09,2.13,2.37,2.11,2.12,2.06,2.2,2.24,2.09,2.14,2.08,2.18,2.22,2.24,2.31,2.07,2.16,2.1,2.14,2.09,2.09,2.18,2.06,2.14,2.12,2.13,2.26,2.28,2.17,2.08,2.15,2.06,2.19,2.12,2.08,2.13,2.19,2.14,2.12,2.02,1.92,1.98,2.0,1.92,2.3,2.22,2.33,2.03,2.17,2.18,2.16,2.02,2.26,1.9,2.25,2.12,2.07,2.28,1.86,2.38,2.04,2.27,2.25,2.27,2.19,2.22,2.22,2.14,2.23,2.2,2.14,2.2,2.12,2.18,1.99,2.0,2.13,2.21,2.11,2.09,1.99,2.04,1.88,2.12,2.05,2.1,2.02,1.96,2.1,1.95,2.08,2.13,2.06,1.97,2.12,1.94,2.01,2.11,1.96,2.08,2.1,2.0,2.22,2.05,2.09,2.16,2.11,2.27,2.12,1.93,2.2,2.21,2.27,2.36,2.18,2.01,2.1,2.14,2.16,2.0,2.23,2.11,2.09,2.06,2.12,2.0,2.1,2.03,2.14,2.18,2.07,2.0,2.23,2.19,2.23,2.2,2.22,2.06,2.23,2.24,2.22,2.26,2.17,2.13,2.15,1.98,2.05,2.13,2.11,2.11,2.19,2.12,2.06,2.12,2.04,2.01,2.54,2.02,2.03,2.06,2.15,2.08,2.23,2.07,2.14,2.1,2.13,2.22,2.11,2.05,2.19,2.07,2.11,2.15,2.06,2.07,2.12,2.11,2.12,2.29,2.17,2.16,2.08,2.06,2.01,2.21,2.14,2.2,2.14,2.19,2.15,2.14,2.18,2.02,2.14,2.15,1.99,2.05,2.09,2.07,2.08,2.1,2.19,2.14,2.17,2.26,2.4,2.23,2.2,2.06,2.17,2.14,2.14,2.19,2.09,2.18,2.13,2.28,1.91,1.97,2.02,1.92,2.14,2.03,2.09,2.01,1.83,2.38,2.17,2.09,2.0,2.16,2.25,2.05,2.12,2.16,2.29,2.14,2.16,2.12,2.06,2.07,2.11,2.03,2.07,2.14,2.11,2.19,1.98,1.99,2.17,2.04,1.95,2.19,2.01,2.03,2.09,2.04,2.22,2.0,2.1,2.09,1.93,2.12,2.06,1.96,2.15,2.05,1.98,2.11,2.02,2.08,1.94,2.19,2.13,2.04,2.17,2.24,2.16,2.18,2.24,2.23,2.16,2.16,2.16,2.37,2.31,2.11,2.1,1.98,2.07,2.02,2.12,2.19,2.03,2.04,2.04,2.11,1.92,2.04,2.0,2.08,2.04,1.98,2.05,2.24,2.12,2.23,2.18,2.07,2.06,2.26,2.2,2.19,2.17,2.27,2.26,2.23,2.12,2.21,2.18,2.1,2.19,2.32,2.22,2.14,2.13,2.2,1.81,2.02,2.02,2.07,2.07,2.06,2.09,2.03,2.12,1.99,1.98,2.23,2.04,2.24,1.9,1.95,2.18,2.0,2.28,2.02,2.2,2.22,2.04,1.96,2.07,1.94,2.12,2.11,2.16,1.94,1.86,1.98,2.29,2.08,2.19,2.15,2.11,2.08,2.21,2.04,2.15,1.98,2.03,1.98,2.17,2.02,2.14,2.06,2.11,1.97,1.92,2.04,2.21,2.14,2.05,2.12,2.24,2.03,2.14,2.2,1.98,2.12,2.08,2.12,1.92,2.2,1.98,2.13,2.01,2.23,2.14,2.23,2.06,2.21,2.18,2.27,2.12,1.97,2.18,2.29,2.1,2.27,2.21,2.21,2.26,2.18,2.19,1.9,2.06,2.05,1.97,2.02,2.09,2.15,2.03,2.12,2.08,2.14,2.16,1.9,2.17,1.96,2.02,2.07,2.12,2.05,1.96,2.1,2.18,2.04,2.21,2.1,2.12,2.03,1.98,2.35,2.07,2.15,2.09,2.14,2.04,2.09,2.12,2.05,2.05,2.26,2.05,2.07,2.32,2.03,2.06,2.22,2.08,2.12,2.14,1.98,2.05,2.17,2.09,2.19,2.09,2.11,2.0,2.08,2.07,2.08,1.92,2.18,2.0,2.13,2.28,2.19,2.04,2.17,2.07,2.22,1.98,2.09,1.94,2.0,1.88,2.2,2.22,2.07,2.24,2.07,2.06,2.24,2.1,2.06,2.12,2.15,2.32,2.07,2.14,2.22,2.0,2.2,2.16,2.26,2.02,2.01,2.04,2.09,2.04,2.09,1.95,1.93,2.03,2.12,2.05,2.24,2.06,2.08,2.0,1.95,2.03,2.16,2.01,2.1,1.96,1.99,2.18,1.66,2.11,1.89,1.96,2.19,2.07,2.11,2.27,2.18,2.09,2.25,2.18,1.95,2.15,2.14,2.26,2.2,2.12,2.06,2.04,2.09,2.15,2.09,2.27,2.08,2.22,2.14,2.23,2.22,2.16,2.18,2.26,2.16,2.05,2.12,2.2,2.09,2.17,2.11,2.22,2.05,2.08,2.01,2.07,2.05,1.98,2.16,2.12,2.19,2.06,2.13,2.23,2.07,2.18,2.12,2.09,2.2,1.86,2.27,2.14,2.11,2.21,2.18,2.17,2.19,2.05,2.08,2.17,2.16,2.13,2.07,2.02,2.02,2.11,2.05,2.14,1.99,1.83,2.11,2.0,2.02,2.05,1.92,2.02,2.02,2.0,2.2,2.11,2.18,2.06,2.12,2.05,2.16,2.12,2.06,2.17,2.24,2.11,2.11,2.22,2.37,2.2,2.19,2.18,2.21,2.16,2.03,2.14,2.08,2.3,2.14,2.11,2.14,2.16,1.94,1.94,2.38,2.11,2.11,2.14,2.08,2.32,2.14,2.3,2.07,1.98,2.12,2.04,2.19,2.23,2.12,2.18,2.07,2.15,1.97,2.16,2.11,2.21,2.51,1.95,2.15,2.17,2.18,2.18,2.24,2.21,2.16,2.27,2.19,2.18,1.99,2.02,2.08,2.12,2.09,2.2,2.13,2.0,2.23,2.08,2.1,2.15,2.04,2.07,2.09,2.14,2.16,2.11,2.05,2.05,2.16,2.37,2.1,2.12,2.37,2.23,2.04,2.17,2.13,1.95,2.09,2.31,2.3,2.0,2.23,2.17,2.13,2.27,2.16,2.16,2.07,2.07,2.1,2.2,2.17,2.1,2.19,2.15,2.15,2.13,2.17,2.19,2.23,2.19,2.02,2.13,2.18,2.24,2.15,2.05,2.15,2.2,2.16,2.22,2.24,2.13,2.24,2.16,2.14,2.17,2.05,2.22,1.93,2.4,2.34,2.36,2.14,2.16,2.34,2.12,2.39,2.1,2.27,2.08,1.96,2.24,2.12,2.05,2.18,2.13,2.04,2.11,2.02,2.17,2.05,2.23,2.19,2.24,2.14,2.04,2.04,2.11,2.1,2.05,2.17,2.17,2.02,2.18,2.16,2.16,2.19,2.21,2.24,2.21,2.23,2.32,2.21,2.34,2.25,2.3,2.23,2.24,1.92,2.27,2.33,2.19,2.19,2.18,2.19,2.3,2.1,2.05,2.21,2.04,2.03,2.09,2.08,2.1,1.98,2.2,2.09,2.18,2.23,2.08,2.18,2.15,2.07,2.08,2.13,2.25,2.18,2.05,2.09,2.15,2.17,2.13,2.15,2.27,2.16,2.16,2.12,2.23,2.06,2.19,1.8,2.11,2.05,2.25,2.36,2.16,2.02,2.14,2.25,1.99,2.15,2.09,2.15,2.14,2.05,1.88,2.03,1.6,1.55,2.1,2.1,2.18,2.1,2.22,2.15,2.01,2.13,2.28,2.15,2.19,2.29,2.15,2.22,2.03,2.12,2.12,1.94,2.08,2.06,1.96,2.2,1.86,2.02,1.98,1.92,2.03,2.21,2.13,2.08,2.24,2.33,2.05,2.21,2.26,2.21,2.13,2.01,2.26,1.8,2.23,2.17,2.17,2.08,2.04,2.15,1.93,2.2,2.22,2.14,2.13,2.27,2.16,2.16,2.24,2.25,2.23,2.21,2.14,2.05,2.04,2.13,2.1,2.35,2.22,2.05,2.31,2.15,2.19,1.99,2.24,2.27,2.2,2.14,2.15,2.23,2.06,1.98,2.08,2.04,2.02,1.99,2.02,1.8,2.12,2.16,2.03,2.01,1.88,2.11,2.04,2.08,2.03,1.98,1.95,2.09,2.23,2.09,2.19,2.15,2.2,2.2,2.25,2.17,2.08,2.02,2.13,2.04,2.11,2.07,2.22,2.19,2.08,2.15,2.17,2.12,2.1,2.16,2.29,2.18,2.11,2.17,2.16,2.04,2.11,2.17,2.05,2.13,2.15,2.09,2.15,2.2,1.98,2.34,2.2,1.84,2.35,2.07,2.08,2.2,2.12,2.2,2.08,2.05,2.17,2.25,2.09,2.22,1.91,2.15,2.02,1.87,2.2,2.07,2.07,1.99,2.16,2.29,2.13,2.3,2.3,2.17,2.24,2.23,2.23,2.24,2.4,2.04,2.08,2.07,2.13,2.22,2.12,2.1,2.18,2.16,1.94,2.18,2.14,2.05,2.04,2.32,2.1,2.14,2.23,1.99,2.08,2.18,2.15,1.97,2.15,2.13,2.07,2.2,2.05,2.03,1.94,2.13,2.09,2.16,2.12,2.02,2.32,2.0,2.2,2.12,2.16,1.94,2.21,1.92,2.05,2.22,2.03,2.26,2.04,2.07,2.03,2.02,2.1,2.04,2.01,1.9,2.18,2.09,2.11,2.19,2.24,2.09,2.11,2.21,2.14,2.14,2.03,2.24,2.06,2.07,2.15,2.01,2.09,2.12,2.08,1.98,2.07,2.12,2.06,2.1,2.01,2.12,2.13,2.4,2.17,1.95,2.08,2.14,2.1,2.25,2.2,2.25,2.18,2.22,2.17,2.28,2.2,2.2,2.14,2.09,2.04,2.2,2.32,2.02,2.12,2.21,2.25,2.07,2.31,2.16,2.14,2.15,2.29,2.23,1.91,2.04,2.02,2.04,2.03,2.06,2.07,2.03,2.37,2.08,2.16,2.16,2.24,2.18,2.1,2.18,2.25,2.21,2.09,2.28,2.26,2.22,1.65,2.22,2.15,2.27,2.16,2.11,2.15,2.15,2.12,2.18,2.2,2.23,2.11,2.17,2.2,2.05,2.17,2.21,2.11,2.21,2.2,2.1,2.09,2.14,2.01,2.18,2.2,2.0,2.04,2.31,2.22,2.21,1.99,2.24,2.19,1.89,2.15,2.14,2.1,2.01,2.38,2.16,1.91,1.97,2.21,2.06,2.07,2.14,2.12,2.16,2.14,2.15,2.13,2.06,2.09,2.2,2.13,2.22,2.14,1.99,2.25,2.08,2.15,2.2,2.12,2.11,2.02,2.39,2.06,2.1,2.4,2.11,2.02,2.12,2.16,2.15,2.0,1.98,1.94,2.23,2.14,2.27,2.17,2.19,2.12,2.16,2.15,2.04,2.07,2.16,2.16,2.27,2.19,2.16,2.14,2.22,2.16,2.06,2.29,2.18,2.1,2.18,2.05,2.02,2.08,2.07,2.19,2.19,2.16,2.13,2.17,2.31,2.02,1.96,2.19,2.11,2.21,2.02,2.19,2.23,2.3,2.16,2.08,2.16,2.14,2.27,2.21,2.19,2.14,2.2,2.1,1.89,2.31,2.19,2.14,2.25,2.12,2.21,2.07,2.25,2.22,1.97,2.2,2.08,2.0,2.3,2.02,2.19,1.98,2.18,2.17,2.35,2.19,1.99,2.15,1.98,2.19,2.17,2.2,2.19,1.68,2.24,2.13,2.04,2.16,2.1,2.06,1.98,2.02,2.13,2.12,2.13,2.29,2.19,2.16,2.31,2.04,2.13,2.19,2.16,1.97,2.27,2.19,2.24,2.17,2.13,2.13,2.03,2.22,2.2,2.12,2.05,2.15,2.18,2.29,2.07,1.99,2.22,2.14,2.05,1.98,2.16,1.89,2.05,2.27,2.37,2.16,2.19,2.14,2.37,2.1,2.11,2.19,2.24,2.11,2.15,2.27,2.2,2.19,2.06,2.02,2.18,2.03,2.01,2.09,2.08,2.07,1.96,2.3,2.18,2.22,2.15,2.09,2.22,1.99,2.21,2.31,2.17,2.26,2.07,2.1,2.2,2.22,2.14,2.16,2.05,2.06,1.96,2.12,2.0,1.69,2.21,1.9,2.09,2.03,2.23,2.17,2.15,2.03,2.05,2.12,2.14,2.12,2.22,2.09,2.24,2.11,2.25,2.18,2.04,2.16,1.99,2.14,2.12,2.19,2.05,2.21,2.25,1.93,2.03,2.04,1.94,2.01,2.06,2.05,2.1,2.21,2.1,2.08,2.19,2.15,2.25,2.12,2.28,2.08,2.18,2.03,2.2,2.12,1.99,2.11,1.94,2.07,2.05,2.03,2.01,1.96,2.07,2.02,2.1,2.09,2.11,2.07,1.99,2.2,2.15,2.27,2.25,2.19,2.13,2.13,2.17,2.19,2.21,2.28,2.19,2.21,2.13,2.13,2.13,2.12,2.21,2.15,2.22,2.17,2.03,2.12,2.18,2.15,2.13,2.09,2.12,2.13,2.17,2.09,2.1,2.04,1.88,2.1,2.1,2.24,2.17,2.1,2.19,2.16,2.25,2.24,2.11,2.16,1.94,2.01,2.05,2.19,1.99,2.0,1.94,2.16,2.08,2.02,2.11,2.11,2.08,2.07,2.02,2.11,2.14,2.13,2.08,1.97,1.9,4.92,2.1,2.07,2.11,2.15,1.7,2.09,1.95,2.0,2.2,2.33,2.28,2.02,1.68,2.03,1.98,1.97,2.26,2.09,2.07,2.13,2.14,2.11,2.05,1.85,1.96,2.13,2.09,2.16,2.05,2.32,2.07,2.18,2.2,2.13,2.06,2.2,2.24,2.21,2.16,2.16,2.11,2.17,2.23,2.11,2.22,1.88,1.98,2.24,2.2,2.28,2.27,2.19,2.34,2.2,2.18,2.33,2.29,2.24,2.22,2.19,2.22,2.14,2.13,2.05,2.12,2.1,2.06,1.88,2.07,2.16,2.19,2.1,2.09,2.19,2.1,2.04,2.03,2.12,2.23,2.05,1.97,2.15,2.11,2.11,2.26,2.28,2.21,2.12,1.85,2.21,2.18,2.16,2.19,2.23,2.17,2.22,2.17,2.23,2.13,2.23,2.04,2.0,2.21,2.06,2.02,2.15,1.94,2.07,2.0,2.07,2.03,2.22,2.21,2.18,2.22,2.21,2.15,2.1,2.21,2.03,2.15,2.06,2.2,2.19,2.15,2.08,2.23,2.15,2.09,2.08,2.07,2.06,2.12,2.11,2.22,2.08,2.18,2.28,2.0,2.15,2.26,2.08,2.21,2.33,2.2,2.3,2.19,2.14,2.08,2.26,2.1,2.15,2.16,2.14,2.23,2.07,2.05,2.13,2.15,2.1,1.89,2.09,2.17,2.42,2.04,2.05,2.0,2.27,2.32,2.17,2.32,2.22,2.31,2.18,2.3,2.53,2.32,2.29,2.38,2.34,2.21,2.28,2.34,2.12,2.33,2.06,2.34,2.17,2.32,2.73,2.25,2.34,1.98,1.93,2.07,2.03,2.19,2.13,2.21,2.18,2.15,2.12,2.07,2.19,2.2,2.28,2.22,2.22,2.2,2.16,2.19,2.03,2.17,2.18,2.03,2.18,2.17,2.04,2.06,2.07,2.04,1.97,2.17,2.14,2.69,2.08,2.21,2.09,2.34,2.23,2.23,2.12,2.12,2.15,2.12,1.97,2.36,2.02,2.22,2.16,2.21,2.03,2.3,2.4,2.61,2.18,2.32,2.11,2.03,2.06,2.21,2.14,2.16,2.25,2.1,2.16,2.13,2.11,2.18,2.18,2.18,2.18,2.44,2.16,2.05,2.17,2.21,2.18,2.3,2.23,2.3,2.27,2.21,2.23,2.1,2.19,2.11,2.08,2.11,2.14,2.1,2.11,2.2,2.17,1.91,2.17,2.2,2.06,2.05,2.03,2.0,2.1,2.06,2.23,2.07,2.08,1.99,2.03],\"xaxis\":\"x\",\"y\":[4.46,4.35,4.98,4.53,4.62,4.69,4.16,4.66,4.08,4.2,4.4,4.34,4.2,4.78,3.62,4.52,3.9,4.67,2.78,4.06,4.07,3.23,3.8,3.84,3.53,4.13,4.0,4.02,4.77,3.92,3.9,3.86,4.22,4.08,4.25,4.57,4.21,4.1,4.81,4.34,4.98,2.95,4.14,4.45,5.08,4.85,3.22,4.09,3.4,4.12,4.57,4.4,3.89,4.14,3.92,4.0,4.18,4.15,2.15,4.55,4.1,4.53,4.44,3.98,4.77,3.83,4.46,4.59,4.12,4.48,4.33,3.62,4.34,3.87,4.68,4.19,4.16,4.14,4.84,3.87,4.41,4.71,4.24,4.71,4.13,4.58,4.47,4.35,4.57,4.44,5.11,4.37,4.77,4.79,4.86,4.66,4.79,4.53,4.68,4.59,4.64,4.62,4.32,4.58,4.65,4.86,4.86,5.05,4.05,4.48,4.65,4.45,4.24,4.08,4.14,4.26,4.58,4.52,4.66,4.52,4.61,4.06,5.06,4.2,4.87,4.17,3.73,4.94,4.25,4.24,3.95,4.9,4.56,4.36,4.45,4.52,4.82,4.52,3.56,3.59,4.88,4.69,3.85,4.14,3.99,4.09,5.02,4.95,5.51,4.71,5.24,4.86,4.99,4.54,4.58,4.63,4.94,4.55,4.7,4.56,4.37,4.74,3.01,3.85,4.6,4.32,4.41,4.41,4.38,4.23,4.47,4.49,3.15,4.82,4.25,3.41,3.67,5.43,4.69,4.6,4.83,4.48,3.92,4.49,3.46,4.75,4.47,3.85,4.28,4.44,4.39,4.76,4.47,4.14,4.57,4.27,4.26,4.11,4.51,4.15,4.22,3.94,3.52,4.94,4.01,3.98,4.69,5.05,4.0,4.02,3.53,4.51,4.25,4.26,4.42,3.1,4.0,4.11,3.85,4.12,4.1,4.63,4.72,3.88,3.65,4.82,4.4,4.12,4.71,4.79,4.68,4.02,3.51,4.78,4.32,4.39,5.27,4.43,4.45,3.93,4.21,4.52,4.5,4.82,3.99,5.35,3.94,4.58,4.55,4.62,4.93,3.56,4.36,4.76,4.63,4.49,4.92,3.65,3.88,4.77,4.58,4.61,4.59,4.61,4.64,3.93,4.14,3.75,4.39,4.97,4.41,4.63,4.95,3.48,4.45,4.08,4.97,3.79,3.73,4.0,3.54,5.04,4.04,5.04,4.13,4.65,4.56,3.47,4.75,3.07,2.84,4.02,4.72,3.22,4.62,3.87,3.07,4.09,4.88,3.49,3.51,4.22,4.76,5.06,4.29,4.92,4.31,3.91,4.69,4.54,4.31,4.08,4.69,4.29,3.93,4.49,3.61,4.38,3.41,4.23,4.62,4.16,4.07,4.28,4.76,4.65,4.61,4.73,4.17,4.89,4.51,5.43,3.78,4.39,4.72,4.52,4.59,4.47,4.46,3.81,4.58,3.96,5.24,3.92,4.09,4.79,4.37,4.19,4.56,4.04,4.13,3.38,4.46,4.33,4.29,4.67,3.72,3.68,4.12,4.84,4.29,4.2,4.26,4.51,4.71,4.3,4.61,4.51,4.17,4.41,5.09,4.66,4.57,4.38,4.35,4.89,4.55,5.01,4.42,4.38,4.83,3.71,4.91,4.44,4.43,4.71,4.83,3.94,3.52,3.27,4.01,3.89,4.34,3.98,4.11,4.26,4.11,3.87,4.49,4.51,3.97,4.86,3.62,4.37,4.42,4.58,2.94,4.46,4.63,3.89,4.33,3.78,4.65,4.73,3.61,4.83,4.75,4.5,4.35,4.46,4.58,4.34,4.79,4.43,4.59,4.58,3.99,4.78,4.14,4.55,4.16,4.66,4.72,4.35,4.35,3.98,5.23,4.16,4.17,4.78,4.33,4.52,4.33,4.18,4.51,4.78,4.5,4.3,4.06,5.17,4.16,4.24,3.34,5.42,3.39,4.42,3.66,4.46,4.76,4.62,3.17,3.64,4.12,4.86,3.55,4.27,4.52,4.48,3.79,4.3,3.94,3.99,4.12,3.52,4.52,4.18,4.22,4.98,4.72,4.51,3.58,4.49,4.67,5.02,4.69,3.81,4.45,3.83,3.98,4.06,4.77,4.11,4.89,4.7,4.32,4.5,5.03,4.12,3.95,4.33,4.69,4.85,4.73,4.38,3.92,4.31,3.73,5.23,4.67,3.04,4.63,4.6,4.17,4.94,4.39,4.94,4.49,4.4,4.72,4.83,3.97,4.95,4.19,3.85,3.63,4.45,4.33,3.99,4.13,4.22,4.37,4.53,4.78,4.22,4.11,4.48,4.21,4.02,4.12,3.89,4.74,4.6,4.53,4.28,4.99,4.42,5.33,4.86,4.13,4.61,3.52,5.03,4.03,3.6,4.48,3.97,4.19,4.73,3.39,4.59,4.33,4.22,3.58,4.73,3.34,4.66,4.9,4.09,4.54,4.36,4.76,4.37,4.3,4.92,4.65,4.55,3.19,4.0,5.16,4.03,4.62,4.94,4.39,4.51,4.43,4.39,4.18,3.11,4.16,4.77,4.32,4.58,5.09,4.9,4.88,4.71,4.64,4.57,4.07,4.11,4.2,4.33,4.71,4.25,3.3,3.11,3.19,4.35,4.09,4.79,4.55,4.43,4.91,4.31,4.89,4.86,4.56,4.59,4.21,4.59,3.77,3.29,4.05,4.98,2.94,4.99,4.54,4.51,3.65,5.0,4.26,4.31,4.7,4.34,4.66,4.86,4.2,4.63,4.51,4.51,4.88,4.3,4.58,4.44,3.74,4.98,5.13,3.88,3.37,4.53,3.41,3.35,4.06,4.61,4.51,4.25,4.25,4.02,4.14,4.8,4.57,4.09,4.48,3.54,4.65,4.25,3.95,4.77,4.81,4.15,4.27,4.73,4.72,4.76,5.32,4.49,3.97,4.37,4.68,4.81,4.71,4.56,4.37,4.43,4.13,4.4,4.4,4.68,2.97,4.56,4.49,4.39,4.78,3.79,4.83,4.39,3.08,4.9,4.01,4.71,4.62,4.52,4.01,4.87,4.73,4.66,4.11,4.67,3.81,4.35,4.51,4.06,4.3,4.84,4.75,4.56,3.86,4.68,4.2,4.25,4.18,4.07,3.9,4.72,5.22,4.4,4.32,4.66,4.36,4.23,4.45,4.17,3.27,4.46,4.24,4.73,4.35,4.68,3.34,4.77,4.45,4.44,4.77,3.25,4.49,4.98,4.71,4.41,4.74,4.1,4.55,4.06,4.16,4.42,4.23,4.15,4.3,4.12,4.61,4.58,4.52,4.23,4.14,4.33,4.41,3.93,4.85,4.45,4.24,3.28,4.27,4.25,4.09,4.28,3.31,4.45,3.63,4.51,4.07,4.39,4.53,5.08,4.45,4.79,4.65,4.15,4.77,3.95,4.1,4.02,4.59,4.78,4.25,4.33,4.54,4.33,4.6,4.06,4.46,4.75,4.48,4.49,4.57,4.31,4.33,5.22,4.8,4.42,4.78,4.47,4.78,4.35,4.32,4.96,4.65,4.56,4.93,4.87,4.03,4.98,4.86,3.68,3.55,4.64,4.59,4.53,4.13,4.18,3.94,4.21,4.66,4.41,4.83,4.52,4.11,4.41,4.59,4.59,5.21,3.91,4.46,4.35,4.65,3.31,4.4,4.67,3.98,3.65,4.54,4.34,4.6,4.4,4.83,3.94,2.78,4.33,4.92,4.11,4.42,4.09,4.48,4.67,3.89,4.82,3.09,4.76,4.61,4.83,3.87,4.98,4.16,4.56,4.66,4.86,4.63,4.59,4.27,4.47,4.26,4.44,4.72,4.08,4.38,4.41,4.38,4.84,4.41,4.54,3.15,3.92,4.4,3.58,4.45,3.98,4.57,4.06,4.37,4.42,2.98,3.71,4.52,4.17,3.62,4.19,4.21,4.34,4.41,3.14,4.93,3.81,3.85,4.47,4.74,3.79,4.38,5.04,4.66,3.61,4.84,4.45,2.85,4.47,4.33,3.58,4.42,4.65,3.34,4.09,3.82,4.52,4.05,4.58,4.42,4.16,4.55,4.06,4.79,4.14,4.71,4.45,4.3,4.33,4.95,4.5,4.62,3.84,3.56,4.79,4.27,4.18,4.3,4.18,4.25,3.92,3.8,3.56,4.39,4.76,4.15,3.14,3.74,4.74,4.7,4.3,4.81,4.45,4.68,4.53,3.08,4.86,4.09,3.48,4.4,4.28,4.06,4.09,3.38,4.61,4.29,4.01,3.73,4.19,4.14,3.52,4.51,5.07,4.15,3.15,4.72,4.52,4.71,4.62,4.48,3.11,4.53,4.59,4.75,3.89,4.75,4.58,4.09,4.78,3.9,4.55,3.56,4.48,3.12,3.28,4.8,3.97,3.9,5.09,4.4,4.65,5.04,4.78,3.69,3.81,4.25,4.15,4.43,4.48,3.34,4.61,4.38,5.56,4.28,3.55,3.91,4.38,4.97,4.19,4.64,4.29,5.09,4.22,4.62,3.7,3.6,4.89,4.44,4.7,4.62,4.36,3.46,4.99,4.49,4.21,4.65,4.71,4.34,4.67,4.81,4.08,4.53,4.58,4.44,4.06,4.04,3.87,4.09,4.49,4.7,4.29,4.52,3.34,4.53,4.58,3.4,3.61,4.36,3.9,4.81,3.71,3.76,4.52,5.11,2.84,4.55,4.34,5.01,4.5,4.15,4.4,3.8,4.95,3.97,3.83,4.33,4.65,3.15,4.1,4.48,4.46,4.67,3.7,3.67,4.21,4.55,3.99,4.44,2.45,3.26,4.27,4.16,3.15,4.83,4.41,4.34,4.11,4.53,4.78,4.9,4.02,3.87,3.84,4.15,4.31,4.79,4.52,4.63,4.16,3.55,4.19,4.35,4.77,3.33,4.7,4.44,2.82,4.74,4.27,4.3,4.43,4.24,3.78,3.46,4.62,4.63,3.66,3.5,3.87,4.41,4.48,3.22,4.52,4.35,4.28,4.37,4.47,3.83,4.56,4.33,4.2,3.97,4.01,3.41,4.17,4.88,4.37,4.61,2.65,4.75,4.07,4.61,4.97,4.77,4.61,4.33,4.38,4.43,4.25,4.15,4.5,2.35,4.54,3.66,4.81,4.0,4.2,4.31,4.15,4.83,4.41,4.59,4.41,4.53,4.65,4.45,4.5,4.92,4.57,4.61,4.51,4.96,4.77,4.2,4.9,4.19,3.92,4.18,3.5,4.36,4.55,4.54,3.59,4.34,4.03,4.61,4.62,2.99,4.36,4.47,4.37,4.25,4.79,4.15,4.27,4.63,4.72,4.6,4.24,4.28,4.38,4.63,4.08,4.9,4.01,4.41,4.53,4.36,4.41,4.02,4.58,4.46,4.06,4.53,3.55,4.3,4.04,4.75,4.61,4.76,4.73,4.26,4.05,4.13,3.9,4.94,4.66,3.69,3.19,4.63,4.4,4.67,4.62,3.95,4.07,4.56,4.13,4.74,4.81,4.55,4.4,4.31,4.72,4.17,4.33,3.97,3.31,3.32,4.62,4.38,4.19,4.57,4.16,4.99,4.49,4.64,4.04,4.47,4.74,4.36,5.0,4.58,4.67,3.94,4.07,4.96,5.18,3.67,4.56,3.82,5.08,4.8,4.05,4.41,4.27,4.56,4.19,4.62,4.07,4.26,4.69,4.32,4.34,3.89,4.58,4.61,5.11,4.97,4.96,3.48,4.32,4.59,5.08,4.43,4.66,4.95,4.53,4.75,4.45,4.4,4.07,4.59,4.38,5.01,3.14,3.69,4.61,4.49,2.78,4.41,3.37,3.55,4.51,4.69,4.82,3.81,4.66,2.97,3.68,2.9,4.44,4.62,4.8,3.36,4.44,3.99,4.64,4.29,4.31,3.71,4.41,4.33,4.69,4.51,4.72,4.79,4.69,4.34,4.52,4.01,4.18,4.41,4.21,4.49,4.35,4.56,4.46,4.13,4.75,3.89,3.08,3.0,4.11,4.39,4.76,4.73,5.01,4.95,4.67,3.64,3.5,4.48,4.73,5.05,4.21,4.62,4.39,3.98,4.76,4.45,4.64,3.88,4.85,4.48,4.89,4.24,4.6,4.32,4.34,4.93,4.09,4.79,5.12,4.62,5.15,4.29,4.49,4.35,4.05,5.48,4.72,4.08,3.69,3.68,3.74,4.09,4.5,4.61,4.55,4.17,4.58,4.68,4.85,4.38,4.58,3.63,4.75,4.74,3.99,3.25,4.42,4.76,4.77,4.42,4.17,4.6,3.36,3.32,3.23,3.65,4.62,3.9,4.42,4.72,3.74,4.35,4.73,3.66,4.84,4.62,3.82,4.53,3.63,4.37,4.7,4.03,4.65,4.8,4.41,4.6,3.76,4.59,4.59,4.36,4.43,4.73,4.85,3.64,4.75,4.37,4.37,4.2,4.44,4.85,4.35,3.44,4.2,4.29,4.75,4.65,4.68,4.24,4.17,4.61,4.54,4.82,3.61,4.21,3.49,4.84,4.14,4.2,5.3,3.9,4.69,4.8,4.42,4.58,4.76,4.04,3.55,4.8,3.73,4.19,4.48,4.19,4.47,4.83,3.25,4.34,4.38,4.5,4.75,4.91,4.44,5.03,4.64,4.8,5.11,4.69,4.78,4.15,5.07,4.63,3.28,4.19,3.78,4.81,4.92,4.28,4.03,4.24,3.23,4.18,3.12,4.04,4.06,2.96,4.47,4.63,4.15,4.26,4.12,5.1,4.44,4.3,4.54,4.15,4.81,3.66,3.96,4.47,4.64,4.66,3.25,4.58,4.79,4.23,4.23,4.2,4.68,3.89,4.74,4.97,4.3,4.47,4.7,4.41,4.14,4.61,4.67,3.57,4.8,4.22,4.63,3.98,5.03,3.93,3.69,4.47,4.22,3.76,4.06,4.65,4.41,4.44,3.63,4.17,4.39,4.54,4.59,4.6,4.17,4.34,3.66,4.57,4.5,4.82,4.25,4.65,4.04,4.48,4.28,4.67,3.8,4.61,4.67,4.28,3.54,3.85,4.58,4.28,4.5,4.02,4.46,4.76,4.08,3.88,4.23,4.13,4.09,4.4,4.38,3.82,4.24,4.46,4.35,3.83,3.93,4.81,3.6,4.14,3.59,4.43,4.4,4.62,4.32,4.11,4.54,4.68,4.18,4.22,3.53,4.65,3.65,4.94,4.52,3.53,4.26,4.56,4.65,3.96,3.7,4.58,4.32,4.02,4.52,4.55,4.45,4.13,4.42,4.66,4.5,4.66,4.39,4.42,4.34,4.69,4.31,4.91,4.11,4.4,4.62,4.29,4.54,3.99,4.07,5.05,3.58,4.39,4.66,3.61,3.54,4.36,4.15,3.87,4.35,4.34,4.24,3.76,3.46,4.79,4.33,4.46,3.99,4.51,4.61,4.81,3.18,4.51,4.42,4.29,4.3,4.08,4.2,4.02,4.37,4.32,4.71,4.18,3.3,4.9,4.65,3.35,4.69,4.62,4.32,4.65,3.77,3.91,4.15,4.15,4.41,4.17,4.91,4.52,4.2,4.23,4.59,5.3,4.67,3.99,4.01,4.25,3.92,3.85,4.47,4.26,4.4,4.13,3.69,4.37,3.71,4.4,4.15,4.59,3.11,4.37,4.33,4.04,4.33,4.72,4.79,4.12,3.99,4.24,4.61,4.41,3.93,4.82,4.27,4.68,4.38,4.36,4.11,4.51,4.35,3.99,4.53,3.54,3.81,4.3,4.02,4.08,4.41,4.39,2.42,4.4,4.82,4.37,4.44,4.5,4.44,4.58,4.51,4.83,4.76,5.0,4.17,3.1,3.99,4.76,3.03,4.73,4.43,4.38,4.52,3.93,4.0,4.23,3.71,4.51,3.09,4.33,3.97,4.17,4.28,4.48,4.14,4.59,4.78,4.72,4.37,4.34,4.74,4.31,3.91,4.47,4.63,5.0,3.15,3.7,4.58,4.65,4.76,4.88,5.02,4.81,4.49,4.77,4.44,4.22,4.55,4.33,4.61,4.59,4.37,4.3,4.05,4.13,4.73,4.23,4.04,4.46,4.33,4.62,4.21,3.66,3.74,4.27,4.54,4.39,3.9,4.58,4.22,3.35,4.6,4.35,4.39,4.83,3.56,3.66,4.23,4.01,4.53,3.76,4.07,4.51,3.62,3.65,4.65,4.13,4.41,4.75,4.54,4.32,4.38,4.54,4.42,4.84,4.51,4.7,4.36,4.47,4.4,4.0,4.96,4.68,4.38,4.86,3.83,4.71,4.41,4.44,4.52,4.14,3.83,4.66,4.44,4.75,4.55,4.06,4.46,4.41,4.56,3.17,2.73,4.3,3.96,3.63,3.91,4.33,4.29,4.01,2.28,3.9,3.76,4.19,4.87,3.91,3.97,3.83,3.49,3.74,3.41,4.21,3.85,4.23,4.75,4.39,4.76,5.02,4.39,4.39,4.47,4.32,4.62,4.78,3.46,4.41,4.19,4.42,4.7,5.12,4.54,4.48,4.44,4.55,3.84,4.26,3.84,3.05,5.06,3.93,4.08,3.94,3.92,4.69,4.47,4.51,4.44,4.63,4.66,4.38,4.12,4.47,4.56,4.17,4.22,4.05,4.25,4.35,3.15,4.12,2.99,4.74,4.46,2.96,3.63,4.45,3.56,4.04,4.04,4.54,4.18,4.77,4.3,3.84,4.25,3.35,4.09,4.85,4.07,4.68,4.89,4.53,4.66,4.2,4.84,4.45,4.98,4.22,4.68,4.7,4.16,4.57,4.37,4.52,4.37,4.27,3.71,4.92,3.71,5.35,4.57,4.65,4.84,4.89,4.74,3.35,4.13,4.26,3.83,3.98,4.1,3.93,4.12,4.87,4.64,4.06,4.58,4.58,4.41,4.24,4.34,3.3,4.55,4.61,4.75,4.46,4.92,4.22,4.29,4.2,4.31,3.43,4.5,4.67,4.26,4.79,4.36,4.81,4.31,3.6,4.8,4.64,4.83,4.66,4.57,4.1,4.22,4.4,4.35,3.6,4.42,3.64,3.99,4.68,4.05,3.91,4.41,4.23,3.68,4.89,3.51,4.35,4.6,4.57,4.54,4.1,4.37,4.64,4.14,4.11,4.87,4.02,4.48,3.33,3.34,4.36,4.1,4.47,2.79,4.36,3.9,3.04,4.75,4.4,4.78,4.11,4.88,4.81,4.33,4.1,4.89,4.58,4.43,4.03,4.69,4.82,4.21,4.53,3.99,3.69,4.54,4.21,4.88,4.63,4.15,4.31,4.73,4.37,4.8,4.0,4.27,4.09,5.09,4.75,4.41,5.17,4.03,4.6,4.48,4.36,3.5,4.75,4.25,5.22,4.44,4.56,3.33,4.88,4.99,3.25,4.69,4.22,4.37,4.25,5.25,4.5,4.82,4.38,4.59,4.76,4.84,4.22,4.17,4.53,4.27,4.45,4.45,4.73,4.21,4.77,4.59,4.14,3.67,4.61,4.87,3.42,4.59,4.29,4.9,4.95,4.84,3.75,4.39,4.43,4.1,5.1,4.14,4.12,4.56,4.11,4.45,4.14,4.71,4.07,4.25,4.33,3.87,4.01,4.97,3.57,3.99,2.88,4.72,4.54,4.53,4.58,4.75,4.92,4.44,4.79,4.84,3.16,4.73,4.9,3.66,4.59,3.89,4.84,3.56,4.75,4.7,4.39,3.23,4.12,4.61,4.39,4.16,4.7,3.58,4.3,4.01,4.62,3.92,4.52,4.43,4.81,4.24,4.35,4.13,4.74,4.45,4.22,4.58,4.25,4.24,4.44,4.14,4.48,4.33,4.12,4.66,3.75,4.83,4.25,4.61,4.33,4.2,3.6,4.46,4.35,4.47,4.58,3.61,4.43,4.9,4.43,4.49,4.56,4.7,4.61,4.08,4.52,5.13,4.89,5.52,4.05,4.75,4.13,4.11,4.71,5.31,4.66,3.45,4.82,3.66,3.85,4.12,4.09,3.78,5.2,5.38,3.43,5.22,4.49,5.2,4.47,4.53,5.07,4.58,4.8,4.67,5.14,4.81,4.35,4.99,4.62,5.09,4.17,4.83,4.25,4.36,3.31,4.66,4.21,3.96,4.68,4.97,3.88,4.31,5.02,4.22,4.24,4.36,4.39,4.95,3.76,3.58,4.52,4.76,4.64,4.45,4.31,4.65,4.61,4.54,3.22,3.11,4.89,4.38,3.21,4.66,3.67,4.21,4.81,4.69,4.52,4.56,4.26,4.42,4.02,4.79,4.69,3.53,3.65,4.22,4.14,4.64,4.19,4.7,4.25,4.49,4.58,4.91,4.54,4.54,4.39,4.44,4.41,4.45,3.85,3.62,5.14,3.05,4.07,4.93,4.29,4.12,4.59,3.72,4.51,4.27,4.39,4.56,4.78,4.33,4.72,4.29,4.21,3.48,4.32,4.25,4.69,4.13,4.08,4.73,4.83,4.76,4.95,4.81,4.84,4.6,4.13,5.06,2.98,4.53,4.91,4.63,4.63,4.63,4.05,4.59,4.71,4.81,5.12,4.45,4.56,4.23,4.81,4.67,3.59,3.46,4.17,4.9,4.12,4.49,4.54,4.15,5.08,4.11,4.47,4.47,4.38,4.24,4.63,4.42,4.29,4.0,4.87,4.05,4.41,4.26,4.64,4.37,4.39,4.39,4.49,3.8,4.64,4.59,4.36,3.85,4.68,4.81,4.08,4.96,4.76,4.58,4.76,4.1,4.13,5.06,4.86,4.1,4.39,4.51,4.57,4.0,4.37,4.89,4.07,4.16,4.66,4.23,4.66,4.61,4.67,5.04,4.57,4.4,4.66,4.52,4.13,4.11,4.12,4.04,3.79,5.38,4.52,4.78,3.29,3.66,4.19,4.67,4.78,4.25,4.12,4.76,4.55,4.38,4.6,4.71,4.25,4.82,3.92,4.61,4.76,4.28,4.48,4.4,3.94,4.99,4.84,4.95,4.3,4.8,4.6,5.02,4.67,4.34,5.01,4.62,4.85,4.73,3.45,3.33,4.65,4.71,4.41,4.36,3.48,4.81,4.67,4.88,4.38,4.76,3.63,4.33,3.91,4.67,4.87,4.7,4.54,4.59,4.86,4.04,4.56,3.53,3.85,4.61,4.94,4.32,3.72,4.72,5.09,5.08,4.86,4.47,3.81,3.86,4.2,3.77,4.28,4.37,4.27,4.61,4.94,4.95,4.79,4.66,4.38,4.27,4.11,4.67,4.51,4.39,4.77,4.68,4.48,4.93,3.63,4.52,4.46,4.68,4.99,4.32,4.11,4.76,4.81,4.42,3.93,4.79,4.8,4.78,4.5,3.78,4.18,4.43,4.96,4.34,3.53,3.47,4.36,4.75,4.49,4.18,4.29,4.48,3.68,4.24,4.31,4.57,4.33,3.76,4.54,4.67,4.66,4.77,4.37,4.72,4.57,4.42,4.59,3.86,4.46,4.54,4.19,5.01,3.18,4.68,3.99,4.37,4.31,2.53,4.51,4.47,4.41,4.68,4.49,4.39,3.92,3.19,4.47,4.41,4.65,4.21,3.92,4.35,4.23,4.05,4.59,4.75,4.63,4.5,4.47,4.34,4.46,4.91,4.22,4.67,3.68,4.66,4.56,5.16,4.46,4.94,5.12,4.79,4.38,4.47,4.89,4.74,4.66,4.45,4.88,4.45,4.57,4.91,4.81,4.63,4.27,3.18,4.27,4.41,3.34,4.5,4.26,4.02,4.32,4.07,3.25,5.15,4.33,5.07,4.16,4.93,3.97,4.52,4.87,5.1,4.83,4.45,4.51,4.11,4.28,4.93,4.79,4.72,4.25,4.9,4.61,4.66,4.75,4.69,4.25,3.97,3.82,4.34,3.47,4.26,3.77,4.28,4.34,4.82,4.45,4.38,4.31,4.77,3.85,4.59,4.58,4.52,4.43,4.52,4.21,4.39,4.57,4.24,4.25,3.97,4.4,4.75,5.06,3.73,4.41,4.04,4.26,4.58,4.64,4.4,4.84,4.35,4.32,4.76,4.84,4.27,4.83,3.86,3.97,4.28,4.85,4.31,3.78,4.83,4.76,3.83,4.31,4.19,4.5,4.63,4.46,4.03,4.56,4.33,4.91,4.62,4.31,4.45,4.57,4.47,4.59,4.53,4.4,4.22,4.32,4.31,3.91,3.85,4.65,4.29,4.59,4.52,4.3,4.38,4.55,4.52,4.09,4.01,4.3,4.31,4.32,4.45,4.7,4.56,4.41,3.77,4.16,4.32,4.37,4.88,4.53,4.51,4.4,4.2,5.18,4.58,3.7,4.83,4.49,2.88,4.88,4.78,3.67,4.63,4.68,3.88,3.92,4.68,4.71,4.37,4.42,5.11,4.44,3.87,4.74,4.72,4.23,4.81,4.91,3.59,4.44,4.47,4.28,4.57,3.99,3.54,4.71,4.03,5.51,3.57,4.94,4.57,4.82,4.18,4.63,4.8,4.13,5.01,4.35,4.61,4.3,4.34,4.78,4.48,3.7,4.36,5.21,4.6,4.51,3.8,4.63,4.95,4.29,4.58,4.48,4.69,4.53,4.46,3.69,4.41,3.84,4.18,4.47,3.57,3.44,3.77,4.25,2.88,4.46,4.81,4.3,4.44,4.43,3.1,4.39,4.32,3.88,4.09,3.33,4.4,4.04,4.11,4.56,4.4,4.54,4.1,3.66,4.47,3.0,4.23,4.45,4.06,4.45,4.37,3.17,3.9,3.69,5.17,4.04,4.13,3.53,4.16,3.49,4.65,3.8,4.75,4.97,4.62,5.17,4.93,4.98,3.89,5.16,4.72,3.84,2.25,3.68,4.34,3.56,3.78,4.53,3.93,3.92,3.93,4.47,3.87,3.29,4.36,4.5,4.6,4.86,4.85,4.33,4.87,4.76,4.84,4.19,5.17,4.44,4.04,4.66,3.35,4.65,4.48,3.97,4.39,4.26,4.43,4.69,4.49,4.29,5.09,3.19,4.37,4.88,4.56,3.78,4.55,4.47,4.51,4.65,4.66,4.15,4.71,4.52,4.3,4.68,4.44,4.5,4.75,4.21,4.2,4.52,4.47,3.7,3.75,3.84,3.7,3.94,4.51,4.22,4.66,4.28,4.43,4.43,4.74,4.46,4.46,4.51,4.41,3.85,4.5,4.46,4.19,4.24,4.01,4.8,4.89,4.34,4.58,4.15,3.78,4.41,3.74,4.66,4.96,4.15,4.37,4.21,3.25,4.08,4.23,4.39,5.0,4.44,4.36,4.06,4.15,4.67,4.89,4.3,4.91,4.67,4.7,3.62,4.38,4.19,3.97,3.24,4.17,3.9,4.44,4.52,3.35,4.74,4.6,4.44,4.07,3.97,4.31,4.46,4.39,4.23,4.45,3.45,4.45,4.83,4.6,4.7,4.95,3.74,3.93,5.23,4.12,3.36,4.47,4.74,4.02,4.34,4.05,4.42,4.31,4.29,3.5,4.34,4.37,4.65,4.15,4.31,4.45,3.91,4.13,4.71,4.56,4.38,4.61,4.12,3.28,3.88,4.25,4.31,4.82,5.03,4.62,4.7,4.68,3.91,4.14,4.75,5.1,5.29,5.23,5.09,4.54,4.13,5.0,4.26,4.58,5.14,3.56,4.7,4.33,4.07,4.23,4.61,4.49,4.63,4.65,4.45,4.45,4.09,4.44,3.01,3.22,3.6,4.35,4.15,4.65,4.22,4.2,4.27,4.44,4.83,4.7,3.88,4.12,4.26,3.91,3.25,4.3,4.48,3.61,4.72,4.92,4.98,4.94,3.92,4.99,4.15,4.04,4.05,4.09,4.08,3.62,4.39,4.0,4.55,4.1,4.0,4.34,4.21,4.69,4.45,4.46,4.74,4.83,4.87,4.2,5.0,4.27,4.55,4.7,4.96,4.56,4.46,4.1,4.21,4.54,4.27,4.43,3.28,4.51,4.47,4.48,4.3,4.61,4.6,3.92,4.77,4.96,4.62,4.85,4.3,4.58,4.78,3.74,4.77,4.19,4.52,3.51,4.55,3.35,5.04,4.53,4.66,4.3,4.89,5.15,4.68,4.13,3.44,3.9,4.68,4.79,4.46,4.77,5.15,4.3,4.37,4.91,4.8,4.18,4.77,4.27,4.48,4.19,3.65,4.49,4.41,4.12,4.53,4.6,3.91,4.37,4.45,4.56,4.43,3.72,4.64,4.79,4.45,4.29,4.27,4.0,4.7,3.26,4.34,4.31,4.69,3.58,4.66,3.3,3.71,4.0,3.23,5.03,4.93,4.25,4.67,4.66,4.5,5.04,5.02,4.59,4.54,5.02,4.59,4.57,4.34,4.74,3.11,4.16,4.3,4.16,4.34,4.1,3.85,4.45,4.52,4.11,3.3,3.96,4.15,3.33,4.19,4.54,4.84,3.98,3.44,4.49,3.88,4.6,4.53,4.38,4.84,4.64,4.2,4.19,4.24,4.76,3.84,4.42,4.55,4.93,3.74,4.37,4.47,4.35,4.84,4.82,4.49,4.6,4.66,4.52,3.63,4.49,4.69,4.87,4.4,4.82,4.94,4.56,4.87,4.32,4.8,5.0,3.86,4.4,4.39,4.46,4.68,4.62,4.68,4.42,4.57,4.47,4.32,4.96,4.07,4.89,4.12,3.95,4.38,4.97,4.48,3.22,4.33,3.82,3.68,3.56,4.44,4.19,3.87,4.61,4.96,3.43,4.32,4.67,4.36,3.52,4.35,4.57,3.35,3.61,4.11,4.81,4.82,4.6,3.91,4.31,4.52,3.3,3.99,4.2,4.73,4.37,4.06,3.9,4.78,4.76,4.46,4.32,4.47,4.36,3.7,4.76,4.05,4.06,4.67,4.56,4.75,4.51,4.76,3.72,4.86,4.76,3.48,3.74,4.21,4.54,4.38,4.48,4.22,4.61,4.0,4.69,4.7,3.82,3.65,4.63,3.91,4.25,4.65,4.28,2.96,4.27,4.01,4.83,4.77,4.5,5.16,4.67,4.5,4.35,4.19,4.03,4.43,4.66,4.33,4.18,5.28,4.07,4.01,4.16,4.82,4.88,4.57,4.78,3.95,3.37,3.94,3.44,3.7,3.05,3.97,3.83,4.32,4.42,3.88,3.97,4.24,3.77,3.9,4.1,4.59,2.76,4.41,4.61,3.42,4.19,3.74,4.75,4.62,4.48,4.72,4.74,4.33,4.38,4.34,3.26,1.22,3.97,3.85,4.11,4.49,3.07,3.91,4.44,4.01,4.05,4.27,4.36,4.75,3.37,3.95,4.81,4.44,4.41,3.6,4.43,3.98,4.55,4.2,3.27,4.38,4.16,4.18,4.29,4.24,4.37,3.95,4.46,3.47,4.48,4.31,4.8,4.04,4.33,4.27,4.66,4.35,4.57,4.24,4.21,4.83,4.87,4.31,4.69,4.33,4.73,4.17,4.32,4.31,4.34,4.94,4.06,4.34,4.28,4.01,4.28,4.68,4.87,4.73,3.47,4.71,4.32,4.54,4.71,4.42,4.57,4.13,4.87,3.24,4.52,3.87,5.06,4.62,4.62,4.62,3.89,4.74,4.63,4.39,4.16,4.75,4.91,4.75,4.2,4.53,3.57,4.9,4.47,3.91,4.36,4.19,4.57,4.44,4.39,4.48,3.98,4.28,4.66,5.03,3.72,4.04,4.73,4.58,4.14,4.64,4.28,4.5,4.1,3.91,4.24,4.05,4.19,4.42,4.46,4.56,3.79,4.28,4.37,4.24,5.42,4.08,5.19,3.22,3.74,4.31,3.78,4.38,5.08,4.62,4.31,4.78,4.61,3.09,2.43,3.33,4.16,3.97,4.17,4.29,3.7,4.49,4.03,4.12,4.59,3.94,3.57,4.21,4.43,4.22,4.62,4.32,4.73,4.61,4.79,4.36,4.71,4.47,4.7,4.08,4.99,4.63,4.95,4.3,3.87,4.31,4.27,4.56,4.78,4.49,3.93,4.3,3.43,3.41,4.7,4.45,4.61,4.72,4.64,4.71,4.31,3.65,3.44,4.76,4.92,4.71,4.62,4.25,4.82,4.69,4.66,4.03,4.4,4.56,4.17,4.22,3.32,4.34,4.63,4.06,4.46,4.45,4.69,4.38,4.28,4.68,4.75,4.66,5.03,4.06,3.86,5.11,4.36,3.97,4.71,3.95,4.71,4.95,3.98,4.49,4.71,4.14,4.96,4.15,2.76,4.02,4.62,4.39,4.04,4.34,4.34,4.12,3.89,4.11,4.15,3.75,4.65,4.29,4.79,4.45,4.08,4.66,4.49,4.39,4.42,3.98,4.32,4.16,3.9,4.1,4.08,4.73,4.7,4.43,4.84,4.95,4.56,4.13,4.43,4.2,3.82,3.95,4.0,4.16,4.24,4.66,4.08,4.27,3.77,4.42,4.19,4.25,2.99,3.81,4.34,4.77,4.28,3.01,3.82,3.88,3.34,3.31,5.0,4.77,5.1,3.41,4.14,3.39,3.72,4.4,4.55,5.2,4.79,4.17,3.86,4.33,3.83,4.41,2.85,4.05,4.21,3.98,4.17,4.08,4.13,4.19,5.11,4.19,4.58,4.73,3.94,3.44,4.75,4.81,4.47,4.63,3.47,4.74,4.51,4.19,4.44,4.51,4.71,4.92,4.41,4.62,4.2,3.96,4.24,4.35,4.68,4.12,4.35,4.34,4.74,4.53,2.77,4.37,2.3,4.55,4.33,4.04,4.25,4.43,4.19,4.04,3.88,4.25,4.41,4.68,4.9,4.41,3.88,4.31,4.49,5.05,4.54,3.88,4.33,3.99,4.3,5.18,3.21,4.4,3.96,4.78,3.85,2.95,4.51,4.68,4.65,3.35,4.35,3.43,4.2,4.4,4.43,4.29,5.09,4.21,4.1,4.28,4.58,4.13,4.79,4.32,4.24,4.39,4.62,4.29,3.21,4.11,3.99,5.05,4.08,4.94,3.82,3.96,5.08,3.12,4.08,4.42,4.35,4.76,4.21,4.45,4.88,4.34,4.36,4.29,4.53,3.59,4.04,4.28,4.29,5.21,5.19,4.58,4.48,4.69,4.61,4.24,4.54,4.15,3.81,4.73,3.45,4.25,4.37,3.75,4.48,3.99,4.77,4.84,2.83,4.13,4.29,4.66,4.39,4.32,3.66,4.17,4.38,4.63,4.59,4.31,4.44,3.22,3.83,4.28,4.0,3.85,4.21,4.55,4.37,4.67,3.49,3.08,4.55,4.37,4.44,3.95,3.61,4.2,4.55,4.06,4.4,4.5,4.18,4.84,4.04,4.27,4.43,3.64,5.01,4.68,4.01,4.14,4.09,4.21,4.55,4.19,3.01,4.29,4.38,4.58,3.98,4.1,4.72,4.77,4.71,4.83,3.71,4.41,4.87,4.05,4.89,4.4,4.84,5.11,4.13,4.1,3.75,4.75,3.81,4.29,4.85,4.0,4.53,4.06,3.95,4.52,4.57,4.26,3.92,4.25,3.42,4.4,4.52,4.23,3.59,4.46,4.86,4.61,4.2,4.79,4.7,4.24,3.83,4.2,3.41,4.15,4.94,4.65,3.89,4.29,4.21,4.62,4.63,4.74,4.49,4.43,3.81,3.59,4.4,4.15,4.71,4.28,4.94,5.03,4.01,4.43,4.63,3.75,3.58,4.62,5.03,4.65,4.19,4.96,4.05,4.2,4.48,4.92,4.64,4.54,4.94,4.54,4.7,4.88,4.4,2.88,4.2,3.91,4.45,4.42,4.55,3.83,3.72,3.03,3.81,4.31,3.8,4.37,4.32,4.86,4.37,4.73,4.55,4.31,4.13,4.05,4.19,4.69,4.6,4.48,4.26,4.56,3.81,4.34,4.54,4.57,4.24,3.69,4.27,4.49,4.19,4.19,4.68,3.98,4.53,4.31,4.45,4.49,4.39,4.77,4.68,4.24,3.98,4.1,3.8,4.46,4.78,4.6,4.81,4.04,3.84,4.17,3.34,4.61,4.52,4.4,4.23,4.85,3.84,4.05,4.95,3.85,4.08,4.48,5.14,4.68,3.71,4.96,5.16,5.11,4.59,4.32,3.77,3.33,4.02,4.96,3.9,4.12,4.29,4.88,5.02,4.54,4.34,4.6,4.65,4.28,4.75,4.87,5.06,4.79,4.82,4.95,4.51,4.52,4.55,4.25,4.34,4.61,4.58,4.27,3.19,4.82,5.1,4.43,4.64,4.16,4.38,4.61,4.77,4.73,4.82,3.57,3.99,4.73,4.8,4.55,4.44,4.18,4.37,4.0,4.22,3.97,4.51,3.72,4.46,4.45,4.05,4.22,4.98,4.37,4.71,4.22,4.73,2.98,4.28,4.55,4.59,4.24,4.95,4.17,4.17,4.49,4.33,4.5,4.85,4.04,3.53,4.26,3.58,4.86,3.84,3.85,4.33,4.46,4.19,4.96,5.21,4.03,3.77,4.22,4.09,5.25,5.38,4.24,5.03,4.83,3.85,3.84,4.4,4.0,4.56,4.9,4.65,4.44,4.68,4.77,4.91,3.96,4.21,3.31,3.64,3.85,4.56,4.03,4.39,4.79,4.01,4.57,4.88,4.79,3.69,4.29,5.05,3.91,4.22,3.57,4.61,4.12,4.65,4.25,4.73,3.39,4.48,4.84,4.81,4.98,4.27,3.85,4.59,4.24,3.95,4.79,4.61,4.61,4.68,4.49,4.43,3.72,4.48,4.74,4.88,4.46,4.33,4.51,4.36,4.54,4.5,3.58,3.84,2.75,5.04,4.73,4.19,3.93,3.63,3.86,4.15,4.7,4.28,5.01,4.89,4.61,4.23,4.29,4.21,4.47,4.16,4.18,3.36,4.94,4.53,4.04,4.41,4.3,4.59,3.87,4.2,4.44,3.57,4.32,4.52,4.53,3.89,3.9,4.72,3.35,4.7,4.36,4.77,3.63,4.55,4.27,4.54,4.74,4.67,4.57,4.96,4.28,4.49,5.16,4.41,4.6,4.52,4.41,4.45,4.42,3.99,5.13,4.92,4.69,4.48,4.23,4.78,4.77,4.32,4.84,3.94,3.9,3.19,4.13,3.89,4.2,4.43,4.35,4.6,4.57,4.27,4.72,4.43,4.57,5.09,3.59,4.62,3.76,4.57,5.11,4.7,5.24,4.96,3.8,4.1,4.31,3.53,3.35,4.38,3.43,4.05,4.39,4.63,3.75,4.39,4.34,3.79,4.72,4.64,4.84,4.5,5.06,4.51,4.82,3.91,4.19,4.26,4.54,4.73,3.97,4.81,4.14,5.08,3.05,4.34,4.3,5.05,4.74,4.56,3.71,4.75,4.71,4.38,4.38,3.86,4.49,3.08,4.3,3.33,4.09,3.77,3.55,4.34,4.19,4.14,4.16,4.11,4.94,4.85,4.66,4.69,4.03,4.38,4.59,5.4,3.98,4.2,4.86,3.91,4.73,5.16,5.01,4.77,4.93,3.92,4.7,4.5,5.12,4.81,4.4,4.69,4.71,4.55,4.5,4.74,4.85,4.24,4.51,4.66,3.64,4.63,4.31,4.71,4.85,4.58,3.42,5.15,4.41,4.86,4.87,4.41,4.99,4.59,4.5,4.23,3.86,4.72,4.52,4.48,4.24,4.47,4.43,4.65,4.1,4.23,3.81,4.43,5.17,3.94,4.64,4.52,5.23,4.22,3.42,3.89,3.09,4.16,4.45,4.45,3.93,4.55,4.45,4.95,4.83,4.45,4.92,4.42,4.2,4.21,4.99,4.58,4.22,4.62,4.45,4.62,4.31,4.14,5.04,4.0,3.57,3.75,5.69,3.32,5.22,4.82,4.89,4.33,4.51,3.22,4.73,3.64,4.55,4.5,4.52,4.16,5.17,4.75,4.39,4.46,4.6,4.61,3.78,4.52,4.12,3.78,4.95,4.63,4.87,3.67,3.55,4.48,4.13,4.13,3.77,3.99,4.88,4.68,4.77,5.05,4.23,4.3,4.74,4.89,5.08,4.14,4.19,4.69,3.54,3.88,4.02,3.99,3.09,3.89,4.68,4.52,4.45,4.28,4.45,4.42,4.71,4.44,4.41,4.87,4.62,4.56,5.2,4.21,4.69,4.3,4.16,3.56,4.45,4.66,3.67,4.24,4.43,4.83,4.34,4.16,4.04,4.1,4.4,4.03,4.59,3.55,4.09,3.89,4.62,4.1,4.2,4.05,4.77,4.77,4.03,4.74,3.84,4.51,4.52,4.71,3.5,4.6,4.43,4.37,4.17,4.17,4.86,4.49,4.68,4.97,4.22,4.57,4.72,4.86,4.38,3.24,4.91,5.04,4.29,4.7,4.25,4.75,4.79,5.06,4.54,4.4,4.92,4.47,4.57,3.98,4.48,4.43,3.37,4.52,4.2,4.73,5.07,4.38,3.32,4.3,4.36,4.41,4.66,4.52,4.75,4.44,4.25,3.58,4.18,4.64,4.24,4.52,4.66,4.45,4.66,4.43,4.61,4.99,3.76,3.77,4.28,4.32,4.9,4.21,4.3,3.69,4.54,4.38,3.67,4.63,4.86,5.1,5.03,4.79,4.68,4.58,3.91,3.7,5.25,4.79,4.46,5.17,3.97,4.46,4.51,4.77,4.59,4.54,4.76,5.34,4.1,4.9,4.96,5.1,4.06,3.46,4.19,3.72,4.13,4.53,4.66,4.21,4.73,3.4,4.32,4.35,4.22,4.35,4.89,4.58,3.86,3.47,4.48,4.31,4.4,3.96,4.88,4.11,4.66,3.95,4.45,4.74,5.02,4.95,4.54,4.29,4.06,3.98,4.81,4.4,4.67,4.92,5.06,3.06,3.69,3.97,4.53,3.68,4.15,4.6,4.0,4.44,4.66,5.01,4.57,5.11,4.91,4.48,3.79,4.53,4.54,4.11,2.79,4.31,4.22,4.72,4.35,3.96,3.36,3.76,4.3,4.2,4.21,3.6,3.98,4.35,3.8,4.41,4.59,5.12,4.05,4.94,4.69,4.54,4.43,4.35,2.44,4.24,3.47,4.77,4.86,4.77,5.02,4.43,4.36,4.18,4.42,4.67,4.28,4.02,4.74,4.18,4.43,4.37,5.02,5.02,4.64,4.79,3.71,4.29,4.83,4.15,4.33,3.23,4.09,4.41,3.98,4.2,3.82,4.34,4.35,4.36,3.82,4.71,4.46,4.72,4.13,4.27,4.13,4.61,3.88,4.22,4.26,3.1,4.48,5.06,4.13,3.91,4.69,4.23,4.5,4.04,3.55,4.17,3.98,4.22,4.61,3.97,4.45,4.37,4.39,4.49,4.26,3.29,4.53,3.85,3.43,4.12,4.26,4.54,3.68,4.66,4.4,4.39,4.19,4.56,4.32,4.58,4.23,4.45,4.3,3.94,4.32,4.52,4.61,4.09,3.91,4.35,4.11,3.81,4.55,4.33,4.49,4.01,4.31,3.19,4.42,4.5,4.2,4.23,4.82,3.19,3.86,3.95,3.97,2.78,4.75,4.41,4.07,4.63,5.43,4.81,3.73,3.08,4.38,4.68,4.03,4.25,3.86,4.47,4.47,3.41,4.37,3.77,3.44,3.66,4.56,4.69,4.82,4.23,4.73,4.44,4.44,4.3,4.7,4.27,4.24,4.78,4.68,4.65,4.88,3.71,4.22,3.62,4.42,4.64,4.66,4.22,3.79,4.31,4.54,3.1,3.13,5.12,4.61,4.79,5.03,2.64,4.01,4.15,3.87,4.98,3.68,3.1,4.09,3.68,4.95,4.52,4.16,4.26,4.05,4.29,4.96,5.26,5.28,5.36,3.9,4.4,3.46,3.27,4.45,4.36,3.64,3.64,3.93,3.7,4.2,4.0,4.78,4.55,4.49,4.48,4.81,4.88,4.0,4.16,3.76,4.58,4.16,4.92,4.12,4.45,4.53,4.44,5.16,4.0,3.75,4.73,4.84,3.2,4.53,4.85,4.06,3.35,3.19,4.8,4.47,4.23,4.11,3.88,3.49,3.9,4.3,4.74,4.12,4.99,4.28,3.52,4.39,4.61,4.74,4.83,4.06,4.58,4.13,5.0,4.74,3.94,4.7,4.39,3.99,4.34,4.15,4.33,3.75,4.22,4.59,4.07,3.47,4.27,4.6,3.85,4.24,3.98,4.53,4.28,4.12,3.69,3.76,4.28,3.15,4.08,4.2,4.31,3.3,4.21,3.35,3.7,4.42,3.9,4.5,4.65,4.94,4.27,4.93,4.45,5.15,4.42,4.28,3.29,3.28,4.15,4.32,4.7,4.08,4.09,4.72,3.47,4.42,4.0,3.4,4.63,4.6,4.71,4.55,4.99,4.17,4.22,4.16,4.39,4.66,4.71,4.35,4.55,4.09,4.46,4.51,4.46,4.53,3.88,4.08,4.31,4.51,4.38,3.88,4.16,4.68,4.83,4.66,4.01,4.28,4.65,4.67,4.16,4.65,4.88,4.6,4.8,4.48,3.38,3.78,4.35,4.73,4.32,4.71,4.34,5.0,4.74,5.15,4.19,4.24,4.76,4.01,4.6,4.52,4.74,4.2,3.9,4.44,4.17,4.87,4.26,4.55,4.55,4.64,4.56,4.43,4.3,4.6,4.01,4.58,4.14,4.19,4.82,3.92,4.35,5.15,4.02,4.85,4.54,4.46,4.3,4.28,4.69,4.51,4.62,3.07,4.32,4.67,4.13,4.22,3.68,4.12,3.4,4.57,4.36,4.76,4.44,4.69,4.44,4.65,4.39,4.04,4.47,3.57,4.29,4.57,4.7,4.11,4.42,4.25,4.46,3.97,4.49,4.04,4.41,4.26,4.83,3.52,3.87,4.36,4.21,4.7,4.77,4.59,4.43,4.76,4.63,4.21,3.2,4.7,4.08,4.76,4.37,4.41,4.32,4.41,4.58,3.73,4.21,4.53,4.61,4.15,4.33,4.27,3.51,4.25,4.35,4.05,4.6,3.1,3.75,4.66,4.48,4.55,3.92,4.64,4.41,3.97,4.45,4.41,4.72,4.4,4.46,4.4,4.59,3.62,4.3,4.96,4.97,3.46,4.8,4.53,4.26,5.12,4.16,4.57,4.03,5.07,5.17,3.78,4.81,4.28,4.33,4.43,4.76,4.11,4.56,4.92,4.22,3.91,4.29,4.33,4.46,4.67,4.22,4.54,4.4,4.37,4.49,4.65,4.04,2.94,4.17,5.07,3.95,4.23,3.46,4.26,4.65,4.12,4.03,4.31,3.91,4.14,3.78,3.93,4.73,4.57,4.92,4.75,4.52,4.82,4.57,4.78,3.89,4.84,4.44,4.4,4.92,3.64,4.62,4.63,4.65,4.39,4.3,4.43,4.3,4.32,3.5,4.82,3.92,4.05,4.14,4.12,4.2,4.1,4.85,3.76,4.49,4.71,3.88,4.77,4.08,4.41,3.75,4.76,3.47,4.09,4.16,4.06,3.76,4.49,4.63,4.08,4.56,3.65,4.05,4.83,5.17,4.47,3.92,4.6,5.06,3.01,4.32,4.24,4.61,4.27,4.23,4.55,3.7,3.97,3.88,3.88,4.76,4.44,5.15,4.3,3.98,4.15,4.15,4.24,4.47,4.23,4.83,4.58,4.75,4.64,4.49,4.61,4.71,4.59,5.0,4.66,4.12,4.74,3.62,4.95,3.38,4.36,4.51,4.04,4.36,4.96,4.12,4.39,4.19,4.39,4.53,4.08,4.52,3.45,4.35,4.47,3.19,4.71,3.9,4.08,3.05,4.35,3.21,4.51,3.8,4.2,4.99,5.3,4.97,4.28,3.49,4.96,4.83,4.58,4.22,4.08,4.46,4.6,4.95,4.34,4.03,4.6,4.54,4.85,4.2,5.02,4.59,3.95,4.46,4.38,4.26,4.51,3.81,4.68,4.04,4.02,4.54,4.53,3.59,4.17,5.04,4.25,3.96,4.08,4.0,3.32,4.36,4.9,4.17,4.19,4.65,4.17,4.62,3.5,4.45,4.2,4.82,4.4,4.37,4.65,4.21,3.82,4.27,4.66,4.34,4.77,4.65,4.92,4.55,4.71,4.46,4.58,4.08,4.52,4.54,4.64,4.7,3.92,4.81,4.21,5.08,4.46,4.62,3.94,4.56,4.27,3.94,4.37,4.92,4.36,4.66,3.86,4.49,4.91,4.21,3.6,4.69,4.45,4.72,4.49,3.88,4.48,4.16,5.2,4.58,4.38,4.0,4.43,5.12,4.75,4.56,5.3,4.3,4.84,4.47,4.06,4.8,4.76,4.78,4.41,4.32,3.67,4.85,4.85,4.02,4.69,5.43,3.8,4.36,4.71,4.8,4.44,4.32,4.76,4.65,4.93,4.17,4.18,4.72,4.76,4.29,4.64,4.49,3.88,3.89,3.25,3.99,4.5,4.22,4.6,3.97,4.07,3.81,3.93,4.77,4.22,3.95,3.79,4.24,3.4,4.62,4.55,4.22,4.45,3.97,4.65,3.83,4.59,4.4,4.14,4.29,3.41,3.75,3.94,4.17,4.2,5.07,4.31,4.89,4.21,4.38,4.48,4.63,4.61,4.49,4.84,3.76,5.07,4.72,4.58,4.82,4.23,4.37,4.56,4.81,4.57,4.64,4.26,4.52,3.96,4.48,5.0,4.16,3.28,4.58,4.43,3.59,4.69,4.37,4.44,4.41,4.8,5.22,4.56,4.35,3.99,5.03,3.96,4.89,4.58,4.04,4.63,4.61,4.66,4.17,4.24,4.21,3.47,4.02,3.99,3.33,4.87,3.99,4.05,3.95,4.59,4.03,4.26,4.25,4.21,4.21,4.23,3.99,4.87,4.21,4.54,3.82,4.56,5.01,4.19,4.57,4.52,4.04,4.58,5.29,4.58,4.57,4.05,4.54,4.51,4.15,3.98,5.02,4.62,4.54,4.31,4.25,4.29,4.54,4.74,4.46,4.14,4.28,4.33,4.37,4.4,4.39,4.54,4.29,4.62,4.3,4.77,4.11,4.11,4.58,4.24,4.69,4.09,4.28,4.47,4.39,4.59,4.25,4.5,4.72,3.78,4.85,4.26,4.54,5.14,3.84,4.23,4.49,3.87,4.63,4.87,4.81,3.78,4.16,4.78,4.38,3.81,4.26,4.02,4.67,4.21,3.97,4.67,4.29,3.86,4.0,3.83,4.81,4.85,4.66,4.38,5.27,4.44,4.6,5.12,3.51,4.5,3.93,4.15,4.05,3.85,4.64,4.69,4.16,4.38,4.13,4.79,4.6,4.21,4.81,4.25,4.55,5.18,4.91,4.01,3.64,3.98,3.85,4.2,4.03,3.01,4.37,4.12,4.59,4.63,4.55,3.67,4.51,4.44,4.65,4.66,4.46,4.71,3.64,3.78,2.99,3.67,4.24,4.21,4.47,4.62,4.08,4.48,4.27,4.47,4.39,3.86,4.45,4.45,4.11,4.28,4.26,4.33,4.8,4.1,2.89,4.23,4.84,4.33,4.44,4.06,4.31,4.02,4.42,4.26,4.54,4.56,3.83,4.25,4.11,3.9,4.08,4.02,4.11,4.28,4.12,4.31,3.36,5.03,5.02,4.31,4.28,4.99,4.8,4.44,4.06,4.44,4.68,4.63,4.69,3.24,4.6,4.5,4.67,3.61,4.25,4.62,4.07,4.29,4.62,4.25,4.76,4.63,4.43,4.5,4.8,3.36,4.69,4.19],\"yaxis\":\"y\",\"type\":\"scattergl\"},{\"alignmentgroup\":\"True\",\"bingroup\":\"x\",\"hovertemplate\":\"operationTime=%{x}\\u003cbr\\u003ecount=%{y}\\u003cextra\\u003e\\u003c\\u002fextra\\u003e\",\"legendgroup\":\"\",\"marker\":{\"color\":\"#636efa\"},\"name\":\"\",\"offsetgroup\":\"\",\"opacity\":0.5,\"showlegend\":false,\"x\":[2.12,2.0,2.19,2.0,2.12,2.04,2.35,2.1,2.12,2.03,2.09,2.11,2.15,2.03,2.05,2.16,2.25,2.2,2.1,2.21,2.25,2.25,2.08,2.25,2.22,2.07,2.26,2.17,2.19,2.06,2.06,2.25,2.14,2.28,2.3,2.37,2.09,2.31,2.28,2.17,2.27,2.23,2.14,2.21,2.19,2.25,2.05,2.05,2.07,2.11,2.33,2.18,1.49,2.31,2.12,2.2,2.27,2.23,2.14,2.09,2.1,2.24,2.04,1.98,2.13,2.07,2.17,2.23,2.21,2.36,2.24,2.26,2.32,2.12,2.31,2.19,2.28,2.43,2.09,2.07,1.94,1.99,2.15,2.12,2.02,2.03,2.08,2.03,2.07,2.17,2.16,2.11,2.14,2.23,2.25,2.16,2.2,2.17,2.15,2.22,2.08,2.18,2.03,2.28,2.22,2.1,2.29,2.04,2.24,2.03,2.24,1.98,2.27,2.29,2.05,2.17,1.98,2.36,2.19,2.06,2.32,2.19,2.1,2.01,2.33,2.21,2.26,2.17,2.21,2.1,2.26,2.23,2.12,2.15,2.29,2.32,2.27,2.26,2.17,2.23,2.08,2.33,2.31,2.35,2.18,1.97,2.13,2.23,2.23,2.11,2.15,2.05,2.12,2.26,2.06,2.05,2.07,2.04,2.19,2.16,2.05,2.07,2.23,2.01,1.98,1.86,1.99,2.04,2.09,2.12,2.13,2.22,2.19,2.09,2.1,2.23,2.31,2.29,2.03,1.97,2.15,2.11,2.05,2.08,1.94,2.07,2.13,2.08,2.07,2.14,2.04,2.11,2.05,1.99,2.08,2.01,2.01,2.03,2.14,2.06,2.09,2.19,2.06,2.01,2.11,2.25,2.12,2.19,1.93,2.19,2.14,2.18,2.19,2.12,2.24,2.23,2.01,2.18,2.36,2.05,2.28,2.09,2.12,2.25,2.23,2.1,2.15,2.13,2.09,2.12,2.06,2.16,2.07,2.09,1.97,2.15,2.15,2.32,2.35,2.2,1.98,2.15,2.18,2.18,2.07,2.18,2.1,2.23,2.12,2.14,2.09,2.01,2.01,2.06,2.17,1.85,1.96,2.04,2.2,2.01,2.08,1.9,2.06,1.87,2.08,2.07,2.1,2.04,1.95,2.31,2.0,2.23,1.65,1.94,2.16,2.1,2.29,2.06,2.26,2.16,2.02,2.24,2.24,2.05,2.17,2.06,2.19,2.31,2.2,2.27,2.24,2.05,2.15,2.18,2.22,2.07,2.21,2.01,2.12,2.12,2.29,2.02,2.13,2.24,2.14,2.08,2.13,2.41,2.29,2.26,2.27,2.13,2.04,2.03,2.03,2.06,2.2,2.06,2.15,2.13,1.97,2.19,1.88,2.14,2.1,2.16,2.19,2.03,2.1,2.13,2.11,2.13,1.8,1.9,2.1,2.07,2.16,2.25,2.11,2.19,2.18,2.13,2.16,2.08,2.13,2.19,2.28,2.15,2.02,2.18,2.21,2.06,2.2,2.14,2.07,2.15,2.02,2.28,2.06,2.29,2.28,2.09,2.16,2.36,2.08,2.4,2.0,2.34,2.17,2.22,2.27,2.14,2.1,1.89,2.08,2.15,2.03,2.19,1.91,1.94,2.1,1.91,2.06,2.05,2.01,1.99,2.09,1.97,2.01,1.95,2.16,2.45,2.2,2.13,2.24,2.25,2.0,2.18,2.03,2.09,2.2,2.16,2.15,2.18,2.17,2.14,1.95,2.06,2.46,2.17,2.14,2.31,2.1,2.09,2.12,2.05,2.14,2.11,2.03,2.05,2.09,2.09,2.1,2.05,2.12,2.11,2.32,2.21,2.05,2.11,2.0,2.3,2.25,2.25,2.32,2.18,2.15,2.01,2.21,2.08,2.09,1.95,2.21,1.94,2.25,2.0,2.04,2.13,1.99,2.03,2.01,2.08,1.9,2.1,2.07,2.08,1.99,2.19,2.15,1.93,2.19,2.19,2.19,2.14,2.16,1.99,2.02,2.12,2.08,2.14,2.0,2.03,1.98,2.06,2.11,1.97,2.02,2.17,2.04,2.16,2.12,2.12,2.24,1.93,2.02,2.21,2.07,2.14,2.27,2.27,2.25,2.03,2.24,2.13,2.06,2.18,2.16,2.02,2.27,2.11,2.2,2.16,1.99,1.91,2.2,2.16,1.99,2.08,2.23,2.43,2.22,2.17,2.2,2.18,2.18,2.13,2.15,2.19,2.07,2.16,2.17,2.18,2.23,2.0,2.11,1.82,2.13,2.14,2.11,2.25,2.26,2.23,2.23,2.36,2.05,2.07,2.0,2.11,2.01,2.1,2.24,2.05,2.16,2.25,2.08,2.04,2.19,2.04,1.85,2.19,2.24,2.1,2.09,2.09,2.11,2.06,2.1,2.03,2.15,2.15,2.13,2.21,2.09,2.04,2.09,2.09,2.17,2.0,2.11,2.08,2.09,2.03,2.02,2.12,2.24,2.02,2.32,2.26,2.21,2.24,2.07,2.1,2.06,2.1,1.97,2.04,2.05,2.11,2.04,2.15,1.87,2.23,2.24,2.21,2.27,2.24,1.89,2.17,2.19,2.35,2.08,2.11,2.05,2.09,2.08,2.06,2.21,2.11,2.17,2.18,1.98,2.15,2.15,2.25,2.12,2.16,2.06,1.96,2.27,2.01,2.02,2.17,1.94,1.76,1.98,2.06,2.0,2.06,2.01,2.23,2.06,2.04,2.09,2.16,2.35,2.26,2.21,2.17,2.04,2.31,2.55,2.02,2.14,2.13,2.03,2.18,2.29,2.19,2.12,2.07,2.31,2.2,2.2,2.2,2.25,2.18,2.2,2.05,2.22,2.07,2.1,2.2,2.09,2.17,2.21,2.08,2.31,2.04,2.12,2.27,2.11,2.06,2.19,2.1,2.07,1.98,2.09,2.01,2.0,2.27,2.07,2.1,1.92,2.1,2.17,2.14,2.26,2.22,2.07,2.0,1.82,2.09,2.2,2.12,2.06,2.2,2.14,2.28,2.22,1.84,1.88,2.17,2.0,2.13,2.02,2.1,2.07,2.03,1.66,2.07,2.06,2.11,2.07,2.19,2.22,2.24,2.07,2.25,2.04,2.19,2.31,2.11,2.32,2.21,2.28,2.13,2.13,2.11,2.08,2.1,2.09,2.06,2.12,2.18,2.14,2.09,2.13,2.16,1.98,2.4,2.05,2.22,2.2,2.22,2.13,2.34,2.01,2.19,2.11,2.15,2.15,2.16,2.23,2.13,2.19,2.02,2.22,2.13,2.06,2.06,2.13,2.23,2.01,2.22,2.21,2.0,2.08,2.05,2.25,2.23,2.24,2.27,2.17,2.16,2.36,2.3,2.06,2.17,2.04,2.14,2.05,2.19,2.13,2.13,2.16,2.17,2.17,1.98,2.3,2.22,1.93,2.27,1.93,1.84,1.82,1.92,2.22,2.01,2.33,2.26,2.27,2.2,2.09,2.27,2.07,2.18,2.14,1.82,2.16,2.09,2.1,3.2,2.21,2.15,2.04,2.1,2.18,1.8,2.04,2.21,2.05,2.15,2.13,2.05,2.17,2.14,2.11,2.06,2.11,2.01,2.01,2.05,2.12,2.08,2.06,2.01,2.19,2.02,1.99,2.03,2.12,2.07,2.0,2.12,2.06,2.12,1.98,2.12,2.06,2.21,2.16,2.09,2.06,2.06,2.39,1.9,2.29,2.1,2.27,1.83,2.04,2.22,2.15,2.28,2.42,2.22,2.3,2.33,2.06,2.15,1.76,2.04,1.9,2.09,2.04,2.71,1.71,2.13,2.03,2.0,2.09,2.07,2.14,2.12,2.05,2.11,2.04,2.14,2.07,2.07,2.08,2.01,2.2,2.09,2.14,2.12,2.16,2.16,2.15,2.05,2.0,2.13,2.09,2.11,2.26,2.12,2.01,2.1,2.15,1.92,2.2,2.04,2.16,2.18,1.98,1.93,1.85,2.19,2.14,2.14,2.15,2.16,2.11,2.14,2.07,2.12,2.31,2.17,2.07,2.09,2.2,2.12,1.86,2.26,2.05,2.16,2.0,2.21,2.05,2.0,2.09,2.19,2.26,2.05,2.12,2.22,2.12,2.14,2.02,1.86,2.02,2.02,1.88,2.0,2.21,2.15,2.07,2.19,2.22,2.18,2.16,2.15,2.03,2.24,2.07,2.09,2.13,2.07,2.08,2.02,2.12,2.06,2.24,2.0,2.15,2.04,2.02,2.51,2.0,2.21,2.13,2.09,2.24,2.05,2.03,2.09,2.07,2.15,2.13,2.04,2.02,2.21,2.07,2.13,2.15,2.08,2.16,2.03,2.05,2.11,2.14,2.05,2.06,2.11,2.14,2.13,2.2,2.08,2.13,2.08,2.12,2.1,2.04,2.13,2.13,2.08,2.09,2.11,1.98,2.15,2.11,2.11,2.15,2.02,2.07,2.12,2.1,2.23,1.93,2.02,2.28,2.12,2.18,2.07,2.25,1.86,2.13,2.15,2.19,2.36,2.16,2.26,1.97,2.15,1.95,2.19,2.07,2.08,2.07,2.26,2.45,2.09,2.17,2.17,2.15,2.02,2.08,2.11,2.13,2.15,2.03,2.17,2.0,1.92,2.04,2.21,2.06,2.06,2.17,2.06,2.04,2.13,2.1,2.21,2.13,2.04,2.07,2.18,2.25,2.24,2.17,2.24,2.3,2.09,2.25,2.17,2.08,2.01,2.13,2.07,2.21,2.13,2.15,2.15,2.15,2.19,2.27,1.99,2.14,2.12,2.07,2.15,1.86,1.9,2.15,2.17,2.14,2.17,2.08,2.29,2.23,2.22,2.17,2.14,2.03,2.08,2.21,1.97,2.18,2.17,2.32,2.32,2.2,2.22,2.25,2.32,2.0,2.19,2.12,2.03,2.24,2.29,2.19,2.23,2.12,2.11,2.02,2.09,2.17,2.19,2.15,2.17,2.06,2.09,2.19,2.1,2.04,2.09,2.06,1.94,1.76,2.19,2.1,2.03,2.28,2.2,2.13,2.16,2.2,2.09,2.22,2.17,2.07,2.08,2.16,2.13,2.2,2.18,2.12,1.94,2.12,1.96,1.93,2.35,2.09,2.14,2.2,2.17,2.2,2.01,2.2,2.2,2.15,2.01,2.04,2.06,2.11,2.15,2.04,2.15,2.15,2.31,2.21,2.02,2.09,1.99,2.34,2.09,2.23,2.18,2.08,2.11,2.15,2.25,2.23,2.18,2.21,2.09,2.19,2.09,2.02,2.2,1.98,2.15,2.08,2.02,2.15,2.21,2.14,2.23,2.16,2.16,2.1,2.01,2.05,2.05,2.17,2.07,2.07,2.26,2.08,2.07,2.08,2.33,1.99,2.06,2.06,2.1,2.28,2.26,2.19,2.07,2.09,2.15,2.17,2.1,2.07,2.15,2.2,2.04,2.2,2.16,2.11,2.12,2.14,2.1,2.07,2.08,2.3,2.52,2.15,2.13,1.77,2.09,2.03,2.07,2.06,2.03,2.13,2.09,2.0,2.11,1.97,1.93,2.18,2.33,2.2,2.27,2.18,2.28,2.12,2.0,2.08,2.11,2.08,2.18,2.17,2.0,2.13,2.19,2.18,2.24,2.1,2.1,2.23,2.3,2.12,2.09,2.24,2.07,2.26,2.0,2.14,2.02,1.99,2.14,2.22,2.05,2.21,2.2,2.04,2.2,2.04,2.03,2.02,2.07,2.0,2.09,2.29,2.18,2.28,2.2,2.2,2.17,2.05,2.15,2.1,2.05,2.25,2.05,2.1,2.1,2.23,2.13,2.14,2.1,2.13,2.22,2.3,2.23,2.28,2.43,2.0,2.04,2.0,2.28,1.94,2.19,2.28,2.18,2.0,2.17,2.01,2.01,2.0,2.15,2.14,2.09,2.23,2.1,2.17,2.08,2.39,2.07,2.22,2.12,2.24,2.0,2.13,2.07,2.09,2.19,2.19,2.19,2.21,2.12,2.19,2.06,2.01,2.06,2.14,2.05,2.07,2.0,2.02,2.07,2.07,2.17,2.16,2.13,2.04,2.09,2.27,2.24,2.2,2.14,2.08,2.28,2.05,1.96,2.28,2.05,2.13,2.0,2.17,2.08,2.03,2.07,2.23,2.13,2.11,2.22,2.13,2.05,2.14,2.06,1.95,2.08,2.18,2.0,2.07,2.18,1.83,2.24,2.05,2.3,2.21,2.07,2.11,2.32,2.15,2.28,2.19,2.24,2.38,2.47,2.04,2.15,2.12,2.24,2.09,2.32,2.21,2.22,2.19,2.29,2.08,2.12,1.93,2.19,2.08,2.24,2.26,2.06,2.11,2.12,2.07,2.16,2.42,2.27,2.24,2.29,2.29,2.18,2.26,2.09,2.31,2.38,2.17,2.2,2.07,2.06,2.07,2.06,1.98,2.28,2.13,2.13,2.03,2.05,2.15,2.25,2.21,2.17,2.19,2.11,2.16,2.15,2.06,1.98,2.17,2.24,2.22,2.05,2.19,2.24,2.14,2.19,2.08,2.16,2.16,2.16,2.24,2.16,2.22,2.23,2.29,2.27,2.08,2.12,2.16,2.13,2.11,2.2,2.36,2.18,2.13,2.22,2.2,1.99,2.13,2.03,2.11,2.05,2.08,2.1,1.91,2.19,2.08,2.23,2.2,2.17,2.07,2.11,2.2,2.11,1.98,2.18,2.16,2.1,2.23,2.25,2.02,2.0,2.01,2.23,2.07,2.0,2.24,2.18,2.15,2.07,2.05,1.97,2.0,2.1,2.06,1.98,2.15,2.04,2.06,2.09,2.02,2.09,1.88,2.12,2.11,1.88,2.06,2.16,2.26,2.21,2.35,2.11,2.32,2.29,2.14,2.21,2.07,2.14,2.15,2.28,2.43,2.23,2.26,2.27,2.14,2.14,2.12,1.92,2.1,2.32,2.14,2.13,2.23,2.19,2.2,2.24,2.25,2.27,2.31,2.23,2.15,2.18,2.16,2.12,2.02,2.11,2.1,2.13,2.04,2.14,2.08,2.2,2.16,2.11,2.1,2.08,2.09,2.14,2.19,2.2,2.22,2.09,2.06,2.17,2.05,2.09,2.03,2.11,2.09,2.06,2.15,2.06,2.09,2.22,2.18,2.14,2.06,2.05,2.12,2.14,2.23,2.17,2.26,2.22,2.23,2.05,2.13,2.22,2.17,2.1,2.09,2.1,1.98,2.04,2.03,1.97,2.03,2.08,2.07,2.12,1.94,2.08,2.13,2.11,2.16,2.14,2.06,2.13,2.23,2.1,2.16,2.16,2.17,2.17,1.94,2.12,2.06,1.97,2.08,2.16,2.11,2.12,2.03,2.2,2.19,2.2,2.11,2.18,2.25,2.26,2.11,1.99,2.04,2.12,2.09,2.12,2.05,2.16,1.94,1.73,2.07,2.26,2.15,2.18,2.09,2.09,2.24,2.11,2.14,2.02,2.1,2.08,2.12,2.09,2.35,2.14,1.96,2.13,2.12,2.15,2.27,2.07,2.32,2.11,2.24,2.21,2.22,2.31,2.22,2.31,2.17,2.24,2.12,2.21,2.25,2.16,2.14,2.22,2.09,2.16,2.12,2.2,2.11,2.15,2.01,2.06,2.21,2.03,2.16,2.16,1.97,2.16,2.18,2.19,2.1,2.17,2.13,2.14,2.06,2.15,2.11,2.16,2.17,2.12,2.09,2.16,2.22,2.17,2.11,2.2,2.22,2.15,2.16,2.23,2.24,2.1,2.21,2.27,1.99,2.17,2.17,2.27,2.16,2.4,2.14,2.14,2.0,2.04,2.22,2.25,1.99,2.32,2.23,2.42,2.26,2.14,2.33,2.3,2.38,2.21,2.22,2.33,2.21,2.42,2.03,2.07,2.15,1.98,2.04,2.11,2.03,2.07,1.95,2.17,1.98,2.07,2.24,2.08,2.26,2.15,2.13,2.21,2.16,2.23,2.09,2.25,2.13,1.95,1.98,2.0,2.11,2.1,2.08,2.14,2.14,2.09,2.08,2.18,1.92,2.31,2.13,2.11,2.29,2.15,2.01,2.23,2.21,2.13,2.27,2.27,2.14,2.24,2.19,2.21,2.12,2.21,2.25,2.0,2.23,2.01,2.12,2.18,2.28,2.2,2.05,2.14,2.13,2.11,2.3,2.17,2.11,2.24,2.16,2.38,2.26,2.19,2.26,2.02,2.26,2.3,2.14,2.27,2.15,2.23,2.18,2.23,2.29,2.13,2.13,2.28,1.85,2.08,2.08,2.05,1.91,2.14,2.12,2.09,2.19,2.2,2.15,2.17,2.0,2.11,2.2,2.14,2.3,2.15,2.16,2.26,2.16,2.17,2.14,2.19,2.09,2.13,2.14,2.18,2.25,2.14,2.14,2.16,1.93,2.07,2.2,2.04,1.98,2.1,1.99,2.1,2.08,2.05,2.23,2.11,2.21,2.17,2.21,2.12,2.12,2.21,2.12,2.02,2.12,2.11,2.2,2.16,2.13,2.23,2.18,2.12,2.13,2.19,2.01,2.17,2.09,2.46,2.06,2.39,2.1,2.24,2.21,2.1,2.3,2.14,2.07,1.98,2.16,2.1,2.16,2.16,2.18,2.13,2.3,2.13,2.11,2.16,2.19,2.16,2.15,2.17,2.16,2.14,2.0,2.18,2.3,2.18,2.13,2.11,1.91,2.11,2.15,2.21,2.18,2.18,2.08,2.07,2.12,2.16,2.04,2.16,2.07,2.14,2.07,2.25,2.24,1.93,2.07,2.17,2.12,2.14,2.1,2.1,2.05,2.0,2.06,2.18,1.91,2.1,2.13,2.06,2.19,2.17,2.25,2.2,2.31,2.17,2.14,2.08,2.06,2.17,2.11,2.09,2.09,2.17,2.08,2.22,2.27,2.13,2.09,2.09,2.16,2.21,2.03,2.03,2.07,2.03,2.21,2.13,2.16,2.19,2.07,2.11,2.3,2.14,2.22,2.32,2.11,2.14,2.19,2.11,2.19,2.04,2.16,2.1,2.11,2.09,2.21,2.07,2.15,2.1,2.16,2.19,2.07,2.23,2.36,2.17,2.22,2.19,2.18,2.04,2.22,2.02,2.33,2.11,2.18,2.08,2.23,2.18,2.16,2.1,2.16,1.98,2.07,1.95,1.84,1.93,2.04,2.01,1.97,2.04,2.07,2.02,2.21,2.24,2.1,2.07,2.35,2.26,2.08,2.26,2.14,2.21,2.35,2.13,2.36,2.17,2.24,2.27,2.17,2.15,2.08,2.08,2.04,2.21,1.96,2.08,2.1,2.13,2.04,2.08,2.02,2.15,2.07,1.97,2.15,2.17,2.1,1.99,2.01,2.12,2.17,2.07,2.1,2.05,2.12,2.09,2.15,2.06,1.96,2.17,1.98,2.0,2.24,2.11,2.14,2.16,2.1,2.13,2.26,2.11,2.07,1.79,1.99,2.04,2.11,2.1,1.92,2.09,2.01,1.97,2.31,2.1,2.19,2.16,2.18,1.92,1.97,1.91,2.13,2.12,2.05,2.14,1.91,2.14,1.95,2.18,2.12,2.22,2.27,2.17,2.14,2.18,2.34,2.24,2.13,2.33,2.3,2.24,2.01,2.12,2.13,2.23,2.32,2.04,2.01,1.99,2.14,1.93,2.07,2.25,2.24,2.29,2.21,2.18,2.17,2.17,2.08,2.11,2.09,2.23,2.01,2.09,2.22,2.02,2.26,2.13,2.09,2.07,2.13,2.06,2.17,2.16,2.06,2.08,2.18,2.13,2.28,1.97,2.04,2.1,2.16,2.1,2.14,1.91,2.35,2.25,2.3,2.14,2.13,2.16,2.19,2.24,2.26,2.2,2.17,2.2,2.09,2.25,2.07,2.17,2.04,2.11,2.19,2.25,2.03,2.12,2.06,2.25,2.18,1.96,2.31,2.14,2.27,2.14,2.16,2.17,2.16,2.07,2.2,2.07,2.23,2.13,2.13,2.01,2.18,2.16,2.1,2.04,2.16,2.17,2.18,2.17,2.17,2.16,2.18,2.11,2.13,2.18,2.2,2.13,2.33,2.17,1.81,1.99,2.23,2.08,2.2,2.2,2.3,2.08,2.21,2.28,2.35,2.16,2.3,2.18,2.15,2.26,2.17,2.16,2.27,2.07,2.22,2.07,2.09,2.1,2.16,2.03,2.09,2.15,2.04,2.09,2.2,2.21,2.19,2.2,2.03,2.28,2.13,2.27,1.97,2.1,2.05,2.15,2.0,2.11,2.01,2.07,2.12,2.11,2.05,2.09,2.07,2.06,2.11,2.21,2.19,2.14,1.95,2.13,1.89,2.29,1.93,2.09,1.99,2.22,1.94,2.3,2.19,2.24,2.16,2.09,2.18,2.28,2.22,2.17,2.25,2.17,2.16,2.09,2.22,2.22,2.15,2.13,2.09,2.25,2.07,1.9,2.09,2.13,2.14,2.3,2.24,2.01,2.12,2.17,2.1,2.16,2.15,2.17,2.09,2.11,2.07,2.12,2.08,2.08,2.16,2.1,2.28,2.22,2.08,2.27,2.25,2.08,2.15,2.18,2.15,2.22,2.21,2.22,2.15,2.26,2.2,2.19,2.15,2.18,2.18,2.1,2.09,1.97,2.05,2.16,2.25,2.11,2.21,2.11,2.18,2.11,1.95,2.08,2.3,2.11,2.09,1.97,2.07,2.27,2.05,2.08,2.15,2.03,2.09,2.11,2.06,2.16,2.14,2.1,2.13,2.2,2.12,2.16,2.08,2.07,2.11,2.06,2.09,2.13,2.19,2.17,2.14,2.1,2.16,2.13,2.12,2.16,2.16,2.07,2.01,2.22,2.06,2.07,1.82,1.97,2.18,2.06,2.25,2.18,2.13,2.13,2.15,2.1,2.13,2.06,2.16,2.16,2.18,2.0,2.03,2.23,1.86,2.08,2.13,2.17,1.92,2.07,1.91,2.19,1.92,2.14,2.19,2.14,2.28,2.2,1.92,2.13,2.24,2.11,2.24,2.16,2.2,2.2,2.08,2.1,2.18,2.1,2.02,2.16,2.06,2.0,2.11,2.07,2.11,2.12,2.24,2.25,2.1,2.16,2.09,2.13,2.29,2.04,2.1,2.14,1.7,2.07,2.01,1.96,2.01,2.03,2.28,2.05,1.96,2.03,2.32,1.96,2.19,2.1,1.97,2.17,2.01,2.1,2.22,2.12,2.15,2.23,2.13,2.16,2.11,2.16,2.24,2.28,2.23,2.11,2.05,2.12,2.03,2.08,2.1,2.25,1.99,2.1,2.24,2.0,2.21,2.22,2.08,2.2,2.03,2.23,2.1,1.56,1.94,2.04,2.13,2.04,2.21,2.08,2.03,2.32,2.13,1.93,2.24,2.32,2.21,2.17,2.25,2.16,2.13,2.22,2.16,2.23,2.22,2.03,2.13,2.01,2.08,2.22,2.01,2.03,2.18,2.05,2.01,2.23,2.12,2.12,2.14,2.21,2.2,2.21,2.02,2.32,2.28,2.13,2.22,2.04,2.12,1.73,1.96,2.14,2.0,2.04,2.09,2.05,2.08,1.98,2.09,2.2,2.2,2.26,2.17,1.9,2.13,2.16,2.1,2.23,2.09,2.13,2.05,2.2,2.17,2.14,2.05,2.17,2.06,2.15,2.05,2.12,2.06,2.05,2.14,2.04,2.09,2.05,2.02,2.04,2.04,2.16,2.05,2.16,2.23,2.06,2.18,2.16,2.19,2.16,2.19,2.11,2.08,2.21,2.16,2.13,2.07,2.14,2.21,2.05,2.22,1.97,2.24,2.15,2.22,2.09,2.45,2.09,2.08,2.13,2.07,2.12,2.16,2.21,2.14,2.04,2.16,2.11,2.29,2.2,2.22,2.04,2.14,2.04,2.11,2.02,1.95,2.03,2.08,2.08,2.05,2.02,2.14,2.19,2.1,2.31,2.1,2.16,2.14,2.14,1.98,2.07,2.05,1.71,2.11,2.06,2.01,2.07,2.04,2.02,2.22,2.06,1.94,1.98,2.07,2.3,2.15,2.17,2.09,2.18,2.16,2.24,2.23,2.17,2.23,2.09,2.24,2.03,1.94,2.17,1.91,2.17,1.84,1.94,2.16,2.12,2.07,2.39,2.25,2.24,2.21,2.14,2.15,2.12,2.08,2.18,2.0,2.17,1.91,2.13,2.19,2.17,2.09,2.07,2.13,2.15,2.14,1.87,2.11,2.13,2.08,2.1,2.13,2.19,2.02,2.04,2.1,2.07,2.24,1.97,2.07,2.1,2.01,2.19,2.21,2.13,2.23,2.26,2.15,1.88,2.13,2.2,2.19,2.17,2.25,2.2,2.1,2.13,2.06,2.14,2.18,2.16,2.1,2.16,2.09,2.18,2.09,2.17,2.12,2.14,2.14,2.19,2.26,2.2,2.17,2.22,2.04,2.23,2.17,2.23,2.2,2.02,2.21,2.16,2.14,2.07,2.1,1.74,2.08,2.04,2.12,2.18,2.12,2.05,2.19,2.1,2.16,2.17,2.24,2.02,2.24,2.1,2.13,2.18,2.09,2.13,2.13,2.1,2.15,1.99,2.33,2.2,2.1,2.17,2.16,2.14,2.26,2.02,2.23,2.1,2.09,2.15,2.08,2.19,2.13,2.13,2.24,2.27,2.22,2.17,2.11,2.24,2.08,2.11,2.08,2.16,2.25,2.05,2.21,2.01,1.98,2.08,2.14,2.05,2.08,2.11,2.07,2.12,2.02,2.09,2.11,1.99,2.08,2.13,2.04,1.99,2.0,2.24,2.12,2.08,2.04,1.96,2.1,2.15,2.25,2.25,1.93,2.36,2.2,2.23,2.15,2.22,2.2,2.12,2.21,2.18,2.2,2.28,2.16,2.32,2.21,2.27,2.08,2.24,2.27,2.03,2.3,2.14,2.31,2.05,2.18,2.21,2.3,2.19,2.14,2.18,2.13,2.14,2.16,2.19,2.33,1.98,1.93,2.11,2.22,2.23,2.12,2.22,2.18,2.18,2.14,2.14,2.16,2.22,1.91,2.21,2.09,2.08,1.9,1.93,2.03,2.03,2.05,2.09,1.99,1.96,1.99,2.07,2.02,2.12,2.06,2.08,2.07,2.08,2.04,2.03,2.07,2.03,2.22,2.12,1.98,2.12,2.11,2.02,2.02,2.01,2.19,2.14,2.06,2.07,2.21,2.2,2.21,2.09,2.23,2.19,2.21,2.12,2.0,2.14,2.05,2.14,2.22,2.2,2.16,2.03,2.11,2.08,2.17,2.12,2.11,2.15,2.24,2.12,2.03,2.1,2.0,2.15,2.17,2.13,2.03,1.98,2.07,2.19,2.11,2.11,2.12,2.15,1.98,2.05,2.03,1.98,2.1,2.03,2.09,1.99,2.04,2.06,2.1,2.02,2.04,1.99,2.12,2.12,2.18,2.31,2.15,2.18,1.85,1.99,2.16,2.15,2.14,2.04,2.01,2.06,2.12,2.1,2.17,2.09,2.24,2.16,2.12,2.15,2.18,2.26,2.01,2.18,2.09,1.9,2.15,2.03,1.95,1.86,2.06,1.98,1.93,2.19,2.14,2.08,2.24,2.09,2.21,2.24,2.13,2.1,2.14,2.29,2.12,2.26,2.33,2.14,2.06,2.19,2.11,2.09,2.21,2.12,2.45,1.99,2.32,2.25,2.35,2.15,2.15,2.27,2.3,2.05,1.96,2.12,1.99,1.97,2.12,2.1,2.18,2.03,2.18,2.02,2.13,1.98,2.21,2.22,2.15,2.15,2.05,2.12,2.24,1.94,2.14,2.2,2.26,2.11,2.12,2.13,2.14,2.27,2.13,2.15,2.16,2.21,2.05,2.15,2.22,2.12,2.15,2.18,2.31,2.08,1.96,2.15,2.11,2.02,2.16,2.02,2.03,2.23,2.05,2.17,2.21,2.2,2.3,2.09,2.02,2.17,2.21,2.25,2.2,2.1,2.2,2.2,2.17,2.17,2.08,2.23,2.13,2.07,2.24,2.12,2.15,2.08,2.26,2.14,2.2,2.15,2.05,2.21,1.94,2.04,2.13,2.11,2.14,1.89,2.15,2.22,2.05,2.22,2.04,2.23,2.09,2.23,2.14,2.06,2.23,2.02,1.88,2.12,2.18,2.2,2.08,2.27,1.94,2.08,2.24,2.27,2.09,2.09,2.26,2.22,2.18,2.19,2.13,2.13,2.16,2.25,2.17,2.19,2.12,2.16,2.24,2.09,2.19,2.07,2.07,2.12,2.05,2.17,2.05,2.07,2.01,2.07,1.94,2.22,2.14,2.1,2.06,2.08,2.09,1.38,2.15,2.12,2.1,2.14,2.15,2.15,2.16,1.85,2.0,1.98,2.05,2.17,2.03,2.01,2.0,1.98,1.97,2.23,2.15,2.0,2.13,2.07,2.23,2.17,2.25,2.13,2.28,2.24,2.12,2.0,2.14,2.16,2.06,1.98,2.26,2.16,2.13,2.14,2.15,2.04,2.18,2.17,2.09,2.18,2.15,2.05,2.27,2.26,2.3,2.3,2.1,2.11,2.23,2.14,2.25,2.21,2.17,2.16,2.23,2.24,2.16,2.1,2.1,2.21,2.19,2.23,2.27,2.15,2.09,2.07,2.23,2.11,2.31,2.36,2.16,2.07,1.98,2.26,1.83,2.19,2.21,2.33,2.1,2.24,2.24,2.15,1.93,2.17,2.11,2.29,2.23,2.18,2.2,2.19,2.18,2.25,2.22,2.22,2.25,2.16,2.23,2.34,2.22,2.16,2.25,2.2,2.25,2.16,2.34,2.24,2.2,2.2,2.28,2.16,2.28,2.14,2.29,2.17,2.15,2.25,2.25,2.01,2.14,2.12,2.1,1.99,2.09,2.06,2.15,2.05,2.16,2.01,1.99,2.11,2.09,2.0,2.24,1.96,1.99,2.04,1.88,1.86,2.13,2.05,2.02,2.11,1.99,2.17,2.08,2.23,2.22,2.16,2.17,2.17,2.13,2.15,2.15,2.13,2.3,2.08,2.11,2.11,2.21,2.15,2.17,2.07,2.16,2.12,2.12,2.23,2.18,2.2,2.27,2.21,2.11,2.06,2.29,2.35,2.11,2.34,2.03,2.05,2.09,2.17,2.1,2.24,2.2,2.23,2.18,2.31,2.18,2.18,2.18,2.21,2.13,2.14,2.22,2.19,2.03,2.18,2.02,2.12,2.26,2.26,2.24,2.25,2.23,2.26,2.08,2.29,2.2,2.17,2.2,2.04,2.06,2.18,1.98,2.15,2.05,2.14,2.12,2.09,2.2,1.99,2.18,2.15,2.37,2.18,2.14,2.09,2.09,2.35,2.2,2.28,2.21,2.2,2.2,2.01,2.02,2.02,2.04,2.2,2.09,2.03,2.1,1.79,2.19,2.07,2.14,2.17,2.19,2.05,2.19,2.12,2.06,2.31,2.31,2.18,1.96,1.99,2.16,1.96,2.3,2.26,2.18,2.15,2.13,2.12,2.14,2.25,2.21,2.34,2.26,2.16,2.13,2.25,2.17,2.23,2.18,2.11,2.24,2.11,2.28,2.11,2.24,2.07,2.08,2.03,2.0,1.87,2.02,1.79,2.01,2.1,2.18,2.03,1.95,2.08,2.04,2.16,2.15,1.84,2.14,2.04,2.06,2.11,2.01,2.07,1.91,2.13,2.11,2.08,2.13,2.14,2.1,2.04,2.11,2.13,2.14,2.13,2.1,2.18,2.04,2.07,2.26,2.22,2.21,2.27,2.13,2.18,2.09,2.18,2.16,2.07,2.1,2.19,2.16,2.13,2.12,2.31,2.05,2.33,2.12,2.16,2.08,2.09,1.9,2.02,2.07,2.02,2.14,2.23,2.1,2.06,2.14,2.15,2.19,2.19,2.1,2.15,2.05,2.18,2.16,2.12,2.26,2.1,2.17,2.11,2.12,2.11,2.27,2.12,2.15,2.09,2.04,2.17,2.02,2.18,2.23,2.22,1.98,2.19,1.92,2.28,2.2,2.23,2.19,2.28,2.31,2.27,2.35,2.15,2.06,2.11,2.11,2.21,2.07,2.12,2.17,2.11,2.05,2.11,1.98,2.17,2.13,2.05,2.35,2.27,2.21,2.22,2.03,2.32,2.13,2.04,2.06,2.13,1.99,2.14,2.21,2.16,2.06,2.24,2.14,2.05,2.05,2.34,2.11,2.38,2.03,2.24,2.33,2.29,1.95,2.23,2.2,2.19,2.13,2.13,2.13,2.11,2.02,2.06,2.13,2.21,1.99,2.07,2.06,1.97,2.3,2.27,2.15,2.45,2.2,2.18,2.31,2.19,2.26,2.21,2.13,2.01,2.15,1.83,2.17,2.22,2.28,2.21,2.33,2.18,2.16,2.18,2.32,2.14,2.09,3.57,2.19,2.24,2.16,2.19,2.2,2.34,2.13,2.03,2.28,2.25,2.0,2.34,2.14,2.18,2.13,2.24,2.0,2.21,2.35,2.22,2.2,2.21,2.09,2.14,2.12,2.23,2.17,2.15,2.14,2.16,2.04,2.15,2.15,2.13,2.15,2.05,2.14,2.07,2.22,2.07,2.05,2.08,2.18,2.2,2.12,2.16,1.82,2.23,2.2,2.21,2.11,2.11,2.14,2.23,2.21,1.96,2.22,2.43,1.94,2.24,2.11,2.13,2.36,2.24,2.26,2.15,2.06,2.19,2.0,2.27,2.31,2.17,2.19,2.28,2.22,2.31,2.18,1.75,2.09,1.97,2.14,2.13,1.84,2.08,1.99,2.12,2.1,2.2,2.06,2.06,2.26,2.18,2.15,2.18,2.13,2.16,2.07,2.19,2.01,2.0,2.19,2.19,2.16,2.18,2.22,2.25,2.24,2.19,2.27,2.23,2.23,2.16,2.19,2.16,2.18,2.1,2.17,2.26,2.23,2.2,2.2,2.17,2.15,2.15,2.15,2.25,2.09,2.03,2.3,2.13,2.29,2.03,1.93,2.1,2.07,2.19,2.0,1.97,2.1,2.14,2.26,2.27,1.96,2.15,2.38,2.13,2.22,2.24,2.18,2.04,2.24,2.17,2.08,2.23,2.0,2.2,2.24,2.21,2.14,2.23,2.15,2.07,2.04,2.21,2.13,2.06,2.24,2.03,2.18,2.17,2.07,2.19,2.24,2.24,2.19,2.21,2.19,2.25,2.19,2.23,2.18,2.38,1.88,2.11,2.32,2.01,2.06,2.12,2.02,2.06,2.09,2.16,2.18,1.97,2.12,2.02,2.15,2.05,2.1,2.06,2.15,2.05,2.16,2.05,2.12,2.06,2.16,2.01,2.02,2.0,2.16,2.13,2.13,2.19,2.21,2.18,2.08,2.09,2.1,2.19,2.14,2.17,2.14,2.17,2.07,2.11,2.07,2.02,2.04,2.14,2.14,2.18,2.22,2.04,2.2,2.24,2.22,2.13,2.22,2.06,2.09,2.08,2.05,2.19,2.1,2.05,2.07,2.13,2.14,2.05,2.15,2.21,2.21,2.12,2.32,2.28,2.14,2.14,2.14,2.2,2.15,2.14,2.17,2.06,2.19,2.07,2.22,2.29,2.05,2.05,2.09,2.13,2.37,2.11,2.12,2.06,2.2,2.24,2.09,2.14,2.08,2.18,2.22,2.24,2.31,2.07,2.16,2.1,2.14,2.09,2.09,2.18,2.06,2.14,2.12,2.13,2.26,2.28,2.17,2.08,2.15,2.06,2.19,2.12,2.08,2.13,2.19,2.14,2.12,2.02,1.92,1.98,2.0,1.92,2.3,2.22,2.33,2.03,2.17,2.18,2.16,2.02,2.26,1.9,2.25,2.12,2.07,2.28,1.86,2.38,2.04,2.27,2.25,2.27,2.19,2.22,2.22,2.14,2.23,2.2,2.14,2.2,2.12,2.18,1.99,2.0,2.13,2.21,2.11,2.09,1.99,2.04,1.88,2.12,2.05,2.1,2.02,1.96,2.1,1.95,2.08,2.13,2.06,1.97,2.12,1.94,2.01,2.11,1.96,2.08,2.1,2.0,2.22,2.05,2.09,2.16,2.11,2.27,2.12,1.93,2.2,2.21,2.27,2.36,2.18,2.01,2.1,2.14,2.16,2.0,2.23,2.11,2.09,2.06,2.12,2.0,2.1,2.03,2.14,2.18,2.07,2.0,2.23,2.19,2.23,2.2,2.22,2.06,2.23,2.24,2.22,2.26,2.17,2.13,2.15,1.98,2.05,2.13,2.11,2.11,2.19,2.12,2.06,2.12,2.04,2.01,2.54,2.02,2.03,2.06,2.15,2.08,2.23,2.07,2.14,2.1,2.13,2.22,2.11,2.05,2.19,2.07,2.11,2.15,2.06,2.07,2.12,2.11,2.12,2.29,2.17,2.16,2.08,2.06,2.01,2.21,2.14,2.2,2.14,2.19,2.15,2.14,2.18,2.02,2.14,2.15,1.99,2.05,2.09,2.07,2.08,2.1,2.19,2.14,2.17,2.26,2.4,2.23,2.2,2.06,2.17,2.14,2.14,2.19,2.09,2.18,2.13,2.28,1.91,1.97,2.02,1.92,2.14,2.03,2.09,2.01,1.83,2.38,2.17,2.09,2.0,2.16,2.25,2.05,2.12,2.16,2.29,2.14,2.16,2.12,2.06,2.07,2.11,2.03,2.07,2.14,2.11,2.19,1.98,1.99,2.17,2.04,1.95,2.19,2.01,2.03,2.09,2.04,2.22,2.0,2.1,2.09,1.93,2.12,2.06,1.96,2.15,2.05,1.98,2.11,2.02,2.08,1.94,2.19,2.13,2.04,2.17,2.24,2.16,2.18,2.24,2.23,2.16,2.16,2.16,2.37,2.31,2.11,2.1,1.98,2.07,2.02,2.12,2.19,2.03,2.04,2.04,2.11,1.92,2.04,2.0,2.08,2.04,1.98,2.05,2.24,2.12,2.23,2.18,2.07,2.06,2.26,2.2,2.19,2.17,2.27,2.26,2.23,2.12,2.21,2.18,2.1,2.19,2.32,2.22,2.14,2.13,2.2,1.81,2.02,2.02,2.07,2.07,2.06,2.09,2.03,2.12,1.99,1.98,2.23,2.04,2.24,1.9,1.95,2.18,2.0,2.28,2.02,2.2,2.22,2.04,1.96,2.07,1.94,2.12,2.11,2.16,1.94,1.86,1.98,2.29,2.08,2.19,2.15,2.11,2.08,2.21,2.04,2.15,1.98,2.03,1.98,2.17,2.02,2.14,2.06,2.11,1.97,1.92,2.04,2.21,2.14,2.05,2.12,2.24,2.03,2.14,2.2,1.98,2.12,2.08,2.12,1.92,2.2,1.98,2.13,2.01,2.23,2.14,2.23,2.06,2.21,2.18,2.27,2.12,1.97,2.18,2.29,2.1,2.27,2.21,2.21,2.26,2.18,2.19,1.9,2.06,2.05,1.97,2.02,2.09,2.15,2.03,2.12,2.08,2.14,2.16,1.9,2.17,1.96,2.02,2.07,2.12,2.05,1.96,2.1,2.18,2.04,2.21,2.1,2.12,2.03,1.98,2.35,2.07,2.15,2.09,2.14,2.04,2.09,2.12,2.05,2.05,2.26,2.05,2.07,2.32,2.03,2.06,2.22,2.08,2.12,2.14,1.98,2.05,2.17,2.09,2.19,2.09,2.11,2.0,2.08,2.07,2.08,1.92,2.18,2.0,2.13,2.28,2.19,2.04,2.17,2.07,2.22,1.98,2.09,1.94,2.0,1.88,2.2,2.22,2.07,2.24,2.07,2.06,2.24,2.1,2.06,2.12,2.15,2.32,2.07,2.14,2.22,2.0,2.2,2.16,2.26,2.02,2.01,2.04,2.09,2.04,2.09,1.95,1.93,2.03,2.12,2.05,2.24,2.06,2.08,2.0,1.95,2.03,2.16,2.01,2.1,1.96,1.99,2.18,1.66,2.11,1.89,1.96,2.19,2.07,2.11,2.27,2.18,2.09,2.25,2.18,1.95,2.15,2.14,2.26,2.2,2.12,2.06,2.04,2.09,2.15,2.09,2.27,2.08,2.22,2.14,2.23,2.22,2.16,2.18,2.26,2.16,2.05,2.12,2.2,2.09,2.17,2.11,2.22,2.05,2.08,2.01,2.07,2.05,1.98,2.16,2.12,2.19,2.06,2.13,2.23,2.07,2.18,2.12,2.09,2.2,1.86,2.27,2.14,2.11,2.21,2.18,2.17,2.19,2.05,2.08,2.17,2.16,2.13,2.07,2.02,2.02,2.11,2.05,2.14,1.99,1.83,2.11,2.0,2.02,2.05,1.92,2.02,2.02,2.0,2.2,2.11,2.18,2.06,2.12,2.05,2.16,2.12,2.06,2.17,2.24,2.11,2.11,2.22,2.37,2.2,2.19,2.18,2.21,2.16,2.03,2.14,2.08,2.3,2.14,2.11,2.14,2.16,1.94,1.94,2.38,2.11,2.11,2.14,2.08,2.32,2.14,2.3,2.07,1.98,2.12,2.04,2.19,2.23,2.12,2.18,2.07,2.15,1.97,2.16,2.11,2.21,2.51,1.95,2.15,2.17,2.18,2.18,2.24,2.21,2.16,2.27,2.19,2.18,1.99,2.02,2.08,2.12,2.09,2.2,2.13,2.0,2.23,2.08,2.1,2.15,2.04,2.07,2.09,2.14,2.16,2.11,2.05,2.05,2.16,2.37,2.1,2.12,2.37,2.23,2.04,2.17,2.13,1.95,2.09,2.31,2.3,2.0,2.23,2.17,2.13,2.27,2.16,2.16,2.07,2.07,2.1,2.2,2.17,2.1,2.19,2.15,2.15,2.13,2.17,2.19,2.23,2.19,2.02,2.13,2.18,2.24,2.15,2.05,2.15,2.2,2.16,2.22,2.24,2.13,2.24,2.16,2.14,2.17,2.05,2.22,1.93,2.4,2.34,2.36,2.14,2.16,2.34,2.12,2.39,2.1,2.27,2.08,1.96,2.24,2.12,2.05,2.18,2.13,2.04,2.11,2.02,2.17,2.05,2.23,2.19,2.24,2.14,2.04,2.04,2.11,2.1,2.05,2.17,2.17,2.02,2.18,2.16,2.16,2.19,2.21,2.24,2.21,2.23,2.32,2.21,2.34,2.25,2.3,2.23,2.24,1.92,2.27,2.33,2.19,2.19,2.18,2.19,2.3,2.1,2.05,2.21,2.04,2.03,2.09,2.08,2.1,1.98,2.2,2.09,2.18,2.23,2.08,2.18,2.15,2.07,2.08,2.13,2.25,2.18,2.05,2.09,2.15,2.17,2.13,2.15,2.27,2.16,2.16,2.12,2.23,2.06,2.19,1.8,2.11,2.05,2.25,2.36,2.16,2.02,2.14,2.25,1.99,2.15,2.09,2.15,2.14,2.05,1.88,2.03,1.6,1.55,2.1,2.1,2.18,2.1,2.22,2.15,2.01,2.13,2.28,2.15,2.19,2.29,2.15,2.22,2.03,2.12,2.12,1.94,2.08,2.06,1.96,2.2,1.86,2.02,1.98,1.92,2.03,2.21,2.13,2.08,2.24,2.33,2.05,2.21,2.26,2.21,2.13,2.01,2.26,1.8,2.23,2.17,2.17,2.08,2.04,2.15,1.93,2.2,2.22,2.14,2.13,2.27,2.16,2.16,2.24,2.25,2.23,2.21,2.14,2.05,2.04,2.13,2.1,2.35,2.22,2.05,2.31,2.15,2.19,1.99,2.24,2.27,2.2,2.14,2.15,2.23,2.06,1.98,2.08,2.04,2.02,1.99,2.02,1.8,2.12,2.16,2.03,2.01,1.88,2.11,2.04,2.08,2.03,1.98,1.95,2.09,2.23,2.09,2.19,2.15,2.2,2.2,2.25,2.17,2.08,2.02,2.13,2.04,2.11,2.07,2.22,2.19,2.08,2.15,2.17,2.12,2.1,2.16,2.29,2.18,2.11,2.17,2.16,2.04,2.11,2.17,2.05,2.13,2.15,2.09,2.15,2.2,1.98,2.34,2.2,1.84,2.35,2.07,2.08,2.2,2.12,2.2,2.08,2.05,2.17,2.25,2.09,2.22,1.91,2.15,2.02,1.87,2.2,2.07,2.07,1.99,2.16,2.29,2.13,2.3,2.3,2.17,2.24,2.23,2.23,2.24,2.4,2.04,2.08,2.07,2.13,2.22,2.12,2.1,2.18,2.16,1.94,2.18,2.14,2.05,2.04,2.32,2.1,2.14,2.23,1.99,2.08,2.18,2.15,1.97,2.15,2.13,2.07,2.2,2.05,2.03,1.94,2.13,2.09,2.16,2.12,2.02,2.32,2.0,2.2,2.12,2.16,1.94,2.21,1.92,2.05,2.22,2.03,2.26,2.04,2.07,2.03,2.02,2.1,2.04,2.01,1.9,2.18,2.09,2.11,2.19,2.24,2.09,2.11,2.21,2.14,2.14,2.03,2.24,2.06,2.07,2.15,2.01,2.09,2.12,2.08,1.98,2.07,2.12,2.06,2.1,2.01,2.12,2.13,2.4,2.17,1.95,2.08,2.14,2.1,2.25,2.2,2.25,2.18,2.22,2.17,2.28,2.2,2.2,2.14,2.09,2.04,2.2,2.32,2.02,2.12,2.21,2.25,2.07,2.31,2.16,2.14,2.15,2.29,2.23,1.91,2.04,2.02,2.04,2.03,2.06,2.07,2.03,2.37,2.08,2.16,2.16,2.24,2.18,2.1,2.18,2.25,2.21,2.09,2.28,2.26,2.22,1.65,2.22,2.15,2.27,2.16,2.11,2.15,2.15,2.12,2.18,2.2,2.23,2.11,2.17,2.2,2.05,2.17,2.21,2.11,2.21,2.2,2.1,2.09,2.14,2.01,2.18,2.2,2.0,2.04,2.31,2.22,2.21,1.99,2.24,2.19,1.89,2.15,2.14,2.1,2.01,2.38,2.16,1.91,1.97,2.21,2.06,2.07,2.14,2.12,2.16,2.14,2.15,2.13,2.06,2.09,2.2,2.13,2.22,2.14,1.99,2.25,2.08,2.15,2.2,2.12,2.11,2.02,2.39,2.06,2.1,2.4,2.11,2.02,2.12,2.16,2.15,2.0,1.98,1.94,2.23,2.14,2.27,2.17,2.19,2.12,2.16,2.15,2.04,2.07,2.16,2.16,2.27,2.19,2.16,2.14,2.22,2.16,2.06,2.29,2.18,2.1,2.18,2.05,2.02,2.08,2.07,2.19,2.19,2.16,2.13,2.17,2.31,2.02,1.96,2.19,2.11,2.21,2.02,2.19,2.23,2.3,2.16,2.08,2.16,2.14,2.27,2.21,2.19,2.14,2.2,2.1,1.89,2.31,2.19,2.14,2.25,2.12,2.21,2.07,2.25,2.22,1.97,2.2,2.08,2.0,2.3,2.02,2.19,1.98,2.18,2.17,2.35,2.19,1.99,2.15,1.98,2.19,2.17,2.2,2.19,1.68,2.24,2.13,2.04,2.16,2.1,2.06,1.98,2.02,2.13,2.12,2.13,2.29,2.19,2.16,2.31,2.04,2.13,2.19,2.16,1.97,2.27,2.19,2.24,2.17,2.13,2.13,2.03,2.22,2.2,2.12,2.05,2.15,2.18,2.29,2.07,1.99,2.22,2.14,2.05,1.98,2.16,1.89,2.05,2.27,2.37,2.16,2.19,2.14,2.37,2.1,2.11,2.19,2.24,2.11,2.15,2.27,2.2,2.19,2.06,2.02,2.18,2.03,2.01,2.09,2.08,2.07,1.96,2.3,2.18,2.22,2.15,2.09,2.22,1.99,2.21,2.31,2.17,2.26,2.07,2.1,2.2,2.22,2.14,2.16,2.05,2.06,1.96,2.12,2.0,1.69,2.21,1.9,2.09,2.03,2.23,2.17,2.15,2.03,2.05,2.12,2.14,2.12,2.22,2.09,2.24,2.11,2.25,2.18,2.04,2.16,1.99,2.14,2.12,2.19,2.05,2.21,2.25,1.93,2.03,2.04,1.94,2.01,2.06,2.05,2.1,2.21,2.1,2.08,2.19,2.15,2.25,2.12,2.28,2.08,2.18,2.03,2.2,2.12,1.99,2.11,1.94,2.07,2.05,2.03,2.01,1.96,2.07,2.02,2.1,2.09,2.11,2.07,1.99,2.2,2.15,2.27,2.25,2.19,2.13,2.13,2.17,2.19,2.21,2.28,2.19,2.21,2.13,2.13,2.13,2.12,2.21,2.15,2.22,2.17,2.03,2.12,2.18,2.15,2.13,2.09,2.12,2.13,2.17,2.09,2.1,2.04,1.88,2.1,2.1,2.24,2.17,2.1,2.19,2.16,2.25,2.24,2.11,2.16,1.94,2.01,2.05,2.19,1.99,2.0,1.94,2.16,2.08,2.02,2.11,2.11,2.08,2.07,2.02,2.11,2.14,2.13,2.08,1.97,1.9,4.92,2.1,2.07,2.11,2.15,1.7,2.09,1.95,2.0,2.2,2.33,2.28,2.02,1.68,2.03,1.98,1.97,2.26,2.09,2.07,2.13,2.14,2.11,2.05,1.85,1.96,2.13,2.09,2.16,2.05,2.32,2.07,2.18,2.2,2.13,2.06,2.2,2.24,2.21,2.16,2.16,2.11,2.17,2.23,2.11,2.22,1.88,1.98,2.24,2.2,2.28,2.27,2.19,2.34,2.2,2.18,2.33,2.29,2.24,2.22,2.19,2.22,2.14,2.13,2.05,2.12,2.1,2.06,1.88,2.07,2.16,2.19,2.1,2.09,2.19,2.1,2.04,2.03,2.12,2.23,2.05,1.97,2.15,2.11,2.11,2.26,2.28,2.21,2.12,1.85,2.21,2.18,2.16,2.19,2.23,2.17,2.22,2.17,2.23,2.13,2.23,2.04,2.0,2.21,2.06,2.02,2.15,1.94,2.07,2.0,2.07,2.03,2.22,2.21,2.18,2.22,2.21,2.15,2.1,2.21,2.03,2.15,2.06,2.2,2.19,2.15,2.08,2.23,2.15,2.09,2.08,2.07,2.06,2.12,2.11,2.22,2.08,2.18,2.28,2.0,2.15,2.26,2.08,2.21,2.33,2.2,2.3,2.19,2.14,2.08,2.26,2.1,2.15,2.16,2.14,2.23,2.07,2.05,2.13,2.15,2.1,1.89,2.09,2.17,2.42,2.04,2.05,2.0,2.27,2.32,2.17,2.32,2.22,2.31,2.18,2.3,2.53,2.32,2.29,2.38,2.34,2.21,2.28,2.34,2.12,2.33,2.06,2.34,2.17,2.32,2.73,2.25,2.34,1.98,1.93,2.07,2.03,2.19,2.13,2.21,2.18,2.15,2.12,2.07,2.19,2.2,2.28,2.22,2.22,2.2,2.16,2.19,2.03,2.17,2.18,2.03,2.18,2.17,2.04,2.06,2.07,2.04,1.97,2.17,2.14,2.69,2.08,2.21,2.09,2.34,2.23,2.23,2.12,2.12,2.15,2.12,1.97,2.36,2.02,2.22,2.16,2.21,2.03,2.3,2.4,2.61,2.18,2.32,2.11,2.03,2.06,2.21,2.14,2.16,2.25,2.1,2.16,2.13,2.11,2.18,2.18,2.18,2.18,2.44,2.16,2.05,2.17,2.21,2.18,2.3,2.23,2.3,2.27,2.21,2.23,2.1,2.19,2.11,2.08,2.11,2.14,2.1,2.11,2.2,2.17,1.91,2.17,2.2,2.06,2.05,2.03,2.0,2.1,2.06,2.23,2.07,2.08,1.99,2.03],\"xaxis\":\"x3\",\"yaxis\":\"y3\",\"type\":\"histogram\"},{\"alignmentgroup\":\"True\",\"bingroup\":\"y\",\"hovertemplate\":\"hangTime=%{y}\\u003cbr\\u003ecount=%{x}\\u003cextra\\u003e\\u003c\\u002fextra\\u003e\",\"legendgroup\":\"\",\"marker\":{\"color\":\"#636efa\"},\"name\":\"\",\"offsetgroup\":\"\",\"opacity\":0.5,\"showlegend\":false,\"xaxis\":\"x2\",\"y\":[4.46,4.35,4.98,4.53,4.62,4.69,4.16,4.66,4.08,4.2,4.4,4.34,4.2,4.78,3.62,4.52,3.9,4.67,2.78,4.06,4.07,3.23,3.8,3.84,3.53,4.13,4.0,4.02,4.77,3.92,3.9,3.86,4.22,4.08,4.25,4.57,4.21,4.1,4.81,4.34,4.98,2.95,4.14,4.45,5.08,4.85,3.22,4.09,3.4,4.12,4.57,4.4,3.89,4.14,3.92,4.0,4.18,4.15,2.15,4.55,4.1,4.53,4.44,3.98,4.77,3.83,4.46,4.59,4.12,4.48,4.33,3.62,4.34,3.87,4.68,4.19,4.16,4.14,4.84,3.87,4.41,4.71,4.24,4.71,4.13,4.58,4.47,4.35,4.57,4.44,5.11,4.37,4.77,4.79,4.86,4.66,4.79,4.53,4.68,4.59,4.64,4.62,4.32,4.58,4.65,4.86,4.86,5.05,4.05,4.48,4.65,4.45,4.24,4.08,4.14,4.26,4.58,4.52,4.66,4.52,4.61,4.06,5.06,4.2,4.87,4.17,3.73,4.94,4.25,4.24,3.95,4.9,4.56,4.36,4.45,4.52,4.82,4.52,3.56,3.59,4.88,4.69,3.85,4.14,3.99,4.09,5.02,4.95,5.51,4.71,5.24,4.86,4.99,4.54,4.58,4.63,4.94,4.55,4.7,4.56,4.37,4.74,3.01,3.85,4.6,4.32,4.41,4.41,4.38,4.23,4.47,4.49,3.15,4.82,4.25,3.41,3.67,5.43,4.69,4.6,4.83,4.48,3.92,4.49,3.46,4.75,4.47,3.85,4.28,4.44,4.39,4.76,4.47,4.14,4.57,4.27,4.26,4.11,4.51,4.15,4.22,3.94,3.52,4.94,4.01,3.98,4.69,5.05,4.0,4.02,3.53,4.51,4.25,4.26,4.42,3.1,4.0,4.11,3.85,4.12,4.1,4.63,4.72,3.88,3.65,4.82,4.4,4.12,4.71,4.79,4.68,4.02,3.51,4.78,4.32,4.39,5.27,4.43,4.45,3.93,4.21,4.52,4.5,4.82,3.99,5.35,3.94,4.58,4.55,4.62,4.93,3.56,4.36,4.76,4.63,4.49,4.92,3.65,3.88,4.77,4.58,4.61,4.59,4.61,4.64,3.93,4.14,3.75,4.39,4.97,4.41,4.63,4.95,3.48,4.45,4.08,4.97,3.79,3.73,4.0,3.54,5.04,4.04,5.04,4.13,4.65,4.56,3.47,4.75,3.07,2.84,4.02,4.72,3.22,4.62,3.87,3.07,4.09,4.88,3.49,3.51,4.22,4.76,5.06,4.29,4.92,4.31,3.91,4.69,4.54,4.31,4.08,4.69,4.29,3.93,4.49,3.61,4.38,3.41,4.23,4.62,4.16,4.07,4.28,4.76,4.65,4.61,4.73,4.17,4.89,4.51,5.43,3.78,4.39,4.72,4.52,4.59,4.47,4.46,3.81,4.58,3.96,5.24,3.92,4.09,4.79,4.37,4.19,4.56,4.04,4.13,3.38,4.46,4.33,4.29,4.67,3.72,3.68,4.12,4.84,4.29,4.2,4.26,4.51,4.71,4.3,4.61,4.51,4.17,4.41,5.09,4.66,4.57,4.38,4.35,4.89,4.55,5.01,4.42,4.38,4.83,3.71,4.91,4.44,4.43,4.71,4.83,3.94,3.52,3.27,4.01,3.89,4.34,3.98,4.11,4.26,4.11,3.87,4.49,4.51,3.97,4.86,3.62,4.37,4.42,4.58,2.94,4.46,4.63,3.89,4.33,3.78,4.65,4.73,3.61,4.83,4.75,4.5,4.35,4.46,4.58,4.34,4.79,4.43,4.59,4.58,3.99,4.78,4.14,4.55,4.16,4.66,4.72,4.35,4.35,3.98,5.23,4.16,4.17,4.78,4.33,4.52,4.33,4.18,4.51,4.78,4.5,4.3,4.06,5.17,4.16,4.24,3.34,5.42,3.39,4.42,3.66,4.46,4.76,4.62,3.17,3.64,4.12,4.86,3.55,4.27,4.52,4.48,3.79,4.3,3.94,3.99,4.12,3.52,4.52,4.18,4.22,4.98,4.72,4.51,3.58,4.49,4.67,5.02,4.69,3.81,4.45,3.83,3.98,4.06,4.77,4.11,4.89,4.7,4.32,4.5,5.03,4.12,3.95,4.33,4.69,4.85,4.73,4.38,3.92,4.31,3.73,5.23,4.67,3.04,4.63,4.6,4.17,4.94,4.39,4.94,4.49,4.4,4.72,4.83,3.97,4.95,4.19,3.85,3.63,4.45,4.33,3.99,4.13,4.22,4.37,4.53,4.78,4.22,4.11,4.48,4.21,4.02,4.12,3.89,4.74,4.6,4.53,4.28,4.99,4.42,5.33,4.86,4.13,4.61,3.52,5.03,4.03,3.6,4.48,3.97,4.19,4.73,3.39,4.59,4.33,4.22,3.58,4.73,3.34,4.66,4.9,4.09,4.54,4.36,4.76,4.37,4.3,4.92,4.65,4.55,3.19,4.0,5.16,4.03,4.62,4.94,4.39,4.51,4.43,4.39,4.18,3.11,4.16,4.77,4.32,4.58,5.09,4.9,4.88,4.71,4.64,4.57,4.07,4.11,4.2,4.33,4.71,4.25,3.3,3.11,3.19,4.35,4.09,4.79,4.55,4.43,4.91,4.31,4.89,4.86,4.56,4.59,4.21,4.59,3.77,3.29,4.05,4.98,2.94,4.99,4.54,4.51,3.65,5.0,4.26,4.31,4.7,4.34,4.66,4.86,4.2,4.63,4.51,4.51,4.88,4.3,4.58,4.44,3.74,4.98,5.13,3.88,3.37,4.53,3.41,3.35,4.06,4.61,4.51,4.25,4.25,4.02,4.14,4.8,4.57,4.09,4.48,3.54,4.65,4.25,3.95,4.77,4.81,4.15,4.27,4.73,4.72,4.76,5.32,4.49,3.97,4.37,4.68,4.81,4.71,4.56,4.37,4.43,4.13,4.4,4.4,4.68,2.97,4.56,4.49,4.39,4.78,3.79,4.83,4.39,3.08,4.9,4.01,4.71,4.62,4.52,4.01,4.87,4.73,4.66,4.11,4.67,3.81,4.35,4.51,4.06,4.3,4.84,4.75,4.56,3.86,4.68,4.2,4.25,4.18,4.07,3.9,4.72,5.22,4.4,4.32,4.66,4.36,4.23,4.45,4.17,3.27,4.46,4.24,4.73,4.35,4.68,3.34,4.77,4.45,4.44,4.77,3.25,4.49,4.98,4.71,4.41,4.74,4.1,4.55,4.06,4.16,4.42,4.23,4.15,4.3,4.12,4.61,4.58,4.52,4.23,4.14,4.33,4.41,3.93,4.85,4.45,4.24,3.28,4.27,4.25,4.09,4.28,3.31,4.45,3.63,4.51,4.07,4.39,4.53,5.08,4.45,4.79,4.65,4.15,4.77,3.95,4.1,4.02,4.59,4.78,4.25,4.33,4.54,4.33,4.6,4.06,4.46,4.75,4.48,4.49,4.57,4.31,4.33,5.22,4.8,4.42,4.78,4.47,4.78,4.35,4.32,4.96,4.65,4.56,4.93,4.87,4.03,4.98,4.86,3.68,3.55,4.64,4.59,4.53,4.13,4.18,3.94,4.21,4.66,4.41,4.83,4.52,4.11,4.41,4.59,4.59,5.21,3.91,4.46,4.35,4.65,3.31,4.4,4.67,3.98,3.65,4.54,4.34,4.6,4.4,4.83,3.94,2.78,4.33,4.92,4.11,4.42,4.09,4.48,4.67,3.89,4.82,3.09,4.76,4.61,4.83,3.87,4.98,4.16,4.56,4.66,4.86,4.63,4.59,4.27,4.47,4.26,4.44,4.72,4.08,4.38,4.41,4.38,4.84,4.41,4.54,3.15,3.92,4.4,3.58,4.45,3.98,4.57,4.06,4.37,4.42,2.98,3.71,4.52,4.17,3.62,4.19,4.21,4.34,4.41,3.14,4.93,3.81,3.85,4.47,4.74,3.79,4.38,5.04,4.66,3.61,4.84,4.45,2.85,4.47,4.33,3.58,4.42,4.65,3.34,4.09,3.82,4.52,4.05,4.58,4.42,4.16,4.55,4.06,4.79,4.14,4.71,4.45,4.3,4.33,4.95,4.5,4.62,3.84,3.56,4.79,4.27,4.18,4.3,4.18,4.25,3.92,3.8,3.56,4.39,4.76,4.15,3.14,3.74,4.74,4.7,4.3,4.81,4.45,4.68,4.53,3.08,4.86,4.09,3.48,4.4,4.28,4.06,4.09,3.38,4.61,4.29,4.01,3.73,4.19,4.14,3.52,4.51,5.07,4.15,3.15,4.72,4.52,4.71,4.62,4.48,3.11,4.53,4.59,4.75,3.89,4.75,4.58,4.09,4.78,3.9,4.55,3.56,4.48,3.12,3.28,4.8,3.97,3.9,5.09,4.4,4.65,5.04,4.78,3.69,3.81,4.25,4.15,4.43,4.48,3.34,4.61,4.38,5.56,4.28,3.55,3.91,4.38,4.97,4.19,4.64,4.29,5.09,4.22,4.62,3.7,3.6,4.89,4.44,4.7,4.62,4.36,3.46,4.99,4.49,4.21,4.65,4.71,4.34,4.67,4.81,4.08,4.53,4.58,4.44,4.06,4.04,3.87,4.09,4.49,4.7,4.29,4.52,3.34,4.53,4.58,3.4,3.61,4.36,3.9,4.81,3.71,3.76,4.52,5.11,2.84,4.55,4.34,5.01,4.5,4.15,4.4,3.8,4.95,3.97,3.83,4.33,4.65,3.15,4.1,4.48,4.46,4.67,3.7,3.67,4.21,4.55,3.99,4.44,2.45,3.26,4.27,4.16,3.15,4.83,4.41,4.34,4.11,4.53,4.78,4.9,4.02,3.87,3.84,4.15,4.31,4.79,4.52,4.63,4.16,3.55,4.19,4.35,4.77,3.33,4.7,4.44,2.82,4.74,4.27,4.3,4.43,4.24,3.78,3.46,4.62,4.63,3.66,3.5,3.87,4.41,4.48,3.22,4.52,4.35,4.28,4.37,4.47,3.83,4.56,4.33,4.2,3.97,4.01,3.41,4.17,4.88,4.37,4.61,2.65,4.75,4.07,4.61,4.97,4.77,4.61,4.33,4.38,4.43,4.25,4.15,4.5,2.35,4.54,3.66,4.81,4.0,4.2,4.31,4.15,4.83,4.41,4.59,4.41,4.53,4.65,4.45,4.5,4.92,4.57,4.61,4.51,4.96,4.77,4.2,4.9,4.19,3.92,4.18,3.5,4.36,4.55,4.54,3.59,4.34,4.03,4.61,4.62,2.99,4.36,4.47,4.37,4.25,4.79,4.15,4.27,4.63,4.72,4.6,4.24,4.28,4.38,4.63,4.08,4.9,4.01,4.41,4.53,4.36,4.41,4.02,4.58,4.46,4.06,4.53,3.55,4.3,4.04,4.75,4.61,4.76,4.73,4.26,4.05,4.13,3.9,4.94,4.66,3.69,3.19,4.63,4.4,4.67,4.62,3.95,4.07,4.56,4.13,4.74,4.81,4.55,4.4,4.31,4.72,4.17,4.33,3.97,3.31,3.32,4.62,4.38,4.19,4.57,4.16,4.99,4.49,4.64,4.04,4.47,4.74,4.36,5.0,4.58,4.67,3.94,4.07,4.96,5.18,3.67,4.56,3.82,5.08,4.8,4.05,4.41,4.27,4.56,4.19,4.62,4.07,4.26,4.69,4.32,4.34,3.89,4.58,4.61,5.11,4.97,4.96,3.48,4.32,4.59,5.08,4.43,4.66,4.95,4.53,4.75,4.45,4.4,4.07,4.59,4.38,5.01,3.14,3.69,4.61,4.49,2.78,4.41,3.37,3.55,4.51,4.69,4.82,3.81,4.66,2.97,3.68,2.9,4.44,4.62,4.8,3.36,4.44,3.99,4.64,4.29,4.31,3.71,4.41,4.33,4.69,4.51,4.72,4.79,4.69,4.34,4.52,4.01,4.18,4.41,4.21,4.49,4.35,4.56,4.46,4.13,4.75,3.89,3.08,3.0,4.11,4.39,4.76,4.73,5.01,4.95,4.67,3.64,3.5,4.48,4.73,5.05,4.21,4.62,4.39,3.98,4.76,4.45,4.64,3.88,4.85,4.48,4.89,4.24,4.6,4.32,4.34,4.93,4.09,4.79,5.12,4.62,5.15,4.29,4.49,4.35,4.05,5.48,4.72,4.08,3.69,3.68,3.74,4.09,4.5,4.61,4.55,4.17,4.58,4.68,4.85,4.38,4.58,3.63,4.75,4.74,3.99,3.25,4.42,4.76,4.77,4.42,4.17,4.6,3.36,3.32,3.23,3.65,4.62,3.9,4.42,4.72,3.74,4.35,4.73,3.66,4.84,4.62,3.82,4.53,3.63,4.37,4.7,4.03,4.65,4.8,4.41,4.6,3.76,4.59,4.59,4.36,4.43,4.73,4.85,3.64,4.75,4.37,4.37,4.2,4.44,4.85,4.35,3.44,4.2,4.29,4.75,4.65,4.68,4.24,4.17,4.61,4.54,4.82,3.61,4.21,3.49,4.84,4.14,4.2,5.3,3.9,4.69,4.8,4.42,4.58,4.76,4.04,3.55,4.8,3.73,4.19,4.48,4.19,4.47,4.83,3.25,4.34,4.38,4.5,4.75,4.91,4.44,5.03,4.64,4.8,5.11,4.69,4.78,4.15,5.07,4.63,3.28,4.19,3.78,4.81,4.92,4.28,4.03,4.24,3.23,4.18,3.12,4.04,4.06,2.96,4.47,4.63,4.15,4.26,4.12,5.1,4.44,4.3,4.54,4.15,4.81,3.66,3.96,4.47,4.64,4.66,3.25,4.58,4.79,4.23,4.23,4.2,4.68,3.89,4.74,4.97,4.3,4.47,4.7,4.41,4.14,4.61,4.67,3.57,4.8,4.22,4.63,3.98,5.03,3.93,3.69,4.47,4.22,3.76,4.06,4.65,4.41,4.44,3.63,4.17,4.39,4.54,4.59,4.6,4.17,4.34,3.66,4.57,4.5,4.82,4.25,4.65,4.04,4.48,4.28,4.67,3.8,4.61,4.67,4.28,3.54,3.85,4.58,4.28,4.5,4.02,4.46,4.76,4.08,3.88,4.23,4.13,4.09,4.4,4.38,3.82,4.24,4.46,4.35,3.83,3.93,4.81,3.6,4.14,3.59,4.43,4.4,4.62,4.32,4.11,4.54,4.68,4.18,4.22,3.53,4.65,3.65,4.94,4.52,3.53,4.26,4.56,4.65,3.96,3.7,4.58,4.32,4.02,4.52,4.55,4.45,4.13,4.42,4.66,4.5,4.66,4.39,4.42,4.34,4.69,4.31,4.91,4.11,4.4,4.62,4.29,4.54,3.99,4.07,5.05,3.58,4.39,4.66,3.61,3.54,4.36,4.15,3.87,4.35,4.34,4.24,3.76,3.46,4.79,4.33,4.46,3.99,4.51,4.61,4.81,3.18,4.51,4.42,4.29,4.3,4.08,4.2,4.02,4.37,4.32,4.71,4.18,3.3,4.9,4.65,3.35,4.69,4.62,4.32,4.65,3.77,3.91,4.15,4.15,4.41,4.17,4.91,4.52,4.2,4.23,4.59,5.3,4.67,3.99,4.01,4.25,3.92,3.85,4.47,4.26,4.4,4.13,3.69,4.37,3.71,4.4,4.15,4.59,3.11,4.37,4.33,4.04,4.33,4.72,4.79,4.12,3.99,4.24,4.61,4.41,3.93,4.82,4.27,4.68,4.38,4.36,4.11,4.51,4.35,3.99,4.53,3.54,3.81,4.3,4.02,4.08,4.41,4.39,2.42,4.4,4.82,4.37,4.44,4.5,4.44,4.58,4.51,4.83,4.76,5.0,4.17,3.1,3.99,4.76,3.03,4.73,4.43,4.38,4.52,3.93,4.0,4.23,3.71,4.51,3.09,4.33,3.97,4.17,4.28,4.48,4.14,4.59,4.78,4.72,4.37,4.34,4.74,4.31,3.91,4.47,4.63,5.0,3.15,3.7,4.58,4.65,4.76,4.88,5.02,4.81,4.49,4.77,4.44,4.22,4.55,4.33,4.61,4.59,4.37,4.3,4.05,4.13,4.73,4.23,4.04,4.46,4.33,4.62,4.21,3.66,3.74,4.27,4.54,4.39,3.9,4.58,4.22,3.35,4.6,4.35,4.39,4.83,3.56,3.66,4.23,4.01,4.53,3.76,4.07,4.51,3.62,3.65,4.65,4.13,4.41,4.75,4.54,4.32,4.38,4.54,4.42,4.84,4.51,4.7,4.36,4.47,4.4,4.0,4.96,4.68,4.38,4.86,3.83,4.71,4.41,4.44,4.52,4.14,3.83,4.66,4.44,4.75,4.55,4.06,4.46,4.41,4.56,3.17,2.73,4.3,3.96,3.63,3.91,4.33,4.29,4.01,2.28,3.9,3.76,4.19,4.87,3.91,3.97,3.83,3.49,3.74,3.41,4.21,3.85,4.23,4.75,4.39,4.76,5.02,4.39,4.39,4.47,4.32,4.62,4.78,3.46,4.41,4.19,4.42,4.7,5.12,4.54,4.48,4.44,4.55,3.84,4.26,3.84,3.05,5.06,3.93,4.08,3.94,3.92,4.69,4.47,4.51,4.44,4.63,4.66,4.38,4.12,4.47,4.56,4.17,4.22,4.05,4.25,4.35,3.15,4.12,2.99,4.74,4.46,2.96,3.63,4.45,3.56,4.04,4.04,4.54,4.18,4.77,4.3,3.84,4.25,3.35,4.09,4.85,4.07,4.68,4.89,4.53,4.66,4.2,4.84,4.45,4.98,4.22,4.68,4.7,4.16,4.57,4.37,4.52,4.37,4.27,3.71,4.92,3.71,5.35,4.57,4.65,4.84,4.89,4.74,3.35,4.13,4.26,3.83,3.98,4.1,3.93,4.12,4.87,4.64,4.06,4.58,4.58,4.41,4.24,4.34,3.3,4.55,4.61,4.75,4.46,4.92,4.22,4.29,4.2,4.31,3.43,4.5,4.67,4.26,4.79,4.36,4.81,4.31,3.6,4.8,4.64,4.83,4.66,4.57,4.1,4.22,4.4,4.35,3.6,4.42,3.64,3.99,4.68,4.05,3.91,4.41,4.23,3.68,4.89,3.51,4.35,4.6,4.57,4.54,4.1,4.37,4.64,4.14,4.11,4.87,4.02,4.48,3.33,3.34,4.36,4.1,4.47,2.79,4.36,3.9,3.04,4.75,4.4,4.78,4.11,4.88,4.81,4.33,4.1,4.89,4.58,4.43,4.03,4.69,4.82,4.21,4.53,3.99,3.69,4.54,4.21,4.88,4.63,4.15,4.31,4.73,4.37,4.8,4.0,4.27,4.09,5.09,4.75,4.41,5.17,4.03,4.6,4.48,4.36,3.5,4.75,4.25,5.22,4.44,4.56,3.33,4.88,4.99,3.25,4.69,4.22,4.37,4.25,5.25,4.5,4.82,4.38,4.59,4.76,4.84,4.22,4.17,4.53,4.27,4.45,4.45,4.73,4.21,4.77,4.59,4.14,3.67,4.61,4.87,3.42,4.59,4.29,4.9,4.95,4.84,3.75,4.39,4.43,4.1,5.1,4.14,4.12,4.56,4.11,4.45,4.14,4.71,4.07,4.25,4.33,3.87,4.01,4.97,3.57,3.99,2.88,4.72,4.54,4.53,4.58,4.75,4.92,4.44,4.79,4.84,3.16,4.73,4.9,3.66,4.59,3.89,4.84,3.56,4.75,4.7,4.39,3.23,4.12,4.61,4.39,4.16,4.7,3.58,4.3,4.01,4.62,3.92,4.52,4.43,4.81,4.24,4.35,4.13,4.74,4.45,4.22,4.58,4.25,4.24,4.44,4.14,4.48,4.33,4.12,4.66,3.75,4.83,4.25,4.61,4.33,4.2,3.6,4.46,4.35,4.47,4.58,3.61,4.43,4.9,4.43,4.49,4.56,4.7,4.61,4.08,4.52,5.13,4.89,5.52,4.05,4.75,4.13,4.11,4.71,5.31,4.66,3.45,4.82,3.66,3.85,4.12,4.09,3.78,5.2,5.38,3.43,5.22,4.49,5.2,4.47,4.53,5.07,4.58,4.8,4.67,5.14,4.81,4.35,4.99,4.62,5.09,4.17,4.83,4.25,4.36,3.31,4.66,4.21,3.96,4.68,4.97,3.88,4.31,5.02,4.22,4.24,4.36,4.39,4.95,3.76,3.58,4.52,4.76,4.64,4.45,4.31,4.65,4.61,4.54,3.22,3.11,4.89,4.38,3.21,4.66,3.67,4.21,4.81,4.69,4.52,4.56,4.26,4.42,4.02,4.79,4.69,3.53,3.65,4.22,4.14,4.64,4.19,4.7,4.25,4.49,4.58,4.91,4.54,4.54,4.39,4.44,4.41,4.45,3.85,3.62,5.14,3.05,4.07,4.93,4.29,4.12,4.59,3.72,4.51,4.27,4.39,4.56,4.78,4.33,4.72,4.29,4.21,3.48,4.32,4.25,4.69,4.13,4.08,4.73,4.83,4.76,4.95,4.81,4.84,4.6,4.13,5.06,2.98,4.53,4.91,4.63,4.63,4.63,4.05,4.59,4.71,4.81,5.12,4.45,4.56,4.23,4.81,4.67,3.59,3.46,4.17,4.9,4.12,4.49,4.54,4.15,5.08,4.11,4.47,4.47,4.38,4.24,4.63,4.42,4.29,4.0,4.87,4.05,4.41,4.26,4.64,4.37,4.39,4.39,4.49,3.8,4.64,4.59,4.36,3.85,4.68,4.81,4.08,4.96,4.76,4.58,4.76,4.1,4.13,5.06,4.86,4.1,4.39,4.51,4.57,4.0,4.37,4.89,4.07,4.16,4.66,4.23,4.66,4.61,4.67,5.04,4.57,4.4,4.66,4.52,4.13,4.11,4.12,4.04,3.79,5.38,4.52,4.78,3.29,3.66,4.19,4.67,4.78,4.25,4.12,4.76,4.55,4.38,4.6,4.71,4.25,4.82,3.92,4.61,4.76,4.28,4.48,4.4,3.94,4.99,4.84,4.95,4.3,4.8,4.6,5.02,4.67,4.34,5.01,4.62,4.85,4.73,3.45,3.33,4.65,4.71,4.41,4.36,3.48,4.81,4.67,4.88,4.38,4.76,3.63,4.33,3.91,4.67,4.87,4.7,4.54,4.59,4.86,4.04,4.56,3.53,3.85,4.61,4.94,4.32,3.72,4.72,5.09,5.08,4.86,4.47,3.81,3.86,4.2,3.77,4.28,4.37,4.27,4.61,4.94,4.95,4.79,4.66,4.38,4.27,4.11,4.67,4.51,4.39,4.77,4.68,4.48,4.93,3.63,4.52,4.46,4.68,4.99,4.32,4.11,4.76,4.81,4.42,3.93,4.79,4.8,4.78,4.5,3.78,4.18,4.43,4.96,4.34,3.53,3.47,4.36,4.75,4.49,4.18,4.29,4.48,3.68,4.24,4.31,4.57,4.33,3.76,4.54,4.67,4.66,4.77,4.37,4.72,4.57,4.42,4.59,3.86,4.46,4.54,4.19,5.01,3.18,4.68,3.99,4.37,4.31,2.53,4.51,4.47,4.41,4.68,4.49,4.39,3.92,3.19,4.47,4.41,4.65,4.21,3.92,4.35,4.23,4.05,4.59,4.75,4.63,4.5,4.47,4.34,4.46,4.91,4.22,4.67,3.68,4.66,4.56,5.16,4.46,4.94,5.12,4.79,4.38,4.47,4.89,4.74,4.66,4.45,4.88,4.45,4.57,4.91,4.81,4.63,4.27,3.18,4.27,4.41,3.34,4.5,4.26,4.02,4.32,4.07,3.25,5.15,4.33,5.07,4.16,4.93,3.97,4.52,4.87,5.1,4.83,4.45,4.51,4.11,4.28,4.93,4.79,4.72,4.25,4.9,4.61,4.66,4.75,4.69,4.25,3.97,3.82,4.34,3.47,4.26,3.77,4.28,4.34,4.82,4.45,4.38,4.31,4.77,3.85,4.59,4.58,4.52,4.43,4.52,4.21,4.39,4.57,4.24,4.25,3.97,4.4,4.75,5.06,3.73,4.41,4.04,4.26,4.58,4.64,4.4,4.84,4.35,4.32,4.76,4.84,4.27,4.83,3.86,3.97,4.28,4.85,4.31,3.78,4.83,4.76,3.83,4.31,4.19,4.5,4.63,4.46,4.03,4.56,4.33,4.91,4.62,4.31,4.45,4.57,4.47,4.59,4.53,4.4,4.22,4.32,4.31,3.91,3.85,4.65,4.29,4.59,4.52,4.3,4.38,4.55,4.52,4.09,4.01,4.3,4.31,4.32,4.45,4.7,4.56,4.41,3.77,4.16,4.32,4.37,4.88,4.53,4.51,4.4,4.2,5.18,4.58,3.7,4.83,4.49,2.88,4.88,4.78,3.67,4.63,4.68,3.88,3.92,4.68,4.71,4.37,4.42,5.11,4.44,3.87,4.74,4.72,4.23,4.81,4.91,3.59,4.44,4.47,4.28,4.57,3.99,3.54,4.71,4.03,5.51,3.57,4.94,4.57,4.82,4.18,4.63,4.8,4.13,5.01,4.35,4.61,4.3,4.34,4.78,4.48,3.7,4.36,5.21,4.6,4.51,3.8,4.63,4.95,4.29,4.58,4.48,4.69,4.53,4.46,3.69,4.41,3.84,4.18,4.47,3.57,3.44,3.77,4.25,2.88,4.46,4.81,4.3,4.44,4.43,3.1,4.39,4.32,3.88,4.09,3.33,4.4,4.04,4.11,4.56,4.4,4.54,4.1,3.66,4.47,3.0,4.23,4.45,4.06,4.45,4.37,3.17,3.9,3.69,5.17,4.04,4.13,3.53,4.16,3.49,4.65,3.8,4.75,4.97,4.62,5.17,4.93,4.98,3.89,5.16,4.72,3.84,2.25,3.68,4.34,3.56,3.78,4.53,3.93,3.92,3.93,4.47,3.87,3.29,4.36,4.5,4.6,4.86,4.85,4.33,4.87,4.76,4.84,4.19,5.17,4.44,4.04,4.66,3.35,4.65,4.48,3.97,4.39,4.26,4.43,4.69,4.49,4.29,5.09,3.19,4.37,4.88,4.56,3.78,4.55,4.47,4.51,4.65,4.66,4.15,4.71,4.52,4.3,4.68,4.44,4.5,4.75,4.21,4.2,4.52,4.47,3.7,3.75,3.84,3.7,3.94,4.51,4.22,4.66,4.28,4.43,4.43,4.74,4.46,4.46,4.51,4.41,3.85,4.5,4.46,4.19,4.24,4.01,4.8,4.89,4.34,4.58,4.15,3.78,4.41,3.74,4.66,4.96,4.15,4.37,4.21,3.25,4.08,4.23,4.39,5.0,4.44,4.36,4.06,4.15,4.67,4.89,4.3,4.91,4.67,4.7,3.62,4.38,4.19,3.97,3.24,4.17,3.9,4.44,4.52,3.35,4.74,4.6,4.44,4.07,3.97,4.31,4.46,4.39,4.23,4.45,3.45,4.45,4.83,4.6,4.7,4.95,3.74,3.93,5.23,4.12,3.36,4.47,4.74,4.02,4.34,4.05,4.42,4.31,4.29,3.5,4.34,4.37,4.65,4.15,4.31,4.45,3.91,4.13,4.71,4.56,4.38,4.61,4.12,3.28,3.88,4.25,4.31,4.82,5.03,4.62,4.7,4.68,3.91,4.14,4.75,5.1,5.29,5.23,5.09,4.54,4.13,5.0,4.26,4.58,5.14,3.56,4.7,4.33,4.07,4.23,4.61,4.49,4.63,4.65,4.45,4.45,4.09,4.44,3.01,3.22,3.6,4.35,4.15,4.65,4.22,4.2,4.27,4.44,4.83,4.7,3.88,4.12,4.26,3.91,3.25,4.3,4.48,3.61,4.72,4.92,4.98,4.94,3.92,4.99,4.15,4.04,4.05,4.09,4.08,3.62,4.39,4.0,4.55,4.1,4.0,4.34,4.21,4.69,4.45,4.46,4.74,4.83,4.87,4.2,5.0,4.27,4.55,4.7,4.96,4.56,4.46,4.1,4.21,4.54,4.27,4.43,3.28,4.51,4.47,4.48,4.3,4.61,4.6,3.92,4.77,4.96,4.62,4.85,4.3,4.58,4.78,3.74,4.77,4.19,4.52,3.51,4.55,3.35,5.04,4.53,4.66,4.3,4.89,5.15,4.68,4.13,3.44,3.9,4.68,4.79,4.46,4.77,5.15,4.3,4.37,4.91,4.8,4.18,4.77,4.27,4.48,4.19,3.65,4.49,4.41,4.12,4.53,4.6,3.91,4.37,4.45,4.56,4.43,3.72,4.64,4.79,4.45,4.29,4.27,4.0,4.7,3.26,4.34,4.31,4.69,3.58,4.66,3.3,3.71,4.0,3.23,5.03,4.93,4.25,4.67,4.66,4.5,5.04,5.02,4.59,4.54,5.02,4.59,4.57,4.34,4.74,3.11,4.16,4.3,4.16,4.34,4.1,3.85,4.45,4.52,4.11,3.3,3.96,4.15,3.33,4.19,4.54,4.84,3.98,3.44,4.49,3.88,4.6,4.53,4.38,4.84,4.64,4.2,4.19,4.24,4.76,3.84,4.42,4.55,4.93,3.74,4.37,4.47,4.35,4.84,4.82,4.49,4.6,4.66,4.52,3.63,4.49,4.69,4.87,4.4,4.82,4.94,4.56,4.87,4.32,4.8,5.0,3.86,4.4,4.39,4.46,4.68,4.62,4.68,4.42,4.57,4.47,4.32,4.96,4.07,4.89,4.12,3.95,4.38,4.97,4.48,3.22,4.33,3.82,3.68,3.56,4.44,4.19,3.87,4.61,4.96,3.43,4.32,4.67,4.36,3.52,4.35,4.57,3.35,3.61,4.11,4.81,4.82,4.6,3.91,4.31,4.52,3.3,3.99,4.2,4.73,4.37,4.06,3.9,4.78,4.76,4.46,4.32,4.47,4.36,3.7,4.76,4.05,4.06,4.67,4.56,4.75,4.51,4.76,3.72,4.86,4.76,3.48,3.74,4.21,4.54,4.38,4.48,4.22,4.61,4.0,4.69,4.7,3.82,3.65,4.63,3.91,4.25,4.65,4.28,2.96,4.27,4.01,4.83,4.77,4.5,5.16,4.67,4.5,4.35,4.19,4.03,4.43,4.66,4.33,4.18,5.28,4.07,4.01,4.16,4.82,4.88,4.57,4.78,3.95,3.37,3.94,3.44,3.7,3.05,3.97,3.83,4.32,4.42,3.88,3.97,4.24,3.77,3.9,4.1,4.59,2.76,4.41,4.61,3.42,4.19,3.74,4.75,4.62,4.48,4.72,4.74,4.33,4.38,4.34,3.26,1.22,3.97,3.85,4.11,4.49,3.07,3.91,4.44,4.01,4.05,4.27,4.36,4.75,3.37,3.95,4.81,4.44,4.41,3.6,4.43,3.98,4.55,4.2,3.27,4.38,4.16,4.18,4.29,4.24,4.37,3.95,4.46,3.47,4.48,4.31,4.8,4.04,4.33,4.27,4.66,4.35,4.57,4.24,4.21,4.83,4.87,4.31,4.69,4.33,4.73,4.17,4.32,4.31,4.34,4.94,4.06,4.34,4.28,4.01,4.28,4.68,4.87,4.73,3.47,4.71,4.32,4.54,4.71,4.42,4.57,4.13,4.87,3.24,4.52,3.87,5.06,4.62,4.62,4.62,3.89,4.74,4.63,4.39,4.16,4.75,4.91,4.75,4.2,4.53,3.57,4.9,4.47,3.91,4.36,4.19,4.57,4.44,4.39,4.48,3.98,4.28,4.66,5.03,3.72,4.04,4.73,4.58,4.14,4.64,4.28,4.5,4.1,3.91,4.24,4.05,4.19,4.42,4.46,4.56,3.79,4.28,4.37,4.24,5.42,4.08,5.19,3.22,3.74,4.31,3.78,4.38,5.08,4.62,4.31,4.78,4.61,3.09,2.43,3.33,4.16,3.97,4.17,4.29,3.7,4.49,4.03,4.12,4.59,3.94,3.57,4.21,4.43,4.22,4.62,4.32,4.73,4.61,4.79,4.36,4.71,4.47,4.7,4.08,4.99,4.63,4.95,4.3,3.87,4.31,4.27,4.56,4.78,4.49,3.93,4.3,3.43,3.41,4.7,4.45,4.61,4.72,4.64,4.71,4.31,3.65,3.44,4.76,4.92,4.71,4.62,4.25,4.82,4.69,4.66,4.03,4.4,4.56,4.17,4.22,3.32,4.34,4.63,4.06,4.46,4.45,4.69,4.38,4.28,4.68,4.75,4.66,5.03,4.06,3.86,5.11,4.36,3.97,4.71,3.95,4.71,4.95,3.98,4.49,4.71,4.14,4.96,4.15,2.76,4.02,4.62,4.39,4.04,4.34,4.34,4.12,3.89,4.11,4.15,3.75,4.65,4.29,4.79,4.45,4.08,4.66,4.49,4.39,4.42,3.98,4.32,4.16,3.9,4.1,4.08,4.73,4.7,4.43,4.84,4.95,4.56,4.13,4.43,4.2,3.82,3.95,4.0,4.16,4.24,4.66,4.08,4.27,3.77,4.42,4.19,4.25,2.99,3.81,4.34,4.77,4.28,3.01,3.82,3.88,3.34,3.31,5.0,4.77,5.1,3.41,4.14,3.39,3.72,4.4,4.55,5.2,4.79,4.17,3.86,4.33,3.83,4.41,2.85,4.05,4.21,3.98,4.17,4.08,4.13,4.19,5.11,4.19,4.58,4.73,3.94,3.44,4.75,4.81,4.47,4.63,3.47,4.74,4.51,4.19,4.44,4.51,4.71,4.92,4.41,4.62,4.2,3.96,4.24,4.35,4.68,4.12,4.35,4.34,4.74,4.53,2.77,4.37,2.3,4.55,4.33,4.04,4.25,4.43,4.19,4.04,3.88,4.25,4.41,4.68,4.9,4.41,3.88,4.31,4.49,5.05,4.54,3.88,4.33,3.99,4.3,5.18,3.21,4.4,3.96,4.78,3.85,2.95,4.51,4.68,4.65,3.35,4.35,3.43,4.2,4.4,4.43,4.29,5.09,4.21,4.1,4.28,4.58,4.13,4.79,4.32,4.24,4.39,4.62,4.29,3.21,4.11,3.99,5.05,4.08,4.94,3.82,3.96,5.08,3.12,4.08,4.42,4.35,4.76,4.21,4.45,4.88,4.34,4.36,4.29,4.53,3.59,4.04,4.28,4.29,5.21,5.19,4.58,4.48,4.69,4.61,4.24,4.54,4.15,3.81,4.73,3.45,4.25,4.37,3.75,4.48,3.99,4.77,4.84,2.83,4.13,4.29,4.66,4.39,4.32,3.66,4.17,4.38,4.63,4.59,4.31,4.44,3.22,3.83,4.28,4.0,3.85,4.21,4.55,4.37,4.67,3.49,3.08,4.55,4.37,4.44,3.95,3.61,4.2,4.55,4.06,4.4,4.5,4.18,4.84,4.04,4.27,4.43,3.64,5.01,4.68,4.01,4.14,4.09,4.21,4.55,4.19,3.01,4.29,4.38,4.58,3.98,4.1,4.72,4.77,4.71,4.83,3.71,4.41,4.87,4.05,4.89,4.4,4.84,5.11,4.13,4.1,3.75,4.75,3.81,4.29,4.85,4.0,4.53,4.06,3.95,4.52,4.57,4.26,3.92,4.25,3.42,4.4,4.52,4.23,3.59,4.46,4.86,4.61,4.2,4.79,4.7,4.24,3.83,4.2,3.41,4.15,4.94,4.65,3.89,4.29,4.21,4.62,4.63,4.74,4.49,4.43,3.81,3.59,4.4,4.15,4.71,4.28,4.94,5.03,4.01,4.43,4.63,3.75,3.58,4.62,5.03,4.65,4.19,4.96,4.05,4.2,4.48,4.92,4.64,4.54,4.94,4.54,4.7,4.88,4.4,2.88,4.2,3.91,4.45,4.42,4.55,3.83,3.72,3.03,3.81,4.31,3.8,4.37,4.32,4.86,4.37,4.73,4.55,4.31,4.13,4.05,4.19,4.69,4.6,4.48,4.26,4.56,3.81,4.34,4.54,4.57,4.24,3.69,4.27,4.49,4.19,4.19,4.68,3.98,4.53,4.31,4.45,4.49,4.39,4.77,4.68,4.24,3.98,4.1,3.8,4.46,4.78,4.6,4.81,4.04,3.84,4.17,3.34,4.61,4.52,4.4,4.23,4.85,3.84,4.05,4.95,3.85,4.08,4.48,5.14,4.68,3.71,4.96,5.16,5.11,4.59,4.32,3.77,3.33,4.02,4.96,3.9,4.12,4.29,4.88,5.02,4.54,4.34,4.6,4.65,4.28,4.75,4.87,5.06,4.79,4.82,4.95,4.51,4.52,4.55,4.25,4.34,4.61,4.58,4.27,3.19,4.82,5.1,4.43,4.64,4.16,4.38,4.61,4.77,4.73,4.82,3.57,3.99,4.73,4.8,4.55,4.44,4.18,4.37,4.0,4.22,3.97,4.51,3.72,4.46,4.45,4.05,4.22,4.98,4.37,4.71,4.22,4.73,2.98,4.28,4.55,4.59,4.24,4.95,4.17,4.17,4.49,4.33,4.5,4.85,4.04,3.53,4.26,3.58,4.86,3.84,3.85,4.33,4.46,4.19,4.96,5.21,4.03,3.77,4.22,4.09,5.25,5.38,4.24,5.03,4.83,3.85,3.84,4.4,4.0,4.56,4.9,4.65,4.44,4.68,4.77,4.91,3.96,4.21,3.31,3.64,3.85,4.56,4.03,4.39,4.79,4.01,4.57,4.88,4.79,3.69,4.29,5.05,3.91,4.22,3.57,4.61,4.12,4.65,4.25,4.73,3.39,4.48,4.84,4.81,4.98,4.27,3.85,4.59,4.24,3.95,4.79,4.61,4.61,4.68,4.49,4.43,3.72,4.48,4.74,4.88,4.46,4.33,4.51,4.36,4.54,4.5,3.58,3.84,2.75,5.04,4.73,4.19,3.93,3.63,3.86,4.15,4.7,4.28,5.01,4.89,4.61,4.23,4.29,4.21,4.47,4.16,4.18,3.36,4.94,4.53,4.04,4.41,4.3,4.59,3.87,4.2,4.44,3.57,4.32,4.52,4.53,3.89,3.9,4.72,3.35,4.7,4.36,4.77,3.63,4.55,4.27,4.54,4.74,4.67,4.57,4.96,4.28,4.49,5.16,4.41,4.6,4.52,4.41,4.45,4.42,3.99,5.13,4.92,4.69,4.48,4.23,4.78,4.77,4.32,4.84,3.94,3.9,3.19,4.13,3.89,4.2,4.43,4.35,4.6,4.57,4.27,4.72,4.43,4.57,5.09,3.59,4.62,3.76,4.57,5.11,4.7,5.24,4.96,3.8,4.1,4.31,3.53,3.35,4.38,3.43,4.05,4.39,4.63,3.75,4.39,4.34,3.79,4.72,4.64,4.84,4.5,5.06,4.51,4.82,3.91,4.19,4.26,4.54,4.73,3.97,4.81,4.14,5.08,3.05,4.34,4.3,5.05,4.74,4.56,3.71,4.75,4.71,4.38,4.38,3.86,4.49,3.08,4.3,3.33,4.09,3.77,3.55,4.34,4.19,4.14,4.16,4.11,4.94,4.85,4.66,4.69,4.03,4.38,4.59,5.4,3.98,4.2,4.86,3.91,4.73,5.16,5.01,4.77,4.93,3.92,4.7,4.5,5.12,4.81,4.4,4.69,4.71,4.55,4.5,4.74,4.85,4.24,4.51,4.66,3.64,4.63,4.31,4.71,4.85,4.58,3.42,5.15,4.41,4.86,4.87,4.41,4.99,4.59,4.5,4.23,3.86,4.72,4.52,4.48,4.24,4.47,4.43,4.65,4.1,4.23,3.81,4.43,5.17,3.94,4.64,4.52,5.23,4.22,3.42,3.89,3.09,4.16,4.45,4.45,3.93,4.55,4.45,4.95,4.83,4.45,4.92,4.42,4.2,4.21,4.99,4.58,4.22,4.62,4.45,4.62,4.31,4.14,5.04,4.0,3.57,3.75,5.69,3.32,5.22,4.82,4.89,4.33,4.51,3.22,4.73,3.64,4.55,4.5,4.52,4.16,5.17,4.75,4.39,4.46,4.6,4.61,3.78,4.52,4.12,3.78,4.95,4.63,4.87,3.67,3.55,4.48,4.13,4.13,3.77,3.99,4.88,4.68,4.77,5.05,4.23,4.3,4.74,4.89,5.08,4.14,4.19,4.69,3.54,3.88,4.02,3.99,3.09,3.89,4.68,4.52,4.45,4.28,4.45,4.42,4.71,4.44,4.41,4.87,4.62,4.56,5.2,4.21,4.69,4.3,4.16,3.56,4.45,4.66,3.67,4.24,4.43,4.83,4.34,4.16,4.04,4.1,4.4,4.03,4.59,3.55,4.09,3.89,4.62,4.1,4.2,4.05,4.77,4.77,4.03,4.74,3.84,4.51,4.52,4.71,3.5,4.6,4.43,4.37,4.17,4.17,4.86,4.49,4.68,4.97,4.22,4.57,4.72,4.86,4.38,3.24,4.91,5.04,4.29,4.7,4.25,4.75,4.79,5.06,4.54,4.4,4.92,4.47,4.57,3.98,4.48,4.43,3.37,4.52,4.2,4.73,5.07,4.38,3.32,4.3,4.36,4.41,4.66,4.52,4.75,4.44,4.25,3.58,4.18,4.64,4.24,4.52,4.66,4.45,4.66,4.43,4.61,4.99,3.76,3.77,4.28,4.32,4.9,4.21,4.3,3.69,4.54,4.38,3.67,4.63,4.86,5.1,5.03,4.79,4.68,4.58,3.91,3.7,5.25,4.79,4.46,5.17,3.97,4.46,4.51,4.77,4.59,4.54,4.76,5.34,4.1,4.9,4.96,5.1,4.06,3.46,4.19,3.72,4.13,4.53,4.66,4.21,4.73,3.4,4.32,4.35,4.22,4.35,4.89,4.58,3.86,3.47,4.48,4.31,4.4,3.96,4.88,4.11,4.66,3.95,4.45,4.74,5.02,4.95,4.54,4.29,4.06,3.98,4.81,4.4,4.67,4.92,5.06,3.06,3.69,3.97,4.53,3.68,4.15,4.6,4.0,4.44,4.66,5.01,4.57,5.11,4.91,4.48,3.79,4.53,4.54,4.11,2.79,4.31,4.22,4.72,4.35,3.96,3.36,3.76,4.3,4.2,4.21,3.6,3.98,4.35,3.8,4.41,4.59,5.12,4.05,4.94,4.69,4.54,4.43,4.35,2.44,4.24,3.47,4.77,4.86,4.77,5.02,4.43,4.36,4.18,4.42,4.67,4.28,4.02,4.74,4.18,4.43,4.37,5.02,5.02,4.64,4.79,3.71,4.29,4.83,4.15,4.33,3.23,4.09,4.41,3.98,4.2,3.82,4.34,4.35,4.36,3.82,4.71,4.46,4.72,4.13,4.27,4.13,4.61,3.88,4.22,4.26,3.1,4.48,5.06,4.13,3.91,4.69,4.23,4.5,4.04,3.55,4.17,3.98,4.22,4.61,3.97,4.45,4.37,4.39,4.49,4.26,3.29,4.53,3.85,3.43,4.12,4.26,4.54,3.68,4.66,4.4,4.39,4.19,4.56,4.32,4.58,4.23,4.45,4.3,3.94,4.32,4.52,4.61,4.09,3.91,4.35,4.11,3.81,4.55,4.33,4.49,4.01,4.31,3.19,4.42,4.5,4.2,4.23,4.82,3.19,3.86,3.95,3.97,2.78,4.75,4.41,4.07,4.63,5.43,4.81,3.73,3.08,4.38,4.68,4.03,4.25,3.86,4.47,4.47,3.41,4.37,3.77,3.44,3.66,4.56,4.69,4.82,4.23,4.73,4.44,4.44,4.3,4.7,4.27,4.24,4.78,4.68,4.65,4.88,3.71,4.22,3.62,4.42,4.64,4.66,4.22,3.79,4.31,4.54,3.1,3.13,5.12,4.61,4.79,5.03,2.64,4.01,4.15,3.87,4.98,3.68,3.1,4.09,3.68,4.95,4.52,4.16,4.26,4.05,4.29,4.96,5.26,5.28,5.36,3.9,4.4,3.46,3.27,4.45,4.36,3.64,3.64,3.93,3.7,4.2,4.0,4.78,4.55,4.49,4.48,4.81,4.88,4.0,4.16,3.76,4.58,4.16,4.92,4.12,4.45,4.53,4.44,5.16,4.0,3.75,4.73,4.84,3.2,4.53,4.85,4.06,3.35,3.19,4.8,4.47,4.23,4.11,3.88,3.49,3.9,4.3,4.74,4.12,4.99,4.28,3.52,4.39,4.61,4.74,4.83,4.06,4.58,4.13,5.0,4.74,3.94,4.7,4.39,3.99,4.34,4.15,4.33,3.75,4.22,4.59,4.07,3.47,4.27,4.6,3.85,4.24,3.98,4.53,4.28,4.12,3.69,3.76,4.28,3.15,4.08,4.2,4.31,3.3,4.21,3.35,3.7,4.42,3.9,4.5,4.65,4.94,4.27,4.93,4.45,5.15,4.42,4.28,3.29,3.28,4.15,4.32,4.7,4.08,4.09,4.72,3.47,4.42,4.0,3.4,4.63,4.6,4.71,4.55,4.99,4.17,4.22,4.16,4.39,4.66,4.71,4.35,4.55,4.09,4.46,4.51,4.46,4.53,3.88,4.08,4.31,4.51,4.38,3.88,4.16,4.68,4.83,4.66,4.01,4.28,4.65,4.67,4.16,4.65,4.88,4.6,4.8,4.48,3.38,3.78,4.35,4.73,4.32,4.71,4.34,5.0,4.74,5.15,4.19,4.24,4.76,4.01,4.6,4.52,4.74,4.2,3.9,4.44,4.17,4.87,4.26,4.55,4.55,4.64,4.56,4.43,4.3,4.6,4.01,4.58,4.14,4.19,4.82,3.92,4.35,5.15,4.02,4.85,4.54,4.46,4.3,4.28,4.69,4.51,4.62,3.07,4.32,4.67,4.13,4.22,3.68,4.12,3.4,4.57,4.36,4.76,4.44,4.69,4.44,4.65,4.39,4.04,4.47,3.57,4.29,4.57,4.7,4.11,4.42,4.25,4.46,3.97,4.49,4.04,4.41,4.26,4.83,3.52,3.87,4.36,4.21,4.7,4.77,4.59,4.43,4.76,4.63,4.21,3.2,4.7,4.08,4.76,4.37,4.41,4.32,4.41,4.58,3.73,4.21,4.53,4.61,4.15,4.33,4.27,3.51,4.25,4.35,4.05,4.6,3.1,3.75,4.66,4.48,4.55,3.92,4.64,4.41,3.97,4.45,4.41,4.72,4.4,4.46,4.4,4.59,3.62,4.3,4.96,4.97,3.46,4.8,4.53,4.26,5.12,4.16,4.57,4.03,5.07,5.17,3.78,4.81,4.28,4.33,4.43,4.76,4.11,4.56,4.92,4.22,3.91,4.29,4.33,4.46,4.67,4.22,4.54,4.4,4.37,4.49,4.65,4.04,2.94,4.17,5.07,3.95,4.23,3.46,4.26,4.65,4.12,4.03,4.31,3.91,4.14,3.78,3.93,4.73,4.57,4.92,4.75,4.52,4.82,4.57,4.78,3.89,4.84,4.44,4.4,4.92,3.64,4.62,4.63,4.65,4.39,4.3,4.43,4.3,4.32,3.5,4.82,3.92,4.05,4.14,4.12,4.2,4.1,4.85,3.76,4.49,4.71,3.88,4.77,4.08,4.41,3.75,4.76,3.47,4.09,4.16,4.06,3.76,4.49,4.63,4.08,4.56,3.65,4.05,4.83,5.17,4.47,3.92,4.6,5.06,3.01,4.32,4.24,4.61,4.27,4.23,4.55,3.7,3.97,3.88,3.88,4.76,4.44,5.15,4.3,3.98,4.15,4.15,4.24,4.47,4.23,4.83,4.58,4.75,4.64,4.49,4.61,4.71,4.59,5.0,4.66,4.12,4.74,3.62,4.95,3.38,4.36,4.51,4.04,4.36,4.96,4.12,4.39,4.19,4.39,4.53,4.08,4.52,3.45,4.35,4.47,3.19,4.71,3.9,4.08,3.05,4.35,3.21,4.51,3.8,4.2,4.99,5.3,4.97,4.28,3.49,4.96,4.83,4.58,4.22,4.08,4.46,4.6,4.95,4.34,4.03,4.6,4.54,4.85,4.2,5.02,4.59,3.95,4.46,4.38,4.26,4.51,3.81,4.68,4.04,4.02,4.54,4.53,3.59,4.17,5.04,4.25,3.96,4.08,4.0,3.32,4.36,4.9,4.17,4.19,4.65,4.17,4.62,3.5,4.45,4.2,4.82,4.4,4.37,4.65,4.21,3.82,4.27,4.66,4.34,4.77,4.65,4.92,4.55,4.71,4.46,4.58,4.08,4.52,4.54,4.64,4.7,3.92,4.81,4.21,5.08,4.46,4.62,3.94,4.56,4.27,3.94,4.37,4.92,4.36,4.66,3.86,4.49,4.91,4.21,3.6,4.69,4.45,4.72,4.49,3.88,4.48,4.16,5.2,4.58,4.38,4.0,4.43,5.12,4.75,4.56,5.3,4.3,4.84,4.47,4.06,4.8,4.76,4.78,4.41,4.32,3.67,4.85,4.85,4.02,4.69,5.43,3.8,4.36,4.71,4.8,4.44,4.32,4.76,4.65,4.93,4.17,4.18,4.72,4.76,4.29,4.64,4.49,3.88,3.89,3.25,3.99,4.5,4.22,4.6,3.97,4.07,3.81,3.93,4.77,4.22,3.95,3.79,4.24,3.4,4.62,4.55,4.22,4.45,3.97,4.65,3.83,4.59,4.4,4.14,4.29,3.41,3.75,3.94,4.17,4.2,5.07,4.31,4.89,4.21,4.38,4.48,4.63,4.61,4.49,4.84,3.76,5.07,4.72,4.58,4.82,4.23,4.37,4.56,4.81,4.57,4.64,4.26,4.52,3.96,4.48,5.0,4.16,3.28,4.58,4.43,3.59,4.69,4.37,4.44,4.41,4.8,5.22,4.56,4.35,3.99,5.03,3.96,4.89,4.58,4.04,4.63,4.61,4.66,4.17,4.24,4.21,3.47,4.02,3.99,3.33,4.87,3.99,4.05,3.95,4.59,4.03,4.26,4.25,4.21,4.21,4.23,3.99,4.87,4.21,4.54,3.82,4.56,5.01,4.19,4.57,4.52,4.04,4.58,5.29,4.58,4.57,4.05,4.54,4.51,4.15,3.98,5.02,4.62,4.54,4.31,4.25,4.29,4.54,4.74,4.46,4.14,4.28,4.33,4.37,4.4,4.39,4.54,4.29,4.62,4.3,4.77,4.11,4.11,4.58,4.24,4.69,4.09,4.28,4.47,4.39,4.59,4.25,4.5,4.72,3.78,4.85,4.26,4.54,5.14,3.84,4.23,4.49,3.87,4.63,4.87,4.81,3.78,4.16,4.78,4.38,3.81,4.26,4.02,4.67,4.21,3.97,4.67,4.29,3.86,4.0,3.83,4.81,4.85,4.66,4.38,5.27,4.44,4.6,5.12,3.51,4.5,3.93,4.15,4.05,3.85,4.64,4.69,4.16,4.38,4.13,4.79,4.6,4.21,4.81,4.25,4.55,5.18,4.91,4.01,3.64,3.98,3.85,4.2,4.03,3.01,4.37,4.12,4.59,4.63,4.55,3.67,4.51,4.44,4.65,4.66,4.46,4.71,3.64,3.78,2.99,3.67,4.24,4.21,4.47,4.62,4.08,4.48,4.27,4.47,4.39,3.86,4.45,4.45,4.11,4.28,4.26,4.33,4.8,4.1,2.89,4.23,4.84,4.33,4.44,4.06,4.31,4.02,4.42,4.26,4.54,4.56,3.83,4.25,4.11,3.9,4.08,4.02,4.11,4.28,4.12,4.31,3.36,5.03,5.02,4.31,4.28,4.99,4.8,4.44,4.06,4.44,4.68,4.63,4.69,3.24,4.6,4.5,4.67,3.61,4.25,4.62,4.07,4.29,4.62,4.25,4.76,4.63,4.43,4.5,4.8,3.36,4.69,4.19],\"yaxis\":\"y2\",\"type\":\"histogram\"}],                        {\"template\":{\"data\":{\"histogram2dcontour\":[{\"type\":\"histogram2dcontour\",\"colorbar\":{\"outlinewidth\":0,\"ticks\":\"\"},\"colorscale\":[[0.0,\"#0d0887\"],[0.1111111111111111,\"#46039f\"],[0.2222222222222222,\"#7201a8\"],[0.3333333333333333,\"#9c179e\"],[0.4444444444444444,\"#bd3786\"],[0.5555555555555556,\"#d8576b\"],[0.6666666666666666,\"#ed7953\"],[0.7777777777777778,\"#fb9f3a\"],[0.8888888888888888,\"#fdca26\"],[1.0,\"#f0f921\"]]}],\"choropleth\":[{\"type\":\"choropleth\",\"colorbar\":{\"outlinewidth\":0,\"ticks\":\"\"}}],\"histogram2d\":[{\"type\":\"histogram2d\",\"colorbar\":{\"outlinewidth\":0,\"ticks\":\"\"},\"colorscale\":[[0.0,\"#0d0887\"],[0.1111111111111111,\"#46039f\"],[0.2222222222222222,\"#7201a8\"],[0.3333333333333333,\"#9c179e\"],[0.4444444444444444,\"#bd3786\"],[0.5555555555555556,\"#d8576b\"],[0.6666666666666666,\"#ed7953\"],[0.7777777777777778,\"#fb9f3a\"],[0.8888888888888888,\"#fdca26\"],[1.0,\"#f0f921\"]]}],\"heatmap\":[{\"type\":\"heatmap\",\"colorbar\":{\"outlinewidth\":0,\"ticks\":\"\"},\"colorscale\":[[0.0,\"#0d0887\"],[0.1111111111111111,\"#46039f\"],[0.2222222222222222,\"#7201a8\"],[0.3333333333333333,\"#9c179e\"],[0.4444444444444444,\"#bd3786\"],[0.5555555555555556,\"#d8576b\"],[0.6666666666666666,\"#ed7953\"],[0.7777777777777778,\"#fb9f3a\"],[0.8888888888888888,\"#fdca26\"],[1.0,\"#f0f921\"]]}],\"heatmapgl\":[{\"type\":\"heatmapgl\",\"colorbar\":{\"outlinewidth\":0,\"ticks\":\"\"},\"colorscale\":[[0.0,\"#0d0887\"],[0.1111111111111111,\"#46039f\"],[0.2222222222222222,\"#7201a8\"],[0.3333333333333333,\"#9c179e\"],[0.4444444444444444,\"#bd3786\"],[0.5555555555555556,\"#d8576b\"],[0.6666666666666666,\"#ed7953\"],[0.7777777777777778,\"#fb9f3a\"],[0.8888888888888888,\"#fdca26\"],[1.0,\"#f0f921\"]]}],\"contourcarpet\":[{\"type\":\"contourcarpet\",\"colorbar\":{\"outlinewidth\":0,\"ticks\":\"\"}}],\"contour\":[{\"type\":\"contour\",\"colorbar\":{\"outlinewidth\":0,\"ticks\":\"\"},\"colorscale\":[[0.0,\"#0d0887\"],[0.1111111111111111,\"#46039f\"],[0.2222222222222222,\"#7201a8\"],[0.3333333333333333,\"#9c179e\"],[0.4444444444444444,\"#bd3786\"],[0.5555555555555556,\"#d8576b\"],[0.6666666666666666,\"#ed7953\"],[0.7777777777777778,\"#fb9f3a\"],[0.8888888888888888,\"#fdca26\"],[1.0,\"#f0f921\"]]}],\"surface\":[{\"type\":\"surface\",\"colorbar\":{\"outlinewidth\":0,\"ticks\":\"\"},\"colorscale\":[[0.0,\"#0d0887\"],[0.1111111111111111,\"#46039f\"],[0.2222222222222222,\"#7201a8\"],[0.3333333333333333,\"#9c179e\"],[0.4444444444444444,\"#bd3786\"],[0.5555555555555556,\"#d8576b\"],[0.6666666666666666,\"#ed7953\"],[0.7777777777777778,\"#fb9f3a\"],[0.8888888888888888,\"#fdca26\"],[1.0,\"#f0f921\"]]}],\"mesh3d\":[{\"type\":\"mesh3d\",\"colorbar\":{\"outlinewidth\":0,\"ticks\":\"\"}}],\"scatter\":[{\"fillpattern\":{\"fillmode\":\"overlay\",\"size\":10,\"solidity\":0.2},\"type\":\"scatter\"}],\"parcoords\":[{\"type\":\"parcoords\",\"line\":{\"colorbar\":{\"outlinewidth\":0,\"ticks\":\"\"}}}],\"scatterpolargl\":[{\"type\":\"scatterpolargl\",\"marker\":{\"colorbar\":{\"outlinewidth\":0,\"ticks\":\"\"}}}],\"bar\":[{\"error_x\":{\"color\":\"#2a3f5f\"},\"error_y\":{\"color\":\"#2a3f5f\"},\"marker\":{\"line\":{\"color\":\"#E5ECF6\",\"width\":0.5},\"pattern\":{\"fillmode\":\"overlay\",\"size\":10,\"solidity\":0.2}},\"type\":\"bar\"}],\"scattergeo\":[{\"type\":\"scattergeo\",\"marker\":{\"colorbar\":{\"outlinewidth\":0,\"ticks\":\"\"}}}],\"scatterpolar\":[{\"type\":\"scatterpolar\",\"marker\":{\"colorbar\":{\"outlinewidth\":0,\"ticks\":\"\"}}}],\"histogram\":[{\"marker\":{\"pattern\":{\"fillmode\":\"overlay\",\"size\":10,\"solidity\":0.2}},\"type\":\"histogram\"}],\"scattergl\":[{\"type\":\"scattergl\",\"marker\":{\"colorbar\":{\"outlinewidth\":0,\"ticks\":\"\"}}}],\"scatter3d\":[{\"type\":\"scatter3d\",\"line\":{\"colorbar\":{\"outlinewidth\":0,\"ticks\":\"\"}},\"marker\":{\"colorbar\":{\"outlinewidth\":0,\"ticks\":\"\"}}}],\"scattermapbox\":[{\"type\":\"scattermapbox\",\"marker\":{\"colorbar\":{\"outlinewidth\":0,\"ticks\":\"\"}}}],\"scatterternary\":[{\"type\":\"scatterternary\",\"marker\":{\"colorbar\":{\"outlinewidth\":0,\"ticks\":\"\"}}}],\"scattercarpet\":[{\"type\":\"scattercarpet\",\"marker\":{\"colorbar\":{\"outlinewidth\":0,\"ticks\":\"\"}}}],\"carpet\":[{\"aaxis\":{\"endlinecolor\":\"#2a3f5f\",\"gridcolor\":\"white\",\"linecolor\":\"white\",\"minorgridcolor\":\"white\",\"startlinecolor\":\"#2a3f5f\"},\"baxis\":{\"endlinecolor\":\"#2a3f5f\",\"gridcolor\":\"white\",\"linecolor\":\"white\",\"minorgridcolor\":\"white\",\"startlinecolor\":\"#2a3f5f\"},\"type\":\"carpet\"}],\"table\":[{\"cells\":{\"fill\":{\"color\":\"#EBF0F8\"},\"line\":{\"color\":\"white\"}},\"header\":{\"fill\":{\"color\":\"#C8D4E3\"},\"line\":{\"color\":\"white\"}},\"type\":\"table\"}],\"barpolar\":[{\"marker\":{\"line\":{\"color\":\"#E5ECF6\",\"width\":0.5},\"pattern\":{\"fillmode\":\"overlay\",\"size\":10,\"solidity\":0.2}},\"type\":\"barpolar\"}],\"pie\":[{\"automargin\":true,\"type\":\"pie\"}]},\"layout\":{\"autotypenumbers\":\"strict\",\"colorway\":[\"#636efa\",\"#EF553B\",\"#00cc96\",\"#ab63fa\",\"#FFA15A\",\"#19d3f3\",\"#FF6692\",\"#B6E880\",\"#FF97FF\",\"#FECB52\"],\"font\":{\"color\":\"#2a3f5f\"},\"hovermode\":\"closest\",\"hoverlabel\":{\"align\":\"left\"},\"paper_bgcolor\":\"white\",\"plot_bgcolor\":\"#E5ECF6\",\"polar\":{\"bgcolor\":\"#E5ECF6\",\"angularaxis\":{\"gridcolor\":\"white\",\"linecolor\":\"white\",\"ticks\":\"\"},\"radialaxis\":{\"gridcolor\":\"white\",\"linecolor\":\"white\",\"ticks\":\"\"}},\"ternary\":{\"bgcolor\":\"#E5ECF6\",\"aaxis\":{\"gridcolor\":\"white\",\"linecolor\":\"white\",\"ticks\":\"\"},\"baxis\":{\"gridcolor\":\"white\",\"linecolor\":\"white\",\"ticks\":\"\"},\"caxis\":{\"gridcolor\":\"white\",\"linecolor\":\"white\",\"ticks\":\"\"}},\"coloraxis\":{\"colorbar\":{\"outlinewidth\":0,\"ticks\":\"\"}},\"colorscale\":{\"sequential\":[[0.0,\"#0d0887\"],[0.1111111111111111,\"#46039f\"],[0.2222222222222222,\"#7201a8\"],[0.3333333333333333,\"#9c179e\"],[0.4444444444444444,\"#bd3786\"],[0.5555555555555556,\"#d8576b\"],[0.6666666666666666,\"#ed7953\"],[0.7777777777777778,\"#fb9f3a\"],[0.8888888888888888,\"#fdca26\"],[1.0,\"#f0f921\"]],\"sequentialminus\":[[0.0,\"#0d0887\"],[0.1111111111111111,\"#46039f\"],[0.2222222222222222,\"#7201a8\"],[0.3333333333333333,\"#9c179e\"],[0.4444444444444444,\"#bd3786\"],[0.5555555555555556,\"#d8576b\"],[0.6666666666666666,\"#ed7953\"],[0.7777777777777778,\"#fb9f3a\"],[0.8888888888888888,\"#fdca26\"],[1.0,\"#f0f921\"]],\"diverging\":[[0,\"#8e0152\"],[0.1,\"#c51b7d\"],[0.2,\"#de77ae\"],[0.3,\"#f1b6da\"],[0.4,\"#fde0ef\"],[0.5,\"#f7f7f7\"],[0.6,\"#e6f5d0\"],[0.7,\"#b8e186\"],[0.8,\"#7fbc41\"],[0.9,\"#4d9221\"],[1,\"#276419\"]]},\"xaxis\":{\"gridcolor\":\"white\",\"linecolor\":\"white\",\"ticks\":\"\",\"title\":{\"standoff\":15},\"zerolinecolor\":\"white\",\"automargin\":true,\"zerolinewidth\":2},\"yaxis\":{\"gridcolor\":\"white\",\"linecolor\":\"white\",\"ticks\":\"\",\"title\":{\"standoff\":15},\"zerolinecolor\":\"white\",\"automargin\":true,\"zerolinewidth\":2},\"scene\":{\"xaxis\":{\"backgroundcolor\":\"#E5ECF6\",\"gridcolor\":\"white\",\"linecolor\":\"white\",\"showbackground\":true,\"ticks\":\"\",\"zerolinecolor\":\"white\",\"gridwidth\":2},\"yaxis\":{\"backgroundcolor\":\"#E5ECF6\",\"gridcolor\":\"white\",\"linecolor\":\"white\",\"showbackground\":true,\"ticks\":\"\",\"zerolinecolor\":\"white\",\"gridwidth\":2},\"zaxis\":{\"backgroundcolor\":\"#E5ECF6\",\"gridcolor\":\"white\",\"linecolor\":\"white\",\"showbackground\":true,\"ticks\":\"\",\"zerolinecolor\":\"white\",\"gridwidth\":2}},\"shapedefaults\":{\"line\":{\"color\":\"#2a3f5f\"}},\"annotationdefaults\":{\"arrowcolor\":\"#2a3f5f\",\"arrowhead\":0,\"arrowwidth\":1},\"geo\":{\"bgcolor\":\"white\",\"landcolor\":\"#E5ECF6\",\"subunitcolor\":\"white\",\"showland\":true,\"showlakes\":true,\"lakecolor\":\"white\"},\"title\":{\"x\":0.05},\"mapbox\":{\"style\":\"light\"}}},\"xaxis\":{\"anchor\":\"y\",\"domain\":[0.0,0.7363],\"title\":{\"text\":\"operationTime\"}},\"yaxis\":{\"anchor\":\"x\",\"domain\":[0.0,0.7326],\"title\":{\"text\":\"hangTime\"}},\"xaxis2\":{\"anchor\":\"y2\",\"domain\":[0.7413,1.0],\"matches\":\"x2\",\"showticklabels\":false,\"showline\":false,\"ticks\":\"\",\"showgrid\":true},\"yaxis2\":{\"anchor\":\"x2\",\"domain\":[0.0,0.7326],\"matches\":\"y\",\"showticklabels\":false,\"showgrid\":true},\"xaxis3\":{\"anchor\":\"y3\",\"domain\":[0.0,0.7363],\"matches\":\"x\",\"showticklabels\":false,\"showgrid\":true},\"yaxis3\":{\"anchor\":\"x3\",\"domain\":[0.7426,1.0],\"matches\":\"y3\",\"showticklabels\":false,\"showline\":false,\"ticks\":\"\",\"showgrid\":true},\"xaxis4\":{\"anchor\":\"y4\",\"domain\":[0.7413,1.0],\"matches\":\"x2\",\"showticklabels\":false,\"showgrid\":true,\"showline\":false,\"ticks\":\"\"},\"yaxis4\":{\"anchor\":\"x4\",\"domain\":[0.7426,1.0],\"matches\":\"y3\",\"showticklabels\":false,\"showline\":false,\"ticks\":\"\",\"showgrid\":true},\"legend\":{\"tracegroupgap\":0},\"margin\":{\"t\":60},\"barmode\":\"overlay\"},                        {\"responsive\": true}                    ).then(function(){\n",
              "                            \n",
              "var gd = document.getElementById('e0510ce7-e118-4974-82be-6c88bb0ef1c4');\n",
              "var x = new MutationObserver(function (mutations, observer) {{\n",
              "        var display = window.getComputedStyle(gd).display;\n",
              "        if (!display || display === 'none') {{\n",
              "            console.log([gd, 'removed!']);\n",
              "            Plotly.purge(gd);\n",
              "            observer.disconnect();\n",
              "        }}\n",
              "}});\n",
              "\n",
              "// Listen for the removal of the full notebook cells\n",
              "var notebookContainer = gd.closest('#notebook-container');\n",
              "if (notebookContainer) {{\n",
              "    x.observe(notebookContainer, {childList: true});\n",
              "}}\n",
              "\n",
              "// Listen for the clearing of the current output cell\n",
              "var outputEl = gd.closest('.output');\n",
              "if (outputEl) {{\n",
              "    x.observe(outputEl, {childList: true});\n",
              "}}\n",
              "\n",
              "                        })                };                            </script>        </div>\n",
              "</body>\n",
              "</html>"
            ]
          },
          "metadata": {}
        }
      ]
    },
    {
      "cell_type": "code",
      "source": [
        "plt.figure(figsize=(15,5))\n",
        "\n",
        "x1 = plt.subplot(1, 2, 1)\n",
        "q1 = qqplot(df_scouting['hangTime'], line='s',ax = x1)\n",
        "\n",
        "x2 = plt.subplot(1, 2, 2)\n",
        "q2 = qqplot(df_scouting['operationTime'], line='s',ax = x2)"
      ],
      "metadata": {
        "colab": {
          "base_uri": "https://localhost:8080/",
          "height": 447
        },
        "id": "S_n0BO_hQ5Rz",
        "outputId": "31514dad-f7d2-4396-b2e0-a8fd464b3d94"
      },
      "execution_count": 62,
      "outputs": [
        {
          "output_type": "display_data",
          "data": {
            "text/plain": [
              "<Figure size 1500x500 with 2 Axes>"
            ],
            "image/png": "[encoded data removed]"
          },
          "metadata": {}
        }
      ]
    },
    {
      "cell_type": "code",
      "source": [
        "df_plays.head()"
      ],
      "metadata": {
        "colab": {
          "base_uri": "https://localhost:8080/",
          "height": 206
        },
        "id": "T4K48nkiRHmS",
        "outputId": "a10dd87e-4e04-4cd8-88cd-cf58faca13a0"
      },
      "execution_count": 63,
      "outputs": [
        {
          "output_type": "execute_result",
          "data": {
            "text/plain": [
              "       gameId  playId  quarter  down  yardsToGo possessionTeam  \\\n",
              "0  2018090600      37        1     0          0            PHI   \n",
              "1  2018090600     366        1     4          4            PHI   \n",
              "2  2018090600     658        1     4          3            ATL   \n",
              "3  2018090600     677        1     0          0            ATL   \n",
              "4  2018090600     872        1     4         18            PHI   \n",
              "\n",
              "  specialTeamsPlayType specialTeamsResult  playResult  \n",
              "0              Kickoff          Touchback          40  \n",
              "1                 Punt             Return          36  \n",
              "2           Field Goal  Kick Attempt Good           0  \n",
              "3              Kickoff             Return          34  \n",
              "4                 Punt          Touchback          45  "
            ],
            "text/html": [
              "\n",
              "\n",
              "  <div id=\"df-c70fd6a1-49d2-4bd3-a6ed-d7ccaedaecaf\">\n",
              "    <div class=\"colab-df-container\">\n",
              "      <div>\n",
              "<style scoped>\n",
              "    .dataframe tbody tr th:only-of-type {\n",
              "        vertical-align: middle;\n",
              "    }\n",
              "\n",
              "    .dataframe tbody tr th {\n",
              "        vertical-align: top;\n",
              "    }\n",
              "\n",
              "    .dataframe thead th {\n",
              "        text-align: right;\n",
              "    }\n",
              "</style>\n",
              "<table border=\"1\" class=\"dataframe\">\n",
              "  <thead>\n",
              "    <tr style=\"text-align: right;\">\n",
              "      <th></th>\n",
              "      <th>gameId</th>\n",
              "      <th>playId</th>\n",
              "      <th>quarter</th>\n",
              "      <th>down</th>\n",
              "      <th>yardsToGo</th>\n",
              "      <th>possessionTeam</th>\n",
              "      <th>specialTeamsPlayType</th>\n",
              "      <th>specialTeamsResult</th>\n",
              "      <th>playResult</th>\n",
              "    </tr>\n",
              "  </thead>\n",
              "  <tbody>\n",
              "    <tr>\n",
              "      <th>0</th>\n",
              "      <td>2018090600</td>\n",
              "      <td>37</td>\n",
              "      <td>1</td>\n",
              "      <td>0</td>\n",
              "      <td>0</td>\n",
              "      <td>PHI</td>\n",
              "      <td>Kickoff</td>\n",
              "      <td>Touchback</td>\n",
              "      <td>40</td>\n",
              "    </tr>\n",
              "    <tr>\n",
              "      <th>1</th>\n",
              "      <td>2018090600</td>\n",
              "      <td>366</td>\n",
              "      <td>1</td>\n",
              "      <td>4</td>\n",
              "      <td>4</td>\n",
              "      <td>PHI</td>\n",
              "      <td>Punt</td>\n",
              "      <td>Return</td>\n",
              "      <td>36</td>\n",
              "    </tr>\n",
              "    <tr>\n",
              "      <th>2</th>\n",
              "      <td>2018090600</td>\n",
              "      <td>658</td>\n",
              "      <td>1</td>\n",
              "      <td>4</td>\n",
              "      <td>3</td>\n",
              "      <td>ATL</td>\n",
              "      <td>Field Goal</td>\n",
              "      <td>Kick Attempt Good</td>\n",
              "      <td>0</td>\n",
              "    </tr>\n",
              "    <tr>\n",
              "      <th>3</th>\n",
              "      <td>2018090600</td>\n",
              "      <td>677</td>\n",
              "      <td>1</td>\n",
              "      <td>0</td>\n",
              "      <td>0</td>\n",
              "      <td>ATL</td>\n",
              "      <td>Kickoff</td>\n",
              "      <td>Return</td>\n",
              "      <td>34</td>\n",
              "    </tr>\n",
              "    <tr>\n",
              "      <th>4</th>\n",
              "      <td>2018090600</td>\n",
              "      <td>872</td>\n",
              "      <td>1</td>\n",
              "      <td>4</td>\n",
              "      <td>18</td>\n",
              "      <td>PHI</td>\n",
              "      <td>Punt</td>\n",
              "      <td>Touchback</td>\n",
              "      <td>45</td>\n",
              "    </tr>\n",
              "  </tbody>\n",
              "</table>\n",
              "</div>\n",
              "      <button class=\"colab-df-convert\" onclick=\"convertToInteractive('df-c70fd6a1-49d2-4bd3-a6ed-d7ccaedaecaf')\"\n",
              "              title=\"Convert this dataframe to an interactive table.\"\n",
              "              style=\"display:none;\">\n",
              "\n",
              "  <svg xmlns=\"http://www.w3.org/2000/svg\" height=\"24px\"viewBox=\"0 0 24 24\"\n",
              "       width=\"24px\">\n",
              "    <path d=\"M0 0h24v24H0V0z\" fill=\"none\"/>\n",
              "    <path d=\"M18.56 5.44l.94 2.06.94-2.06 2.06-.94-2.06-.94-.94-2.06-.94 2.06-2.06.94zm-11 1L8.5 8.5l.94-2.06 2.06-.94-2.06-.94L8.5 2.5l-.94 2.06-2.06.94zm10 10l.94 2.06.94-2.06 2.06-.94-2.06-.94-.94-2.06-.94 2.06-2.06.94z\"/><path d=\"M17.41 7.96l-1.37-1.37c-.4-.4-.92-.59-1.43-.59-.52 0-1.04.2-1.43.59L10.3 9.45l-7.72 7.72c-.78.78-.78 2.05 0 2.83L4 21.41c.39.39.9.59 1.41.59.51 0 1.02-.2 1.41-.59l7.78-7.78 2.81-2.81c.8-.78.8-2.07 0-2.86zM5.41 20L4 18.59l7.72-7.72 1.47 1.35L5.41 20z\"/>\n",
              "  </svg>\n",
              "      </button>\n",
              "\n",
              "\n",
              "\n",
              "    <div id=\"df-1e32efe3-6d33-4757-b55b-bf481051298e\">\n",
              "      <button class=\"colab-df-quickchart\" onclick=\"quickchart('df-1e32efe3-6d33-4757-b55b-bf481051298e')\"\n",
              "              title=\"Suggest charts.\"\n",
              "              style=\"display:none;\">\n",
              "\n",
              "<svg xmlns=\"http://www.w3.org/2000/svg\" height=\"24px\"viewBox=\"0 0 24 24\"\n",
              "     width=\"24px\">\n",
              "    <g>\n",
              "        <path d=\"M19 3H5c-1.1 0-2 .9-2 2v14c0 1.1.9 2 2 2h14c1.1 0 2-.9 2-2V5c0-1.1-.9-2-2-2zM9 17H7v-7h2v7zm4 0h-2V7h2v10zm4 0h-2v-4h2v4z\"/>\n",
              "    </g>\n",
              "</svg>\n",
              "      </button>\n",
              "    </div>\n",
              "\n",
              "<style>\n",
              "  .colab-df-quickchart {\n",
              "    background-color: #E8F0FE;\n",
              "    border: none;\n",
              "    border-radius: 50%;\n",
              "    cursor: pointer;\n",
              "    display: none;\n",
              "    fill: #1967D2;\n",
              "    height: 32px;\n",
              "    padding: 0 0 0 0;\n",
              "    width: 32px;\n",
              "  }\n",
              "\n",
              "  .colab-df-quickchart:hover {\n",
              "    background-color: #E2EBFA;\n",
              "    box-shadow: 0px 1px 2px rgba(60, 64, 67, 0.3), 0px 1px 3px 1px rgba(60, 64, 67, 0.15);\n",
              "    fill: #174EA6;\n",
              "  }\n",
              "\n",
              "  [theme=dark] .colab-df-quickchart {\n",
              "    background-color: #3B4455;\n",
              "    fill: #D2E3FC;\n",
              "  }\n",
              "\n",
              "  [theme=dark] .colab-df-quickchart:hover {\n",
              "    background-color: #434B5C;\n",
              "    box-shadow: 0px 1px 3px 1px rgba(0, 0, 0, 0.15);\n",
              "    filter: drop-shadow(0px 1px 2px rgba(0, 0, 0, 0.3));\n",
              "    fill: #FFFFFF;\n",
              "  }\n",
              "</style>\n",
              "\n",
              "    <script>\n",
              "      async function quickchart(key) {\n",
              "        const containerElement = document.querySelector('#' + key);\n",
              "        const charts = await google.colab.kernel.invokeFunction(\n",
              "            'suggestCharts', [key], {});\n",
              "      }\n",
              "    </script>\n",
              "\n",
              "      <script>\n",
              "\n",
              "function displayQuickchartButton(domScope) {\n",
              "  let quickchartButtonEl =\n",
              "    domScope.querySelector('#df-1e32efe3-6d33-4757-b55b-bf481051298e button.colab-df-quickchart');\n",
              "  quickchartButtonEl.style.display =\n",
              "    google.colab.kernel.accessAllowed ? 'block' : 'none';\n",
              "}\n",
              "\n",
              "        displayQuickchartButton(document);\n",
              "      </script>\n",
              "      <style>\n",
              "    .colab-df-container {\n",
              "      display:flex;\n",
              "      flex-wrap:wrap;\n",
              "      gap: 12px;\n",
              "    }\n",
              "\n",
              "    .colab-df-convert {\n",
              "      background-color: #E8F0FE;\n",
              "      border: none;\n",
              "      border-radius: 50%;\n",
              "      cursor: pointer;\n",
              "      display: none;\n",
              "      fill: #1967D2;\n",
              "      height: 32px;\n",
              "      padding: 0 0 0 0;\n",
              "      width: 32px;\n",
              "    }\n",
              "\n",
              "    .colab-df-convert:hover {\n",
              "      background-color: #E2EBFA;\n",
              "      box-shadow: 0px 1px 2px rgba(60, 64, 67, 0.3), 0px 1px 3px 1px rgba(60, 64, 67, 0.15);\n",
              "      fill: #174EA6;\n",
              "    }\n",
              "\n",
              "    [theme=dark] .colab-df-convert {\n",
              "      background-color: #3B4455;\n",
              "      fill: #D2E3FC;\n",
              "    }\n",
              "\n",
              "    [theme=dark] .colab-df-convert:hover {\n",
              "      background-color: #434B5C;\n",
              "      box-shadow: 0px 1px 3px 1px rgba(0, 0, 0, 0.15);\n",
              "      filter: drop-shadow(0px 1px 2px rgba(0, 0, 0, 0.3));\n",
              "      fill: #FFFFFF;\n",
              "    }\n",
              "  </style>\n",
              "\n",
              "      <script>\n",
              "        const buttonEl =\n",
              "          document.querySelector('#df-c70fd6a1-49d2-4bd3-a6ed-d7ccaedaecaf button.colab-df-convert');\n",
              "        buttonEl.style.display =\n",
              "          google.colab.kernel.accessAllowed ? 'block' : 'none';\n",
              "\n",
              "        async function convertToInteractive(key) {\n",
              "          const element = document.querySelector('#df-c70fd6a1-49d2-4bd3-a6ed-d7ccaedaecaf');\n",
              "          const dataTable =\n",
              "            await google.colab.kernel.invokeFunction('convertToInteractive',\n",
              "                                                     [key], {});\n",
              "          if (!dataTable) return;\n",
              "\n",
              "          const docLinkHtml = 'Like what you see? Visit the ' +\n",
              "            '<a target=\"_blank\" href=https://colab.research.google.com/notebooks/data_table.ipynb>data table notebook</a>'\n",
              "            + ' to learn more about interactive tables.';\n",
              "          element.innerHTML = '';\n",
              "          dataTable['output_type'] = 'display_data';\n",
              "          await google.colab.output.renderOutput(dataTable, element);\n",
              "          const docLink = document.createElement('div');\n",
              "          docLink.innerHTML = docLinkHtml;\n",
              "          element.appendChild(docLink);\n",
              "        }\n",
              "      </script>\n",
              "    </div>\n",
              "  </div>\n"
            ]
          },
          "metadata": {},
          "execution_count": 63
        }
      ]
    },
    {
      "cell_type": "code",
      "source": [
        "px.bar(df_plays['quarter'].value_counts(), width=700, height=500, title='No. of plays each quarter', labels={'index':'quarter', 'value':'count'})"
      ],
      "metadata": {
        "colab": {
          "base_uri": "https://localhost:8080/",
          "height": 517
        },
        "id": "aqGnfin-RMH6",
        "outputId": "a4bb8b86-f827-4ca3-c2ed-62b7cb0754bc"
      },
      "execution_count": 64,
      "outputs": [
        {
          "output_type": "display_data",
          "data": {
            "text/html": [
              "<html>\n",
              "<head><meta charset=\"utf-8\" /></head>\n",
              "<body>\n",
              "    <div>            <script src=\"https://cdnjs.cloudflare.com/ajax/libs/mathjax/2.7.5/MathJax.js?config=TeX-AMS-MML_SVG\"></script><script type=\"text/javascript\">if (window.MathJax && window.MathJax.Hub && window.MathJax.Hub.Config) {window.MathJax.Hub.Config({SVG: {font: \"STIX-Web\"}});}</script>                <script type=\"text/javascript\">window.PlotlyConfig = {MathJaxConfig: 'local'};</script>\n",
              "        <script charset=\"utf-8\" src=\"https://cdn.plot.ly/plotly-2.24.1.min.js\"></script>                <div id=\"bc362c2c-d3f0-4c3e-996a-c1bd3abc1e0e\" class=\"plotly-graph-div\" style=\"height:500px; width:700px;\"></div>            <script type=\"text/javascript\">                                    window.PLOTLYENV=window.PLOTLYENV || {};                                    if (document.getElementById(\"bc362c2c-d3f0-4c3e-996a-c1bd3abc1e0e\")) {                    Plotly.newPlot(                        \"bc362c2c-d3f0-4c3e-996a-c1bd3abc1e0e\",                        [{\"alignmentgroup\":\"True\",\"hovertemplate\":\"variable=quarter\\u003cbr\\u003equarter=%{x}\\u003cbr\\u003ecount=%{y}\\u003cextra\\u003e\\u003c\\u002fextra\\u003e\",\"legendgroup\":\"quarter\",\"marker\":{\"color\":\"#636efa\",\"pattern\":{\"shape\":\"\"}},\"name\":\"quarter\",\"offsetgroup\":\"quarter\",\"orientation\":\"v\",\"showlegend\":true,\"textposition\":\"auto\",\"x\":[2,1,3,4,5],\"xaxis\":\"x\",\"y\":[5661,4781,4724,4711,102],\"yaxis\":\"y\",\"type\":\"bar\"}],                        {\"template\":{\"data\":{\"histogram2dcontour\":[{\"type\":\"histogram2dcontour\",\"colorbar\":{\"outlinewidth\":0,\"ticks\":\"\"},\"colorscale\":[[0.0,\"#0d0887\"],[0.1111111111111111,\"#46039f\"],[0.2222222222222222,\"#7201a8\"],[0.3333333333333333,\"#9c179e\"],[0.4444444444444444,\"#bd3786\"],[0.5555555555555556,\"#d8576b\"],[0.6666666666666666,\"#ed7953\"],[0.7777777777777778,\"#fb9f3a\"],[0.8888888888888888,\"#fdca26\"],[1.0,\"#f0f921\"]]}],\"choropleth\":[{\"type\":\"choropleth\",\"colorbar\":{\"outlinewidth\":0,\"ticks\":\"\"}}],\"histogram2d\":[{\"type\":\"histogram2d\",\"colorbar\":{\"outlinewidth\":0,\"ticks\":\"\"},\"colorscale\":[[0.0,\"#0d0887\"],[0.1111111111111111,\"#46039f\"],[0.2222222222222222,\"#7201a8\"],[0.3333333333333333,\"#9c179e\"],[0.4444444444444444,\"#bd3786\"],[0.5555555555555556,\"#d8576b\"],[0.6666666666666666,\"#ed7953\"],[0.7777777777777778,\"#fb9f3a\"],[0.8888888888888888,\"#fdca26\"],[1.0,\"#f0f921\"]]}],\"heatmap\":[{\"type\":\"heatmap\",\"colorbar\":{\"outlinewidth\":0,\"ticks\":\"\"},\"colorscale\":[[0.0,\"#0d0887\"],[0.1111111111111111,\"#46039f\"],[0.2222222222222222,\"#7201a8\"],[0.3333333333333333,\"#9c179e\"],[0.4444444444444444,\"#bd3786\"],[0.5555555555555556,\"#d8576b\"],[0.6666666666666666,\"#ed7953\"],[0.7777777777777778,\"#fb9f3a\"],[0.8888888888888888,\"#fdca26\"],[1.0,\"#f0f921\"]]}],\"heatmapgl\":[{\"type\":\"heatmapgl\",\"colorbar\":{\"outlinewidth\":0,\"ticks\":\"\"},\"colorscale\":[[0.0,\"#0d0887\"],[0.1111111111111111,\"#46039f\"],[0.2222222222222222,\"#7201a8\"],[0.3333333333333333,\"#9c179e\"],[0.4444444444444444,\"#bd3786\"],[0.5555555555555556,\"#d8576b\"],[0.6666666666666666,\"#ed7953\"],[0.7777777777777778,\"#fb9f3a\"],[0.8888888888888888,\"#fdca26\"],[1.0,\"#f0f921\"]]}],\"contourcarpet\":[{\"type\":\"contourcarpet\",\"colorbar\":{\"outlinewidth\":0,\"ticks\":\"\"}}],\"contour\":[{\"type\":\"contour\",\"colorbar\":{\"outlinewidth\":0,\"ticks\":\"\"},\"colorscale\":[[0.0,\"#0d0887\"],[0.1111111111111111,\"#46039f\"],[0.2222222222222222,\"#7201a8\"],[0.3333333333333333,\"#9c179e\"],[0.4444444444444444,\"#bd3786\"],[0.5555555555555556,\"#d8576b\"],[0.6666666666666666,\"#ed7953\"],[0.7777777777777778,\"#fb9f3a\"],[0.8888888888888888,\"#fdca26\"],[1.0,\"#f0f921\"]]}],\"surface\":[{\"type\":\"surface\",\"colorbar\":{\"outlinewidth\":0,\"ticks\":\"\"},\"colorscale\":[[0.0,\"#0d0887\"],[0.1111111111111111,\"#46039f\"],[0.2222222222222222,\"#7201a8\"],[0.3333333333333333,\"#9c179e\"],[0.4444444444444444,\"#bd3786\"],[0.5555555555555556,\"#d8576b\"],[0.6666666666666666,\"#ed7953\"],[0.7777777777777778,\"#fb9f3a\"],[0.8888888888888888,\"#fdca26\"],[1.0,\"#f0f921\"]]}],\"mesh3d\":[{\"type\":\"mesh3d\",\"colorbar\":{\"outlinewidth\":0,\"ticks\":\"\"}}],\"scatter\":[{\"fillpattern\":{\"fillmode\":\"overlay\",\"size\":10,\"solidity\":0.2},\"type\":\"scatter\"}],\"parcoords\":[{\"type\":\"parcoords\",\"line\":{\"colorbar\":{\"outlinewidth\":0,\"ticks\":\"\"}}}],\"scatterpolargl\":[{\"type\":\"scatterpolargl\",\"marker\":{\"colorbar\":{\"outlinewidth\":0,\"ticks\":\"\"}}}],\"bar\":[{\"error_x\":{\"color\":\"#2a3f5f\"},\"error_y\":{\"color\":\"#2a3f5f\"},\"marker\":{\"line\":{\"color\":\"#E5ECF6\",\"width\":0.5},\"pattern\":{\"fillmode\":\"overlay\",\"size\":10,\"solidity\":0.2}},\"type\":\"bar\"}],\"scattergeo\":[{\"type\":\"scattergeo\",\"marker\":{\"colorbar\":{\"outlinewidth\":0,\"ticks\":\"\"}}}],\"scatterpolar\":[{\"type\":\"scatterpolar\",\"marker\":{\"colorbar\":{\"outlinewidth\":0,\"ticks\":\"\"}}}],\"histogram\":[{\"marker\":{\"pattern\":{\"fillmode\":\"overlay\",\"size\":10,\"solidity\":0.2}},\"type\":\"histogram\"}],\"scattergl\":[{\"type\":\"scattergl\",\"marker\":{\"colorbar\":{\"outlinewidth\":0,\"ticks\":\"\"}}}],\"scatter3d\":[{\"type\":\"scatter3d\",\"line\":{\"colorbar\":{\"outlinewidth\":0,\"ticks\":\"\"}},\"marker\":{\"colorbar\":{\"outlinewidth\":0,\"ticks\":\"\"}}}],\"scattermapbox\":[{\"type\":\"scattermapbox\",\"marker\":{\"colorbar\":{\"outlinewidth\":0,\"ticks\":\"\"}}}],\"scatterternary\":[{\"type\":\"scatterternary\",\"marker\":{\"colorbar\":{\"outlinewidth\":0,\"ticks\":\"\"}}}],\"scattercarpet\":[{\"type\":\"scattercarpet\",\"marker\":{\"colorbar\":{\"outlinewidth\":0,\"ticks\":\"\"}}}],\"carpet\":[{\"aaxis\":{\"endlinecolor\":\"#2a3f5f\",\"gridcolor\":\"white\",\"linecolor\":\"white\",\"minorgridcolor\":\"white\",\"startlinecolor\":\"#2a3f5f\"},\"baxis\":{\"endlinecolor\":\"#2a3f5f\",\"gridcolor\":\"white\",\"linecolor\":\"white\",\"minorgridcolor\":\"white\",\"startlinecolor\":\"#2a3f5f\"},\"type\":\"carpet\"}],\"table\":[{\"cells\":{\"fill\":{\"color\":\"#EBF0F8\"},\"line\":{\"color\":\"white\"}},\"header\":{\"fill\":{\"color\":\"#C8D4E3\"},\"line\":{\"color\":\"white\"}},\"type\":\"table\"}],\"barpolar\":[{\"marker\":{\"line\":{\"color\":\"#E5ECF6\",\"width\":0.5},\"pattern\":{\"fillmode\":\"overlay\",\"size\":10,\"solidity\":0.2}},\"type\":\"barpolar\"}],\"pie\":[{\"automargin\":true,\"type\":\"pie\"}]},\"layout\":{\"autotypenumbers\":\"strict\",\"colorway\":[\"#636efa\",\"#EF553B\",\"#00cc96\",\"#ab63fa\",\"#FFA15A\",\"#19d3f3\",\"#FF6692\",\"#B6E880\",\"#FF97FF\",\"#FECB52\"],\"font\":{\"color\":\"#2a3f5f\"},\"hovermode\":\"closest\",\"hoverlabel\":{\"align\":\"left\"},\"paper_bgcolor\":\"white\",\"plot_bgcolor\":\"#E5ECF6\",\"polar\":{\"bgcolor\":\"#E5ECF6\",\"angularaxis\":{\"gridcolor\":\"white\",\"linecolor\":\"white\",\"ticks\":\"\"},\"radialaxis\":{\"gridcolor\":\"white\",\"linecolor\":\"white\",\"ticks\":\"\"}},\"ternary\":{\"bgcolor\":\"#E5ECF6\",\"aaxis\":{\"gridcolor\":\"white\",\"linecolor\":\"white\",\"ticks\":\"\"},\"baxis\":{\"gridcolor\":\"white\",\"linecolor\":\"white\",\"ticks\":\"\"},\"caxis\":{\"gridcolor\":\"white\",\"linecolor\":\"white\",\"ticks\":\"\"}},\"coloraxis\":{\"colorbar\":{\"outlinewidth\":0,\"ticks\":\"\"}},\"colorscale\":{\"sequential\":[[0.0,\"#0d0887\"],[0.1111111111111111,\"#46039f\"],[0.2222222222222222,\"#7201a8\"],[0.3333333333333333,\"#9c179e\"],[0.4444444444444444,\"#bd3786\"],[0.5555555555555556,\"#d8576b\"],[0.6666666666666666,\"#ed7953\"],[0.7777777777777778,\"#fb9f3a\"],[0.8888888888888888,\"#fdca26\"],[1.0,\"#f0f921\"]],\"sequentialminus\":[[0.0,\"#0d0887\"],[0.1111111111111111,\"#46039f\"],[0.2222222222222222,\"#7201a8\"],[0.3333333333333333,\"#9c179e\"],[0.4444444444444444,\"#bd3786\"],[0.5555555555555556,\"#d8576b\"],[0.6666666666666666,\"#ed7953\"],[0.7777777777777778,\"#fb9f3a\"],[0.8888888888888888,\"#fdca26\"],[1.0,\"#f0f921\"]],\"diverging\":[[0,\"#8e0152\"],[0.1,\"#c51b7d\"],[0.2,\"#de77ae\"],[0.3,\"#f1b6da\"],[0.4,\"#fde0ef\"],[0.5,\"#f7f7f7\"],[0.6,\"#e6f5d0\"],[0.7,\"#b8e186\"],[0.8,\"#7fbc41\"],[0.9,\"#4d9221\"],[1,\"#276419\"]]},\"xaxis\":{\"gridcolor\":\"white\",\"linecolor\":\"white\",\"ticks\":\"\",\"title\":{\"standoff\":15},\"zerolinecolor\":\"white\",\"automargin\":true,\"zerolinewidth\":2},\"yaxis\":{\"gridcolor\":\"white\",\"linecolor\":\"white\",\"ticks\":\"\",\"title\":{\"standoff\":15},\"zerolinecolor\":\"white\",\"automargin\":true,\"zerolinewidth\":2},\"scene\":{\"xaxis\":{\"backgroundcolor\":\"#E5ECF6\",\"gridcolor\":\"white\",\"linecolor\":\"white\",\"showbackground\":true,\"ticks\":\"\",\"zerolinecolor\":\"white\",\"gridwidth\":2},\"yaxis\":{\"backgroundcolor\":\"#E5ECF6\",\"gridcolor\":\"white\",\"linecolor\":\"white\",\"showbackground\":true,\"ticks\":\"\",\"zerolinecolor\":\"white\",\"gridwidth\":2},\"zaxis\":{\"backgroundcolor\":\"#E5ECF6\",\"gridcolor\":\"white\",\"linecolor\":\"white\",\"showbackground\":true,\"ticks\":\"\",\"zerolinecolor\":\"white\",\"gridwidth\":2}},\"shapedefaults\":{\"line\":{\"color\":\"#2a3f5f\"}},\"annotationdefaults\":{\"arrowcolor\":\"#2a3f5f\",\"arrowhead\":0,\"arrowwidth\":1},\"geo\":{\"bgcolor\":\"white\",\"landcolor\":\"#E5ECF6\",\"subunitcolor\":\"white\",\"showland\":true,\"showlakes\":true,\"lakecolor\":\"white\"},\"title\":{\"x\":0.05},\"mapbox\":{\"style\":\"light\"}}},\"xaxis\":{\"anchor\":\"y\",\"domain\":[0.0,1.0],\"title\":{\"text\":\"quarter\"}},\"yaxis\":{\"anchor\":\"x\",\"domain\":[0.0,1.0],\"title\":{\"text\":\"count\"}},\"legend\":{\"title\":{\"text\":\"variable\"},\"tracegroupgap\":0},\"title\":{\"text\":\"No. of plays each quarter\"},\"barmode\":\"relative\",\"height\":500,\"width\":700},                        {\"responsive\": true}                    ).then(function(){\n",
              "                            \n",
              "var gd = document.getElementById('bc362c2c-d3f0-4c3e-996a-c1bd3abc1e0e');\n",
              "var x = new MutationObserver(function (mutations, observer) {{\n",
              "        var display = window.getComputedStyle(gd).display;\n",
              "        if (!display || display === 'none') {{\n",
              "            console.log([gd, 'removed!']);\n",
              "            Plotly.purge(gd);\n",
              "            observer.disconnect();\n",
              "        }}\n",
              "}});\n",
              "\n",
              "// Listen for the removal of the full notebook cells\n",
              "var notebookContainer = gd.closest('#notebook-container');\n",
              "if (notebookContainer) {{\n",
              "    x.observe(notebookContainer, {childList: true});\n",
              "}}\n",
              "\n",
              "// Listen for the clearing of the current output cell\n",
              "var outputEl = gd.closest('.output');\n",
              "if (outputEl) {{\n",
              "    x.observe(outputEl, {childList: true});\n",
              "}}\n",
              "\n",
              "                        })                };                            </script>        </div>\n",
              "</body>\n",
              "</html>"
            ]
          },
          "metadata": {}
        }
      ]
    },
    {
      "cell_type": "code",
      "source": [
        "px.bar(df_plays['down'].value_counts(), width=700, height=500, title='No. of plays each down', labels={'index':'down', 'value':'count'})"
      ],
      "metadata": {
        "colab": {
          "base_uri": "https://localhost:8080/",
          "height": 517
        },
        "id": "eICNhzIZRWX9",
        "outputId": "6e90379b-876c-41ad-f644-98857b0803c0"
      },
      "execution_count": 65,
      "outputs": [
        {
          "output_type": "display_data",
          "data": {
            "text/html": [
              "<html>\n",
              "<head><meta charset=\"utf-8\" /></head>\n",
              "<body>\n",
              "    <div>            <script src=\"https://cdnjs.cloudflare.com/ajax/libs/mathjax/2.7.5/MathJax.js?config=TeX-AMS-MML_SVG\"></script><script type=\"text/javascript\">if (window.MathJax && window.MathJax.Hub && window.MathJax.Hub.Config) {window.MathJax.Hub.Config({SVG: {font: \"STIX-Web\"}});}</script>                <script type=\"text/javascript\">window.PlotlyConfig = {MathJaxConfig: 'local'};</script>\n",
              "        <script charset=\"utf-8\" src=\"https://cdn.plot.ly/plotly-2.24.1.min.js\"></script>                <div id=\"6e8f786e-2f1e-4674-ad17-4b1195f97179\" class=\"plotly-graph-div\" style=\"height:500px; width:700px;\"></div>            <script type=\"text/javascript\">                                    window.PLOTLYENV=window.PLOTLYENV || {};                                    if (document.getElementById(\"6e8f786e-2f1e-4674-ad17-4b1195f97179\")) {                    Plotly.newPlot(                        \"6e8f786e-2f1e-4674-ad17-4b1195f97179\",                        [{\"alignmentgroup\":\"True\",\"hovertemplate\":\"variable=down\\u003cbr\\u003edown=%{x}\\u003cbr\\u003ecount=%{y}\\u003cextra\\u003e\\u003c\\u002fextra\\u003e\",\"legendgroup\":\"down\",\"marker\":{\"color\":\"#636efa\",\"pattern\":{\"shape\":\"\"}},\"name\":\"down\",\"offsetgroup\":\"down\",\"orientation\":\"v\",\"showlegend\":true,\"textposition\":\"auto\",\"x\":[0,4,2,1,3],\"xaxis\":\"x\",\"y\":[11331,8409,88,79,72],\"yaxis\":\"y\",\"type\":\"bar\"}],                        {\"template\":{\"data\":{\"histogram2dcontour\":[{\"type\":\"histogram2dcontour\",\"colorbar\":{\"outlinewidth\":0,\"ticks\":\"\"},\"colorscale\":[[0.0,\"#0d0887\"],[0.1111111111111111,\"#46039f\"],[0.2222222222222222,\"#7201a8\"],[0.3333333333333333,\"#9c179e\"],[0.4444444444444444,\"#bd3786\"],[0.5555555555555556,\"#d8576b\"],[0.6666666666666666,\"#ed7953\"],[0.7777777777777778,\"#fb9f3a\"],[0.8888888888888888,\"#fdca26\"],[1.0,\"#f0f921\"]]}],\"choropleth\":[{\"type\":\"choropleth\",\"colorbar\":{\"outlinewidth\":0,\"ticks\":\"\"}}],\"histogram2d\":[{\"type\":\"histogram2d\",\"colorbar\":{\"outlinewidth\":0,\"ticks\":\"\"},\"colorscale\":[[0.0,\"#0d0887\"],[0.1111111111111111,\"#46039f\"],[0.2222222222222222,\"#7201a8\"],[0.3333333333333333,\"#9c179e\"],[0.4444444444444444,\"#bd3786\"],[0.5555555555555556,\"#d8576b\"],[0.6666666666666666,\"#ed7953\"],[0.7777777777777778,\"#fb9f3a\"],[0.8888888888888888,\"#fdca26\"],[1.0,\"#f0f921\"]]}],\"heatmap\":[{\"type\":\"heatmap\",\"colorbar\":{\"outlinewidth\":0,\"ticks\":\"\"},\"colorscale\":[[0.0,\"#0d0887\"],[0.1111111111111111,\"#46039f\"],[0.2222222222222222,\"#7201a8\"],[0.3333333333333333,\"#9c179e\"],[0.4444444444444444,\"#bd3786\"],[0.5555555555555556,\"#d8576b\"],[0.6666666666666666,\"#ed7953\"],[0.7777777777777778,\"#fb9f3a\"],[0.8888888888888888,\"#fdca26\"],[1.0,\"#f0f921\"]]}],\"heatmapgl\":[{\"type\":\"heatmapgl\",\"colorbar\":{\"outlinewidth\":0,\"ticks\":\"\"},\"colorscale\":[[0.0,\"#0d0887\"],[0.1111111111111111,\"#46039f\"],[0.2222222222222222,\"#7201a8\"],[0.3333333333333333,\"#9c179e\"],[0.4444444444444444,\"#bd3786\"],[0.5555555555555556,\"#d8576b\"],[0.6666666666666666,\"#ed7953\"],[0.7777777777777778,\"#fb9f3a\"],[0.8888888888888888,\"#fdca26\"],[1.0,\"#f0f921\"]]}],\"contourcarpet\":[{\"type\":\"contourcarpet\",\"colorbar\":{\"outlinewidth\":0,\"ticks\":\"\"}}],\"contour\":[{\"type\":\"contour\",\"colorbar\":{\"outlinewidth\":0,\"ticks\":\"\"},\"colorscale\":[[0.0,\"#0d0887\"],[0.1111111111111111,\"#46039f\"],[0.2222222222222222,\"#7201a8\"],[0.3333333333333333,\"#9c179e\"],[0.4444444444444444,\"#bd3786\"],[0.5555555555555556,\"#d8576b\"],[0.6666666666666666,\"#ed7953\"],[0.7777777777777778,\"#fb9f3a\"],[0.8888888888888888,\"#fdca26\"],[1.0,\"#f0f921\"]]}],\"surface\":[{\"type\":\"surface\",\"colorbar\":{\"outlinewidth\":0,\"ticks\":\"\"},\"colorscale\":[[0.0,\"#0d0887\"],[0.1111111111111111,\"#46039f\"],[0.2222222222222222,\"#7201a8\"],[0.3333333333333333,\"#9c179e\"],[0.4444444444444444,\"#bd3786\"],[0.5555555555555556,\"#d8576b\"],[0.6666666666666666,\"#ed7953\"],[0.7777777777777778,\"#fb9f3a\"],[0.8888888888888888,\"#fdca26\"],[1.0,\"#f0f921\"]]}],\"mesh3d\":[{\"type\":\"mesh3d\",\"colorbar\":{\"outlinewidth\":0,\"ticks\":\"\"}}],\"scatter\":[{\"fillpattern\":{\"fillmode\":\"overlay\",\"size\":10,\"solidity\":0.2},\"type\":\"scatter\"}],\"parcoords\":[{\"type\":\"parcoords\",\"line\":{\"colorbar\":{\"outlinewidth\":0,\"ticks\":\"\"}}}],\"scatterpolargl\":[{\"type\":\"scatterpolargl\",\"marker\":{\"colorbar\":{\"outlinewidth\":0,\"ticks\":\"\"}}}],\"bar\":[{\"error_x\":{\"color\":\"#2a3f5f\"},\"error_y\":{\"color\":\"#2a3f5f\"},\"marker\":{\"line\":{\"color\":\"#E5ECF6\",\"width\":0.5},\"pattern\":{\"fillmode\":\"overlay\",\"size\":10,\"solidity\":0.2}},\"type\":\"bar\"}],\"scattergeo\":[{\"type\":\"scattergeo\",\"marker\":{\"colorbar\":{\"outlinewidth\":0,\"ticks\":\"\"}}}],\"scatterpolar\":[{\"type\":\"scatterpolar\",\"marker\":{\"colorbar\":{\"outlinewidth\":0,\"ticks\":\"\"}}}],\"histogram\":[{\"marker\":{\"pattern\":{\"fillmode\":\"overlay\",\"size\":10,\"solidity\":0.2}},\"type\":\"histogram\"}],\"scattergl\":[{\"type\":\"scattergl\",\"marker\":{\"colorbar\":{\"outlinewidth\":0,\"ticks\":\"\"}}}],\"scatter3d\":[{\"type\":\"scatter3d\",\"line\":{\"colorbar\":{\"outlinewidth\":0,\"ticks\":\"\"}},\"marker\":{\"colorbar\":{\"outlinewidth\":0,\"ticks\":\"\"}}}],\"scattermapbox\":[{\"type\":\"scattermapbox\",\"marker\":{\"colorbar\":{\"outlinewidth\":0,\"ticks\":\"\"}}}],\"scatterternary\":[{\"type\":\"scatterternary\",\"marker\":{\"colorbar\":{\"outlinewidth\":0,\"ticks\":\"\"}}}],\"scattercarpet\":[{\"type\":\"scattercarpet\",\"marker\":{\"colorbar\":{\"outlinewidth\":0,\"ticks\":\"\"}}}],\"carpet\":[{\"aaxis\":{\"endlinecolor\":\"#2a3f5f\",\"gridcolor\":\"white\",\"linecolor\":\"white\",\"minorgridcolor\":\"white\",\"startlinecolor\":\"#2a3f5f\"},\"baxis\":{\"endlinecolor\":\"#2a3f5f\",\"gridcolor\":\"white\",\"linecolor\":\"white\",\"minorgridcolor\":\"white\",\"startlinecolor\":\"#2a3f5f\"},\"type\":\"carpet\"}],\"table\":[{\"cells\":{\"fill\":{\"color\":\"#EBF0F8\"},\"line\":{\"color\":\"white\"}},\"header\":{\"fill\":{\"color\":\"#C8D4E3\"},\"line\":{\"color\":\"white\"}},\"type\":\"table\"}],\"barpolar\":[{\"marker\":{\"line\":{\"color\":\"#E5ECF6\",\"width\":0.5},\"pattern\":{\"fillmode\":\"overlay\",\"size\":10,\"solidity\":0.2}},\"type\":\"barpolar\"}],\"pie\":[{\"automargin\":true,\"type\":\"pie\"}]},\"layout\":{\"autotypenumbers\":\"strict\",\"colorway\":[\"#636efa\",\"#EF553B\",\"#00cc96\",\"#ab63fa\",\"#FFA15A\",\"#19d3f3\",\"#FF6692\",\"#B6E880\",\"#FF97FF\",\"#FECB52\"],\"font\":{\"color\":\"#2a3f5f\"},\"hovermode\":\"closest\",\"hoverlabel\":{\"align\":\"left\"},\"paper_bgcolor\":\"white\",\"plot_bgcolor\":\"#E5ECF6\",\"polar\":{\"bgcolor\":\"#E5ECF6\",\"angularaxis\":{\"gridcolor\":\"white\",\"linecolor\":\"white\",\"ticks\":\"\"},\"radialaxis\":{\"gridcolor\":\"white\",\"linecolor\":\"white\",\"ticks\":\"\"}},\"ternary\":{\"bgcolor\":\"#E5ECF6\",\"aaxis\":{\"gridcolor\":\"white\",\"linecolor\":\"white\",\"ticks\":\"\"},\"baxis\":{\"gridcolor\":\"white\",\"linecolor\":\"white\",\"ticks\":\"\"},\"caxis\":{\"gridcolor\":\"white\",\"linecolor\":\"white\",\"ticks\":\"\"}},\"coloraxis\":{\"colorbar\":{\"outlinewidth\":0,\"ticks\":\"\"}},\"colorscale\":{\"sequential\":[[0.0,\"#0d0887\"],[0.1111111111111111,\"#46039f\"],[0.2222222222222222,\"#7201a8\"],[0.3333333333333333,\"#9c179e\"],[0.4444444444444444,\"#bd3786\"],[0.5555555555555556,\"#d8576b\"],[0.6666666666666666,\"#ed7953\"],[0.7777777777777778,\"#fb9f3a\"],[0.8888888888888888,\"#fdca26\"],[1.0,\"#f0f921\"]],\"sequentialminus\":[[0.0,\"#0d0887\"],[0.1111111111111111,\"#46039f\"],[0.2222222222222222,\"#7201a8\"],[0.3333333333333333,\"#9c179e\"],[0.4444444444444444,\"#bd3786\"],[0.5555555555555556,\"#d8576b\"],[0.6666666666666666,\"#ed7953\"],[0.7777777777777778,\"#fb9f3a\"],[0.8888888888888888,\"#fdca26\"],[1.0,\"#f0f921\"]],\"diverging\":[[0,\"#8e0152\"],[0.1,\"#c51b7d\"],[0.2,\"#de77ae\"],[0.3,\"#f1b6da\"],[0.4,\"#fde0ef\"],[0.5,\"#f7f7f7\"],[0.6,\"#e6f5d0\"],[0.7,\"#b8e186\"],[0.8,\"#7fbc41\"],[0.9,\"#4d9221\"],[1,\"#276419\"]]},\"xaxis\":{\"gridcolor\":\"white\",\"linecolor\":\"white\",\"ticks\":\"\",\"title\":{\"standoff\":15},\"zerolinecolor\":\"white\",\"automargin\":true,\"zerolinewidth\":2},\"yaxis\":{\"gridcolor\":\"white\",\"linecolor\":\"white\",\"ticks\":\"\",\"title\":{\"standoff\":15},\"zerolinecolor\":\"white\",\"automargin\":true,\"zerolinewidth\":2},\"scene\":{\"xaxis\":{\"backgroundcolor\":\"#E5ECF6\",\"gridcolor\":\"white\",\"linecolor\":\"white\",\"showbackground\":true,\"ticks\":\"\",\"zerolinecolor\":\"white\",\"gridwidth\":2},\"yaxis\":{\"backgroundcolor\":\"#E5ECF6\",\"gridcolor\":\"white\",\"linecolor\":\"white\",\"showbackground\":true,\"ticks\":\"\",\"zerolinecolor\":\"white\",\"gridwidth\":2},\"zaxis\":{\"backgroundcolor\":\"#E5ECF6\",\"gridcolor\":\"white\",\"linecolor\":\"white\",\"showbackground\":true,\"ticks\":\"\",\"zerolinecolor\":\"white\",\"gridwidth\":2}},\"shapedefaults\":{\"line\":{\"color\":\"#2a3f5f\"}},\"annotationdefaults\":{\"arrowcolor\":\"#2a3f5f\",\"arrowhead\":0,\"arrowwidth\":1},\"geo\":{\"bgcolor\":\"white\",\"landcolor\":\"#E5ECF6\",\"subunitcolor\":\"white\",\"showland\":true,\"showlakes\":true,\"lakecolor\":\"white\"},\"title\":{\"x\":0.05},\"mapbox\":{\"style\":\"light\"}}},\"xaxis\":{\"anchor\":\"y\",\"domain\":[0.0,1.0],\"title\":{\"text\":\"down\"}},\"yaxis\":{\"anchor\":\"x\",\"domain\":[0.0,1.0],\"title\":{\"text\":\"count\"}},\"legend\":{\"title\":{\"text\":\"variable\"},\"tracegroupgap\":0},\"title\":{\"text\":\"No. of plays each down\"},\"barmode\":\"relative\",\"height\":500,\"width\":700},                        {\"responsive\": true}                    ).then(function(){\n",
              "                            \n",
              "var gd = document.getElementById('6e8f786e-2f1e-4674-ad17-4b1195f97179');\n",
              "var x = new MutationObserver(function (mutations, observer) {{\n",
              "        var display = window.getComputedStyle(gd).display;\n",
              "        if (!display || display === 'none') {{\n",
              "            console.log([gd, 'removed!']);\n",
              "            Plotly.purge(gd);\n",
              "            observer.disconnect();\n",
              "        }}\n",
              "}});\n",
              "\n",
              "// Listen for the removal of the full notebook cells\n",
              "var notebookContainer = gd.closest('#notebook-container');\n",
              "if (notebookContainer) {{\n",
              "    x.observe(notebookContainer, {childList: true});\n",
              "}}\n",
              "\n",
              "// Listen for the clearing of the current output cell\n",
              "var outputEl = gd.closest('.output');\n",
              "if (outputEl) {{\n",
              "    x.observe(outputEl, {childList: true});\n",
              "}}\n",
              "\n",
              "                        })                };                            </script>        </div>\n",
              "</body>\n",
              "</html>"
            ]
          },
          "metadata": {}
        }
      ]
    },
    {
      "cell_type": "code",
      "source": [
        "df_plays['playResult'].describe()"
      ],
      "metadata": {
        "colab": {
          "base_uri": "https://localhost:8080/"
        },
        "id": "ywY6DYegRcGw",
        "outputId": "1f38cec4-f4c0-4f08-9039-e325382976a6"
      },
      "execution_count": 66,
      "outputs": [
        {
          "output_type": "execute_result",
          "data": {
            "text/plain": [
              "count    19979.000000\n",
              "mean        27.315932\n",
              "std         20.556990\n",
              "min        -72.000000\n",
              "25%          0.000000\n",
              "50%         39.000000\n",
              "75%         40.000000\n",
              "max         82.000000\n",
              "Name: playResult, dtype: float64"
            ]
          },
          "metadata": {},
          "execution_count": 66
        }
      ]
    },
    {
      "cell_type": "code",
      "source": [
        "px.histogram(df_plays['playResult'], width=1200, height=600)"
      ],
      "metadata": {
        "colab": {
          "base_uri": "https://localhost:8080/",
          "height": 637
        },
        "id": "13SeC-2yRfuc",
        "outputId": "1d8f6c96-cf29-4363-f1bd-b27fff235794"
      },
      "execution_count": 67,
      "outputs": [
        {
          "output_type": "display_data",
          "data": {
            "text/html": [
              "<html>\n",
              "<head><meta charset=\"utf-8\" /></head>\n",
              "<body>\n",
              "    <div>            <script src=\"https://cdnjs.cloudflare.com/ajax/libs/mathjax/2.7.5/MathJax.js?config=TeX-AMS-MML_SVG\"></script><script type=\"text/javascript\">if (window.MathJax && window.MathJax.Hub && window.MathJax.Hub.Config) {window.MathJax.Hub.Config({SVG: {font: \"STIX-Web\"}});}</script>                <script type=\"text/javascript\">window.PlotlyConfig = {MathJaxConfig: 'local'};</script>\n",
              "        <script charset=\"utf-8\" src=\"https://cdn.plot.ly/plotly-2.24.1.min.js\"></script>                <div id=\"c0a85a57-f705-4bc1-bc14-fa45e860cd25\" class=\"plotly-graph-div\" style=\"height:600px; width:1200px;\"></div>            <script type=\"text/javascript\">                                    window.PLOTLYENV=window.PLOTLYENV || {};                                    if (document.getElementById(\"c0a85a57-f705-4bc1-bc14-fa45e860cd25\")) {                    Plotly.newPlot(                        \"c0a85a57-f705-4bc1-bc14-fa45e860cd25\",                        [{\"alignmentgroup\":\"True\",\"bingroup\":\"x\",\"hovertemplate\":\"variable=playResult\\u003cbr\\u003evalue=%{x}\\u003cbr\\u003ecount=%{y}\\u003cextra\\u003e\\u003c\\u002fextra\\u003e\",\"legendgroup\":\"playResult\",\"marker\":{\"color\":\"#636efa\",\"pattern\":{\"shape\":\"\"}},\"name\":\"playResult\",\"offsetgroup\":\"playResult\",\"orientation\":\"v\",\"showlegend\":true,\"x\":[40,36,0,34,45,49,0,40,0,60,58,61,40,38,37,0,25,44,38,0,40,46,25,40,45,0,33,47,59,48,0,40,-2,0,40,49,-8,44,0,40,58,20,40,-25,0,38,0,40,46,40,0,40,41,54,0,16,43,54,40,31,28,43,25,62,0,35,37,51,0,39,0,57,25,0,39,33,22,57,36,0,37,34,36,0,34,39,40,49,53,29,-8,-8,35,0,40,0,40,0,40,0,40,0,41,0,23,40,50,35,25,0,40,-8,0,40,46,0,40,0,44,30,0,43,42,0,40,40,56,40,19,35,47,0,40,0,-35,0,40,47,0,-35,40,0,40,23,0,13,40,45,0,38,36,40,0,40,0,28,0,47,36,40,30,0,35,37,42,0,33,0,40,0,34,37,46,48,0,40,54,36,0,33,0,40,40,0,39,0,40,0,40,54,0,33,0,40,0,40,40,0,40,41,52,42,0,40,0,25,40,-8,40,45,0,51,48,0,40,0,40,31,0,40,0,38,40,0,40,30,37,67,29,39,36,0,40,40,45,44,42,39,42,38,40,40,45,0,40,65,0,40,40,33,65,62,34,0,40,59,15,40,55,37,33,21,0,40,46,50,26,0,40,40,50,31,35,-8,0,40,40,54,32,40,49,0,40,41,0,40,51,46,16,49,0,39,40,0,34,40,48,0,40,41,0,40,0,40,0,47,40,0,52,40,12,0,40,0,40,-8,34,29,0,40,0,40,40,0,40,0,40,0,40,-26,0,40,0,40,-8,0,40,38,40,0,40,52,43,0,40,0,46,-8,0,40,0,40,35,0,40,45,55,45,0,40,53,40,0,40,0,40,40,44,57,0,36,30,0,40,51,0,40,0,43,0,40,43,0,26,40,34,0,41,44,28,37,40,0,40,0,40,40,0,34,0,40,53,0,47,34,48,0,40,37,22,0,40,0,40,44,0,40,50,40,52,24,0,40,36,0,40,40,0,40,49,0,40,0,40,40,0,40,31,36,35,34,35,0,40,0,-12,40,44,-15,0,22,0,40,0,40,38,63,48,46,-8,0,40,0,40,46,46,0,40,0,40,0,34,0,40,0,40,40,-8,35,-8,27,-8,33,29,40,0,45,46,0,40,64,40,45,0,25,32,-8,0,40,43,46,40,0,40,0,40,-8,40,48,46,63,0,40,38,37,41,44,0,40,44,0,40,40,0,36,48,46,0,40,61,0,40,44,-9,0,40,49,0,54,0,46,0,40,55,0,40,49,45,40,0,40,0,40,0,40,33,0,40,59,45,36,0,40,40,0,40,53,53,57,47,25,31,0,40,0,40,40,0,40,-8,40,0,40,56,47,0,40,35,0,50,44,40,-8,0,40,49,57,40,0,40,40,65,33,42,0,40,53,0,40,0,40,12,0,40,40,0,40,34,48,41,0,40,0,40,43,39,28,39,-8,56,31,0,41,44,0,40,0,40,39,45,40,43,42,43,40,32,0,40,-2,34,39,41,47,41,53,45,41,38,0,34,0,53,0,25,53,44,0,40,42,62,0,25,-9,0,17,0,43,31,44,0,44,30,0,45,0,40,55,0,43,44,40,0,40,46,44,46,55,44,0,40,40,41,0,40,40,0,0,40,40,0,40,0,40,29,0,40,40,-8,0,40,51,0,40,32,34,0,40,0,27,46,55,55,0,0,25,33,0,48,39,43,0,25,0,34,40,0,40,35,0,40,35,36,55,37,42,42,40,37,0,41,0,40,44,55,0,40,0,12,25,40,40,0,40,22,32,53,40,10,0,40,0,40,38,44,42,59,0,40,0,35,43,0,40,37,0,14,40,44,49,47,35,30,68,-3,0,40,43,0,54,32,60,0,25,34,40,57,33,0,55,42,40,0,40,40,29,40,0,40,49,51,0,40,24,34,0,40,30,0,40,0,42,52,44,0,40,40,0,40,28,-28,0,47,40,0,40,46,0,39,43,45,49,-7,0,13,0,35,0,39,0,44,38,48,41,0,40,38,-26,38,51,35,0,42,48,0,40,37,33,34,40,42,0,40,0,40,0,40,0,40,0,40,48,40,34,34,0,40,0,40,46,50,-8,30,0,40,39,0,40,0,43,56,0,40,50,0,40,42,0,40,0,43,39,0,56,26,45,43,42,0,40,0,36,40,32,45,0,39,51,41,0,40,63,44,34,30,-8,40,0,40,36,38,0,40,0,40,44,37,46,33,0,40,28,0,40,0,40,0,40,43,40,39,0,40,0,40,39,0,40,57,40,0,40,0,43,40,0,37,64,28,61,33,0,40,0,41,34,42,45,0,35,0,40,54,44,25,0,55,40,0,7,0,40,0,58,0,40,0,40,21,0,57,39,0,48,70,31,43,38,24,43,47,48,59,16,42,35,50,58,62,-8,0,40,34,31,0,40,43,48,42,0,40,0,46,0,40,52,0,40,0,40,60,40,0,40,42,54,49,0,40,0,40,41,0,41,0,39,0,40,0,40,0,48,46,29,49,55,42,42,0,40,40,51,0,25,0,40,0,40,43,-4,0,40,0,48,-8,40,0,40,0,42,0,31,0,55,38,40,0,40,-8,49,0,35,29,40,0,40,51,19,40,61,0,40,0,40,0,40,41,31,51,34,38,48,45,43,0,44,0,40,0,40,32,0,49,69,48,40,0,37,0,35,38,0,40,49,27,23,38,0,40,36,0,40,45,0,40,0,40,40,0,40,0,36,30,0,44,60,50,40,0,57,55,43,34,0,25,0,48,28,0,41,0,35,43,40,0,43,0,40,0,40,40,0,40,-8,0,40,55,0,25,36,48,40,0,40,0,40,0,40,0,40,0,40,39,38,0,40,43,0,35,0,40,40,0,0,40,40,0,40,54,-10,0,40,32,15,0,32,0,56,0,40,0,40,0,44,0,40,0,40,0,40,-11,0,40,31,28,17,0,40,0,40,42,40,0,40,41,59,45,0,37,0,42,0,40,51,0,40,42,0,40,0,40,0,40,31,55,0,40,0,40,40,25,42,31,0,42,0,40,0,40,0,40,0,40,43,40,36,52,0,40,0,54,0,40,0,40,0,46,37,35,50,0,40,30,0,50,47,33,31,0,40,0,40,46,44,38,47,42,0,40,40,0,40,47,0,41,42,0,40,37,40,47,44,31,0,20,0,34,44,0,40,0,44,41,32,41,0,50,40,-8,40,0,35,0,40,0,40,42,0,56,61,0,43,38,0,46,0,40,40,54,58,38,0,40,0,40,44,23,0,40,33,45,45,45,40,40,26,0,40,35,27,0,27,25,24,0,40,65,0,40,40,33,30,0,41,0,40,0,40,40,0,40,27,38,67,48,37,49,0,40,58,32,0,40,0,40,0,40,0,40,46,0,40,38,12,0,40,40,0,40,41,37,53,0,40,-8,0,39,50,37,-8,0,40,-8,35,39,0,40,22,0,41,48,36,0,43,47,-8,0,40,38,47,48,0,40,0,40,-8,40,43,40,0,43,42,40,0,40,40,49,0,46,40,30,48,0,53,0,35,4,0,42,0,40,24,0,40,35,40,40,36,0,40,0,40,58,46,-8,0,40,0,40,0,40,40,-1,0,36,29,0,55,0,41,42,47,0,40,24,0,40,0,48,37,30,42,51,0,40,10,0,41,58,0,40,0,40,20,0,40,40,40,0,54,0,40,44,47,0,40,62,0,56,40,0,40,0,44,44,41,0,49,0,42,48,42,42,31,38,21,33,0,35,40,0,40,47,0,35,0,49,40,0,40,0,40,14,37,0,43,0,40,39,0,40,0,33,24,0,40,42,0,40,0,40,35,0,40,40,0,40,30,38,-8,0,40,0,40,52,56,0,30,0,40,40,46,26,0,33,0,40,0,40,40,0,9,40,0,26,45,2,0,36,25,0,0,40,44,53,41,0,40,0,40,0,40,0,38,54,33,0,40,0,40,53,0,37,48,0,40,0,25,0,40,0,40,40,62,0,40,0,40,40,0,40,0,40,0,24,47,44,57,50,0,40,25,-21,0,40,40,36,0,40,0,40,37,0,46,0,40,19,0,40,0,40,23,40,33,0,40,28,46,48,29,43,46,35,0,40,23,40,37,0,40,0,40,54,36,42,49,43,0,40,-8,40,62,41,45,0,36,51,0,53,-8,0,36,0,40,-8,37,-8,43,0,40,40,35,-8,40,0,40,0,40,61,-8,44,0,6,45,40,0,40,23,0,40,0,40,36,40,53,43,0,40,0,29,0,40,0,13,57,55,29,0,40,-8,20,0,40,45,0,40,42,42,0,40,0,40,50,53,0,40,30,46,6,0,40,0,40,12,25,43,0,42,42,0,40,0,40,48,0,40,55,21,40,42,0,44,-4,0,40,0,40,0,40,37,0,40,33,0,40,43,0,41,57,32,43,43,0,40,0,40,-8,-8,38,54,0,40,0,39,0,13,40,-10,42,0,40,57,43,0,40,-8,0,39,32,0,43,38,0,42,0,40,35,40,34,0,40,0,15,40,0,40,0,34,35,50,35,0,40,46,35,50,51,21,40,49,29,-8,25,40,40,0,40,0,41,11,26,41,-6,0,23,0,40,35,0,15,0,35,0,26,0,48,40,0,29,0,40,0,39,0,57,54,0,43,24,40,0,40,-8,0,35,0,40,36,0,40,40,0,40,41,0,40,36,52,32,0,40,0,40,25,45,40,32,0,40,0,40,0,0,40,0,43,50,39,0,25,0,40,0,40,43,40,0,40,0,51,41,28,0,40,50,52,47,45,0,40,0,40,31,0,40,-8,-8,40,0,40,0,41,0,38,49,41,61,40,0,40,0,46,37,0,40,30,0,40,42,0,40,0,31,48,48,37,0,40,38,40,0,40,0,40,0,41,40,22,62,36,0,40,0,40,33,72,44,0,9,39,14,28,0,37,48,25,33,0,40,0,42,40,42,22,0,42,34,46,36,24,0,40,8,29,0,44,0,34,0,41,40,0,32,45,0,40,52,27,38,0,40,43,41,45,0,42,48,25,-26,0,40,54,35,0,40,42,52,45,0,40,40,52,51,0,40,0,67,40,42,42,0,40,19,37,42,40,0,40,0,40,0,40,0,40,0,40,40,0,40,0,30,40,-8,0,49,46,0,40,0,40,0,40,48,43,0,40,53,55,0,32,40,0,58,41,0,40,40,37,0,41,53,32,40,0,40,0,46,0,36,42,0,40,0,52,43,0,40,0,40,45,0,37,0,40,0,40,0,40,0,40,0,40,0,40,0,28,0,8,47,0,40,28,50,0,40,-8,36,0,40,0,40,37,27,0,40,0,51,40,33,50,0,40,40,0,47,49,0,40,0,40,41,30,36,34,0,45,0,40,40,0,49,40,43,0,40,45,0,40,0,31,0,40,30,30,38,40,52,22,0,40,0,40,-8,0,40,0,42,0,9,40,50,0,40,20,0,40,24,0,33,40,0,40,40,35,34,57,0,40,0,40,0,40,0,40,0,40,41,33,40,44,0,47,39,0,40,34,48,57,19,43,0,40,28,45,37,36,52,46,30,40,0,40,0,42,0,20,0,40,0,40,0,40,0,40,40,0,35,0,28,0,40,0,40,0,-32,0,40,0,40,51,0,40,0,40,0,40,0,42,0,31,0,39,34,0,43,0,47,21,0,30,0,40,40,0,40,0,40,0,40,36,0,40,39,38,47,0,18,0,48,0,44,54,0,51,0,40,29,0,44,41,0,40,35,39,45,41,51,0,40,40,0,44,37,0,40,40,52,40,52,29,0,40,0,42,57,0,30,0,47,43,40,0,7,0,40,40,42,0,32,32,14,40,4,38,36,0,40,40,24,42,46,44,0,40,0,35,41,0,36,0,46,0,13,40,0,48,40,30,0,41,0,47,0,-35,0,45,40,0,40,53,38,23,0,40,0,40,-45,0,40,48,0,49,37,0,24,13,40,46,40,61,48,0,40,23,51,0,40,0,37,0,40,41,46,51,0,40,40,40,40,0,40,17,0,40,54,43,26,0,60,35,40,55,0,40,55,40,0,40,32,37,29,40,63,0,56,28,-8,-11,0,42,0,42,0,25,37,0,32,40,0,40,0,40,0,40,45,0,40,58,40,40,0,40,45,42,37,0,42,0,35,0,42,40,0,40,0,40,48,45,0,40,0,40,0,40,-8,33,0,52,43,63,47,41,0,32,53,23,0,34,50,42,27,49,45,28,-8,40,26,0,32,0,11,0,40,66,44,0,24,0,40,37,0,40,0,41,40,44,24,-8,41,0,30,46,0,40,27,41,37,45,0,35,35,40,44,0,35,40,55,61,51,40,28,0,30,38,0,40,29,80,40,0,40,35,40,0,40,0,40,35,11,0,40,-8,40,60,25,30,0,40,33,0,40,27,33,36,36,39,0,40,40,0,40,41,41,42,0,40,0,40,41,0,39,0,40,32,-8,40,44,0,40,26,41,0,40,-16,33,0,40,0,40,0,38,40,44,0,40,0,40,0,40,29,10,0,42,54,2,43,41,40,45,31,18,52,0,55,0,40,0,52,40,40,0,40,40,0,43,40,0,37,42,30,34,0,40,0,55,0,40,60,23,0,40,41,42,40,0,40,37,32,0,40,0,40,0,14,0,39,0,40,0,37,47,31,40,0,51,63,0,40,0,53,43,40,40,43,40,40,37,0,40,0,40,0,33,44,40,0,40,46,49,0,40,0,40,43,0,40,0,40,28,40,0,40,0,50,40,40,0,29,0,25,40,44,-8,58,0,40,0,40,35,32,41,43,35,27,40,28,40,0,40,19,0,40,0,44,0,40,50,48,40,43,27,0,40,0,40,39,0,40,0,40,0,25,0,38,40,0,40,43,47,0,40,0,40,41,0,40,54,49,41,0,48,48,0,40,0,31,0,57,29,0,40,54,40,40,28,0,50,0,40,45,49,9,57,40,30,44,0,28,0,46,-8,0,39,53,0,40,0,47,48,0,46,22,0,40,40,39,55,42,0,2,17,40,57,46,0,40,37,48,-8,0,43,35,40,40,41,53,0,40,0,34,44,57,0,40,0,20,0,24,47,0,54,45,29,0,40,22,-8,0,40,0,40,40,36,42,56,0,40,0,44,38,0,41,40,48,46,0,40,56,40,0,40,45,40,0,0,40,47,0,40,0,26,40,0,40,40,0,40,0,35,25,0,40,0,40,45,48,40,41,37,45,0,40,36,0,40,38,40,36,39,0,40,37,0,40,0,40,40,39,40,40,31,36,0,54,38,0,40,47,41,12,39,55,52,52,36,45,48,0,40,44,40,0,40,0,40,0,40,0,38,43,25,0,44,46,0,56,0,40,52,0,32,0,40,26,0,40,40,0,40,0,45,40,0,40,0,22,30,40,34,23,0,43,33,0,38,26,0,40,0,40,-8,54,44,24,0,40,26,0,40,36,40,0,40,31,40,0,40,0,37,34,0,40,23,64,36,0,40,40,40,37,0,40,56,44,-9,36,0,35,36,40,22,0,26,0,40,34,0,28,0,40,36,44,40,0,40,0,40,42,62,0,40,0,40,36,40,23,45,38,28,0,40,34,34,0,40,30,0,40,10,0,40,40,0,40,0,40,18,53,0,40,15,0,40,40,40,40,40,45,0,40,0,40,0,45,36,0,40,0,0,40,0,40,40,51,46,48,0,40,0,40,0,40,52,46,40,39,0,40,0,40,0,40,40,0,44,30,40,0,40,-16,0,40,40,0,40,20,42,40,37,42,36,41,48,0,40,43,50,41,0,40,0,50,40,35,50,38,48,-8,40,0,40,0,40,48,38,30,0,40,41,40,0,40,0,40,0,47,15,0,34,40,48,40,42,38,52,7,0,38,0,14,45,40,62,0,39,49,36,0,45,0,40,0,43,40,0,42,51,48,0,40,55,43,0,40,0,39,40,0,40,43,29,0,40,0,40,37,48,0,40,57,0,40,44,51,0,40,0,40,59,45,37,51,-8,40,0,59,0,43,59,49,58,53,-8,44,40,0,40,0,49,32,46,-8,46,52,67,40,0,19,0,18,38,40,0,36,0,40,0,40,0,40,3,0,40,-8,0,40,0,40,0,42,0,40,28,0,40,39,40,0,40,47,0,38,24,0,38,0,40,53,32,0,40,42,52,0,34,0,40,35,41,0,40,58,44,0,40,53,0,40,40,-8,0,40,0,40,43,0,43,0,40,42,38,0,40,36,-11,54,0,40,40,0,40,0,53,0,40,35,0,40,33,0,38,0,40,0,40,46,40,0,20,37,0,56,0,39,44,28,0,51,52,40,0,40,28,0,40,37,0,46,0,40,0,55,35,46,-8,-8,36,35,37,38,49,27,43,39,40,0,40,0,40,0,31,35,0,40,37,0,42,0,39,38,42,0,41,0,40,41,0,40,0,40,0,40,42,37,36,0,40,0,41,0,45,0,40,43,0,32,38,0,40,38,43,45,45,57,45,0,41,20,0,36,0,50,0,55,0,40,37,40,2,0,25,0,39,0,45,14,18,26,0,40,40,0,40,45,51,0,30,0,42,45,0,19,0,40,25,0,38,40,4,0,40,35,-8,42,41,0,40,-8,40,0,40,0,3,0,40,55,0,37,43,0,48,29,46,26,0,52,29,47,50,40,63,63,32,40,0,40,42,31,31,15,0,40,49,0,40,31,0,35,0,28,0,37,44,35,0,30,0,36,30,40,33,26,0,32,40,48,24,0,40,-8,52,0,40,0,40,46,58,-8,0,35,0,40,37,44,5,0,40,0,43,0,41,34,0,40,40,37,-8,36,24,0,40,30,37,47,32,0,40,37,41,0,46,66,50,46,42,53,0,40,48,0,39,59,0,55,42,0,45,51,57,38,0,44,0,44,34,40,0,51,0,40,0,40,0,40,57,19,56,0,40,40,40,0,40,0,40,40,0,11,0,40,0,55,0,40,46,40,58,34,0,40,47,39,3,0,38,0,40,0,34,40,34,0,40,-9,0,40,39,0,40,0,35,45,40,30,0,57,45,0,40,0,53,59,40,0,40,0,27,25,0,18,0,40,31,0,40,32,40,48,0,40,0,40,40,0,40,50,-8,0,40,0,33,39,46,0,55,47,0,48,40,38,48,40,50,46,40,0,40,0,40,47,41,35,0,40,0,40,27,27,42,0,40,40,0,47,0,40,0,40,0,40,0,40,33,0,40,0,41,42,0,48,45,11,40,42,0,38,33,31,0,40,21,0,42,56,0,45,40,38,0,40,-9,44,40,46,0,25,49,38,42,0,40,40,28,0,42,0,40,33,39,40,0,40,9,55,0,37,0,40,45,55,47,48,42,0,40,33,40,37,-8,0,52,26,0,40,0,40,52,52,9,40,32,53,17,0,40,0,40,53,0,40,56,0,40,0,55,41,0,40,45,0,25,48,48,0,40,28,0,38,0,38,39,43,0,38,23,55,0,41,0,39,0,36,0,42,0,42,54,0,32,0,46,0,9,26,44,51,0,56,33,0,40,0,40,47,30,0,51,-8,40,24,0,40,0,32,0,38,0,40,31,-8,-8,40,0,29,0,35,48,45,35,0,40,27,0,40,50,39,51,40,46,40,40,28,0,40,44,18,0,40,34,57,42,39,0,40,0,57,50,0,35,12,52,0,38,36,40,0,40,45,0,39,37,0,39,25,40,0,50,53,0,20,35,0,40,0,40,0,40,50,35,43,35,0,40,0,41,46,0,40,40,51,34,26,51,46,48,0,40,34,0,39,0,40,43,50,26,40,44,42,0,44,40,52,30,26,37,0,40,37,0,25,40,0,36,52,0,40,0,49,0,40,0,40,0,55,58,0,34,0,40,36,0,29,0,30,0,40,0,41,41,51,0,65,0,40,0,40,52,40,0,40,0,39,54,40,39,48,34,47,38,0,40,0,40,45,40,40,22,25,35,47,0,40,0,40,38,0,40,40,0,40,52,49,51,53,41,0,40,0,40,40,50,40,54,16,0,40,0,40,29,0,40,0,24,0,43,40,0,16,40,0,40,0,40,0,40,37,0,40,25,39,52,0,44,0,28,46,0,26,49,0,13,46,0,34,0,40,48,38,-18,0,34,43,0,40,29,0,40,40,0,40,0,36,0,40,47,59,0,40,60,36,54,0,35,51,39,0,40,42,0,27,35,40,43,35,44,25,-8,0,40,59,41,37,39,0,35,0,15,40,57,42,0,40,0,40,55,40,0,40,0,32,0,37,0,40,0,40,0,40,0,40,0,44,-8,0,43,0,54,0,30,54,0,40,0,40,0,37,40,0,40,42,46,0,40,39,0,48,33,13,40,0,40,0,40,35,28,46,49,49,54,0,40,0,40,40,9,0,40,-8,40,0,40,69,0,44,48,0,40,42,20,0,25,0,31,32,51,48,0,47,47,0,31,40,0,40,0,40,0,40,33,0,40,57,45,40,36,41,0,41,50,0,35,0,40,0,40,19,40,42,41,0,40,39,33,49,32,0,40,0,31,40,56,35,0,38,54,57,56,36,0,40,0,40,33,0,53,49,0,40,0,40,25,0,40,61,40,45,41,0,39,27,0,23,0,31,37,-8,0,40,0,40,25,0,31,42,0,41,46,0,42,52,52,38,0,35,40,47,-8,0,40,37,0,40,0,40,0,40,46,50,0,40,50,0,40,49,51,0,40,32,41,40,41,45,48,0,40,0,40,0,40,0,40,54,-8,31,-8,40,22,36,0,40,18,0,40,56,0,6,40,0,40,47,0,27,0,40,19,0,40,0,41,59,20,53,0,40,0,43,39,0,40,48,48,0,40,47,31,40,0,43,49,50,55,0,56,42,0,40,40,0,40,52,0,40,34,40,0,40,0,40,51,21,0,43,38,31,21,40,0,40,40,0,40,53,0,40,53,0,40,0,40,40,40,38,31,64,52,57,34,36,0,40,0,40,40,64,47,0,40,0,40,0,40,21,37,49,23,0,39,40,43,47,0,40,0,39,44,0,40,50,0,40,53,40,46,0,3,0,40,0,44,35,38,53,0,40,0,10,0,40,44,30,45,42,26,49,26,0,40,0,34,0,40,40,43,33,48,49,0,40,0,41,51,64,0,40,40,44,0,38,50,0,40,31,29,0,45,0,36,0,27,40,0,40,40,52,0,40,8,33,40,40,38,29,37,0,40,35,40,53,52,40,55,47,0,40,37,41,47,40,0,40,47,50,44,36,0,36,49,33,32,0,55,58,0,40,56,50,52,40,0,40,39,50,0,38,65,39,43,48,0,43,40,43,33,0,42,41,38,0,40,0,40,39,0,40,39,62,0,57,37,0,40,0,12,0,40,0,40,40,-8,0,44,36,40,0,40,57,63,10,0,40,52,0,40,40,35,51,-16,40,49,0,43,0,40,0,40,0,35,0,38,0,40,44,34,59,55,0,40,40,0,40,57,0,40,31,33,55,28,43,22,0,50,0,25,39,35,0,40,0,47,0,42,40,0,40,0,33,45,43,0,40,0,57,45,0,40,0,40,0,2,40,40,0,40,0,40,43,0,40,30,36,-8,0,33,0,40,7,20,36,0,40,0,41,0,40,40,52,0,40,36,0,40,47,53,46,0,40,40,48,0,40,-8,36,41,0,31,36,48,0,25,29,43,54,-8,0,40,0,40,30,36,15,51,42,47,44,0,40,40,0,43,41,48,53,0,22,0,-15,0,23,0,37,52,32,0,40,40,0,40,0,40,40,0,40,55,49,0,40,43,0,43,30,0,40,0,40,40,51,34,40,0,40,48,0,40,53,38,0,48,49,54,36,0,40,56,63,41,0,40,40,44,0,40,0,37,0,40,55,38,0,51,52,0,40,11,0,36,0,-27,0,40,32,14,52,0,30,40,0,49,-8,32,0,26,0,43,42,0,40,0,39,29,25,0,40,7,0,40,40,33,52,61,0,47,62,57,-8,37,-8,50,30,0,40,0,40,37,0,35,0,47,0,40,40,30,29,49,0,40,47,35,40,0,38,0,40,41,40,0,40,0,38,-8,45,55,0,57,0,36,52,0,37,0,39,51,0,41,47,47,0,40,43,20,0,13,40,43,21,35,45,33,0,40,41,36,58,0,40,41,0,40,49,0,40,0,40,0,40,31,42,39,16,0,43,40,30,45,0,40,0,40,-8,0,40,0,47,46,0,40,0,40,31,54,-5,0,40,0,40,-8,40,0,40,40,0,40,0,40,40,-15,0,40,0,40,40,40,-8,46,0,43,0,40,0,37,27,37,60,-8,0,42,44,0,40,-11,40,39,0,56,45,0,40,31,0,40,40,40,51,47,38,44,0,33,29,0,40,50,0,40,0,25,49,0,40,0,40,49,63,0,36,40,47,40,45,40,0,45,0,40,0,40,47,41,0,48,42,58,29,33,0,39,0,37,35,38,0,40,0,44,-1,0,42,43,0,45,65,20,42,0,35,0,40,35,39,39,0,42,48,35,27,0,55,44,40,0,45,40,41,43,51,58,34,40,-8,37,53,33,40,46,50,0,40,55,54,0,40,0,40,36,47,63,39,0,29,57,53,-8,0,40,28,0,40,42,0,40,0,40,0,40,50,30,0,40,0,40,0,32,40,39,0,40,45,48,0,37,0,40,-8,28,0,40,40,36,43,17,35,0,40,0,40,0,35,-8,42,40,55,48,0,43,46,40,29,40,35,43,51,0,40,39,-8,40,0,35,0,19,0,40,24,0,40,0,14,37,41,39,0,41,0,45,50,39,0,40,0,54,54,48,40,46,0,40,0,39,0,40,0,40,39,0,48,0,40,40,40,0,40,39,45,36,50,0,38,0,25,0,40,0,40,40,39,0,40,38,49,0,37,37,0,40,0,31,62,38,48,0,40,68,0,40,0,40,40,34,0,40,38,0,40,37,0,40,0,40,54,0,40,44,41,25,40,45,34,36,0,40,52,0,40,68,50,0,52,48,30,14,39,38,50,48,0,38,0,40,0,34,0,37,43,0,40,33,20,0,42,36,46,16,36,39,0,52,0,42,0,40,38,50,40,36,38,45,35,62,41,0,40,-8,30,43,42,44,41,0,40,38,44,0,44,38,50,0,40,40,0,35,-1,40,21,0,40,-5,0,40,47,0,4,37,34,41,38,0,40,32,0,42,0,40,0,11,0,29,49,50,40,40,0,46,32,0,40,0,25,40,31,0,-14,0,40,42,-26,0,0,0,0,0,31,35,42,0,40,40,40,42,30,0,40,58,72,-22,0,29,40,0,40,55,54,0,33,35,0,41,0,47,27,0,40,44,0,40,24,0,40,38,0,40,40,0,40,44,-7,0,40,46,34,52,0,40,39,0,25,0,44,39,-8,40,0,47,38,42,32,50,42,31,14,40,42,0,38,35,60,42,0,41,57,43,0,-35,0,40,38,41,0,44,0,40,0,40,52,40,44,35,35,0,40,0,40,0,40,0,40,41,45,55,42,51,44,0,40,0,42,0,37,44,38,0,40,52,43,34,41,40,37,-8,0,40,0,40,40,52,0,45,0,40,0,40,0,40,0,40,0,40,61,50,0,53,54,0,40,0,40,0,0,46,47,0,48,49,-8,40,36,46,0,16,0,40,41,0,40,43,34,33,40,44,61,38,39,23,37,0,34,0,40,40,40,0,40,0,40,49,41,30,0,40,0,40,0,40,0,40,50,48,0,40,39,49,28,0,41,0,35,25,45,0,50,0,40,38,0,40,34,39,48,45,33,40,40,43,0,40,63,0,40,53,0,40,0,40,45,40,42,0,50,0,39,0,40,0,40,35,47,0,40,43,0,40,0,41,30,29,60,-9,39,8,-8,40,33,36,48,39,28,0,40,0,57,50,38,0,50,0,54,47,49,0,40,0,29,46,40,0,28,50,51,32,0,40,36,37,53,41,6,35,45,43,0,40,56,0,44,30,0,40,40,33,0,34,0,40,0,40,0,37,-11,49,29,0,40,0,40,0,36,0,40,48,45,37,44,40,0,40,47,41,-8,0,40,0,40,40,0,9,40,42,54,0,40,37,24,29,0,43,43,0,34,0,40,31,0,40,0,40,47,53,44,0,40,38,64,0,45,39,47,55,35,0,43,64,-9,47,23,0,28,33,50,0,53,39,0,53,0,39,32,13,0,40,10,41,0,23,33,-7,35,0,35,41,0,55,0,-35,0,30,0,34,0,44,40,0,40,0,47,0,40,35,41,0,40,52,0,43,4,42,3,0,40,40,32,37,0,40,0,36,40,61,0,40,45,0,40,44,29,0,36,33,0,36,0,42,0,20,28,0,54,0,40,0,40,0,40,54,0,40,0,40,0,40,-8,-8,40,34,0,40,66,58,20,47,0,40,29,44,37,29,49,-8,51,42,0,50,0,40,0,33,0,41,46,51,45,28,40,37,40,0,55,0,40,0,40,41,56,40,0,48,40,0,40,0,40,43,0,40,42,-5,4,0,40,40,45,0,40,0,40,-8,0,40,46,0,40,26,40,0,48,0,40,0,25,29,32,0,35,0,37,40,0,-4,0,15,42,-34,0,34,28,64,35,37,34,0,53,34,0,25,-8,40,34,43,43,0,37,0,42,0,29,47,0,47,31,0,40,0,34,0,45,48,0,40,28,0,55,39,36,-8,40,16,0,40,0,30,45,48,0,48,0,40,0,40,50,31,0,46,0,43,-9,36,27,32,31,0,40,0,44,33,45,0,39,0,31,0,40,44,28,0,43,0,40,25,40,53,31,29,44,0,40,53,8,0,40,35,0,43,35,43,24,32,50,0,34,57,0,25,40,33,51,0,40,0,40,36,0,40,37,60,48,0,40,48,60,40,49,32,46,43,46,0,30,20,31,49,0,40,28,0,40,0,35,40,55,40,40,0,37,38,0,40,36,40,43,0,40,45,42,56,47,82,0,40,48,45,0,40,40,37,0,40,40,0,40,40,33,43,0,43,0,40,0,40,0,31,42,49,43,0,33,50,0,38,0,40,47,39,40,0,40,31,0,40,0,40,48,0,40,32,54,49,45,0,40,0,40,0,40,0,40,41,27,33,-8,45,0,40,49,0,38,0,40,40,26,0,41,0,38,40,38,0,40,0,39,0,35,0,35,32,42,30,50,58,42,0,38,29,0,35,0,48,43,37,29,24,46,0,55,48,0,31,0,40,0,30,37,43,43,0,44,49,41,32,0,42,54,46,27,0,40,0,36,40,0,40,0,38,0,38,0,40,44,0,40,39,40,0,13,0,43,58,0,48,56,0,40,57,39,40,0,33,0,40,36,45,54,30,0,38,49,0,52,0,31,42,56,36,37,0,41,42,0,40,40,36,52,0,40,7,35,31,0,47,14,33,29,65,18,49,33,36,0,55,0,40,45,35,49,0,40,38,38,40,0,34,38,0,40,0,40,43,0,40,45,0,40,52,0,40,0,40,0,40,0,40,0,40,0,40,0,40,0,40,10,40,47,0,41,41,0,40,0,40,42,21,0,49,9,0,40,39,40,50,50,46,46,0,35,42,-25,43,38,0,40,0,40,0,40,42,33,31,0,25,51,45,0,40,37,63,42,36,52,40,39,37,39,45,37,58,0,40,59,40,7,37,55,-8,0,40,0,33,58,52,40,40,25,0,40,0,35,0,40,-18,0,40,24,40,0,15,38,0,57,0,54,49,46,52,0,35,46,28,47,70,35,44,40,39,54,0,40,0,40,0,40,0,37,25,36,40,0,40,0,40,0,45,0,40,0,40,0,40,0,40,0,40,40,43,48,0,44,11,31,0,40,0,12,54,0,44,0,40,58,0,50,37,0,40,0,40,56,0,55,52,60,0,40,0,40,40,41,0,40,51,0,40,0,35,54,40,-12,0,49,40,40,0,35,45,45,40,37,0,42,52,37,36,27,4,40,44,0,40,35,44,40,37,39,-8,40,53,40,40,0,40,41,0,40,36,0,40,15,45,0,40,51,0,40,0,40,54,45,0,40,57,48,0,40,0,40,27,0,38,44,44,53,0,40,0,5,26,49,49,0,40,0,40,0,40,20,44,-8,40,0,40,0,40,0,44,40,-9,40,40,40,31,45,0,40,34,38,38,0,40,0,40,38,0,40,0,40,40,51,-8,62,0,40,0,40,40,50,40,40,58,40,37,49,33,0,43,62,0,40,56,0,40,40,33,40,42,53,0,47,0,39,0,36,34,0,48,11,40,47,40,0,40,0,40,41,40,37,40,0,40,38,0,40,41,0,40,50,0,40,0,40,0,52,32,34,42,0,49,45,3,0,0,40,0,40,40,40,0,40,0,-8,37,0,40,0,44,40,45,53,43,0,40,38,44,35,32,40,0,40,0,40,40,40,0,37,37,0,40,0,40,38,40,59,26,44,0,40,0,40,-8,48,0,40,0,40,0,34,0,40,34,53,48,40,40,0,37,0,40,55,32,0,40,-8,40,40,42,0,40,44,48,40,0,-5,0,40,0,40,40,47,0,40,0,40,44,53,24,40,49,52,0,40,0,40,57,0,40,0,40,49,34,48,46,0,40,40,50,0,42,30,0,40,0,51,0,50,0,44,32,49,40,54,45,0,44,40,0,40,43,36,52,53,40,0,34,0,49,0,40,44,-8,0,45,0,40,36,0,23,40,0,40,43,0,40,50,0,55,45,-8,39,0,40,39,50,44,40,0,40,60,58,-8,41,48,0,35,52,-8,-8,0,45,40,0,40,-8,0,40,0,40,0,40,40,40,48,33,0,40,44,40,0,40,48,44,57,39,44,48,52,32,40,49,48,61,0,50,48,54,48,44,0,40,0,40,35,47,37,39,0,40,0,40,41,13,40,38,0,40,36,52,54,-8,21,0,40,51,40,39,0,40,42,0,30,47,33,0,40,0,40,0,40,40,40,42,45,0,43,47,0,40,58,51,3,40,40,38,49,48,49,0,40,0,40,27,40,40,39,32,52,38,0,40,0,40,39,36,0,52,-8,49,59,0,40,0,40,0,40,40,0,40,46,0,40,37,41,0,40,48,50,0,38,0,40,41,37,55,27,0,40,40,50,-8,40,44,0,40,45,35,40,48,40,39,0,40,52,58,0,40,51,0,46,40,0,40,0,40,0,40,0,40,0,52,40,0,40,31,0,45,27,30,0,40,49,0,36,44,0,40,26,0,40,43,27,53,40,43,48,40,0,40,43,0,40,0,40,40,24,0,40,0,40,49,34,40,0,40,0,40,46,45,38,26,0,40,0,40,40,37,0,40,0,40,13,0,40,0,40,0,40,50,57,55,40,36,39,34,0,40,-8,0,40,32,0,36,37,0,33,46,50,39,0,40,43,45,44,0,40,0,40,40,53,43,36,49,36,46,40,47,40,59,0,40,0,39,31,41,31,20,43,55,52,44,40,0,40,27,0,40,40,60,40,38,41,33,48,40,35,0,40,30,0,40,44,-8,35,49,32,40,22,0,40,40,0,43,0,40,40,-8,0,44,0,40,0,45,38,0,40,46,40,0,40,49,0,40,48,48,53,-8,0,40,40,0,8,27,20,0,40,0,40,0,40,50,0,40,59,40,0,40,0,40,65,36,42,40,-8,40,0,48,39,0,40,0,40,0,29,0,40,40,0,40,58,0,40,0,36,0,40,40,40,0,40,0,40,53,0,40,39,39,40,0,40,32,0,40,40,37,0,40,0,35,29,41,0,40,50,47,0,40,0,40,0,40,51,40,40,67,0,40,0,40,-8,0,40,0,40,40,37,0,40,33,0,40,33,0,40,41,56,47,38,44,31,40,55,0,40,44,40,51,0,40,42,46,0,13,39,52,29,41,0,-35,0,40,0,40,0,40,37,49,0,50,0,41,40,53,50,34,0,40,0,45,33,28,0,40,20,-22,40,0,40,0,40,40,30,0,40,0,40,35,40,0,40,0,44,0,49,0,40,0,40,53,63,42,0,40,40,40,0,40,0,40,0,40,40,41,0,40,0,40,46,0,40,40,29,0,40,36,51,37,48,40,48,44,0,40,-8,40,45,0,40,0,40,0,40,45,46,0,40,-8,40,46,37,0,39,0,40,32,0,40,0,40,56,40,-15,0,40,29,46,0,32,59,33,0,44,40,0,40,22,46,0,43,53,40,42,50,40,0,40,28,47,0,34,41,0,40,21,40,0,43,48,52,0,40,0,40,41,59,0,40,0,43,40,55,41,0,40,0,40,38,50,-8,0,40,0,40,0,40,21,0,40,0,55,51,40,30,0,40,55,36,40,0,18,0,38,0,32,-8,45,45,39,0,40,40,0,40,37,0,-1,0,41,0,25,0,40,0,35,0,40,40,31,40,52,51,0,40,0,44,38,40,48,34,50,0,40,0,40,53,48,38,0,40,-8,40,0,40,50,39,45,33,40,41,47,0,44,43,32,41,0,52,0,40,50,0,40,0,40,0,40,48,41,0,40,40,0,44,42,50,46,0,28,-33,0,40,36,47,35,37,0,40,43,40,0,42,36,21,29,0,30,47,22,48,44,51,40,0,39,-8,0,51,0,40,43,52,49,0,44,0,40,0,30,29,0,40,0,45,0,40,0,40,46,40,0,44,0,40,51,19,0,40,-8,0,36,0,40,58,29,40,35,0,40,32,69,0,40,71,37,0,40,40,0,40,37,0,40,62,0,41,0,40,0,40,37,44,-8,42,42,46,0,40,53,46,0,40,46,40,0,46,40,40,0,40,0,44,0,56,-8,0,43,-8,47,57,0,57,55,0,36,0,40,40,0,40,58,0,46,58,39,0,40,0,40,40,0,55,62,54,56,54,40,0,40,40,0,40,0,40,-8,47,51,0,40,43,39,55,48,51,0,40,0,40,25,0,40,41,26,0,40,0,40,0,40,27,0,40,0,40,0,40,40,0,40,0,40,0,40,0,37,0,40,0,54,40,0,40,0,56,43,38,49,0,40,0,39,44,45,0,40,56,46,26,0,40,48,0,40,40,0,45,67,0,40,42,39,36,0,40,40,0,40,35,0,39,0,40,21,0,40,30,0,40,50,0,40,0,40,38,57,44,33,44,0,40,37,41,0,40,0,40,40,0,40,29,0,40,42,42,0,40,40,0,40,28,0,40,0,40,67,46,49,0,40,-8,0,40,40,0,30,56,45,0,40,40,0,40,0,40,40,44,-8,43,0,40,0,40,39,60,58,0,40,40,20,40,0,23,-8,0,40,60,40,52,0,40,0,40,-8,43,0,40,0,40,34,42,44,0,33,0,40,51,-8,36,0,15,0,40,0,40,0,40,21,0,57,56,0,44,0,40,56,0,40,0,48,42,35,0,40,0,39,0,25,0,50,64,0,47,0,40,40,0,40,41,0,40,60,0,40,40,46,0,40,0,25,0,40,40,40,39,34,42,0,40,46,0,40,0,40,0,40,0,40,40,0,40,0,40,38,48,0,32,46,41,44,0,14,40,0,40,37,0,15,0,40,0,40,36,43,0,40,26,40,0,32,0,40,40,0,48,40,16,39,0,41,0,45,35,0,32,37,40,50,0,40,45,0,40,-28,0,15,39,0,25,45,40,36,40,0,41,49,-8,56,60,41,46,40,41,0,40,53,40,55,0,49,45,30,60,54,43,0,53,0,40,0,40,0,40,43,0,7,31,0,40,0,40,0,50,45,44,0,40,0,40,40,47,0,40,41,48,-8,33,58,39,56,0,40,-8,40,62,50,42,47,-8,0,40,-8,36,46,40,54,39,0,40,0,40,42,0,40,44,41,46,46,0,40,40,0,40,38,0,40,44,57,37,0,40,48,46,59,48,40,0,49,46,0,51,-8,0,40,53,49,26,41,40,45,-17,0,40,0,40,39,0,40,0,7,40,49,0,55,33,0,40,47,34,0,41,-8,48,46,33,0,40,0,44,0,40,0,40,45,0,40,41,0,40,0,40,49,-8,40,0,35,0,40,0,40,0,40,42,39,43,40,36,43,0,40,0,40,0,12,40,0,40,28,68,43,-8,40,38,48,26,-8,55,0,42,51,-31,45,60,55,0,40,51,37,53,44,33,46,-19,0,40,33,32,0,40,40,0,40,44,43,-8,32,0,40,30,0,40,40,0,40,44,44,0,40,35,0,40,60,0,40,47,39,40,50,43,0,40,0,40,0,40,0,40,40,52,43,0,40,40,43,-8,-35,40,0,40,37,0,39,56,0,40,32,26,0,40,25,38,41,0,38,37,0,40,0,-12,0,40,0,34,0,40,31,0,40,0,40,-6,0,40,34,40,40,43,0,40,61,23,39,0,40,40,42,41,42,33,40,53,35,61,46,0,42,35,40,0,40,0,40,40,44,56,0,40,0,40,0,55,0,40,0,46,0,38,0,41,40,-8,0,42,40,40,53,55,48,52,31,6,37,0,40,46,0,40,40,41,0,40,0,48,48,-8,0,47,47,36,22,47,26,12,40,0,58,41,0,40,40,40,0,40,0,40,37,39,0,40,0,40,32,0,40,0,40,45,0,40,38,45,0,43,25,41,0,36,51,0,40,0,40,0,32,29,0,40,0,40,46,0,40,49,0,40,61,20,0,40,0,40,48,43,0,40,0,39,51,40,36,4,41,0,40,47,0,50,50,0,40,38,43,34,40,17,0,40,56,52,34,55,40,52,49,0,40,45,46,31,40,40,55,0,57,38,38,33,0,40,47,31,45,0,40,0,37,48,38,43,0,40,32,40,0,40,0,40,-8,41,0,42,0,40,13,40,34,59,0,40,0,44,0,51,-8,40,0,35,36,45,0,40,0,46,39,0,10,35,42,0,48,51,0,44,0,25,40,51,0,40,43,39,0,55,51,40,53,46,0,44,40,41,0,40,40,0,40,12,0,40,-7,0,40,0,40,49,19,40,38,40,47,49,40,38,40,37,33,0,40,45,47,32,0,40,-8,42,0,40,34,0,40,27,23,0,40,-8,20,15,40,0,40,0,33,41,43,0,40,0,13,43,0,40,40,0,45,37,0,40,0,40,0,40,0,40,45,40,40,2,40,37,43,0,40,40,20,0,-35,0,40,40,70,43,38,42,49,28,58,0,40,33,0,40,0,16,40,40,34,38,0,40,40,44,0,6,0,34,9,40,33,44,0,38,0,40,0,26,0,38,64,40,0,29,40,0,40,46,64,0,39,-8,0,40,40,0,40,47,0,40,0,40,59,52,0,47,25,40,43,0,40,0,50,0,40,52,0,31,47,25,0,43,49,51,0,31,0,45,0,40,0,40,0,40,39,0,40,0,40,0,39,36,44,0,39,48,-5,60,43,40,0,40,0,25,50,0,44,0,51,-4,0,40,18,31,40,38,28,0,38,-8,57,0,40,29,0,53,46,-8,48,-8,46,57,40,43,0,40,38,0,45,40,11,0,40,0,44,34,0,51,0,31,48,50,44,35,0,40,0,40,0,40,0,40,-27,39,38,45,36,0,-35,0,53,48,0,37,0,40,34,-8,28,41,55,40,0,40,36,46,29,0,40,0,40,8,0,4,49,0,38,44,37,0,40,0,40,0,40,25,0,57,0,41,40,46,43,0,40,46,0,40,0,45,0,40,0,55,0,52,40,52,40,42,0,40,46,0,40,56,40,0,40,0,40,43,0,57,0,40,37,0,40,0,41,37,42,41,47,52,46,40,21,19,40,42,18,63,40,0,40,0,40,0,40,0,40,0,35,44,63,0,40,40,0,40,44,40,47,36,52,-8,0,40,0,40,-8,0,40,40,41,49,0,40,59,40,14,31,0,9,40,58,40,44,0,40,0,55,24,25,40,41,-8,32,0,40,0,33,40,26,40,0,33,30,39,50,44,46,-8,0,40,30,48,52,0,40,0,42,0,40,0,40,0,45,-8,0,49,31,41,-9,46,50,0,51,48,0,53,0,40,-8,0,40,31,40,0,43,40,43,33,0,56,43,16,40,45,43,43,57,0,40,0,40,54,43,0,40,56,46,0,40,46,40,0,42,42,0,40,0,40,0,40,36,42,0,58,0,44,36,0,40,24,60,0,40,0,40,40,41,39,40,0,40,40,37,0,34,41,40,40,57,0,40,0,40,0,40,52,40,0,40,33,44,66,40,-8,0,40,0,40,39,0,29,0,40,38,52,40,47,0,40,0,40,0,40,45,42,0,40,38,40,0,40,62,0,38,44,42,0,40,0,40,13,0,20,0,40,40,40,40,56,35,0,44,60,0,40,0,40,40,42,0,40,0,55,12,26,42,30,0,40,36,40,0,33,46,0,40,0,55,44,33,33,16,45,49,0,40,54,0,35,21,39,0,41,40,0,40,0,40,0,41,40,52,28,42,44,32,0,40,35,38,46,0,45,0,25,63,0,38,33,41,0,40,-5,40,0,49,0,40,48,51,43,0,40,-8,0,11,21,0,40,48,25,-8,0,54,0,25,0,40,38,0,40,40,0,40,0,40,40,43,58,42,56,0,35,0,41,31,35,0,36,0,38,40,-8,0,34,0,40,47,40,27,36,0,42,38,24,50,45,0,39,56,0,55,44,37,48,0,40,0,40,39,38,0,48,50,39,46,0,46,55,46,37,0,40,0,40,-8,40,-19,0,40,41,40,46,0,40,36,40,21,0,47,46,0,47,0,4,0,35,0,40,29,39,15,0,40,46,24,42,0,40,40,37,-8,35,0,40,37,0,40,63,0,40,32,0,35,5,0,50,40,40,0,48,0,40,-8,8,30,-8,40,47,47,40,0,40,0,45,35,46,0,40,54,48,0,39,27,0,37,44,42,0,40,34,0,40,0,40,48,46,0,40,27,0,40,0,42,57,-8,0,40,43,0,40,31,0,-17,30,0,49,40,-8,0,41,0,40,30,42,38,32,32,35,0,11,38,52,0,40,48,0,40,43,45,39,40,52,46,49,0,40,0,40,12,33,46,0,51,45,41,0,39,40,0,40,0,28,0,51,0,40,0,45,0,30,0,41,48,63,0,38,43,40,0,40,29,48,-8,40,0,40,0,29,0,38,0,40,0,41,34,27,-8,0,45,0,45,19,52,31,29,0,40,0,42,40,0,40,0,40,39,33,0,40,-8,0,40,50,35,0,25,-8,40,51,35,40,0,40,0,41,37,0,36,0,40,0,40,0,40,-8,40,40,51,30,0,40,44,31,0,40,0,41,0,43,0,33,0,40,0,40,40,46,33,0,41,0,40,43,60,0,40,41,0,35,49,38,37,0,42,52,0,54,8,0,25,0,40,0,40,35,-8,40,0,40,50,0,40,34,0,40,50,31,0,46,48,0,48,40,0,40,46,0,40,0,39,56,53,40,0,39,49,-8,0,41,0,40,0,39,0,17,21,31,0,17,0,40,0,41,0,39,0,44,33,34,0,20,46,0,45,0,40,44,60,54,30,0,41,0,40,38,0,56,36,-9,39,30,0,35,41,40,0,40,41,0,42,44,30,48,36,41,41,0,45,0,35,41,0,47,0,40,48,35,40,60,45,0,35,31,36,40,0,39,45,0,41,0,40,0,40,0,35,0,39,35,0,40,0,40,0,16,0,40,34,40,0,45,64,41,0,42,0,39,-8,42,49,47,0,40,47,45,24,0,47,0,40,-8,30,32,36,0,40,0,40,0,40,32,0,37,38,40,0,57,0,47,40,41,42,40,0,40,0,40,0,45,30,37,51,0,40,0,40,48,21,0,40,0,19,0,45,0,43,40,0,47,42,0,40,0,40,40,0,48,51,34,40,0,40,0,40,40,46,0,40,53,0,40,49,0,48,48,52,47,37,40,0,25,0,40,0,40,0,40,49,49,52,40,0,58,47,0,40,0,40,43,50,0,40,26,49,0,40,34,0,40,0,40,41,26,0,50,0,40,0,55,56,52,60,0,39,0,40,0,40,42,0,40,0,39,0,40,-10,27,-33,40,0,40,35,35,18,0,42,45,40,39,47,0,40,20,0,40,0,40,40,0,40,40,0,42,60,42,40,0,42,71,40,37,43,24,0,40,55,41,39,41,0,40,42,57,48,37,0,31,33,40,-8,0,40,0,40,32,0,38,53,40,40,40,0,0,44,40,0,40,57,0,36,41,27,39,0,40,18,43,22,0,40,0,40,45,40,40,0,39,0,57,40,0,43,43,44,-8,23,34,49,57,0,40,18,-8,45,38,39,32,0,39,-9,53,39,0,40,28,33,-8,-2,35,0,40,32,0,40,-8,43,0,40,41,0,40,0,40,0,42,0,52,0,35,40,0,40,-8,28,25,-21,0,40,0,39,51,0,57,41,40,32,0,40,0,40,44,49,40,0,51,55,50,40,41,0,40,65,40,0,50,52,0,20,40,40,0,47,40,26,40,44,50,53,0,41,0,40,40,0,40,46,42,48,54,42,0,40,0,40,41,-8,0,40,47,54,40,0,56,31,0,40,42,0,55,40,0,40,44,51,0,12,0,-35,0,40,36,40,30,0,40,54,46,27,0,15,36,49,40,0,40,46,36,37,0,43,48,0,40,52,33,0,48,40,0,40,0,40,40,33,0,40,-8,0,25,51,0,40,45,0,49,0,40,11,0,40,0,40,40,0,40,0,40,0,40,52,26,27,0,40,0,38,39,36,48,0,44,43,0,38,-9,37,48,0,35,46,23,38,0,54,0,34,38,-8,58,43,9,40,40,51,0,38,50,0,40,0,46,41,0,40,42,0,40,43,0,32,46,40,40,32,0,40,59,0,55,0,30,-8,40,0,40,39,26,47,56,0,40,13,40,0,40,39,52,55,0,41,0,43,33,0,37,0,40,37,49,39,47,55,28,42,47,27,41,47,59,55,54,36,-8,0,40,48,40,0,33,31,37,43,0,47,31,45,49,43,67,45,0,50,42,0,40,31,7,54,0,40,0,40,0,40,0,40,0,43,0,40,40,42,42,42,44,34,35,40,49,57,35,0,56,39,0,40,0,41,0,40,0,40,0,37,52,0,40,40,37,40,0,40,37,0,40,0,40,54,43,0,40,57,0,40,42,40,0,40,37,0,40,0,40,0,40,43,40,33,0,25,15,40,34,0,40,52,0,34,56,24,0,40,0,38,35,38,40,30,29,0,37,13,31,51,25,39,55,44,59,34,0,40,11,-8,13,-8,0,41,25,0,40,62,0,42,0,47,57,34,0,40,61,42,52,60,44,45,41,39,0,34,0,58,36,46,40,39,43,0,42,0,40,34,43,47,49,0,40,37,36,0,44,40,0,25,44,47,41,0,40,3,0,40,0,46,0,40,49,0,40,-9,0,50,0,40,34,0,40,0,43,0,31,40,0,40,49,51,0,40,0,40,0,40,0,40,43,40,33,0,40,0,40,0,36,0,40,34,46,0,40,-10,0,40,0,40,40,57,40,-8,44,3,41,46,0,49,0,52,0,41,48,32,45,28,20,49,43,21,-8,0,41,0,-35,0,40,41,0,35,34,45,0,40,40,0,25,54,41,41,0,40,50,58,48,0,40,0,40,37,30,35,54,40,0,40,0,40,49,47,29,0,48,53,0,58,0,35,42,0,39,40,5,0,53,0,54,53,40,44,25,-18,0,47,0,35,0,40,-8,0,40,-8,29,38,49,30,35,45,32,0,54,0,40,33,40,40,31,38,40,41,46,53,34,40,32,33,40,53,40,0,40,0,40,28,38,27,0,40,0,40,46,0,40,35,46,37,25,37,45,44,0,39,37,30,13,40,28,40,0,40,0,40,0,41,0,40,36,40,0,40,50,0,40,0,40,39,44,15,0,40,0,40,47,0,16,34,38,41,0,29,0,40,40,34,40,0,40,0,40,45,51,0,33,40,0,46,58,41,35,40,0,40,-8,0,40,-8,36,0,40,0,40,0,40,33,7,40,8,0,20,38,53,45,0,46,0,40,-7,0,40,0,36,56,42,51,0,40,54,0,40,0,40,11,0,12,39,0,44,41,0,35,45,0,40,0,40,0,40,-8,40,0,40,62,27,0,40,0,40,41,0,40,0,54,40,0,35,34,52,31,41,40,50,1,40,0,40,39,42,42,59,34,40,36,0,40,0,13,40,0,36,31,42,0,57,40,0,40,32,0,55,0,40,27,-8,37,48,38,0,40,32,46,55,34,39,40,0,40,0,40,-8,-8,31,0,40,42,53,48,40,0,40,0,40,0,40,44,54,51,37,-72,39,0,40,40,21,0,40,40,0,40,44,41,46,0,40,41,40,34,0,40,40,15,0,55,51,0,41,36,41,0,39,0,-8,39,31,0,50,41,0,40,0,40,0,40,0,40,40,0,40,27,0,40,41,40,0,40,0,40,1,0,40,26,12,0,40,0,40,-9,40,50,40,52,0,40,0,28,28,43,44,0,36,0,31,0,41,0,40,41,47,38,40,0,43,41,46,40,0,40,36,-8,34,0,40,39,39,49,0,40,56,0,40,43,0,40,0,40,41,48,0,58,39,36,40,38,37,0,40,0,40,0,40,49,0,40,32,51,0,32,40,19,39,53,45,0,40,-8,0,40,0,37,0,40,0,24,42,44,42,0,48,0,45,45,0,58,34,40,0,47,41,31,0,40,37,33,40,49,0,40,35,0,40,43,0,43,42,53,34,40,45,56,0,40,40,0,0,35,7,37,0,20,39,36,0,40,0,40,36,51,51,0,38,0,40,0,40,42,43,43,0,40,0,40,0,40,29,0,40,39,0,34,40,0,31,45,0,40,28,0,41,-8,0,35,49,0,37,39,49,38,0,25,0,40,40,43,34,0,28,36,0,12,40,24,50,0,40,0,40,37,48,0,40,39,0,40,0,40,0,44,39,0,49,0,45,39,40,0,40,7,0,40,0,-3,38,47,33,35,0,48,40,42,0,38,0,40,35,39,0,40,40,0,45,0,40,42,52,34,43,37,29,0,43,40,40,40,0,42,0,41,0,46,40,0,0,47,26,29,41,69,40,0,51,0,40,0,41,0,42,0,10,40,35,0,57,35,37,36,0,40,35,40,0,40,40,0,40,33,24,0,40,34,39,0,40,12,40,33,0,40,0,35,39,0,40,0,40,0,40,0,40,22,0,35,0,40,0,40,39,39,0,3,40,39,20,49,0,40,42,26,44,0,40,-8,0,33,35,52,42,46,44,32,0,40,44,25,0,17,38,0,40,0,19,40,15,0,40,0,49,0,40,0,40,52,0,37,44,40,49,0,40,0,40,33,0,0,25,0,40,0,41,40,0,40,36,0,39,0,40,0,38,42,0,40,0,40,40,0,40,-8,33,24,0,42,38,0,40,40,0,40,0,40,0,35,0,40,0,40,36,0,40,55,26,0,40,0,40,0,40,0,40,26,31,40,0,40,47,0,40,-8,0,40,40,44,0,40,52,53,41,0,40,38,0,40,47,0,44,49,0,35,9,0,38,0,61,0,40,51,60,42,50,0,45,-25,0,47,53,0,40,27,0,40,0,53,40,9,0,40,-8,0,49,0,40,48,0,35,24,0,43,-19,0,40,0,34,28,65,0,24,40,0,41,37,-16,36,0,47,57,32,46,38,0,39,0,40,42,0,40,0,42,0,36,0,40,-8,48,37,43,40,0,35,47,0,40,0,40,35,47,40,0,40,0,40,51,0,40,49,49,0,40,40,0,39,45,-8,34,45,57,0,40,0,48,62,40,45,40,36,0,40,0,40,0,37,62,53,36,0,40,54,40,38,39,41,48,42,0,40,46,-8,0,40,44,35,40,34,48,0,29,0,28,0,40,39,28,40,36,40,44,0,39,51,0,43,57,-28,0,9,0,29,27,15,40,0,40,0,40,0,40,0,40,49,41,45,55,40,0,40,35,0,40,41,0,40,30,44,40,0,40,0,45,43,0,40,0,40,32,43,0,25,40,0,53,40,43,40,41,0,5,0,42,49,45,35,0,40,62,0,40,53,53,0,40,0,40,38,39,40,0,40,0,40,40,0,39,-8,0,40,0,40,47,34,29,19,0,28,33,28,0,19,38,0,40,0,40,42,46,0,40,37,0,40,38,33,30,39,36,0,40,41,0,40,50,0,40,0,44,0,40,40,41,18,38,35,-8,39,32,0,40,0,40,47,0,40,35,0,40,0,40,55,20,0,40,41,0,40,29,41,0,40,0,33,44,55,45,41,22,0,37,41,24,56,34,0,40,39,36,0,40,43,0,41,53,52,31,39,4,44,52,52,40,43,0,47,0,38,41,0,29,0,40,0,40,50,0,40,0,7,32,47,38,0,40,0,40,0,40,0,36,36,39,39,49,40,57,50,0,40,0,40,0,20,0,40,0,40,0,34,55,0,43,31,50,0,48,0,41,0,52,0,40,40,0,41,39,35,0,38,-8,0,40,0,56,0,10,40,40,0,40,0,31,48,40,45,42,48,0,40,0,40,66,33,0,40,44,0,35,-8,0,48,25,33,47,45,40,0,40,0,40,67,0,40,0,42,40,0,40,53,48,5,0,40,61,0,40,11,0,25,40,40,39,44,40,0,35,40,35,0,40,44,53,42,53,47,64,0,40,0,40,0,35,65,40,0,50,0,39,47,0,40,0,40,0,40,0,40,40,0,40,26,0,42,0,40,0,35,56,49,-6,0,40,29,0,40,60,0,40,46,0,40,40,0,40,32,47,32,40,0,40,48,53,0,50,-13,26,0,40,54,0,40,32,52,0,40,0,40,40,0,45,0,40,52,39,0,48,41,39,44,0,40,0,40,46,0,40,57,40,33,0,18,45,31,0,29,0,30,36,43,0,40,39,25,40,0,-17,0,40,40,52,32,0,40,0,29,0,40,0,40,40,52,40,-8,35,52,27,0,40,51,45,41,45,0,40,0,40,0,40,0,40,45,50,37,-15,0,40,0,40,47,0,40,18,0,40,0,40,0,40,22,0,40,58,57,30,33,0,39,51,22,44,48,39,45,44,63,0,40,0,40,40,0,48,0,42,0,40,33,40,0,14,47,0,40,0,40,49,-8,46,7,0,40,39,55,0,49,40,35,35,47,0,52,0,40,57,40,40,38,36,0,56,49,46,42,43,0,40,50,0,41,34,0,40,0,40,0,40,49,0,44,40,10,0,40,-28,0,40,45,0,40,0,40,40,0,40,0,40,43,12,36,-18,40,0,40,40,0,40,49,0,41,59,58,0,40,33,51,60,48,0,40,44,28,0,40,40,45,0,40,43,0,37,0,51,-8,11,40,49,46,34,30,0,40,0,44,42,39,0,40,63,31,42,0,50,0,48,35,41,0,39,49,33,30,37,24,0,40,45,28,37,49,38,0,22,42,0,35,0,40,44,42,41,39,35,0,56,35,26,0,46,43,0,40,0,17,0,42,39,41,0,37,0,0,40,40,40,0,0,40,0,40,0,40,0,40,31,40,51,0,35,40,51,42,0,38,0,40,46,-11,0,40,-8,51,53,40,31,40,0,47,38,0,40,39,44,0,31,35,30,-8,0,19,40,38,36,0,41,38,-8,31,36,31,49,0,45,0,40,38,34,42,21,50,52,46,0,47,32,0,40,48,0,40,41,50,39,-58,0,46,38,0,43,0,40,40,43,0,47,48,40,38,0,47,40,42,33,0,36,0,40,0,40,40,0,40,33,46,0,40,41,0,40,0,40,35,47,40,0,40,56,44,40,46,50,46,0,40,41,27,32,0,40,39,0,40,0,40,33,33,0,36,0,36,40,55,0,40,29,41,0,40,54,2,54,-19,0,59,41,57,-8,36,39,42,36,0,42,30,35,-8,41,43,0,40,0,40,28,54,34,39,0,43,0,8,40,0,40,62,38,32,0,40,55,46,57,0,40,47,0,40,44,0,40,0,40,18,41,49,22,0,40,0,40,36,53,21,0,44,0,40,61,40,0,40,38,0,51,0,40,47,0,42,51,62,40,0,40,55,0,40,0,48,0,38,40,44,0,40,0,40,0,40,0,40,53,18,0,39,0,47,0,40,0,40,0,38,0,40,37,0,40,0,40,67,0,40,50,40,24,51,0,22,33,48,44,29,0,55,0,40,36,-8,37,0,40,47,40,42,33,0,40,26,52,0,40,0,40,0,40,46,0,40,48,36,46,42,43,0,40,0,40,0,40,49,46,50,40,0,40,40,0,9,0,44,0,40,0,40,41,0,20,0,40,0,38,0,45,40,49,41,38,62,0,40,0,45,45,0,39,0,40,20,28,0,40,40,0,-35,0,51,47,0,42,63,0,42,0,39,40,0,40,0,40,0,40,57,47,0,40,0,40,0,40,52,0,40,46,0,40,0,40,0,36,40,0,39,0,40,47,37,40,0,40,38,0,45,55,40,0,40,0,40,33,35,0,25,0,40,0,25,58,32,0,39,53,44,53,43,44,34,0,40,0,48,37,43,41,0,40,43,0,33,0,40,0,40,0,40,28,0,41,46,40,0,38,0,40,-8,51,30,0,40,0,40,0,35,0,41,60,41,-8,26,-8,48,40,0,40,43,49,-9,49,0,40,0,40,57,0,40,40,31,45,44,0,43,45,0,40,0,41,0,40,49,-8,15,40,0,40,6,0,34,36,40,0,32,49,39,0,43,-8,0,40,40,36,0,40,0,43,0,40,0,40,25,40,48,0,40,50,0,48,0,40,40,35,0,40,40,40,0,25,0,44,40,0,40,0,41,45,0,40,0,44,42,38,0,35,-15,0,40,40,0,42,40,40,0,40,53,40,44,45,46,40,40,3,40,36,11,40,40,-5,0,40,0,28,59,0,40,-8,40,23,48,5,0,40,37,0,40,39,32,56,42,35,0,40,57,0,40,24,0,40,0,40,53,29,-8,0,33,-8,40,37,0,51,0,12,40,40,28,40,40,40,40,54,33,41,35,40,40,41,40,35,40,45,53,0,40,0,40,54,0,42,40,55,34,0,37,37,0,40,42,24,0,33,35,38,0,40,0,40,28,0,52,31,52,40,0,40,0,32,0,31,40,53,-8,0,44,0,40,0,40,0,40,40,0,0,40,36,0,40,40,0,40,0,40,0,40,40,40,0,42,40,0,30,40,0,40,40,46,40,38,40,40,58,40,0,40,49,40,0,40,40,0,40,47,40,51,51,-8,0,40,40,50,43,0,40,59,40,51,49,0,40,55,40,50,42,46,39,62,39,35,31,0,23,35,44,0,40,-8,0,40,41,0,20,0,40,0,40,49,-8,40,39,0,40,45,43,0,40,0,40,-9,0,40,32,40,0,40,0,40,40,22,39,0,40,50,41,0,32,0,40,39,51,16,40,0,40,41,0,40,41,0,40,46,39,-8,22,0,40,0,28,-8,51,41,51,0,43,0,40,0,40,40,0,40,35,-9,40,0,40,0,38,0,37,33,32,40,35,0,40,38,42,54,42,40,42,0,40,31,0,0,40,0,40,31,39,32,0,40,31,35,0,25,41,0,40,11,45,41,50,-8,0,40,63,0,40,-8,40,47,-8,54,40,0,40,50,52,40,32,0,40,26,0,40,0,40,37,0,22,0,40,53,48,0,40,0,40,40,0,25,0,40,0,40,0,40,0,11,47,0,44,0,40,62,39,51,33,0,40,-8,35,34,0,36,0,41,0,41,-8,40,43,52,52,0,33,40,0,40,40,0,44,0,48,39,0,39,29,0,39,0,41,0,40,39,0,11,0,40,0,40,0,40,0,35,0,40,45,45,57,0,40,-8,40,0,40,50,34,0,40,52,0,40,0,39,42,54,43,0,43,25,0,45,54,39,48,0,40,0,35,40,48,0,40,27,0,38,32,0,40,9,40,39,63,0,40,0,40,43,0,40,51,0,40,57,38,0,18,40,0,40,41,35,0,40,0,40,40,0,40,15,45,0,38,32,47,0,32,0,40,0,40,49,44,0,40,31,0,36,47,39,0,29,46,46,39,40,44,0,35,0,40,0,35,42,0,40,42,19,51,0,40,40,57,0,40,0,40,0,53,0,40,45,28,0,45,27,0,43,35,58,0,40,-8,34,0,40,33,18,0,40,40,0,52,-12,28,0,40,42,40,40,0,40,0,40,44,0,40,37,48,40,0,40,39,0,40,46,0,40,0,11,0,40,42,0,40,0,40,0,40,34,45,0,40,0,14,0,54,0,40,40,0,43,0,44,31,35,0,40,57,37,0,40,52,45,0,48,52,0,40,0,49,40,40,54,38,43,0,40,0,40,40,38,49,0,40,40,52,43,31,0,40,0,40,0,44,0,48,0,40,41,0,54,0,40,0,40,0,40,0,38,40,49,44,0,40,38,39,39,32,31,0,36,0,40,54,40,35,0,40,0,49,52,40,0,40,45,40,0,40,0,37,22,33,57,0,43,-8,54,40,0,40,0,49,0,42,40,70,36,0,40,0,43,50,40,0,40,42,0,37,36,38,0,41,0,40,0,40,0,40,0,40,36,0,32,0,47,0,40,49,40,25,40,0,40,0,40,38,50,40,34,42,0,29,39,47,0,40,40,-8,0,40,0,40,35,42,0,40,43,0,40,0,51,44,48,40,27,0,25,30,40,-8,40,50,39,40,24,0,40,23,0,40,40,40,40,40,0,40,36,40,72,40,40,0,40,40,39,32,42,0,46,0,40,40,44,50,40,40,60,38,0,40,40,0,40,0,40,0,40,40,0,40,50,44,0,41,0,36,0,40,0,40,0,40,39,40,40,-8,0,38,0,40,0,40,33,40,40,0,40,44,0,40,40,41,35,54,0,40,0,40,0,40,44,0,40,0,40,40,-9,0,42,46,0,40,0,51,0,59,0,40,0,10,40,0,51,40,0,40,-8,0,40,0,40,0,38,47,0,40,0,44,0,40,54,0,40,40,38,39,0,40,45,33,19,0,40,40,0,25,0,25,40,0,41,0,40,0,40,41,0,40,0,40,40,46,46,47,43,48,40,40,48,0,39,42,54,46,0,40,0,49,45,0,40,0,40,35,0,39,31,34,44,40,40,44,44,0,53,0,40,0,40,33,0,24,38,38,-8,40,42,40,0,40,42,45,0,41,43,54,36,0,40,40,48,34,0,39,40,36,40,0,40,0,40,47,50,30,42,0,40,0,40,40,39,40,0,37,45,0,42,54,0,34,0,40,0,44,40,0,40,60,0,40,0,55,43,32,0,42,41,0,40,-33,0,40,48,36,36,0,40,0,40,0,40,36,0,40,0,40,40,41,55,42,44,38,0,40,41,42,40,49,0,40,0,64,50,33,0,40,49,44,48,40,0,40,32,0,40,40,0,40,42,67,0,40,44,43,47,0,40,40,40,35,0,42,40,0,40,31,0,40,0,43,24,0,36,40,40,0,40,0,40,0,40,0,40,34,0,40,0,8,40,0,40,0,31,48,0,-35,0,40,42,42,0,40,50,0,40,-9,45,0,40,0,40,0,40,40,0,40,21,40,43,0,40,0,40,0,40,40,38,0,40,0,40,1,0,40,0,40,40,0,40,0,40,0,40,40,29,0,40,48,0,40,47,0,40,0,40,35,42,0,40,0,47,0,40,42,-8,0,4,47,18,0,40,47,41,33,54,0,35,0,40,30,0,31,42,47,28,44,42,0,48,38,40,0,55,11,40,20,-8,0,40,0,54,0,40,0,40,0,40,40,0,40,41,0,40,27,0,40,0,40,0,40,43,0,40,0,10,40,39,0,53,0,42,0,40,0,38,40,0,40,41,35,0,42,40,0,42,40,49,40,15,0,35,42,46,0,40,0,43,41,0,40,0,40,34,0,40,57,40,0,40,0,40,38,53,28,43,40,37,44,0,40,39,0,40,0,40,0,33,40,42,46,0,40,-8,0,40,0,40,41,0,42,0,42,28,40,0,40,51,34,0,40,0,40,0,54,0,40,0,31,34,0,40,47,0,40,0,40,0,40,22,40,40,0,32,0,40,57,39,60,0,36,-8,0,40,56,0,40,40,49,0,40,-8,0,40,0,40,0,40,45,0,40,40,45,52,52,41,41,-8,40,40,0,40,44,0,40,0,40,28,51,0,40,43,0,14,34,43,0,40,49,0,40,46,35,0,40,0,44,38,34,38,0,29,40,39,0,40,48,40,0,49,0,40,0,40,0,40,0,40,0,40,40,0,40,26,19,0,27,0,40,22,45,0,8,40,61,51,39,40,0,40,48,50,44,40,40,44,0,40,37,0,40,0,40,30,33,44,37,0,16,0,40,0,40,0,40,24,40,0,40,51,53,48,0,40,0,40,40,58,53,0,40,0,40,0,40,0,40,40,40,41,41,56,0,27,38,0,40,40,40,34,35,0,40,33,40,0,38,0,40,51,38,0,40,42,40,0,49,0,40,37,0,42,53,0,40,52,0,40,44,0,20,0,40,51,0,40,0,12,40,37,0,40,0,40,0,40,37,40,46,49,-8,40,42,44,22,48,0,40,40,49,0,40,0,28,40,43,33,43,0,40,0,40,0,40,-14,-8,40,0,25,48,0,40,0,40,0,40,0,40,40,0,53,0,56,0,40,0,40,40,0,40,47,0,37,0,33,40,57,53,59,47,0,40,33,0,40,0,40,30,40,49,51,54,0,53,39,36,0,40,0,50,0,58,33,37,38,0,35,0,48,62,40,48,45,39,43,0,40,0,40,0,41,0,40,0,40,40,0,50,0,40,47,43,0,41,-8,0,40,40,47,0,38,0,40,0,55,41,0,40,35,39,0,40,34,41,40,44,56,42,37,48,0,40,57,28,53,40,49,0,40,0,51,58,36,0,43,40,27,40,0,40,0,40,31,0,40,1,0,40,0,40,0,40,0,40,40,0,37,0,46,0,40,0,40,0,40,49,0,40,39,-35,0,40,0,43,42,40,44,0,33,0,43,40,0,40,0,40,0,40,48,0,40,0,40,0,40,0,40,0,40,40,44,0,40,52,39,46,40,0,41,42,0,40,40,46,39,60,40,40,51,42,0,40,0,40,42,40,37,40,40,50,31,21,0,43,46,42,0,40,0,40,46,58,0,40,41,35,0,48,40,48,52,0,40,37,0,48,35,50,0,38,0,45,-8,31,0,40,45,0,41,0,46,56,17,0,40,0,40,32,80,0,40,53,41,0,55,40,47,0,34,55,0,40,0,40,35,49,0,40,0,40,0,44,40,39,-8,0,40,0,40,0,30,0,40,40,34,40,0,40,44,0,40,38,0,52,0,40,0,40,0,40,0,40,52,43,43,0,40,0,40,28,-8,0,39,48,29,0,40,0,40,0,40,-8,0,40,30,40,0,39,0,40,0,48,47,0,45,9,41,0,37,40,0,40,0,40,49,40,34,40,0,40,9,45,14,33,0,37,0,40,0,35,0,40,40,24,55,0,49,44,0,40,3,40,35,0,39,43,46,46,54,0,40,39,0,40,55,45,46,-8,40,26,28,0,40,34,43,40,0,40,0,40,40,45,10,40,0,44,0,40,39,40,29,35,30,0,41,0,40,0,41,39,31,47,43,20,0,49,40,44,28,40,54,36,40,40,0,47,0,50,0,40,0,40,48,-12,0,40,0,40,-8,45,40,0,40,41,0,40,47,40,0,40,0,47,30,0,40,40,40,40,40,40,40,41,38,40,41,25,48,44,46,41,0,40,46,34,47,29,0,40,0,40,55,36,0,40,39,44,42,43,33,43,46,44,40,40,0,48,0,33,32,0,46,0,47,0,40,40,60,0,40,0,40,31,53,31,48,0,40,40,34,51,53,0,40,5,0,56,41,24,24,0,40,39,41,45,34,45,37,0,40,-8,37,42,35,46,40,48,44,42,37,0,40,0,40,25,0,31,0,40,40,0,40,-8,33,0,40,0,40,40,39,57,18,0,40,0,40,0,40,0,40,44,-8,45,52,0,40,64,40,0,52,40,40,0,38,43,35,0,35,40,40,52,39,45,48,48,54,0,40,47,37,0,43,24,40,47,47,44,0,47,43,51,0,44,0,40,0,51,0,50,42,59,-9,0,41,40,0,37,40,39,0,46,0,40,0,40,0,40,40,0,40,0,44,0,45,0,40,0,40,0,40,0,23,40,0,40,47,67,44,0,40,43,47,-9,0,40,40,40,0,40,45,43,0,39,-10,0,44,41,0,40,0,18,40,40,0,43,0,40,0,49,0,40,0,27,46,47,0,0,40,0,40,-8,43,0,40,-8,0,0,40,0,12,0,39,54,0,38,42,-8,36,0,40,31,0,40,40,43,0,-1,0,41,38,40,32,0,40,40,47,38,44,0,40,42,-8,49,40,0,40,48,0,40,0,40,48,0,40,0,40,0,40,0,40,27,39,0,55,0,40,0,51,46,0,40,38,-8,0,40,46,0,40,50,0,40,0,40,57,0,40,0,-35,0,40,44,29,40,47,0,40,0,40,0,40,0,-14,0,40,40,0,41,44,0,44,0,38,0,33,46,0,37,38,44,0,40,0,37,45,41,43,0,42,0,40,1,0,40,49,48,0,40,43,0,40,40,30,0,36,0,46,36,0,32,0,40,0,40,0,40,40,0,50,52,0,40,0,0,55,2,0,40,0,39,46,0,40,0,40,49,59,0,40,31,0,56,-7,40,63,0,40,47,28,33,0,40,34,0,43,52,43,31,25,40,-34,0,40,-8,39,45,0,46,0,47,43,0,40,35,43,35,40,0,47,0,40,30,47,0,46,44,47,57,50,0,45,0,40,-8,0,40,63,36,40,0,40,0,40,0,31,33,0,40,0,40,0,40,0,34,28,0,40,0,40,45,39,40,25,0,40,44,36,0,46,46,49,0,40,40,0,40,35,25,10,0,37,0,38,0,44,37,0,34,41,-8,0,40,0,38,0,40,45,16,39,36,0,40,0,9,0,40,0,55,47,40,-8,56,0,33,0,40,46,0,40,0,40,0,25,30,0,40,-8,41,41,-14,0,44,46,47,0,40,41,0,40,34,0,40,-8,33,0,36,41,38,44,40,0,40,0,38,0,40,40,0,38,0,37,0,32,0,36,50,0,40,0,40,38,35,35,43,34,55,0,40,0,38,13,0,40,0,40,38,0,41,0,25,-41,48,48,44,37,60,0,40,20,40,0,40,38,40,42,0,16,32,41,73,0,41,33,41,-28,25,39,0,40,0,40,40,38,44,44,44,45,45,0,40,40,-8,39,40,0,40,53,-11,0,43,36,53,38,0,33,0,28,52,3,0,34,0,54,36,0,40,0,31,31,0,30,40,31,41,0,40,44,39,39,0,40,0,46,0,47,51,65,40,41,0,44,0,40,47,0,44,39,28,12,0,46,0,7,43,0,40,0,39,47,0,40,23,22,36,0,40,45,-8,40,36,42,-11,25,40,0,40,0,49,34,31,47,0,40,0,40,34,0,33,44,40,39,41,0,45,0,40,48,40,40,0,40,30,52,16,23,41,0,40,49,0,40,40,0,35,49,0,40,0,38,36,0,40,0,40,0,40,0,46,0,40,0,40,38,0,34,44,33,38,40,0,40,21,0,40,35,36,0,33,33,0,40,38,0,35,9,40,34,40,0,44,0,40,58,0,40,44,37,0,35,0,26,0,45,0,40,44,0,37,40,0,45,26,0,0,40,0,36,51,0,34,34,42,0,40,48,0,47,53,46,0,40,29,0,40,35,0,7,26,0,9,19,10,0,40,42,0,40,50,0,40,0,40,0,40,-9,40,40,0,40,47,0,47,0,40,0,40,0,28,34,0,40,0,15,43,39,39,0,40,19,0,39,21,40,44,44,0,55,45,40,0,38,47,0,40,45,0,33,40,0,40,0,37,51,43,49,51,30,0,40,0,40,48,0,24,0,40,61,0,40,0,43,42,23,56,23,12,40,0,40,0,39,28,0,40,0,40,21,0,44,40,0,40,-9,-8,0,40,38,0,55,0,4,0,40,7,36,-8,40,37,40,-8,0,40,0,44,0,52,0,35,49,51,59,0,40,-11,42,0,35,0,37,-40,0,24,40,47,32,38,0,45,43,60,41,39,11,36,0,40,51,46,36,20,41,0,32,0,41,0,40,0,40,34,21,0,13,40,0,40,48,48,0,39,0,40,0,40,56,0,42,40,0,40,0,44,0,40,23,0,30,45,29,34,38,45,-8,0,31,0,40,39,37,40,0,40,0,30,20,0,40,46,0,38,0,40,24,40,41,0,40,40,44,0,40,0,40,0,40,0,45,0,40,0,40,45,32,0,52,0,45,40,0,58,0,38,0,40,-8,39,34,40,54,40,0,40,-1,0,40,0,40,0,42,0,40,44,0,40,0,-14,0,40,39,40,40,33,40,42,31,0,47,25,0,42,0,40,0,40,40,50,0,40,0,25,40,0,40,0,44,66,40,0,46,0,42,0,55,43,0,40,0,33,47,0,39,49,0,32,0,40,47,0,40,0,45,0,40,0,41,0,39,17,0,40,-26,0,43,-8,0,40,44,40,43,0,40,0,40,0,40,0,40,0,40,0,40,40,0,40,49,0,40,0,40,-5,0,-31,40,0,35,0,47,43,0,32,43,45,32,26,52,44,35,-9,0,40,50,40,0,62,40,30,0,39,0,40,42,41,0,15,-8,51,0,33,40,0,47,0,40,51,0,40,47,0,40,54,0,40,0,40,30,0,40,37,58,47,43,0,40,34,-32,0,46,0,40,0,47,40,59,0,40,18,0,40,0,58,36,30,50,0,40,0,40,56,35,71,48,38,36,49,40,0,40,42,56,40,48,30,0,40,0,40,35,40,53,0,44,46,43,40,37,58,34,0,40,50,38,48,62,7,0,40,39,0,41,29,45,0,28,43,42,0,40,0,35,0,40,0,40,0,55,40,0,40,0,53,12,40,0,40,38,61,47,43,0,40,38,62,54,0,39,0,40,61,38,69,39,0,52,0,40,45,0,39,55,0,40,0,40,28,36,0,40,13,0,40,40,0,43,0,42,0,40,40,0,33,0,47,50,0,32,50,0,18,42,41,35,32,0,11,40,0,43,45,38,0,-10,40,33,38,0,51,40,50,43,27,47,49,0,40,46,47,0,40,0,40,40,29,35,0,40,0,40,40,0,40,40,0,38,0,40,0,40,62,49,40,-20,0,58,33,0,40,24,0,40,62,37,0,52,40,42,0,40,0,47,40,20,-8,0,34,0,14,40,0,40,0,40,26,34,0,40,-35,40,32,0,40,50,28,31,0,36,39,0,28,47,16,20,40,40,49,39,43,32,0,40,0,41,37,42,42,0,46,0,37,0,55,0,40,40,0,44,29,40,0,40,0,49,0,49,41,40,0,40,40,45,0,40,0,48,0,40,49,40,0,40,40,46,40,23,61,0,40,38,53,37,41,33,36,40,36,0,40,32,0,40,-8,0,40,40,44,0,40,33,37,27,39,40,40,42,0,40,0,40,32,46,28,-8,0,44,0,40,33,0,40,43,0,11,40,37,0,38,0,40,46,42,0,40,0,40,52,0,35,40,39,48,0,40,0,48,0,40,0,40,41,44,0,40,0,31,35,38,-8,0,36,0,40,0,40,0,37,40,0,51,35,38,38,0,37,0,33,0,44,43,40,0,11,48,33,62,0,40,45,0,40,0,40,40,45,35,40,47,28,48,0,40,0,40,40,40,0,41,44,44,0,40,40,-8,36,46,0,45,0,40,45,0,40,46,33,38,0,48,46,36,40,52,-9,0,40,45,0,40,46,0,38,-8,40,40,55,45,0,40,38,0,40,59,0,40,48,35,-8,40,40,0,50,0,25,0,38,0,40,0,40,47,31,58,0,40,0,40,49,53,0,40,0,40,0,40,40,51,0,40,48,43,0,40,42,46,42,0,40,0,54,0,40,64,0,40,42,56,0,40,40,-25,0,40,0,40,37,0,51,50,0,40,25,34,47,0,39,0,40,0,40,0,40,0,40,0,41,30,-28,39,40,39,0,40,0,40,35,0,40,0,40,32,40,0,40,-8,0,40,54,43,50,44,46,43,0,40,0,46,33,43,41,0,40,42,0,43,0,25,0,40,29,0,40,39,44,0,40,0,37,50,40,0,40,37,36,51,0,40,0,40,0,37,0,40,40,40,40,0,40,0,36,57,-1,40,42,0,40,40,40,38,0,39,0,40,46,0,40,45,47,0,40,0,57,40,63,20,0,40,0,53,0,55,0,40,0,40,45,0,40,38,45,38,0,44,0,35,45,40,46,41,0,34,43,0,46,28,22,0,47,33,37,0,31,50,0,53,41,0,-35,0,40,37,34,37,47,0,40,0,35,27,47,0,33,50,50,7,0,40,57,33,0,37,0,52,32,40,0,40,0,40,0,40,40,47,47,0,35,42,40,28,50,40,32,48,38,32,0,40,33,33,-35,0,40,40,51,41,20,0,40,0,40,0,42,0,49,0,40,-8,40,29,0,45,36,0,46,40,29,0,40,43,48,61,0,40,0,40,0,40,0,40,34,-12,0,40,0,40,40,42,0,40,0,47,-8,40,0,43,50,0,11,0,44,52,40,-9,0,40,0,40,37,40,0,40,-8,0,40,0,40,48,40,0,40,40,0,58,-9,40,43,34,39,24,31,38,0,31,40,33,42,36,57,53,0,40,47,37,42,38,0,40,0,40,51,0,47,0,40,43,0,40,39,49,40,54,0,40,0,40,31,42,42,47,35,-8,40,0,40,47,43,48,0,40,0,40,0,40,52,0,40,45,0,40,36,0,40,0,40,32,50,49,40,57,0,40,50,40,0,40,40,0,40,0,40,52,32,0,40,23,0,40,40,0,33,0,40,0,44,0,40,0,52,0,30,40,47,50,0,40,41,0,30,0,40,42,12,46,41,50,45,0,45,38,0,40,0,40,40,44,43,0,40,42,43,0,23,16,30,42,52,0,32,58,0,45,0,40,46,0,40,46,35,57,46,0,40,46,30,42,49,0,52,40,62,42,0,40,0,40,-8,36,0,40,0,40,0,40,40,34,40,37,0,40,39,35,19,0,45,0,37,0,40,0,34,45,33,0,33,0,34,46,40,32,0,37,0,40,32,42,53,0,54,0,40,43,43,0,40,0,40,39,0,37,0,39,-9,0,40,0,44,0,39,0,40,46,38,51,42,40,39,55,31,40,49,56,48,0,40,0,40,61,41,-8,0,40,43,47,0,40,32,0,40,41,32,48,40,0,44,37,0,40,59,52,46,0,40,40,45,47,25,0,40,0,40,50,0,40,42,20,49,0,40,40,-8,41,62,0,39,0,40,34,0,34,0,40,31,0,40,0,40,40,0,40,27,27,36,51,35,0,40,47,0,15,40,0,37,0,42,0,39,0,40,0,40,64,0,41,0,40,40,40,40,0,41,37,52,47,0,10,0,8,40,0,40,56,44,49,0,40,31,44,0,40,-8,40,0,40,0,0,40,50,0,41,0,40,-8,0,12,0,15,35,0,42,41,46,52,41,37,-11,28,40,40,40,40,0,40,46,43,0,47,0,40,22,40,0,40,41,29,0,55,63,0,40,32,54,52,0,40,35,0,38,42,-21,0,43,47,42,0,15,40,0,38,-8,45,-21,0,40,45,40,0,49,-60,0,57,0,42,-3,0,40,0,37,53,40,41,0,40,0,44,39,0,40,0,30,-8,0,40,0,37,40,0,40,35,36,0,40,40,0,0,46,32,0,40,36,40,40,0,40,40,0,40,40,52,0,10,40,52,60,18,32,60,0,40,43,0,32,36,40,0,19,47,40,41,0,35,54,45,27,0,40,0,40,46,47,0,40,-7,0,40,-8,0,40,-8,0,55,33,24,-8,43,-8,0,40,0,9,0,35,40,0,40,51,40,54,0,25,43,0,39,29,40,32,0,40,40,36,71,25,47,54,31,40,36,-27,0,51,40,42,0,40,0,40,40,43,0,40,40,40,0,40,38,0,40,0,40,0,58,68,48,26,0,40,37,50,0,51,0,40,48,46,0,40,46,0,40,42,0,40,28,0,44,56,33,20,44,0,40,0,40,0,42,0,45,8,0,40,50,48,40,31,0,40,0,40,40,0,40,0,46,43,0,40,39,37,0,42,44,40,0,40,50,0,40,0,40,-2,0,10,40,0,40,35,4,56,42,0,40,0,35,48,0,40,0,40,0,25,0,40,50,40,38,40,54,-8,41,0,40,40,40,42,62,40,40,0,40,-30,0,40,30,34,51,0,40,50,40,0,40,0,10,40,30,0,44,59,49,40,0,44,0,36,31,16,35,42,0,40,0,40,35,34,0,39,47,39,24,0,42,40,28,51,40,38,-9,0,40,0,40,44,0,40,0,40,40,47,-8,0,40,40,0,40,45,0,41,0,38,30,0,33,0,40,0,40,0,40,0,40,0,40,0,35,0,40,0,40,0,40,40,0,40,0,40,28,32,0,50,0,-5,-8,32,-8,0,34,-8,40,0,55,36,0,40,42,40,55,0,40,40,51,0,40,0,46,33,0,-12,0,40,0,40,41,56,0,40,33,32,33,44,-8,0,25,38,40,0,38,48,0,40,52,-16,40,40,40,40,54,0,40,-8,0,-7,40,30,58,25,-8,0,40,53,41,48,44,0,40,0,40,45,0,40,40,40,0,40,48,31,0,40,40,51,44,54,58,42,46,55,52,52,40,35,37,31,54,32,0,41,46,46,0,40,0,40,33,0,40,41,0,40,46,39,31,0,37,46,0,38,0,40,-8,46,36,40,0,40,45,35,0,40,40,0,40,0,40,35,0,40,40,41,0,44,40,0,40,0,40,40,46,0,40,0,39,37,0,40,0,40,19,0,40,40,0,40,0,40,0,40,-9,-8,-7,40,0,40,40,-8,0,40,45,0,40,40,0,41,67,52,40,42,8,0,40,0,40,45,53,0,40,56,40,0,16,0,40,42,50,0,40,40,0,40,0,35,45,36,44,57,40,36,39,37,0,40,36,40,0,41,40,63,42,44,0,42,0,40,38,44,0,50,47,0,40,0,33,0,40,0,45,0,40,0,40,40,41,0,44,44,44,-11,0,46,0,40,41,42,35,42,37,0,40,0,40,0,40,40,38,40,16,40,40,40,34,36,0,40,35,0,37,0,40,48,48,40,3,0,25,0,10,0,40,40,0,40,39,32,48,48,40,0,40,41,0,47,45,0,40,0,40,0,40,47,0,40,32,0,40,0,43,0,40,61,37,40,48,0,40,0,40,34,0,36,0,40,24,-8,40,0,40,0,40,0,40,24,0,35,40,56,42,37,0,40,41,0,41,-8,37,0,40,41,0,55,40,0,40,0,40,26,44,42,0,40,0,40,0,40,37,0,40,0,40,0,40,40,0,40,0,40,0,37,0,40,0,36,0,35,13,0,0,40,38,0,40,44,47,39,0,40,14,22,0,24,19,40,29,0,40,51,41,0,40,0,41,0,17,40,42,40,41,55,0,40,40,58,40,40,41,40,0,45,-36,0,39,0,40,0,40,33,0,40,0,43,40,51,22,35,30,0,40,26,47,0,41,47,40,34,38,44,0,40,49,0,40,51,36,40,37,47,64,23,40,40,0,40,48,48,40,48,0,40,0,40,0,40,40,38,43,0,40,0,40,0,32,0,40,46,41,47,-8,40,39,0,38,0,40,0,36,30,0,45,45,42,0,-35,0,40,40,47,49,50,49,0,40,44,-8,0,30,40,42,41,52,40,40,0,40,46,0,40,40,41,40,0,40,35,0,40,40,0,40,0,31,0,40,51,0,40,0,40,34,0,40,40,45,39,0,40,0,32,0,40,39,0,40,13,0,40,47,0,40,36,40,45,39,37,40,54,0,40,38,0,45,40,0,40,52,-25,0,43,0,58,51,29,-8,40,48,47,44,47,40,24,52,50,0,44,51,-8,51,0,40,26,45,44,0,40,-9,40,51,19,0,40,0,40,34,49,0,40,22,0,40,0,40,40,0,40,33,0,40,56,28,25,35,0,40,0,40,0,40,0,40,0,27,4,0,52,35,-8,0,46,0,40,38,37,22,31,0,40,0,44,0,34,32,0,53,49,40,40,30,34,28,0,43,37,46,0,35,0,38,32,44,39,14,40,0,43,41,-8,0,40,49,0,47,38,38,0,25,47,0,40,37,0,52,26,0,42,0,40,0,42,42,28,0,24,0,41,0,40,34,40,0,40,49,0,40,-8,33,0,40,0,40,40,31,40,0,40,0,40,0,40,0,55,0,43,0,40,0,40,0,47,44,40,0,43,37,35,0,58,56,0,42,35,26,0,40,0,35,18,0,35,38,40,40,35,53,40,31,44,52,49,0,43,0,40,40,32,58,41,0,40,0,40,0,40,-8,41,46,0,39,37,23,0,50,0,40,18,0,56,44,42,40,0,45,32,0,37,43,0,38,37,0,35,41,40,40,48,49,56,0,39,45,0,40,0,35,40,36,0,40,33,44,67,0,11,55,35,36,0,40,51,40,40,0,40,56,0,40,50,35,0,35,42,0,39,47,32,0,48,40,0,40,0,46,0,40,52,41,49,17,0,40,0,40,0,40,40,0,40,51,0,40,27,39,41,31,41,0,40,25,30,12,40,0,34,41,0,44,31,0,31,0,35,41,0,41,0,42,60,30,0,18,0,55,13,0,55,0,40,0,44,43,0,54,46,40,0,40,38,62,42,0,40,64,46,56,40,0,41,37,32,54,42,0,40,34,0,40,-29,0,40,0,40,0,40,55,40,0,40,34,0,40,0,40,0,40,53,57,0,40,0,12,40,29,0,40,51,42,0,40,32,0,40,0,40,0,40,32,0,47,39,0,40,51,44,25,0,45,0,40,0,43,0,45,0,36,0,49,37,45,0,40,42,0,40,0,40,40,0,47,59,0,45,56,37,0,40,40,40,30,0,40,41,0,40,0,40,52,44,27,47,40,36,40,0,56,50,34,0,42,0,41,46,0,30,40,40,0,41,0,37,0,40,38,15,40,39,45,24,38,0,35,0,40,0,44,0,40,0,34,36,25,-2,0,0,45,0,40,40,40,40,21,0,40,0,37,0,40,35,0,39,39,26,40,55,0,39,0,42,0,45,38,49,0,44,47,15,37,55,25,23,38,40,0,57,45,29,0,40,0,38,26,0,45,40,43,0,42,48,0,45,31,39,31,28,38,53,0,37,0,40,0,38,0,40,30,40,28,0,38,50,34,0,40,40,41,0,40,0,40,0,40,30,0,43,29,0,40,40,44,47,48,21,58,0,40,47,28,33,0,38,0,38,0,40,28,0,40,0,40,0,40,0,40,0,40,0,40,0,40,40,0,34,0,40,40,43,0,40,0,40,0,40,-9,0,40,38,32,0,40,12,40,0,40,40,0,40,40,0,57,0,35,46,49,40,2,40,42,44,0,43,0,40,0,41,20,0,40,0,25,0,40,40,0,40,0,42,0,30,40,0,40,0,40,0,51,0,40,0,40,34,0,40,52,0,40,0,43,53,40,0,40,0,40,-8,32,-8,0,40,40,52,44,20,25,34,35,40,40,54,0,46,49,44,0,40,51,39,31,52,37,0,36,40,0,40,28,0,40,-1,47,31,55,40,42,49,63,40,0,40,42,0,40,48,56,0,40,47,0,40,22,0,40,47,0,40,0,45,44,0,40,0,40,0,9],\"xaxis\":\"x\",\"yaxis\":\"y\",\"type\":\"histogram\"}],                        {\"template\":{\"data\":{\"histogram2dcontour\":[{\"type\":\"histogram2dcontour\",\"colorbar\":{\"outlinewidth\":0,\"ticks\":\"\"},\"colorscale\":[[0.0,\"#0d0887\"],[0.1111111111111111,\"#46039f\"],[0.2222222222222222,\"#7201a8\"],[0.3333333333333333,\"#9c179e\"],[0.4444444444444444,\"#bd3786\"],[0.5555555555555556,\"#d8576b\"],[0.6666666666666666,\"#ed7953\"],[0.7777777777777778,\"#fb9f3a\"],[0.8888888888888888,\"#fdca26\"],[1.0,\"#f0f921\"]]}],\"choropleth\":[{\"type\":\"choropleth\",\"colorbar\":{\"outlinewidth\":0,\"ticks\":\"\"}}],\"histogram2d\":[{\"type\":\"histogram2d\",\"colorbar\":{\"outlinewidth\":0,\"ticks\":\"\"},\"colorscale\":[[0.0,\"#0d0887\"],[0.1111111111111111,\"#46039f\"],[0.2222222222222222,\"#7201a8\"],[0.3333333333333333,\"#9c179e\"],[0.4444444444444444,\"#bd3786\"],[0.5555555555555556,\"#d8576b\"],[0.6666666666666666,\"#ed7953\"],[0.7777777777777778,\"#fb9f3a\"],[0.8888888888888888,\"#fdca26\"],[1.0,\"#f0f921\"]]}],\"heatmap\":[{\"type\":\"heatmap\",\"colorbar\":{\"outlinewidth\":0,\"ticks\":\"\"},\"colorscale\":[[0.0,\"#0d0887\"],[0.1111111111111111,\"#46039f\"],[0.2222222222222222,\"#7201a8\"],[0.3333333333333333,\"#9c179e\"],[0.4444444444444444,\"#bd3786\"],[0.5555555555555556,\"#d8576b\"],[0.6666666666666666,\"#ed7953\"],[0.7777777777777778,\"#fb9f3a\"],[0.8888888888888888,\"#fdca26\"],[1.0,\"#f0f921\"]]}],\"heatmapgl\":[{\"type\":\"heatmapgl\",\"colorbar\":{\"outlinewidth\":0,\"ticks\":\"\"},\"colorscale\":[[0.0,\"#0d0887\"],[0.1111111111111111,\"#46039f\"],[0.2222222222222222,\"#7201a8\"],[0.3333333333333333,\"#9c179e\"],[0.4444444444444444,\"#bd3786\"],[0.5555555555555556,\"#d8576b\"],[0.6666666666666666,\"#ed7953\"],[0.7777777777777778,\"#fb9f3a\"],[0.8888888888888888,\"#fdca26\"],[1.0,\"#f0f921\"]]}],\"contourcarpet\":[{\"type\":\"contourcarpet\",\"colorbar\":{\"outlinewidth\":0,\"ticks\":\"\"}}],\"contour\":[{\"type\":\"contour\",\"colorbar\":{\"outlinewidth\":0,\"ticks\":\"\"},\"colorscale\":[[0.0,\"#0d0887\"],[0.1111111111111111,\"#46039f\"],[0.2222222222222222,\"#7201a8\"],[0.3333333333333333,\"#9c179e\"],[0.4444444444444444,\"#bd3786\"],[0.5555555555555556,\"#d8576b\"],[0.6666666666666666,\"#ed7953\"],[0.7777777777777778,\"#fb9f3a\"],[0.8888888888888888,\"#fdca26\"],[1.0,\"#f0f921\"]]}],\"surface\":[{\"type\":\"surface\",\"colorbar\":{\"outlinewidth\":0,\"ticks\":\"\"},\"colorscale\":[[0.0,\"#0d0887\"],[0.1111111111111111,\"#46039f\"],[0.2222222222222222,\"#7201a8\"],[0.3333333333333333,\"#9c179e\"],[0.4444444444444444,\"#bd3786\"],[0.5555555555555556,\"#d8576b\"],[0.6666666666666666,\"#ed7953\"],[0.7777777777777778,\"#fb9f3a\"],[0.8888888888888888,\"#fdca26\"],[1.0,\"#f0f921\"]]}],\"mesh3d\":[{\"type\":\"mesh3d\",\"colorbar\":{\"outlinewidth\":0,\"ticks\":\"\"}}],\"scatter\":[{\"fillpattern\":{\"fillmode\":\"overlay\",\"size\":10,\"solidity\":0.2},\"type\":\"scatter\"}],\"parcoords\":[{\"type\":\"parcoords\",\"line\":{\"colorbar\":{\"outlinewidth\":0,\"ticks\":\"\"}}}],\"scatterpolargl\":[{\"type\":\"scatterpolargl\",\"marker\":{\"colorbar\":{\"outlinewidth\":0,\"ticks\":\"\"}}}],\"bar\":[{\"error_x\":{\"color\":\"#2a3f5f\"},\"error_y\":{\"color\":\"#2a3f5f\"},\"marker\":{\"line\":{\"color\":\"#E5ECF6\",\"width\":0.5},\"pattern\":{\"fillmode\":\"overlay\",\"size\":10,\"solidity\":0.2}},\"type\":\"bar\"}],\"scattergeo\":[{\"type\":\"scattergeo\",\"marker\":{\"colorbar\":{\"outlinewidth\":0,\"ticks\":\"\"}}}],\"scatterpolar\":[{\"type\":\"scatterpolar\",\"marker\":{\"colorbar\":{\"outlinewidth\":0,\"ticks\":\"\"}}}],\"histogram\":[{\"marker\":{\"pattern\":{\"fillmode\":\"overlay\",\"size\":10,\"solidity\":0.2}},\"type\":\"histogram\"}],\"scattergl\":[{\"type\":\"scattergl\",\"marker\":{\"colorbar\":{\"outlinewidth\":0,\"ticks\":\"\"}}}],\"scatter3d\":[{\"type\":\"scatter3d\",\"line\":{\"colorbar\":{\"outlinewidth\":0,\"ticks\":\"\"}},\"marker\":{\"colorbar\":{\"outlinewidth\":0,\"ticks\":\"\"}}}],\"scattermapbox\":[{\"type\":\"scattermapbox\",\"marker\":{\"colorbar\":{\"outlinewidth\":0,\"ticks\":\"\"}}}],\"scatterternary\":[{\"type\":\"scatterternary\",\"marker\":{\"colorbar\":{\"outlinewidth\":0,\"ticks\":\"\"}}}],\"scattercarpet\":[{\"type\":\"scattercarpet\",\"marker\":{\"colorbar\":{\"outlinewidth\":0,\"ticks\":\"\"}}}],\"carpet\":[{\"aaxis\":{\"endlinecolor\":\"#2a3f5f\",\"gridcolor\":\"white\",\"linecolor\":\"white\",\"minorgridcolor\":\"white\",\"startlinecolor\":\"#2a3f5f\"},\"baxis\":{\"endlinecolor\":\"#2a3f5f\",\"gridcolor\":\"white\",\"linecolor\":\"white\",\"minorgridcolor\":\"white\",\"startlinecolor\":\"#2a3f5f\"},\"type\":\"carpet\"}],\"table\":[{\"cells\":{\"fill\":{\"color\":\"#EBF0F8\"},\"line\":{\"color\":\"white\"}},\"header\":{\"fill\":{\"color\":\"#C8D4E3\"},\"line\":{\"color\":\"white\"}},\"type\":\"table\"}],\"barpolar\":[{\"marker\":{\"line\":{\"color\":\"#E5ECF6\",\"width\":0.5},\"pattern\":{\"fillmode\":\"overlay\",\"size\":10,\"solidity\":0.2}},\"type\":\"barpolar\"}],\"pie\":[{\"automargin\":true,\"type\":\"pie\"}]},\"layout\":{\"autotypenumbers\":\"strict\",\"colorway\":[\"#636efa\",\"#EF553B\",\"#00cc96\",\"#ab63fa\",\"#FFA15A\",\"#19d3f3\",\"#FF6692\",\"#B6E880\",\"#FF97FF\",\"#FECB52\"],\"font\":{\"color\":\"#2a3f5f\"},\"hovermode\":\"closest\",\"hoverlabel\":{\"align\":\"left\"},\"paper_bgcolor\":\"white\",\"plot_bgcolor\":\"#E5ECF6\",\"polar\":{\"bgcolor\":\"#E5ECF6\",\"angularaxis\":{\"gridcolor\":\"white\",\"linecolor\":\"white\",\"ticks\":\"\"},\"radialaxis\":{\"gridcolor\":\"white\",\"linecolor\":\"white\",\"ticks\":\"\"}},\"ternary\":{\"bgcolor\":\"#E5ECF6\",\"aaxis\":{\"gridcolor\":\"white\",\"linecolor\":\"white\",\"ticks\":\"\"},\"baxis\":{\"gridcolor\":\"white\",\"linecolor\":\"white\",\"ticks\":\"\"},\"caxis\":{\"gridcolor\":\"white\",\"linecolor\":\"white\",\"ticks\":\"\"}},\"coloraxis\":{\"colorbar\":{\"outlinewidth\":0,\"ticks\":\"\"}},\"colorscale\":{\"sequential\":[[0.0,\"#0d0887\"],[0.1111111111111111,\"#46039f\"],[0.2222222222222222,\"#7201a8\"],[0.3333333333333333,\"#9c179e\"],[0.4444444444444444,\"#bd3786\"],[0.5555555555555556,\"#d8576b\"],[0.6666666666666666,\"#ed7953\"],[0.7777777777777778,\"#fb9f3a\"],[0.8888888888888888,\"#fdca26\"],[1.0,\"#f0f921\"]],\"sequentialminus\":[[0.0,\"#0d0887\"],[0.1111111111111111,\"#46039f\"],[0.2222222222222222,\"#7201a8\"],[0.3333333333333333,\"#9c179e\"],[0.4444444444444444,\"#bd3786\"],[0.5555555555555556,\"#d8576b\"],[0.6666666666666666,\"#ed7953\"],[0.7777777777777778,\"#fb9f3a\"],[0.8888888888888888,\"#fdca26\"],[1.0,\"#f0f921\"]],\"diverging\":[[0,\"#8e0152\"],[0.1,\"#c51b7d\"],[0.2,\"#de77ae\"],[0.3,\"#f1b6da\"],[0.4,\"#fde0ef\"],[0.5,\"#f7f7f7\"],[0.6,\"#e6f5d0\"],[0.7,\"#b8e186\"],[0.8,\"#7fbc41\"],[0.9,\"#4d9221\"],[1,\"#276419\"]]},\"xaxis\":{\"gridcolor\":\"white\",\"linecolor\":\"white\",\"ticks\":\"\",\"title\":{\"standoff\":15},\"zerolinecolor\":\"white\",\"automargin\":true,\"zerolinewidth\":2},\"yaxis\":{\"gridcolor\":\"white\",\"linecolor\":\"white\",\"ticks\":\"\",\"title\":{\"standoff\":15},\"zerolinecolor\":\"white\",\"automargin\":true,\"zerolinewidth\":2},\"scene\":{\"xaxis\":{\"backgroundcolor\":\"#E5ECF6\",\"gridcolor\":\"white\",\"linecolor\":\"white\",\"showbackground\":true,\"ticks\":\"\",\"zerolinecolor\":\"white\",\"gridwidth\":2},\"yaxis\":{\"backgroundcolor\":\"#E5ECF6\",\"gridcolor\":\"white\",\"linecolor\":\"white\",\"showbackground\":true,\"ticks\":\"\",\"zerolinecolor\":\"white\",\"gridwidth\":2},\"zaxis\":{\"backgroundcolor\":\"#E5ECF6\",\"gridcolor\":\"white\",\"linecolor\":\"white\",\"showbackground\":true,\"ticks\":\"\",\"zerolinecolor\":\"white\",\"gridwidth\":2}},\"shapedefaults\":{\"line\":{\"color\":\"#2a3f5f\"}},\"annotationdefaults\":{\"arrowcolor\":\"#2a3f5f\",\"arrowhead\":0,\"arrowwidth\":1},\"geo\":{\"bgcolor\":\"white\",\"landcolor\":\"#E5ECF6\",\"subunitcolor\":\"white\",\"showland\":true,\"showlakes\":true,\"lakecolor\":\"white\"},\"title\":{\"x\":0.05},\"mapbox\":{\"style\":\"light\"}}},\"xaxis\":{\"anchor\":\"y\",\"domain\":[0.0,1.0],\"title\":{\"text\":\"value\"}},\"yaxis\":{\"anchor\":\"x\",\"domain\":[0.0,1.0],\"title\":{\"text\":\"count\"}},\"legend\":{\"title\":{\"text\":\"variable\"},\"tracegroupgap\":0},\"margin\":{\"t\":60},\"barmode\":\"relative\",\"height\":600,\"width\":1200},                        {\"responsive\": true}                    ).then(function(){\n",
              "                            \n",
              "var gd = document.getElementById('c0a85a57-f705-4bc1-bc14-fa45e860cd25');\n",
              "var x = new MutationObserver(function (mutations, observer) {{\n",
              "        var display = window.getComputedStyle(gd).display;\n",
              "        if (!display || display === 'none') {{\n",
              "            console.log([gd, 'removed!']);\n",
              "            Plotly.purge(gd);\n",
              "            observer.disconnect();\n",
              "        }}\n",
              "}});\n",
              "\n",
              "// Listen for the removal of the full notebook cells\n",
              "var notebookContainer = gd.closest('#notebook-container');\n",
              "if (notebookContainer) {{\n",
              "    x.observe(notebookContainer, {childList: true});\n",
              "}}\n",
              "\n",
              "// Listen for the clearing of the current output cell\n",
              "var outputEl = gd.closest('.output');\n",
              "if (outputEl) {{\n",
              "    x.observe(outputEl, {childList: true});\n",
              "}}\n",
              "\n",
              "                        })                };                            </script>        </div>\n",
              "</body>\n",
              "</html>"
            ]
          },
          "metadata": {}
        }
      ]
    },
    {
      "cell_type": "code",
      "source": [
        "top_ten = df_plays['possessionTeam'].value_counts()[:10]\n",
        "top_ten"
      ],
      "metadata": {
        "colab": {
          "base_uri": "https://localhost:8080/"
        },
        "id": "h1zQYKW2RwiA",
        "outputId": "b0f620e9-0ef4-4582-d38f-c2a839c1a54e"
      },
      "execution_count": 68,
      "outputs": [
        {
          "output_type": "execute_result",
          "data": {
            "text/plain": [
              "BAL    682\n",
              "NO     682\n",
              "LA     676\n",
              "TB     672\n",
              "KC     659\n",
              "GB     653\n",
              "NE     652\n",
              "HOU    648\n",
              "SEA    648\n",
              "IND    637\n",
              "Name: possessionTeam, dtype: int64"
            ]
          },
          "metadata": {},
          "execution_count": 68
        }
      ]
    },
    {
      "cell_type": "code",
      "source": [
        "px.bar(top_ten, width=1000, height=600, orientation='h', title='No. of plays each possessionTeam', labels={'index':'possessionTeam', 'value':'count'})"
      ],
      "metadata": {
        "colab": {
          "base_uri": "https://localhost:8080/",
          "height": 617
        },
        "id": "xuN1VZwFR9wX",
        "outputId": "d994969c-9bae-4a09-a97b-11b095acf188"
      },
      "execution_count": 69,
      "outputs": [
        {
          "output_type": "display_data",
          "data": {
            "text/html": [
              "<html>\n",
              "<head><meta charset=\"utf-8\" /></head>\n",
              "<body>\n",
              "    <div>            <script src=\"https://cdnjs.cloudflare.com/ajax/libs/mathjax/2.7.5/MathJax.js?config=TeX-AMS-MML_SVG\"></script><script type=\"text/javascript\">if (window.MathJax && window.MathJax.Hub && window.MathJax.Hub.Config) {window.MathJax.Hub.Config({SVG: {font: \"STIX-Web\"}});}</script>                <script type=\"text/javascript\">window.PlotlyConfig = {MathJaxConfig: 'local'};</script>\n",
              "        <script charset=\"utf-8\" src=\"https://cdn.plot.ly/plotly-2.24.1.min.js\"></script>                <div id=\"bf3c8942-17d9-4c22-ae5c-bfaa8659a89c\" class=\"plotly-graph-div\" style=\"height:600px; width:1000px;\"></div>            <script type=\"text/javascript\">                                    window.PLOTLYENV=window.PLOTLYENV || {};                                    if (document.getElementById(\"bf3c8942-17d9-4c22-ae5c-bfaa8659a89c\")) {                    Plotly.newPlot(                        \"bf3c8942-17d9-4c22-ae5c-bfaa8659a89c\",                        [{\"alignmentgroup\":\"True\",\"hovertemplate\":\"variable=possessionTeam\\u003cbr\\u003ecount=%{x}\\u003cbr\\u003epossessionTeam=%{y}\\u003cextra\\u003e\\u003c\\u002fextra\\u003e\",\"legendgroup\":\"possessionTeam\",\"marker\":{\"color\":\"#636efa\",\"pattern\":{\"shape\":\"\"}},\"name\":\"possessionTeam\",\"offsetgroup\":\"possessionTeam\",\"orientation\":\"h\",\"showlegend\":true,\"textposition\":\"auto\",\"x\":[682,682,676,672,659,653,652,648,648,637],\"xaxis\":\"x\",\"y\":[\"BAL\",\"NO\",\"LA\",\"TB\",\"KC\",\"GB\",\"NE\",\"HOU\",\"SEA\",\"IND\"],\"yaxis\":\"y\",\"type\":\"bar\"}],                        {\"template\":{\"data\":{\"histogram2dcontour\":[{\"type\":\"histogram2dcontour\",\"colorbar\":{\"outlinewidth\":0,\"ticks\":\"\"},\"colorscale\":[[0.0,\"#0d0887\"],[0.1111111111111111,\"#46039f\"],[0.2222222222222222,\"#7201a8\"],[0.3333333333333333,\"#9c179e\"],[0.4444444444444444,\"#bd3786\"],[0.5555555555555556,\"#d8576b\"],[0.6666666666666666,\"#ed7953\"],[0.7777777777777778,\"#fb9f3a\"],[0.8888888888888888,\"#fdca26\"],[1.0,\"#f0f921\"]]}],\"choropleth\":[{\"type\":\"choropleth\",\"colorbar\":{\"outlinewidth\":0,\"ticks\":\"\"}}],\"histogram2d\":[{\"type\":\"histogram2d\",\"colorbar\":{\"outlinewidth\":0,\"ticks\":\"\"},\"colorscale\":[[0.0,\"#0d0887\"],[0.1111111111111111,\"#46039f\"],[0.2222222222222222,\"#7201a8\"],[0.3333333333333333,\"#9c179e\"],[0.4444444444444444,\"#bd3786\"],[0.5555555555555556,\"#d8576b\"],[0.6666666666666666,\"#ed7953\"],[0.7777777777777778,\"#fb9f3a\"],[0.8888888888888888,\"#fdca26\"],[1.0,\"#f0f921\"]]}],\"heatmap\":[{\"type\":\"heatmap\",\"colorbar\":{\"outlinewidth\":0,\"ticks\":\"\"},\"colorscale\":[[0.0,\"#0d0887\"],[0.1111111111111111,\"#46039f\"],[0.2222222222222222,\"#7201a8\"],[0.3333333333333333,\"#9c179e\"],[0.4444444444444444,\"#bd3786\"],[0.5555555555555556,\"#d8576b\"],[0.6666666666666666,\"#ed7953\"],[0.7777777777777778,\"#fb9f3a\"],[0.8888888888888888,\"#fdca26\"],[1.0,\"#f0f921\"]]}],\"heatmapgl\":[{\"type\":\"heatmapgl\",\"colorbar\":{\"outlinewidth\":0,\"ticks\":\"\"},\"colorscale\":[[0.0,\"#0d0887\"],[0.1111111111111111,\"#46039f\"],[0.2222222222222222,\"#7201a8\"],[0.3333333333333333,\"#9c179e\"],[0.4444444444444444,\"#bd3786\"],[0.5555555555555556,\"#d8576b\"],[0.6666666666666666,\"#ed7953\"],[0.7777777777777778,\"#fb9f3a\"],[0.8888888888888888,\"#fdca26\"],[1.0,\"#f0f921\"]]}],\"contourcarpet\":[{\"type\":\"contourcarpet\",\"colorbar\":{\"outlinewidth\":0,\"ticks\":\"\"}}],\"contour\":[{\"type\":\"contour\",\"colorbar\":{\"outlinewidth\":0,\"ticks\":\"\"},\"colorscale\":[[0.0,\"#0d0887\"],[0.1111111111111111,\"#46039f\"],[0.2222222222222222,\"#7201a8\"],[0.3333333333333333,\"#9c179e\"],[0.4444444444444444,\"#bd3786\"],[0.5555555555555556,\"#d8576b\"],[0.6666666666666666,\"#ed7953\"],[0.7777777777777778,\"#fb9f3a\"],[0.8888888888888888,\"#fdca26\"],[1.0,\"#f0f921\"]]}],\"surface\":[{\"type\":\"surface\",\"colorbar\":{\"outlinewidth\":0,\"ticks\":\"\"},\"colorscale\":[[0.0,\"#0d0887\"],[0.1111111111111111,\"#46039f\"],[0.2222222222222222,\"#7201a8\"],[0.3333333333333333,\"#9c179e\"],[0.4444444444444444,\"#bd3786\"],[0.5555555555555556,\"#d8576b\"],[0.6666666666666666,\"#ed7953\"],[0.7777777777777778,\"#fb9f3a\"],[0.8888888888888888,\"#fdca26\"],[1.0,\"#f0f921\"]]}],\"mesh3d\":[{\"type\":\"mesh3d\",\"colorbar\":{\"outlinewidth\":0,\"ticks\":\"\"}}],\"scatter\":[{\"fillpattern\":{\"fillmode\":\"overlay\",\"size\":10,\"solidity\":0.2},\"type\":\"scatter\"}],\"parcoords\":[{\"type\":\"parcoords\",\"line\":{\"colorbar\":{\"outlinewidth\":0,\"ticks\":\"\"}}}],\"scatterpolargl\":[{\"type\":\"scatterpolargl\",\"marker\":{\"colorbar\":{\"outlinewidth\":0,\"ticks\":\"\"}}}],\"bar\":[{\"error_x\":{\"color\":\"#2a3f5f\"},\"error_y\":{\"color\":\"#2a3f5f\"},\"marker\":{\"line\":{\"color\":\"#E5ECF6\",\"width\":0.5},\"pattern\":{\"fillmode\":\"overlay\",\"size\":10,\"solidity\":0.2}},\"type\":\"bar\"}],\"scattergeo\":[{\"type\":\"scattergeo\",\"marker\":{\"colorbar\":{\"outlinewidth\":0,\"ticks\":\"\"}}}],\"scatterpolar\":[{\"type\":\"scatterpolar\",\"marker\":{\"colorbar\":{\"outlinewidth\":0,\"ticks\":\"\"}}}],\"histogram\":[{\"marker\":{\"pattern\":{\"fillmode\":\"overlay\",\"size\":10,\"solidity\":0.2}},\"type\":\"histogram\"}],\"scattergl\":[{\"type\":\"scattergl\",\"marker\":{\"colorbar\":{\"outlinewidth\":0,\"ticks\":\"\"}}}],\"scatter3d\":[{\"type\":\"scatter3d\",\"line\":{\"colorbar\":{\"outlinewidth\":0,\"ticks\":\"\"}},\"marker\":{\"colorbar\":{\"outlinewidth\":0,\"ticks\":\"\"}}}],\"scattermapbox\":[{\"type\":\"scattermapbox\",\"marker\":{\"colorbar\":{\"outlinewidth\":0,\"ticks\":\"\"}}}],\"scatterternary\":[{\"type\":\"scatterternary\",\"marker\":{\"colorbar\":{\"outlinewidth\":0,\"ticks\":\"\"}}}],\"scattercarpet\":[{\"type\":\"scattercarpet\",\"marker\":{\"colorbar\":{\"outlinewidth\":0,\"ticks\":\"\"}}}],\"carpet\":[{\"aaxis\":{\"endlinecolor\":\"#2a3f5f\",\"gridcolor\":\"white\",\"linecolor\":\"white\",\"minorgridcolor\":\"white\",\"startlinecolor\":\"#2a3f5f\"},\"baxis\":{\"endlinecolor\":\"#2a3f5f\",\"gridcolor\":\"white\",\"linecolor\":\"white\",\"minorgridcolor\":\"white\",\"startlinecolor\":\"#2a3f5f\"},\"type\":\"carpet\"}],\"table\":[{\"cells\":{\"fill\":{\"color\":\"#EBF0F8\"},\"line\":{\"color\":\"white\"}},\"header\":{\"fill\":{\"color\":\"#C8D4E3\"},\"line\":{\"color\":\"white\"}},\"type\":\"table\"}],\"barpolar\":[{\"marker\":{\"line\":{\"color\":\"#E5ECF6\",\"width\":0.5},\"pattern\":{\"fillmode\":\"overlay\",\"size\":10,\"solidity\":0.2}},\"type\":\"barpolar\"}],\"pie\":[{\"automargin\":true,\"type\":\"pie\"}]},\"layout\":{\"autotypenumbers\":\"strict\",\"colorway\":[\"#636efa\",\"#EF553B\",\"#00cc96\",\"#ab63fa\",\"#FFA15A\",\"#19d3f3\",\"#FF6692\",\"#B6E880\",\"#FF97FF\",\"#FECB52\"],\"font\":{\"color\":\"#2a3f5f\"},\"hovermode\":\"closest\",\"hoverlabel\":{\"align\":\"left\"},\"paper_bgcolor\":\"white\",\"plot_bgcolor\":\"#E5ECF6\",\"polar\":{\"bgcolor\":\"#E5ECF6\",\"angularaxis\":{\"gridcolor\":\"white\",\"linecolor\":\"white\",\"ticks\":\"\"},\"radialaxis\":{\"gridcolor\":\"white\",\"linecolor\":\"white\",\"ticks\":\"\"}},\"ternary\":{\"bgcolor\":\"#E5ECF6\",\"aaxis\":{\"gridcolor\":\"white\",\"linecolor\":\"white\",\"ticks\":\"\"},\"baxis\":{\"gridcolor\":\"white\",\"linecolor\":\"white\",\"ticks\":\"\"},\"caxis\":{\"gridcolor\":\"white\",\"linecolor\":\"white\",\"ticks\":\"\"}},\"coloraxis\":{\"colorbar\":{\"outlinewidth\":0,\"ticks\":\"\"}},\"colorscale\":{\"sequential\":[[0.0,\"#0d0887\"],[0.1111111111111111,\"#46039f\"],[0.2222222222222222,\"#7201a8\"],[0.3333333333333333,\"#9c179e\"],[0.4444444444444444,\"#bd3786\"],[0.5555555555555556,\"#d8576b\"],[0.6666666666666666,\"#ed7953\"],[0.7777777777777778,\"#fb9f3a\"],[0.8888888888888888,\"#fdca26\"],[1.0,\"#f0f921\"]],\"sequentialminus\":[[0.0,\"#0d0887\"],[0.1111111111111111,\"#46039f\"],[0.2222222222222222,\"#7201a8\"],[0.3333333333333333,\"#9c179e\"],[0.4444444444444444,\"#bd3786\"],[0.5555555555555556,\"#d8576b\"],[0.6666666666666666,\"#ed7953\"],[0.7777777777777778,\"#fb9f3a\"],[0.8888888888888888,\"#fdca26\"],[1.0,\"#f0f921\"]],\"diverging\":[[0,\"#8e0152\"],[0.1,\"#c51b7d\"],[0.2,\"#de77ae\"],[0.3,\"#f1b6da\"],[0.4,\"#fde0ef\"],[0.5,\"#f7f7f7\"],[0.6,\"#e6f5d0\"],[0.7,\"#b8e186\"],[0.8,\"#7fbc41\"],[0.9,\"#4d9221\"],[1,\"#276419\"]]},\"xaxis\":{\"gridcolor\":\"white\",\"linecolor\":\"white\",\"ticks\":\"\",\"title\":{\"standoff\":15},\"zerolinecolor\":\"white\",\"automargin\":true,\"zerolinewidth\":2},\"yaxis\":{\"gridcolor\":\"white\",\"linecolor\":\"white\",\"ticks\":\"\",\"title\":{\"standoff\":15},\"zerolinecolor\":\"white\",\"automargin\":true,\"zerolinewidth\":2},\"scene\":{\"xaxis\":{\"backgroundcolor\":\"#E5ECF6\",\"gridcolor\":\"white\",\"linecolor\":\"white\",\"showbackground\":true,\"ticks\":\"\",\"zerolinecolor\":\"white\",\"gridwidth\":2},\"yaxis\":{\"backgroundcolor\":\"#E5ECF6\",\"gridcolor\":\"white\",\"linecolor\":\"white\",\"showbackground\":true,\"ticks\":\"\",\"zerolinecolor\":\"white\",\"gridwidth\":2},\"zaxis\":{\"backgroundcolor\":\"#E5ECF6\",\"gridcolor\":\"white\",\"linecolor\":\"white\",\"showbackground\":true,\"ticks\":\"\",\"zerolinecolor\":\"white\",\"gridwidth\":2}},\"shapedefaults\":{\"line\":{\"color\":\"#2a3f5f\"}},\"annotationdefaults\":{\"arrowcolor\":\"#2a3f5f\",\"arrowhead\":0,\"arrowwidth\":1},\"geo\":{\"bgcolor\":\"white\",\"landcolor\":\"#E5ECF6\",\"subunitcolor\":\"white\",\"showland\":true,\"showlakes\":true,\"lakecolor\":\"white\"},\"title\":{\"x\":0.05},\"mapbox\":{\"style\":\"light\"}}},\"xaxis\":{\"anchor\":\"y\",\"domain\":[0.0,1.0],\"title\":{\"text\":\"count\"}},\"yaxis\":{\"anchor\":\"x\",\"domain\":[0.0,1.0],\"title\":{\"text\":\"possessionTeam\"}},\"legend\":{\"title\":{\"text\":\"variable\"},\"tracegroupgap\":0},\"title\":{\"text\":\"No. of plays each possessionTeam\"},\"barmode\":\"relative\",\"height\":600,\"width\":1000},                        {\"responsive\": true}                    ).then(function(){\n",
              "                            \n",
              "var gd = document.getElementById('bf3c8942-17d9-4c22-ae5c-bfaa8659a89c');\n",
              "var x = new MutationObserver(function (mutations, observer) {{\n",
              "        var display = window.getComputedStyle(gd).display;\n",
              "        if (!display || display === 'none') {{\n",
              "            console.log([gd, 'removed!']);\n",
              "            Plotly.purge(gd);\n",
              "            observer.disconnect();\n",
              "        }}\n",
              "}});\n",
              "\n",
              "// Listen for the removal of the full notebook cells\n",
              "var notebookContainer = gd.closest('#notebook-container');\n",
              "if (notebookContainer) {{\n",
              "    x.observe(notebookContainer, {childList: true});\n",
              "}}\n",
              "\n",
              "// Listen for the clearing of the current output cell\n",
              "var outputEl = gd.closest('.output');\n",
              "if (outputEl) {{\n",
              "    x.observe(outputEl, {childList: true});\n",
              "}}\n",
              "\n",
              "                        })                };                            </script>        </div>\n",
              "</body>\n",
              "</html>"
            ]
          },
          "metadata": {}
        }
      ]
    },
    {
      "cell_type": "code",
      "source": [
        "count = df_plays['specialTeamsPlayType'].value_counts()\n",
        "count"
      ],
      "metadata": {
        "colab": {
          "base_uri": "https://localhost:8080/"
        },
        "id": "W10eSMblSJkl",
        "outputId": "23aee7df-7a2c-4a66-c77a-66e31553587b"
      },
      "execution_count": 70,
      "outputs": [
        {
          "output_type": "execute_result",
          "data": {
            "text/plain": [
              "Kickoff        7843\n",
              "Punt           5991\n",
              "Extra Point    3488\n",
              "Field Goal     2657\n",
              "Name: specialTeamsPlayType, dtype: int64"
            ]
          },
          "metadata": {},
          "execution_count": 70
        }
      ]
    },
    {
      "cell_type": "code",
      "source": [
        "px.pie(names=count.index, values=count, title='Special teams --- play type')"
      ],
      "metadata": {
        "colab": {
          "base_uri": "https://localhost:8080/",
          "height": 542
        },
        "id": "nUXwDgfVSRif",
        "outputId": "b6f260ff-797e-4081-9830-8898fc422bb0"
      },
      "execution_count": 71,
      "outputs": [
        {
          "output_type": "display_data",
          "data": {
            "text/html": [
              "<html>\n",
              "<head><meta charset=\"utf-8\" /></head>\n",
              "<body>\n",
              "    <div>            <script src=\"https://cdnjs.cloudflare.com/ajax/libs/mathjax/2.7.5/MathJax.js?config=TeX-AMS-MML_SVG\"></script><script type=\"text/javascript\">if (window.MathJax && window.MathJax.Hub && window.MathJax.Hub.Config) {window.MathJax.Hub.Config({SVG: {font: \"STIX-Web\"}});}</script>                <script type=\"text/javascript\">window.PlotlyConfig = {MathJaxConfig: 'local'};</script>\n",
              "        <script charset=\"utf-8\" src=\"https://cdn.plot.ly/plotly-2.24.1.min.js\"></script>                <div id=\"05424a7d-f3c4-4045-86ad-0cec27abf9eb\" class=\"plotly-graph-div\" style=\"height:525px; width:100%;\"></div>            <script type=\"text/javascript\">                                    window.PLOTLYENV=window.PLOTLYENV || {};                                    if (document.getElementById(\"05424a7d-f3c4-4045-86ad-0cec27abf9eb\")) {                    Plotly.newPlot(                        \"05424a7d-f3c4-4045-86ad-0cec27abf9eb\",                        [{\"domain\":{\"x\":[0.0,1.0],\"y\":[0.0,1.0]},\"hovertemplate\":\"label=%{label}\\u003cbr\\u003evalue=%{value}\\u003cextra\\u003e\\u003c\\u002fextra\\u003e\",\"labels\":[\"Kickoff\",\"Punt\",\"Extra Point\",\"Field Goal\"],\"legendgroup\":\"\",\"name\":\"\",\"showlegend\":true,\"values\":[7843,5991,3488,2657],\"type\":\"pie\"}],                        {\"template\":{\"data\":{\"histogram2dcontour\":[{\"type\":\"histogram2dcontour\",\"colorbar\":{\"outlinewidth\":0,\"ticks\":\"\"},\"colorscale\":[[0.0,\"#0d0887\"],[0.1111111111111111,\"#46039f\"],[0.2222222222222222,\"#7201a8\"],[0.3333333333333333,\"#9c179e\"],[0.4444444444444444,\"#bd3786\"],[0.5555555555555556,\"#d8576b\"],[0.6666666666666666,\"#ed7953\"],[0.7777777777777778,\"#fb9f3a\"],[0.8888888888888888,\"#fdca26\"],[1.0,\"#f0f921\"]]}],\"choropleth\":[{\"type\":\"choropleth\",\"colorbar\":{\"outlinewidth\":0,\"ticks\":\"\"}}],\"histogram2d\":[{\"type\":\"histogram2d\",\"colorbar\":{\"outlinewidth\":0,\"ticks\":\"\"},\"colorscale\":[[0.0,\"#0d0887\"],[0.1111111111111111,\"#46039f\"],[0.2222222222222222,\"#7201a8\"],[0.3333333333333333,\"#9c179e\"],[0.4444444444444444,\"#bd3786\"],[0.5555555555555556,\"#d8576b\"],[0.6666666666666666,\"#ed7953\"],[0.7777777777777778,\"#fb9f3a\"],[0.8888888888888888,\"#fdca26\"],[1.0,\"#f0f921\"]]}],\"heatmap\":[{\"type\":\"heatmap\",\"colorbar\":{\"outlinewidth\":0,\"ticks\":\"\"},\"colorscale\":[[0.0,\"#0d0887\"],[0.1111111111111111,\"#46039f\"],[0.2222222222222222,\"#7201a8\"],[0.3333333333333333,\"#9c179e\"],[0.4444444444444444,\"#bd3786\"],[0.5555555555555556,\"#d8576b\"],[0.6666666666666666,\"#ed7953\"],[0.7777777777777778,\"#fb9f3a\"],[0.8888888888888888,\"#fdca26\"],[1.0,\"#f0f921\"]]}],\"heatmapgl\":[{\"type\":\"heatmapgl\",\"colorbar\":{\"outlinewidth\":0,\"ticks\":\"\"},\"colorscale\":[[0.0,\"#0d0887\"],[0.1111111111111111,\"#46039f\"],[0.2222222222222222,\"#7201a8\"],[0.3333333333333333,\"#9c179e\"],[0.4444444444444444,\"#bd3786\"],[0.5555555555555556,\"#d8576b\"],[0.6666666666666666,\"#ed7953\"],[0.7777777777777778,\"#fb9f3a\"],[0.8888888888888888,\"#fdca26\"],[1.0,\"#f0f921\"]]}],\"contourcarpet\":[{\"type\":\"contourcarpet\",\"colorbar\":{\"outlinewidth\":0,\"ticks\":\"\"}}],\"contour\":[{\"type\":\"contour\",\"colorbar\":{\"outlinewidth\":0,\"ticks\":\"\"},\"colorscale\":[[0.0,\"#0d0887\"],[0.1111111111111111,\"#46039f\"],[0.2222222222222222,\"#7201a8\"],[0.3333333333333333,\"#9c179e\"],[0.4444444444444444,\"#bd3786\"],[0.5555555555555556,\"#d8576b\"],[0.6666666666666666,\"#ed7953\"],[0.7777777777777778,\"#fb9f3a\"],[0.8888888888888888,\"#fdca26\"],[1.0,\"#f0f921\"]]}],\"surface\":[{\"type\":\"surface\",\"colorbar\":{\"outlinewidth\":0,\"ticks\":\"\"},\"colorscale\":[[0.0,\"#0d0887\"],[0.1111111111111111,\"#46039f\"],[0.2222222222222222,\"#7201a8\"],[0.3333333333333333,\"#9c179e\"],[0.4444444444444444,\"#bd3786\"],[0.5555555555555556,\"#d8576b\"],[0.6666666666666666,\"#ed7953\"],[0.7777777777777778,\"#fb9f3a\"],[0.8888888888888888,\"#fdca26\"],[1.0,\"#f0f921\"]]}],\"mesh3d\":[{\"type\":\"mesh3d\",\"colorbar\":{\"outlinewidth\":0,\"ticks\":\"\"}}],\"scatter\":[{\"fillpattern\":{\"fillmode\":\"overlay\",\"size\":10,\"solidity\":0.2},\"type\":\"scatter\"}],\"parcoords\":[{\"type\":\"parcoords\",\"line\":{\"colorbar\":{\"outlinewidth\":0,\"ticks\":\"\"}}}],\"scatterpolargl\":[{\"type\":\"scatterpolargl\",\"marker\":{\"colorbar\":{\"outlinewidth\":0,\"ticks\":\"\"}}}],\"bar\":[{\"error_x\":{\"color\":\"#2a3f5f\"},\"error_y\":{\"color\":\"#2a3f5f\"},\"marker\":{\"line\":{\"color\":\"#E5ECF6\",\"width\":0.5},\"pattern\":{\"fillmode\":\"overlay\",\"size\":10,\"solidity\":0.2}},\"type\":\"bar\"}],\"scattergeo\":[{\"type\":\"scattergeo\",\"marker\":{\"colorbar\":{\"outlinewidth\":0,\"ticks\":\"\"}}}],\"scatterpolar\":[{\"type\":\"scatterpolar\",\"marker\":{\"colorbar\":{\"outlinewidth\":0,\"ticks\":\"\"}}}],\"histogram\":[{\"marker\":{\"pattern\":{\"fillmode\":\"overlay\",\"size\":10,\"solidity\":0.2}},\"type\":\"histogram\"}],\"scattergl\":[{\"type\":\"scattergl\",\"marker\":{\"colorbar\":{\"outlinewidth\":0,\"ticks\":\"\"}}}],\"scatter3d\":[{\"type\":\"scatter3d\",\"line\":{\"colorbar\":{\"outlinewidth\":0,\"ticks\":\"\"}},\"marker\":{\"colorbar\":{\"outlinewidth\":0,\"ticks\":\"\"}}}],\"scattermapbox\":[{\"type\":\"scattermapbox\",\"marker\":{\"colorbar\":{\"outlinewidth\":0,\"ticks\":\"\"}}}],\"scatterternary\":[{\"type\":\"scatterternary\",\"marker\":{\"colorbar\":{\"outlinewidth\":0,\"ticks\":\"\"}}}],\"scattercarpet\":[{\"type\":\"scattercarpet\",\"marker\":{\"colorbar\":{\"outlinewidth\":0,\"ticks\":\"\"}}}],\"carpet\":[{\"aaxis\":{\"endlinecolor\":\"#2a3f5f\",\"gridcolor\":\"white\",\"linecolor\":\"white\",\"minorgridcolor\":\"white\",\"startlinecolor\":\"#2a3f5f\"},\"baxis\":{\"endlinecolor\":\"#2a3f5f\",\"gridcolor\":\"white\",\"linecolor\":\"white\",\"minorgridcolor\":\"white\",\"startlinecolor\":\"#2a3f5f\"},\"type\":\"carpet\"}],\"table\":[{\"cells\":{\"fill\":{\"color\":\"#EBF0F8\"},\"line\":{\"color\":\"white\"}},\"header\":{\"fill\":{\"color\":\"#C8D4E3\"},\"line\":{\"color\":\"white\"}},\"type\":\"table\"}],\"barpolar\":[{\"marker\":{\"line\":{\"color\":\"#E5ECF6\",\"width\":0.5},\"pattern\":{\"fillmode\":\"overlay\",\"size\":10,\"solidity\":0.2}},\"type\":\"barpolar\"}],\"pie\":[{\"automargin\":true,\"type\":\"pie\"}]},\"layout\":{\"autotypenumbers\":\"strict\",\"colorway\":[\"#636efa\",\"#EF553B\",\"#00cc96\",\"#ab63fa\",\"#FFA15A\",\"#19d3f3\",\"#FF6692\",\"#B6E880\",\"#FF97FF\",\"#FECB52\"],\"font\":{\"color\":\"#2a3f5f\"},\"hovermode\":\"closest\",\"hoverlabel\":{\"align\":\"left\"},\"paper_bgcolor\":\"white\",\"plot_bgcolor\":\"#E5ECF6\",\"polar\":{\"bgcolor\":\"#E5ECF6\",\"angularaxis\":{\"gridcolor\":\"white\",\"linecolor\":\"white\",\"ticks\":\"\"},\"radialaxis\":{\"gridcolor\":\"white\",\"linecolor\":\"white\",\"ticks\":\"\"}},\"ternary\":{\"bgcolor\":\"#E5ECF6\",\"aaxis\":{\"gridcolor\":\"white\",\"linecolor\":\"white\",\"ticks\":\"\"},\"baxis\":{\"gridcolor\":\"white\",\"linecolor\":\"white\",\"ticks\":\"\"},\"caxis\":{\"gridcolor\":\"white\",\"linecolor\":\"white\",\"ticks\":\"\"}},\"coloraxis\":{\"colorbar\":{\"outlinewidth\":0,\"ticks\":\"\"}},\"colorscale\":{\"sequential\":[[0.0,\"#0d0887\"],[0.1111111111111111,\"#46039f\"],[0.2222222222222222,\"#7201a8\"],[0.3333333333333333,\"#9c179e\"],[0.4444444444444444,\"#bd3786\"],[0.5555555555555556,\"#d8576b\"],[0.6666666666666666,\"#ed7953\"],[0.7777777777777778,\"#fb9f3a\"],[0.8888888888888888,\"#fdca26\"],[1.0,\"#f0f921\"]],\"sequentialminus\":[[0.0,\"#0d0887\"],[0.1111111111111111,\"#46039f\"],[0.2222222222222222,\"#7201a8\"],[0.3333333333333333,\"#9c179e\"],[0.4444444444444444,\"#bd3786\"],[0.5555555555555556,\"#d8576b\"],[0.6666666666666666,\"#ed7953\"],[0.7777777777777778,\"#fb9f3a\"],[0.8888888888888888,\"#fdca26\"],[1.0,\"#f0f921\"]],\"diverging\":[[0,\"#8e0152\"],[0.1,\"#c51b7d\"],[0.2,\"#de77ae\"],[0.3,\"#f1b6da\"],[0.4,\"#fde0ef\"],[0.5,\"#f7f7f7\"],[0.6,\"#e6f5d0\"],[0.7,\"#b8e186\"],[0.8,\"#7fbc41\"],[0.9,\"#4d9221\"],[1,\"#276419\"]]},\"xaxis\":{\"gridcolor\":\"white\",\"linecolor\":\"white\",\"ticks\":\"\",\"title\":{\"standoff\":15},\"zerolinecolor\":\"white\",\"automargin\":true,\"zerolinewidth\":2},\"yaxis\":{\"gridcolor\":\"white\",\"linecolor\":\"white\",\"ticks\":\"\",\"title\":{\"standoff\":15},\"zerolinecolor\":\"white\",\"automargin\":true,\"zerolinewidth\":2},\"scene\":{\"xaxis\":{\"backgroundcolor\":\"#E5ECF6\",\"gridcolor\":\"white\",\"linecolor\":\"white\",\"showbackground\":true,\"ticks\":\"\",\"zerolinecolor\":\"white\",\"gridwidth\":2},\"yaxis\":{\"backgroundcolor\":\"#E5ECF6\",\"gridcolor\":\"white\",\"linecolor\":\"white\",\"showbackground\":true,\"ticks\":\"\",\"zerolinecolor\":\"white\",\"gridwidth\":2},\"zaxis\":{\"backgroundcolor\":\"#E5ECF6\",\"gridcolor\":\"white\",\"linecolor\":\"white\",\"showbackground\":true,\"ticks\":\"\",\"zerolinecolor\":\"white\",\"gridwidth\":2}},\"shapedefaults\":{\"line\":{\"color\":\"#2a3f5f\"}},\"annotationdefaults\":{\"arrowcolor\":\"#2a3f5f\",\"arrowhead\":0,\"arrowwidth\":1},\"geo\":{\"bgcolor\":\"white\",\"landcolor\":\"#E5ECF6\",\"subunitcolor\":\"white\",\"showland\":true,\"showlakes\":true,\"lakecolor\":\"white\"},\"title\":{\"x\":0.05},\"mapbox\":{\"style\":\"light\"}}},\"legend\":{\"tracegroupgap\":0},\"title\":{\"text\":\"Special teams --- play type\"}},                        {\"responsive\": true}                    ).then(function(){\n",
              "                            \n",
              "var gd = document.getElementById('05424a7d-f3c4-4045-86ad-0cec27abf9eb');\n",
              "var x = new MutationObserver(function (mutations, observer) {{\n",
              "        var display = window.getComputedStyle(gd).display;\n",
              "        if (!display || display === 'none') {{\n",
              "            console.log([gd, 'removed!']);\n",
              "            Plotly.purge(gd);\n",
              "            observer.disconnect();\n",
              "        }}\n",
              "}});\n",
              "\n",
              "// Listen for the removal of the full notebook cells\n",
              "var notebookContainer = gd.closest('#notebook-container');\n",
              "if (notebookContainer) {{\n",
              "    x.observe(notebookContainer, {childList: true});\n",
              "}}\n",
              "\n",
              "// Listen for the clearing of the current output cell\n",
              "var outputEl = gd.closest('.output');\n",
              "if (outputEl) {{\n",
              "    x.observe(outputEl, {childList: true});\n",
              "}}\n",
              "\n",
              "                        })                };                            </script>        </div>\n",
              "</body>\n",
              "</html>"
            ]
          },
          "metadata": {}
        }
      ]
    },
    {
      "cell_type": "code",
      "source": [
        "df_players.head()"
      ],
      "metadata": {
        "colab": {
          "base_uri": "https://localhost:8080/",
          "height": 206
        },
        "id": "1X8ngMkUSbVP",
        "outputId": "56407edc-bca8-49b1-bd0b-727fa7ad68c6"
      },
      "execution_count": 72,
      "outputs": [
        {
          "output_type": "execute_result",
          "data": {
            "text/plain": [
              "   nflId height  weight   birthDate       collegeName Position  \\\n",
              "0  42901    6-1     208  1992-07-25     James Madison       SS   \n",
              "1  43501    6-0     220  1994-08-11  Central Michigan       FS   \n",
              "2  43534    6-0     205  1993-06-02          Illinois       SS   \n",
              "3  43535    6-1     235  1992-12-22            Temple      MLB   \n",
              "4  44174    6-1     236  1993-02-22        Texas Tech      ILB   \n",
              "\n",
              "         displayName  \n",
              "0       Dean Marlowe  \n",
              "1      Kavon Frazier  \n",
              "2  Clayton Fejedelem  \n",
              "3   Tyler Matakevich  \n",
              "4       Sam Eguavoen  "
            ],
            "text/html": [
              "\n",
              "\n",
              "  <div id=\"df-7b9b1f1b-2d1c-40fd-b062-1528d270d9a3\">\n",
              "    <div class=\"colab-df-container\">\n",
              "      <div>\n",
              "<style scoped>\n",
              "    .dataframe tbody tr th:only-of-type {\n",
              "        vertical-align: middle;\n",
              "    }\n",
              "\n",
              "    .dataframe tbody tr th {\n",
              "        vertical-align: top;\n",
              "    }\n",
              "\n",
              "    .dataframe thead th {\n",
              "        text-align: right;\n",
              "    }\n",
              "</style>\n",
              "<table border=\"1\" class=\"dataframe\">\n",
              "  <thead>\n",
              "    <tr style=\"text-align: right;\">\n",
              "      <th></th>\n",
              "      <th>nflId</th>\n",
              "      <th>height</th>\n",
              "      <th>weight</th>\n",
              "      <th>birthDate</th>\n",
              "      <th>collegeName</th>\n",
              "      <th>Position</th>\n",
              "      <th>displayName</th>\n",
              "    </tr>\n",
              "  </thead>\n",
              "  <tbody>\n",
              "    <tr>\n",
              "      <th>0</th>\n",
              "      <td>42901</td>\n",
              "      <td>6-1</td>\n",
              "      <td>208</td>\n",
              "      <td>1992-07-25</td>\n",
              "      <td>James Madison</td>\n",
              "      <td>SS</td>\n",
              "      <td>Dean Marlowe</td>\n",
              "    </tr>\n",
              "    <tr>\n",
              "      <th>1</th>\n",
              "      <td>43501</td>\n",
              "      <td>6-0</td>\n",
              "      <td>220</td>\n",
              "      <td>1994-08-11</td>\n",
              "      <td>Central Michigan</td>\n",
              "      <td>FS</td>\n",
              "      <td>Kavon Frazier</td>\n",
              "    </tr>\n",
              "    <tr>\n",
              "      <th>2</th>\n",
              "      <td>43534</td>\n",
              "      <td>6-0</td>\n",
              "      <td>205</td>\n",
              "      <td>1993-06-02</td>\n",
              "      <td>Illinois</td>\n",
              "      <td>SS</td>\n",
              "      <td>Clayton Fejedelem</td>\n",
              "    </tr>\n",
              "    <tr>\n",
              "      <th>3</th>\n",
              "      <td>43535</td>\n",
              "      <td>6-1</td>\n",
              "      <td>235</td>\n",
              "      <td>1992-12-22</td>\n",
              "      <td>Temple</td>\n",
              "      <td>MLB</td>\n",
              "      <td>Tyler Matakevich</td>\n",
              "    </tr>\n",
              "    <tr>\n",
              "      <th>4</th>\n",
              "      <td>44174</td>\n",
              "      <td>6-1</td>\n",
              "      <td>236</td>\n",
              "      <td>1993-02-22</td>\n",
              "      <td>Texas Tech</td>\n",
              "      <td>ILB</td>\n",
              "      <td>Sam Eguavoen</td>\n",
              "    </tr>\n",
              "  </tbody>\n",
              "</table>\n",
              "</div>\n",
              "      <button class=\"colab-df-convert\" onclick=\"convertToInteractive('df-7b9b1f1b-2d1c-40fd-b062-1528d270d9a3')\"\n",
              "              title=\"Convert this dataframe to an interactive table.\"\n",
              "              style=\"display:none;\">\n",
              "\n",
              "  <svg xmlns=\"http://www.w3.org/2000/svg\" height=\"24px\"viewBox=\"0 0 24 24\"\n",
              "       width=\"24px\">\n",
              "    <path d=\"M0 0h24v24H0V0z\" fill=\"none\"/>\n",
              "    <path d=\"M18.56 5.44l.94 2.06.94-2.06 2.06-.94-2.06-.94-.94-2.06-.94 2.06-2.06.94zm-11 1L8.5 8.5l.94-2.06 2.06-.94-2.06-.94L8.5 2.5l-.94 2.06-2.06.94zm10 10l.94 2.06.94-2.06 2.06-.94-2.06-.94-.94-2.06-.94 2.06-2.06.94z\"/><path d=\"M17.41 7.96l-1.37-1.37c-.4-.4-.92-.59-1.43-.59-.52 0-1.04.2-1.43.59L10.3 9.45l-7.72 7.72c-.78.78-.78 2.05 0 2.83L4 21.41c.39.39.9.59 1.41.59.51 0 1.02-.2 1.41-.59l7.78-7.78 2.81-2.81c.8-.78.8-2.07 0-2.86zM5.41 20L4 18.59l7.72-7.72 1.47 1.35L5.41 20z\"/>\n",
              "  </svg>\n",
              "      </button>\n",
              "\n",
              "\n",
              "\n",
              "    <div id=\"df-8ea9bff1-ccf4-4882-851c-8dc90e1240e2\">\n",
              "      <button class=\"colab-df-quickchart\" onclick=\"quickchart('df-8ea9bff1-ccf4-4882-851c-8dc90e1240e2')\"\n",
              "              title=\"Suggest charts.\"\n",
              "              style=\"display:none;\">\n",
              "\n",
              "<svg xmlns=\"http://www.w3.org/2000/svg\" height=\"24px\"viewBox=\"0 0 24 24\"\n",
              "     width=\"24px\">\n",
              "    <g>\n",
              "        <path d=\"M19 3H5c-1.1 0-2 .9-2 2v14c0 1.1.9 2 2 2h14c1.1 0 2-.9 2-2V5c0-1.1-.9-2-2-2zM9 17H7v-7h2v7zm4 0h-2V7h2v10zm4 0h-2v-4h2v4z\"/>\n",
              "    </g>\n",
              "</svg>\n",
              "      </button>\n",
              "    </div>\n",
              "\n",
              "<style>\n",
              "  .colab-df-quickchart {\n",
              "    background-color: #E8F0FE;\n",
              "    border: none;\n",
              "    border-radius: 50%;\n",
              "    cursor: pointer;\n",
              "    display: none;\n",
              "    fill: #1967D2;\n",
              "    height: 32px;\n",
              "    padding: 0 0 0 0;\n",
              "    width: 32px;\n",
              "  }\n",
              "\n",
              "  .colab-df-quickchart:hover {\n",
              "    background-color: #E2EBFA;\n",
              "    box-shadow: 0px 1px 2px rgba(60, 64, 67, 0.3), 0px 1px 3px 1px rgba(60, 64, 67, 0.15);\n",
              "    fill: #174EA6;\n",
              "  }\n",
              "\n",
              "  [theme=dark] .colab-df-quickchart {\n",
              "    background-color: #3B4455;\n",
              "    fill: #D2E3FC;\n",
              "  }\n",
              "\n",
              "  [theme=dark] .colab-df-quickchart:hover {\n",
              "    background-color: #434B5C;\n",
              "    box-shadow: 0px 1px 3px 1px rgba(0, 0, 0, 0.15);\n",
              "    filter: drop-shadow(0px 1px 2px rgba(0, 0, 0, 0.3));\n",
              "    fill: #FFFFFF;\n",
              "  }\n",
              "</style>\n",
              "\n",
              "    <script>\n",
              "      async function quickchart(key) {\n",
              "        const containerElement = document.querySelector('#' + key);\n",
              "        const charts = await google.colab.kernel.invokeFunction(\n",
              "            'suggestCharts', [key], {});\n",
              "      }\n",
              "    </script>\n",
              "\n",
              "      <script>\n",
              "\n",
              "function displayQuickchartButton(domScope) {\n",
              "  let quickchartButtonEl =\n",
              "    domScope.querySelector('#df-8ea9bff1-ccf4-4882-851c-8dc90e1240e2 button.colab-df-quickchart');\n",
              "  quickchartButtonEl.style.display =\n",
              "    google.colab.kernel.accessAllowed ? 'block' : 'none';\n",
              "}\n",
              "\n",
              "        displayQuickchartButton(document);\n",
              "      </script>\n",
              "      <style>\n",
              "    .colab-df-container {\n",
              "      display:flex;\n",
              "      flex-wrap:wrap;\n",
              "      gap: 12px;\n",
              "    }\n",
              "\n",
              "    .colab-df-convert {\n",
              "      background-color: #E8F0FE;\n",
              "      border: none;\n",
              "      border-radius: 50%;\n",
              "      cursor: pointer;\n",
              "      display: none;\n",
              "      fill: #1967D2;\n",
              "      height: 32px;\n",
              "      padding: 0 0 0 0;\n",
              "      width: 32px;\n",
              "    }\n",
              "\n",
              "    .colab-df-convert:hover {\n",
              "      background-color: #E2EBFA;\n",
              "      box-shadow: 0px 1px 2px rgba(60, 64, 67, 0.3), 0px 1px 3px 1px rgba(60, 64, 67, 0.15);\n",
              "      fill: #174EA6;\n",
              "    }\n",
              "\n",
              "    [theme=dark] .colab-df-convert {\n",
              "      background-color: #3B4455;\n",
              "      fill: #D2E3FC;\n",
              "    }\n",
              "\n",
              "    [theme=dark] .colab-df-convert:hover {\n",
              "      background-color: #434B5C;\n",
              "      box-shadow: 0px 1px 3px 1px rgba(0, 0, 0, 0.15);\n",
              "      filter: drop-shadow(0px 1px 2px rgba(0, 0, 0, 0.3));\n",
              "      fill: #FFFFFF;\n",
              "    }\n",
              "  </style>\n",
              "\n",
              "      <script>\n",
              "        const buttonEl =\n",
              "          document.querySelector('#df-7b9b1f1b-2d1c-40fd-b062-1528d270d9a3 button.colab-df-convert');\n",
              "        buttonEl.style.display =\n",
              "          google.colab.kernel.accessAllowed ? 'block' : 'none';\n",
              "\n",
              "        async function convertToInteractive(key) {\n",
              "          const element = document.querySelector('#df-7b9b1f1b-2d1c-40fd-b062-1528d270d9a3');\n",
              "          const dataTable =\n",
              "            await google.colab.kernel.invokeFunction('convertToInteractive',\n",
              "                                                     [key], {});\n",
              "          if (!dataTable) return;\n",
              "\n",
              "          const docLinkHtml = 'Like what you see? Visit the ' +\n",
              "            '<a target=\"_blank\" href=https://colab.research.google.com/notebooks/data_table.ipynb>data table notebook</a>'\n",
              "            + ' to learn more about interactive tables.';\n",
              "          element.innerHTML = '';\n",
              "          dataTable['output_type'] = 'display_data';\n",
              "          await google.colab.output.renderOutput(dataTable, element);\n",
              "          const docLink = document.createElement('div');\n",
              "          docLink.innerHTML = docLinkHtml;\n",
              "          element.appendChild(docLink);\n",
              "        }\n",
              "      </script>\n",
              "    </div>\n",
              "  </div>\n"
            ]
          },
          "metadata": {},
          "execution_count": 72
        }
      ]
    },
    {
      "cell_type": "code",
      "source": [
        "plt.figure(figsize=(15,5))\n",
        "sns.lineplot(data=df_players, x='Position', y='height');"
      ],
      "metadata": {
        "colab": {
          "base_uri": "https://localhost:8080/",
          "height": 443
        },
        "id": "bkWMr8W2SfbG",
        "outputId": "97c3f1ee-7850-4dd8-ad11-9db509acff1c"
      },
      "execution_count": 73,
      "outputs": [
        {
          "output_type": "display_data",
          "data": {
            "text/plain": [
              "<Figure size 1500x500 with 1 Axes>"
            ],
            "image/png": "[encoded data removed]"
          },
          "metadata": {}
        }
      ]
    },
    {
      "cell_type": "code",
      "source": [
        "plt.figure(figsize=(15,5))\n",
        "sns.lineplot(data=df_players, x='Position', y='weight');"
      ],
      "metadata": {
        "colab": {
          "base_uri": "https://localhost:8080/",
          "height": 440
        },
        "id": "LcxoPVmVSi2m",
        "outputId": "d16032ef-b802-4859-9e44-2229c88c904a"
      },
      "execution_count": 74,
      "outputs": [
        {
          "output_type": "display_data",
          "data": {
            "text/plain": [
              "<Figure size 1500x500 with 1 Axes>"
            ],
            "image/png": "[encoded data removed]"
          },
          "metadata": {}
        }
      ]
    },
    {
      "cell_type": "code",
      "source": [
        "df_players['height'].describe()"
      ],
      "metadata": {
        "colab": {
          "base_uri": "https://localhost:8080/"
        },
        "id": "4Pb9tOjJSl8Y",
        "outputId": "a030b8f9-2eef-49d6-a1f6-bf16c0e5fa8c"
      },
      "execution_count": 75,
      "outputs": [
        {
          "output_type": "execute_result",
          "data": {
            "text/plain": [
              "count     2732\n",
              "unique      30\n",
              "top        6-3\n",
              "freq       367\n",
              "Name: height, dtype: object"
            ]
          },
          "metadata": {},
          "execution_count": 75
        }
      ]
    },
    {
      "cell_type": "code",
      "source": [
        "print(\"NFL seasons and count for each year:\")\n",
        "games_per_season = df_games.pivot_table(index = ['season'], aggfunc = 'size')\n",
        "games_per_season = games_per_season.reset_index()\n",
        "games_per_season.columns= [\"Seasons\", \"Count\"]\n",
        "games_per_season = games_per_season.sort_values(\"Count\", ascending = False)\n",
        "print(games_per_season)"
      ],
      "metadata": {
        "colab": {
          "base_uri": "https://localhost:8080/"
        },
        "id": "yOud7ZGiSqGF",
        "outputId": "02499468-1ebc-4171-dfac-4c801ec7aa79"
      },
      "execution_count": 76,
      "outputs": [
        {
          "output_type": "stream",
          "name": "stdout",
          "text": [
            "NFL seasons and count for each year:\n",
            "   Seasons  Count\n",
            "2     2020    256\n",
            "1     2019    255\n",
            "0     2018    253\n"
          ]
        }
      ]
    },
    {
      "cell_type": "code",
      "source": [
        "px.bar(games_per_season, x=\"Seasons\", y=\"Count\", title=\"NFL Seasons\", color=\"Seasons\")"
      ],
      "metadata": {
        "colab": {
          "base_uri": "https://localhost:8080/",
          "height": 542
        },
        "id": "hg8WTj3MS9xG",
        "outputId": "430deed3-38b7-4919-9a25-3ec4d8421954"
      },
      "execution_count": 77,
      "outputs": [
        {
          "output_type": "display_data",
          "data": {
            "text/html": [
              "<html>\n",
              "<head><meta charset=\"utf-8\" /></head>\n",
              "<body>\n",
              "    <div>            <script src=\"https://cdnjs.cloudflare.com/ajax/libs/mathjax/2.7.5/MathJax.js?config=TeX-AMS-MML_SVG\"></script><script type=\"text/javascript\">if (window.MathJax && window.MathJax.Hub && window.MathJax.Hub.Config) {window.MathJax.Hub.Config({SVG: {font: \"STIX-Web\"}});}</script>                <script type=\"text/javascript\">window.PlotlyConfig = {MathJaxConfig: 'local'};</script>\n",
              "        <script charset=\"utf-8\" src=\"https://cdn.plot.ly/plotly-2.24.1.min.js\"></script>                <div id=\"8a8e94d4-3b0b-4fd2-b9cf-f8bb0a127cb4\" class=\"plotly-graph-div\" style=\"height:525px; width:100%;\"></div>            <script type=\"text/javascript\">                                    window.PLOTLYENV=window.PLOTLYENV || {};                                    if (document.getElementById(\"8a8e94d4-3b0b-4fd2-b9cf-f8bb0a127cb4\")) {                    Plotly.newPlot(                        \"8a8e94d4-3b0b-4fd2-b9cf-f8bb0a127cb4\",                        [{\"alignmentgroup\":\"True\",\"hovertemplate\":\"Seasons=%{marker.color}\\u003cbr\\u003eCount=%{y}\\u003cextra\\u003e\\u003c\\u002fextra\\u003e\",\"legendgroup\":\"\",\"marker\":{\"color\":[2020,2019,2018],\"coloraxis\":\"coloraxis\",\"pattern\":{\"shape\":\"\"}},\"name\":\"\",\"offsetgroup\":\"\",\"orientation\":\"v\",\"showlegend\":false,\"textposition\":\"auto\",\"x\":[2020,2019,2018],\"xaxis\":\"x\",\"y\":[256,255,253],\"yaxis\":\"y\",\"type\":\"bar\"}],                        {\"template\":{\"data\":{\"histogram2dcontour\":[{\"type\":\"histogram2dcontour\",\"colorbar\":{\"outlinewidth\":0,\"ticks\":\"\"},\"colorscale\":[[0.0,\"#0d0887\"],[0.1111111111111111,\"#46039f\"],[0.2222222222222222,\"#7201a8\"],[0.3333333333333333,\"#9c179e\"],[0.4444444444444444,\"#bd3786\"],[0.5555555555555556,\"#d8576b\"],[0.6666666666666666,\"#ed7953\"],[0.7777777777777778,\"#fb9f3a\"],[0.8888888888888888,\"#fdca26\"],[1.0,\"#f0f921\"]]}],\"choropleth\":[{\"type\":\"choropleth\",\"colorbar\":{\"outlinewidth\":0,\"ticks\":\"\"}}],\"histogram2d\":[{\"type\":\"histogram2d\",\"colorbar\":{\"outlinewidth\":0,\"ticks\":\"\"},\"colorscale\":[[0.0,\"#0d0887\"],[0.1111111111111111,\"#46039f\"],[0.2222222222222222,\"#7201a8\"],[0.3333333333333333,\"#9c179e\"],[0.4444444444444444,\"#bd3786\"],[0.5555555555555556,\"#d8576b\"],[0.6666666666666666,\"#ed7953\"],[0.7777777777777778,\"#fb9f3a\"],[0.8888888888888888,\"#fdca26\"],[1.0,\"#f0f921\"]]}],\"heatmap\":[{\"type\":\"heatmap\",\"colorbar\":{\"outlinewidth\":0,\"ticks\":\"\"},\"colorscale\":[[0.0,\"#0d0887\"],[0.1111111111111111,\"#46039f\"],[0.2222222222222222,\"#7201a8\"],[0.3333333333333333,\"#9c179e\"],[0.4444444444444444,\"#bd3786\"],[0.5555555555555556,\"#d8576b\"],[0.6666666666666666,\"#ed7953\"],[0.7777777777777778,\"#fb9f3a\"],[0.8888888888888888,\"#fdca26\"],[1.0,\"#f0f921\"]]}],\"heatmapgl\":[{\"type\":\"heatmapgl\",\"colorbar\":{\"outlinewidth\":0,\"ticks\":\"\"},\"colorscale\":[[0.0,\"#0d0887\"],[0.1111111111111111,\"#46039f\"],[0.2222222222222222,\"#7201a8\"],[0.3333333333333333,\"#9c179e\"],[0.4444444444444444,\"#bd3786\"],[0.5555555555555556,\"#d8576b\"],[0.6666666666666666,\"#ed7953\"],[0.7777777777777778,\"#fb9f3a\"],[0.8888888888888888,\"#fdca26\"],[1.0,\"#f0f921\"]]}],\"contourcarpet\":[{\"type\":\"contourcarpet\",\"colorbar\":{\"outlinewidth\":0,\"ticks\":\"\"}}],\"contour\":[{\"type\":\"contour\",\"colorbar\":{\"outlinewidth\":0,\"ticks\":\"\"},\"colorscale\":[[0.0,\"#0d0887\"],[0.1111111111111111,\"#46039f\"],[0.2222222222222222,\"#7201a8\"],[0.3333333333333333,\"#9c179e\"],[0.4444444444444444,\"#bd3786\"],[0.5555555555555556,\"#d8576b\"],[0.6666666666666666,\"#ed7953\"],[0.7777777777777778,\"#fb9f3a\"],[0.8888888888888888,\"#fdca26\"],[1.0,\"#f0f921\"]]}],\"surface\":[{\"type\":\"surface\",\"colorbar\":{\"outlinewidth\":0,\"ticks\":\"\"},\"colorscale\":[[0.0,\"#0d0887\"],[0.1111111111111111,\"#46039f\"],[0.2222222222222222,\"#7201a8\"],[0.3333333333333333,\"#9c179e\"],[0.4444444444444444,\"#bd3786\"],[0.5555555555555556,\"#d8576b\"],[0.6666666666666666,\"#ed7953\"],[0.7777777777777778,\"#fb9f3a\"],[0.8888888888888888,\"#fdca26\"],[1.0,\"#f0f921\"]]}],\"mesh3d\":[{\"type\":\"mesh3d\",\"colorbar\":{\"outlinewidth\":0,\"ticks\":\"\"}}],\"scatter\":[{\"fillpattern\":{\"fillmode\":\"overlay\",\"size\":10,\"solidity\":0.2},\"type\":\"scatter\"}],\"parcoords\":[{\"type\":\"parcoords\",\"line\":{\"colorbar\":{\"outlinewidth\":0,\"ticks\":\"\"}}}],\"scatterpolargl\":[{\"type\":\"scatterpolargl\",\"marker\":{\"colorbar\":{\"outlinewidth\":0,\"ticks\":\"\"}}}],\"bar\":[{\"error_x\":{\"color\":\"#2a3f5f\"},\"error_y\":{\"color\":\"#2a3f5f\"},\"marker\":{\"line\":{\"color\":\"#E5ECF6\",\"width\":0.5},\"pattern\":{\"fillmode\":\"overlay\",\"size\":10,\"solidity\":0.2}},\"type\":\"bar\"}],\"scattergeo\":[{\"type\":\"scattergeo\",\"marker\":{\"colorbar\":{\"outlinewidth\":0,\"ticks\":\"\"}}}],\"scatterpolar\":[{\"type\":\"scatterpolar\",\"marker\":{\"colorbar\":{\"outlinewidth\":0,\"ticks\":\"\"}}}],\"histogram\":[{\"marker\":{\"pattern\":{\"fillmode\":\"overlay\",\"size\":10,\"solidity\":0.2}},\"type\":\"histogram\"}],\"scattergl\":[{\"type\":\"scattergl\",\"marker\":{\"colorbar\":{\"outlinewidth\":0,\"ticks\":\"\"}}}],\"scatter3d\":[{\"type\":\"scatter3d\",\"line\":{\"colorbar\":{\"outlinewidth\":0,\"ticks\":\"\"}},\"marker\":{\"colorbar\":{\"outlinewidth\":0,\"ticks\":\"\"}}}],\"scattermapbox\":[{\"type\":\"scattermapbox\",\"marker\":{\"colorbar\":{\"outlinewidth\":0,\"ticks\":\"\"}}}],\"scatterternary\":[{\"type\":\"scatterternary\",\"marker\":{\"colorbar\":{\"outlinewidth\":0,\"ticks\":\"\"}}}],\"scattercarpet\":[{\"type\":\"scattercarpet\",\"marker\":{\"colorbar\":{\"outlinewidth\":0,\"ticks\":\"\"}}}],\"carpet\":[{\"aaxis\":{\"endlinecolor\":\"#2a3f5f\",\"gridcolor\":\"white\",\"linecolor\":\"white\",\"minorgridcolor\":\"white\",\"startlinecolor\":\"#2a3f5f\"},\"baxis\":{\"endlinecolor\":\"#2a3f5f\",\"gridcolor\":\"white\",\"linecolor\":\"white\",\"minorgridcolor\":\"white\",\"startlinecolor\":\"#2a3f5f\"},\"type\":\"carpet\"}],\"table\":[{\"cells\":{\"fill\":{\"color\":\"#EBF0F8\"},\"line\":{\"color\":\"white\"}},\"header\":{\"fill\":{\"color\":\"#C8D4E3\"},\"line\":{\"color\":\"white\"}},\"type\":\"table\"}],\"barpolar\":[{\"marker\":{\"line\":{\"color\":\"#E5ECF6\",\"width\":0.5},\"pattern\":{\"fillmode\":\"overlay\",\"size\":10,\"solidity\":0.2}},\"type\":\"barpolar\"}],\"pie\":[{\"automargin\":true,\"type\":\"pie\"}]},\"layout\":{\"autotypenumbers\":\"strict\",\"colorway\":[\"#636efa\",\"#EF553B\",\"#00cc96\",\"#ab63fa\",\"#FFA15A\",\"#19d3f3\",\"#FF6692\",\"#B6E880\",\"#FF97FF\",\"#FECB52\"],\"font\":{\"color\":\"#2a3f5f\"},\"hovermode\":\"closest\",\"hoverlabel\":{\"align\":\"left\"},\"paper_bgcolor\":\"white\",\"plot_bgcolor\":\"#E5ECF6\",\"polar\":{\"bgcolor\":\"#E5ECF6\",\"angularaxis\":{\"gridcolor\":\"white\",\"linecolor\":\"white\",\"ticks\":\"\"},\"radialaxis\":{\"gridcolor\":\"white\",\"linecolor\":\"white\",\"ticks\":\"\"}},\"ternary\":{\"bgcolor\":\"#E5ECF6\",\"aaxis\":{\"gridcolor\":\"white\",\"linecolor\":\"white\",\"ticks\":\"\"},\"baxis\":{\"gridcolor\":\"white\",\"linecolor\":\"white\",\"ticks\":\"\"},\"caxis\":{\"gridcolor\":\"white\",\"linecolor\":\"white\",\"ticks\":\"\"}},\"coloraxis\":{\"colorbar\":{\"outlinewidth\":0,\"ticks\":\"\"}},\"colorscale\":{\"sequential\":[[0.0,\"#0d0887\"],[0.1111111111111111,\"#46039f\"],[0.2222222222222222,\"#7201a8\"],[0.3333333333333333,\"#9c179e\"],[0.4444444444444444,\"#bd3786\"],[0.5555555555555556,\"#d8576b\"],[0.6666666666666666,\"#ed7953\"],[0.7777777777777778,\"#fb9f3a\"],[0.8888888888888888,\"#fdca26\"],[1.0,\"#f0f921\"]],\"sequentialminus\":[[0.0,\"#0d0887\"],[0.1111111111111111,\"#46039f\"],[0.2222222222222222,\"#7201a8\"],[0.3333333333333333,\"#9c179e\"],[0.4444444444444444,\"#bd3786\"],[0.5555555555555556,\"#d8576b\"],[0.6666666666666666,\"#ed7953\"],[0.7777777777777778,\"#fb9f3a\"],[0.8888888888888888,\"#fdca26\"],[1.0,\"#f0f921\"]],\"diverging\":[[0,\"#8e0152\"],[0.1,\"#c51b7d\"],[0.2,\"#de77ae\"],[0.3,\"#f1b6da\"],[0.4,\"#fde0ef\"],[0.5,\"#f7f7f7\"],[0.6,\"#e6f5d0\"],[0.7,\"#b8e186\"],[0.8,\"#7fbc41\"],[0.9,\"#4d9221\"],[1,\"#276419\"]]},\"xaxis\":{\"gridcolor\":\"white\",\"linecolor\":\"white\",\"ticks\":\"\",\"title\":{\"standoff\":15},\"zerolinecolor\":\"white\",\"automargin\":true,\"zerolinewidth\":2},\"yaxis\":{\"gridcolor\":\"white\",\"linecolor\":\"white\",\"ticks\":\"\",\"title\":{\"standoff\":15},\"zerolinecolor\":\"white\",\"automargin\":true,\"zerolinewidth\":2},\"scene\":{\"xaxis\":{\"backgroundcolor\":\"#E5ECF6\",\"gridcolor\":\"white\",\"linecolor\":\"white\",\"showbackground\":true,\"ticks\":\"\",\"zerolinecolor\":\"white\",\"gridwidth\":2},\"yaxis\":{\"backgroundcolor\":\"#E5ECF6\",\"gridcolor\":\"white\",\"linecolor\":\"white\",\"showbackground\":true,\"ticks\":\"\",\"zerolinecolor\":\"white\",\"gridwidth\":2},\"zaxis\":{\"backgroundcolor\":\"#E5ECF6\",\"gridcolor\":\"white\",\"linecolor\":\"white\",\"showbackground\":true,\"ticks\":\"\",\"zerolinecolor\":\"white\",\"gridwidth\":2}},\"shapedefaults\":{\"line\":{\"color\":\"#2a3f5f\"}},\"annotationdefaults\":{\"arrowcolor\":\"#2a3f5f\",\"arrowhead\":0,\"arrowwidth\":1},\"geo\":{\"bgcolor\":\"white\",\"landcolor\":\"#E5ECF6\",\"subunitcolor\":\"white\",\"showland\":true,\"showlakes\":true,\"lakecolor\":\"white\"},\"title\":{\"x\":0.05},\"mapbox\":{\"style\":\"light\"}}},\"xaxis\":{\"anchor\":\"y\",\"domain\":[0.0,1.0],\"title\":{\"text\":\"Seasons\"}},\"yaxis\":{\"anchor\":\"x\",\"domain\":[0.0,1.0],\"title\":{\"text\":\"Count\"}},\"coloraxis\":{\"colorbar\":{\"title\":{\"text\":\"Seasons\"}},\"colorscale\":[[0.0,\"#0d0887\"],[0.1111111111111111,\"#46039f\"],[0.2222222222222222,\"#7201a8\"],[0.3333333333333333,\"#9c179e\"],[0.4444444444444444,\"#bd3786\"],[0.5555555555555556,\"#d8576b\"],[0.6666666666666666,\"#ed7953\"],[0.7777777777777778,\"#fb9f3a\"],[0.8888888888888888,\"#fdca26\"],[1.0,\"#f0f921\"]]},\"legend\":{\"tracegroupgap\":0},\"title\":{\"text\":\"NFL Seasons\"},\"barmode\":\"relative\"},                        {\"responsive\": true}                    ).then(function(){\n",
              "                            \n",
              "var gd = document.getElementById('8a8e94d4-3b0b-4fd2-b9cf-f8bb0a127cb4');\n",
              "var x = new MutationObserver(function (mutations, observer) {{\n",
              "        var display = window.getComputedStyle(gd).display;\n",
              "        if (!display || display === 'none') {{\n",
              "            console.log([gd, 'removed!']);\n",
              "            Plotly.purge(gd);\n",
              "            observer.disconnect();\n",
              "        }}\n",
              "}});\n",
              "\n",
              "// Listen for the removal of the full notebook cells\n",
              "var notebookContainer = gd.closest('#notebook-container');\n",
              "if (notebookContainer) {{\n",
              "    x.observe(notebookContainer, {childList: true});\n",
              "}}\n",
              "\n",
              "// Listen for the clearing of the current output cell\n",
              "var outputEl = gd.closest('.output');\n",
              "if (outputEl) {{\n",
              "    x.observe(outputEl, {childList: true});\n",
              "}}\n",
              "\n",
              "                        })                };                            </script>        </div>\n",
              "</body>\n",
              "</html>"
            ]
          },
          "metadata": {}
        }
      ]
    },
    {
      "cell_type": "code",
      "source": [
        "df_games['gameYear'] = pd.DatetimeIndex(df_games['gameDate']).year\n",
        "print(df_games[\"gameYear\"])"
      ],
      "metadata": {
        "colab": {
          "base_uri": "https://localhost:8080/"
        },
        "id": "nPreS255THLy",
        "outputId": "a29e4d32-7825-4745-db8d-6b1cab106f04"
      },
      "execution_count": 78,
      "outputs": [
        {
          "output_type": "stream",
          "name": "stdout",
          "text": [
            "0      2018\n",
            "1      2018\n",
            "2      2018\n",
            "3      2018\n",
            "4      2018\n",
            "       ... \n",
            "759    2021\n",
            "760    2021\n",
            "761    2021\n",
            "762    2021\n",
            "763    2021\n",
            "Name: gameYear, Length: 764, dtype: int64\n"
          ]
        }
      ]
    },
    {
      "cell_type": "code",
      "source": [
        "print(\"number of games per year: \")\n",
        "games_per_year = df_games.pivot_table(index = ['gameYear'], aggfunc = 'size')\n",
        "games_per_year = games_per_year.reset_index()\n",
        "games_per_year.columns= [\"Year\", \"Count\"]\n",
        "games_per_year = games_per_year.sort_values(\"Count\", ascending = False)\n",
        "print(games_per_year)"
      ],
      "metadata": {
        "colab": {
          "base_uri": "https://localhost:8080/"
        },
        "id": "v5XoNNp_TLGd",
        "outputId": "6ecce86f-28a3-4d73-d526-44ae39cfee88"
      },
      "execution_count": 79,
      "outputs": [
        {
          "output_type": "stream",
          "name": "stdout",
          "text": [
            "number of games per year: \n",
            "   Year  Count\n",
            "1  2019    255\n",
            "0  2018    253\n",
            "2  2020    240\n",
            "3  2021     16\n"
          ]
        }
      ]
    },
    {
      "cell_type": "code",
      "source": [
        "px.bar(games_per_year, x=\"Year\", y=\"Count\", title=\"No. of games per year\", color=\"Year\")"
      ],
      "metadata": {
        "colab": {
          "base_uri": "https://localhost:8080/",
          "height": 542
        },
        "id": "CCxgab_WTRX1",
        "outputId": "73dee1b2-ab25-43c7-c84a-b4e36ea1e998"
      },
      "execution_count": 80,
      "outputs": [
        {
          "output_type": "display_data",
          "data": {
            "text/html": [
              "<html>\n",
              "<head><meta charset=\"utf-8\" /></head>\n",
              "<body>\n",
              "    <div>            <script src=\"https://cdnjs.cloudflare.com/ajax/libs/mathjax/2.7.5/MathJax.js?config=TeX-AMS-MML_SVG\"></script><script type=\"text/javascript\">if (window.MathJax && window.MathJax.Hub && window.MathJax.Hub.Config) {window.MathJax.Hub.Config({SVG: {font: \"STIX-Web\"}});}</script>                <script type=\"text/javascript\">window.PlotlyConfig = {MathJaxConfig: 'local'};</script>\n",
              "        <script charset=\"utf-8\" src=\"https://cdn.plot.ly/plotly-2.24.1.min.js\"></script>                <div id=\"6c22163e-be2a-4038-9d7d-ab0bc76033da\" class=\"plotly-graph-div\" style=\"height:525px; width:100%;\"></div>            <script type=\"text/javascript\">                                    window.PLOTLYENV=window.PLOTLYENV || {};                                    if (document.getElementById(\"6c22163e-be2a-4038-9d7d-ab0bc76033da\")) {                    Plotly.newPlot(                        \"6c22163e-be2a-4038-9d7d-ab0bc76033da\",                        [{\"alignmentgroup\":\"True\",\"hovertemplate\":\"Year=%{marker.color}\\u003cbr\\u003eCount=%{y}\\u003cextra\\u003e\\u003c\\u002fextra\\u003e\",\"legendgroup\":\"\",\"marker\":{\"color\":[2019,2018,2020,2021],\"coloraxis\":\"coloraxis\",\"pattern\":{\"shape\":\"\"}},\"name\":\"\",\"offsetgroup\":\"\",\"orientation\":\"v\",\"showlegend\":false,\"textposition\":\"auto\",\"x\":[2019,2018,2020,2021],\"xaxis\":\"x\",\"y\":[255,253,240,16],\"yaxis\":\"y\",\"type\":\"bar\"}],                        {\"template\":{\"data\":{\"histogram2dcontour\":[{\"type\":\"histogram2dcontour\",\"colorbar\":{\"outlinewidth\":0,\"ticks\":\"\"},\"colorscale\":[[0.0,\"#0d0887\"],[0.1111111111111111,\"#46039f\"],[0.2222222222222222,\"#7201a8\"],[0.3333333333333333,\"#9c179e\"],[0.4444444444444444,\"#bd3786\"],[0.5555555555555556,\"#d8576b\"],[0.6666666666666666,\"#ed7953\"],[0.7777777777777778,\"#fb9f3a\"],[0.8888888888888888,\"#fdca26\"],[1.0,\"#f0f921\"]]}],\"choropleth\":[{\"type\":\"choropleth\",\"colorbar\":{\"outlinewidth\":0,\"ticks\":\"\"}}],\"histogram2d\":[{\"type\":\"histogram2d\",\"colorbar\":{\"outlinewidth\":0,\"ticks\":\"\"},\"colorscale\":[[0.0,\"#0d0887\"],[0.1111111111111111,\"#46039f\"],[0.2222222222222222,\"#7201a8\"],[0.3333333333333333,\"#9c179e\"],[0.4444444444444444,\"#bd3786\"],[0.5555555555555556,\"#d8576b\"],[0.6666666666666666,\"#ed7953\"],[0.7777777777777778,\"#fb9f3a\"],[0.8888888888888888,\"#fdca26\"],[1.0,\"#f0f921\"]]}],\"heatmap\":[{\"type\":\"heatmap\",\"colorbar\":{\"outlinewidth\":0,\"ticks\":\"\"},\"colorscale\":[[0.0,\"#0d0887\"],[0.1111111111111111,\"#46039f\"],[0.2222222222222222,\"#7201a8\"],[0.3333333333333333,\"#9c179e\"],[0.4444444444444444,\"#bd3786\"],[0.5555555555555556,\"#d8576b\"],[0.6666666666666666,\"#ed7953\"],[0.7777777777777778,\"#fb9f3a\"],[0.8888888888888888,\"#fdca26\"],[1.0,\"#f0f921\"]]}],\"heatmapgl\":[{\"type\":\"heatmapgl\",\"colorbar\":{\"outlinewidth\":0,\"ticks\":\"\"},\"colorscale\":[[0.0,\"#0d0887\"],[0.1111111111111111,\"#46039f\"],[0.2222222222222222,\"#7201a8\"],[0.3333333333333333,\"#9c179e\"],[0.4444444444444444,\"#bd3786\"],[0.5555555555555556,\"#d8576b\"],[0.6666666666666666,\"#ed7953\"],[0.7777777777777778,\"#fb9f3a\"],[0.8888888888888888,\"#fdca26\"],[1.0,\"#f0f921\"]]}],\"contourcarpet\":[{\"type\":\"contourcarpet\",\"colorbar\":{\"outlinewidth\":0,\"ticks\":\"\"}}],\"contour\":[{\"type\":\"contour\",\"colorbar\":{\"outlinewidth\":0,\"ticks\":\"\"},\"colorscale\":[[0.0,\"#0d0887\"],[0.1111111111111111,\"#46039f\"],[0.2222222222222222,\"#7201a8\"],[0.3333333333333333,\"#9c179e\"],[0.4444444444444444,\"#bd3786\"],[0.5555555555555556,\"#d8576b\"],[0.6666666666666666,\"#ed7953\"],[0.7777777777777778,\"#fb9f3a\"],[0.8888888888888888,\"#fdca26\"],[1.0,\"#f0f921\"]]}],\"surface\":[{\"type\":\"surface\",\"colorbar\":{\"outlinewidth\":0,\"ticks\":\"\"},\"colorscale\":[[0.0,\"#0d0887\"],[0.1111111111111111,\"#46039f\"],[0.2222222222222222,\"#7201a8\"],[0.3333333333333333,\"#9c179e\"],[0.4444444444444444,\"#bd3786\"],[0.5555555555555556,\"#d8576b\"],[0.6666666666666666,\"#ed7953\"],[0.7777777777777778,\"#fb9f3a\"],[0.8888888888888888,\"#fdca26\"],[1.0,\"#f0f921\"]]}],\"mesh3d\":[{\"type\":\"mesh3d\",\"colorbar\":{\"outlinewidth\":0,\"ticks\":\"\"}}],\"scatter\":[{\"fillpattern\":{\"fillmode\":\"overlay\",\"size\":10,\"solidity\":0.2},\"type\":\"scatter\"}],\"parcoords\":[{\"type\":\"parcoords\",\"line\":{\"colorbar\":{\"outlinewidth\":0,\"ticks\":\"\"}}}],\"scatterpolargl\":[{\"type\":\"scatterpolargl\",\"marker\":{\"colorbar\":{\"outlinewidth\":0,\"ticks\":\"\"}}}],\"bar\":[{\"error_x\":{\"color\":\"#2a3f5f\"},\"error_y\":{\"color\":\"#2a3f5f\"},\"marker\":{\"line\":{\"color\":\"#E5ECF6\",\"width\":0.5},\"pattern\":{\"fillmode\":\"overlay\",\"size\":10,\"solidity\":0.2}},\"type\":\"bar\"}],\"scattergeo\":[{\"type\":\"scattergeo\",\"marker\":{\"colorbar\":{\"outlinewidth\":0,\"ticks\":\"\"}}}],\"scatterpolar\":[{\"type\":\"scatterpolar\",\"marker\":{\"colorbar\":{\"outlinewidth\":0,\"ticks\":\"\"}}}],\"histogram\":[{\"marker\":{\"pattern\":{\"fillmode\":\"overlay\",\"size\":10,\"solidity\":0.2}},\"type\":\"histogram\"}],\"scattergl\":[{\"type\":\"scattergl\",\"marker\":{\"colorbar\":{\"outlinewidth\":0,\"ticks\":\"\"}}}],\"scatter3d\":[{\"type\":\"scatter3d\",\"line\":{\"colorbar\":{\"outlinewidth\":0,\"ticks\":\"\"}},\"marker\":{\"colorbar\":{\"outlinewidth\":0,\"ticks\":\"\"}}}],\"scattermapbox\":[{\"type\":\"scattermapbox\",\"marker\":{\"colorbar\":{\"outlinewidth\":0,\"ticks\":\"\"}}}],\"scatterternary\":[{\"type\":\"scatterternary\",\"marker\":{\"colorbar\":{\"outlinewidth\":0,\"ticks\":\"\"}}}],\"scattercarpet\":[{\"type\":\"scattercarpet\",\"marker\":{\"colorbar\":{\"outlinewidth\":0,\"ticks\":\"\"}}}],\"carpet\":[{\"aaxis\":{\"endlinecolor\":\"#2a3f5f\",\"gridcolor\":\"white\",\"linecolor\":\"white\",\"minorgridcolor\":\"white\",\"startlinecolor\":\"#2a3f5f\"},\"baxis\":{\"endlinecolor\":\"#2a3f5f\",\"gridcolor\":\"white\",\"linecolor\":\"white\",\"minorgridcolor\":\"white\",\"startlinecolor\":\"#2a3f5f\"},\"type\":\"carpet\"}],\"table\":[{\"cells\":{\"fill\":{\"color\":\"#EBF0F8\"},\"line\":{\"color\":\"white\"}},\"header\":{\"fill\":{\"color\":\"#C8D4E3\"},\"line\":{\"color\":\"white\"}},\"type\":\"table\"}],\"barpolar\":[{\"marker\":{\"line\":{\"color\":\"#E5ECF6\",\"width\":0.5},\"pattern\":{\"fillmode\":\"overlay\",\"size\":10,\"solidity\":0.2}},\"type\":\"barpolar\"}],\"pie\":[{\"automargin\":true,\"type\":\"pie\"}]},\"layout\":{\"autotypenumbers\":\"strict\",\"colorway\":[\"#636efa\",\"#EF553B\",\"#00cc96\",\"#ab63fa\",\"#FFA15A\",\"#19d3f3\",\"#FF6692\",\"#B6E880\",\"#FF97FF\",\"#FECB52\"],\"font\":{\"color\":\"#2a3f5f\"},\"hovermode\":\"closest\",\"hoverlabel\":{\"align\":\"left\"},\"paper_bgcolor\":\"white\",\"plot_bgcolor\":\"#E5ECF6\",\"polar\":{\"bgcolor\":\"#E5ECF6\",\"angularaxis\":{\"gridcolor\":\"white\",\"linecolor\":\"white\",\"ticks\":\"\"},\"radialaxis\":{\"gridcolor\":\"white\",\"linecolor\":\"white\",\"ticks\":\"\"}},\"ternary\":{\"bgcolor\":\"#E5ECF6\",\"aaxis\":{\"gridcolor\":\"white\",\"linecolor\":\"white\",\"ticks\":\"\"},\"baxis\":{\"gridcolor\":\"white\",\"linecolor\":\"white\",\"ticks\":\"\"},\"caxis\":{\"gridcolor\":\"white\",\"linecolor\":\"white\",\"ticks\":\"\"}},\"coloraxis\":{\"colorbar\":{\"outlinewidth\":0,\"ticks\":\"\"}},\"colorscale\":{\"sequential\":[[0.0,\"#0d0887\"],[0.1111111111111111,\"#46039f\"],[0.2222222222222222,\"#7201a8\"],[0.3333333333333333,\"#9c179e\"],[0.4444444444444444,\"#bd3786\"],[0.5555555555555556,\"#d8576b\"],[0.6666666666666666,\"#ed7953\"],[0.7777777777777778,\"#fb9f3a\"],[0.8888888888888888,\"#fdca26\"],[1.0,\"#f0f921\"]],\"sequentialminus\":[[0.0,\"#0d0887\"],[0.1111111111111111,\"#46039f\"],[0.2222222222222222,\"#7201a8\"],[0.3333333333333333,\"#9c179e\"],[0.4444444444444444,\"#bd3786\"],[0.5555555555555556,\"#d8576b\"],[0.6666666666666666,\"#ed7953\"],[0.7777777777777778,\"#fb9f3a\"],[0.8888888888888888,\"#fdca26\"],[1.0,\"#f0f921\"]],\"diverging\":[[0,\"#8e0152\"],[0.1,\"#c51b7d\"],[0.2,\"#de77ae\"],[0.3,\"#f1b6da\"],[0.4,\"#fde0ef\"],[0.5,\"#f7f7f7\"],[0.6,\"#e6f5d0\"],[0.7,\"#b8e186\"],[0.8,\"#7fbc41\"],[0.9,\"#4d9221\"],[1,\"#276419\"]]},\"xaxis\":{\"gridcolor\":\"white\",\"linecolor\":\"white\",\"ticks\":\"\",\"title\":{\"standoff\":15},\"zerolinecolor\":\"white\",\"automargin\":true,\"zerolinewidth\":2},\"yaxis\":{\"gridcolor\":\"white\",\"linecolor\":\"white\",\"ticks\":\"\",\"title\":{\"standoff\":15},\"zerolinecolor\":\"white\",\"automargin\":true,\"zerolinewidth\":2},\"scene\":{\"xaxis\":{\"backgroundcolor\":\"#E5ECF6\",\"gridcolor\":\"white\",\"linecolor\":\"white\",\"showbackground\":true,\"ticks\":\"\",\"zerolinecolor\":\"white\",\"gridwidth\":2},\"yaxis\":{\"backgroundcolor\":\"#E5ECF6\",\"gridcolor\":\"white\",\"linecolor\":\"white\",\"showbackground\":true,\"ticks\":\"\",\"zerolinecolor\":\"white\",\"gridwidth\":2},\"zaxis\":{\"backgroundcolor\":\"#E5ECF6\",\"gridcolor\":\"white\",\"linecolor\":\"white\",\"showbackground\":true,\"ticks\":\"\",\"zerolinecolor\":\"white\",\"gridwidth\":2}},\"shapedefaults\":{\"line\":{\"color\":\"#2a3f5f\"}},\"annotationdefaults\":{\"arrowcolor\":\"#2a3f5f\",\"arrowhead\":0,\"arrowwidth\":1},\"geo\":{\"bgcolor\":\"white\",\"landcolor\":\"#E5ECF6\",\"subunitcolor\":\"white\",\"showland\":true,\"showlakes\":true,\"lakecolor\":\"white\"},\"title\":{\"x\":0.05},\"mapbox\":{\"style\":\"light\"}}},\"xaxis\":{\"anchor\":\"y\",\"domain\":[0.0,1.0],\"title\":{\"text\":\"Year\"}},\"yaxis\":{\"anchor\":\"x\",\"domain\":[0.0,1.0],\"title\":{\"text\":\"Count\"}},\"coloraxis\":{\"colorbar\":{\"title\":{\"text\":\"Year\"}},\"colorscale\":[[0.0,\"#0d0887\"],[0.1111111111111111,\"#46039f\"],[0.2222222222222222,\"#7201a8\"],[0.3333333333333333,\"#9c179e\"],[0.4444444444444444,\"#bd3786\"],[0.5555555555555556,\"#d8576b\"],[0.6666666666666666,\"#ed7953\"],[0.7777777777777778,\"#fb9f3a\"],[0.8888888888888888,\"#fdca26\"],[1.0,\"#f0f921\"]]},\"legend\":{\"tracegroupgap\":0},\"title\":{\"text\":\"No. of games per year\"},\"barmode\":\"relative\"},                        {\"responsive\": true}                    ).then(function(){\n",
              "                            \n",
              "var gd = document.getElementById('6c22163e-be2a-4038-9d7d-ab0bc76033da');\n",
              "var x = new MutationObserver(function (mutations, observer) {{\n",
              "        var display = window.getComputedStyle(gd).display;\n",
              "        if (!display || display === 'none') {{\n",
              "            console.log([gd, 'removed!']);\n",
              "            Plotly.purge(gd);\n",
              "            observer.disconnect();\n",
              "        }}\n",
              "}});\n",
              "\n",
              "// Listen for the removal of the full notebook cells\n",
              "var notebookContainer = gd.closest('#notebook-container');\n",
              "if (notebookContainer) {{\n",
              "    x.observe(notebookContainer, {childList: true});\n",
              "}}\n",
              "\n",
              "// Listen for the clearing of the current output cell\n",
              "var outputEl = gd.closest('.output');\n",
              "if (outputEl) {{\n",
              "    x.observe(outputEl, {childList: true});\n",
              "}}\n",
              "\n",
              "                        })                };                            </script>        </div>\n",
              "</body>\n",
              "</html>"
            ]
          },
          "metadata": {}
        }
      ]
    },
    {
      "cell_type": "code",
      "source": [
        "from sklearn.model_selection import GridSearchCV\n",
        "from sklearn.ensemble import GradientBoostingClassifier, VotingClassifier\n",
        "from sklearn.metrics import accuracy_score"
      ],
      "metadata": {
        "id": "iDefFTclTWKc"
      },
      "execution_count": 81,
      "outputs": []
    },
    {
      "cell_type": "code",
      "source": [
        "df_players = pd.read_csv('players.csv')\n",
        "df_players.head()"
      ],
      "metadata": {
        "colab": {
          "base_uri": "https://localhost:8080/",
          "height": 206
        },
        "id": "H0JEQdTLTcxR",
        "outputId": "935583ff-d2c9-438d-e534-e94f06f610a6"
      },
      "execution_count": 82,
      "outputs": [
        {
          "output_type": "execute_result",
          "data": {
            "text/plain": [
              "   nflId height  weight   birthDate       collegeName Position  \\\n",
              "0  42901    6-1     208  1992-07-25     James Madison       SS   \n",
              "1  43501    6-0     220  1994-08-11  Central Michigan       FS   \n",
              "2  43534    6-0     205  1993-06-02          Illinois       SS   \n",
              "3  43535    6-1     235  1992-12-22            Temple      MLB   \n",
              "4  44174    6-1     236  1993-02-22        Texas Tech      ILB   \n",
              "\n",
              "         displayName  \n",
              "0       Dean Marlowe  \n",
              "1      Kavon Frazier  \n",
              "2  Clayton Fejedelem  \n",
              "3   Tyler Matakevich  \n",
              "4       Sam Eguavoen  "
            ],
            "text/html": [
              "\n",
              "\n",
              "  <div id=\"df-3c89672c-bcb6-4096-968e-d5a3527f87c0\">\n",
              "    <div class=\"colab-df-container\">\n",
              "      <div>\n",
              "<style scoped>\n",
              "    .dataframe tbody tr th:only-of-type {\n",
              "        vertical-align: middle;\n",
              "    }\n",
              "\n",
              "    .dataframe tbody tr th {\n",
              "        vertical-align: top;\n",
              "    }\n",
              "\n",
              "    .dataframe thead th {\n",
              "        text-align: right;\n",
              "    }\n",
              "</style>\n",
              "<table border=\"1\" class=\"dataframe\">\n",
              "  <thead>\n",
              "    <tr style=\"text-align: right;\">\n",
              "      <th></th>\n",
              "      <th>nflId</th>\n",
              "      <th>height</th>\n",
              "      <th>weight</th>\n",
              "      <th>birthDate</th>\n",
              "      <th>collegeName</th>\n",
              "      <th>Position</th>\n",
              "      <th>displayName</th>\n",
              "    </tr>\n",
              "  </thead>\n",
              "  <tbody>\n",
              "    <tr>\n",
              "      <th>0</th>\n",
              "      <td>42901</td>\n",
              "      <td>6-1</td>\n",
              "      <td>208</td>\n",
              "      <td>1992-07-25</td>\n",
              "      <td>James Madison</td>\n",
              "      <td>SS</td>\n",
              "      <td>Dean Marlowe</td>\n",
              "    </tr>\n",
              "    <tr>\n",
              "      <th>1</th>\n",
              "      <td>43501</td>\n",
              "      <td>6-0</td>\n",
              "      <td>220</td>\n",
              "      <td>1994-08-11</td>\n",
              "      <td>Central Michigan</td>\n",
              "      <td>FS</td>\n",
              "      <td>Kavon Frazier</td>\n",
              "    </tr>\n",
              "    <tr>\n",
              "      <th>2</th>\n",
              "      <td>43534</td>\n",
              "      <td>6-0</td>\n",
              "      <td>205</td>\n",
              "      <td>1993-06-02</td>\n",
              "      <td>Illinois</td>\n",
              "      <td>SS</td>\n",
              "      <td>Clayton Fejedelem</td>\n",
              "    </tr>\n",
              "    <tr>\n",
              "      <th>3</th>\n",
              "      <td>43535</td>\n",
              "      <td>6-1</td>\n",
              "      <td>235</td>\n",
              "      <td>1992-12-22</td>\n",
              "      <td>Temple</td>\n",
              "      <td>MLB</td>\n",
              "      <td>Tyler Matakevich</td>\n",
              "    </tr>\n",
              "    <tr>\n",
              "      <th>4</th>\n",
              "      <td>44174</td>\n",
              "      <td>6-1</td>\n",
              "      <td>236</td>\n",
              "      <td>1993-02-22</td>\n",
              "      <td>Texas Tech</td>\n",
              "      <td>ILB</td>\n",
              "      <td>Sam Eguavoen</td>\n",
              "    </tr>\n",
              "  </tbody>\n",
              "</table>\n",
              "</div>\n",
              "      <button class=\"colab-df-convert\" onclick=\"convertToInteractive('df-3c89672c-bcb6-4096-968e-d5a3527f87c0')\"\n",
              "              title=\"Convert this dataframe to an interactive table.\"\n",
              "              style=\"display:none;\">\n",
              "\n",
              "  <svg xmlns=\"http://www.w3.org/2000/svg\" height=\"24px\"viewBox=\"0 0 24 24\"\n",
              "       width=\"24px\">\n",
              "    <path d=\"M0 0h24v24H0V0z\" fill=\"none\"/>\n",
              "    <path d=\"M18.56 5.44l.94 2.06.94-2.06 2.06-.94-2.06-.94-.94-2.06-.94 2.06-2.06.94zm-11 1L8.5 8.5l.94-2.06 2.06-.94-2.06-.94L8.5 2.5l-.94 2.06-2.06.94zm10 10l.94 2.06.94-2.06 2.06-.94-2.06-.94-.94-2.06-.94 2.06-2.06.94z\"/><path d=\"M17.41 7.96l-1.37-1.37c-.4-.4-.92-.59-1.43-.59-.52 0-1.04.2-1.43.59L10.3 9.45l-7.72 7.72c-.78.78-.78 2.05 0 2.83L4 21.41c.39.39.9.59 1.41.59.51 0 1.02-.2 1.41-.59l7.78-7.78 2.81-2.81c.8-.78.8-2.07 0-2.86zM5.41 20L4 18.59l7.72-7.72 1.47 1.35L5.41 20z\"/>\n",
              "  </svg>\n",
              "      </button>\n",
              "\n",
              "\n",
              "\n",
              "    <div id=\"df-0b1ff339-4088-49bc-92e3-d0a00718373a\">\n",
              "      <button class=\"colab-df-quickchart\" onclick=\"quickchart('df-0b1ff339-4088-49bc-92e3-d0a00718373a')\"\n",
              "              title=\"Suggest charts.\"\n",
              "              style=\"display:none;\">\n",
              "\n",
              "<svg xmlns=\"http://www.w3.org/2000/svg\" height=\"24px\"viewBox=\"0 0 24 24\"\n",
              "     width=\"24px\">\n",
              "    <g>\n",
              "        <path d=\"M19 3H5c-1.1 0-2 .9-2 2v14c0 1.1.9 2 2 2h14c1.1 0 2-.9 2-2V5c0-1.1-.9-2-2-2zM9 17H7v-7h2v7zm4 0h-2V7h2v10zm4 0h-2v-4h2v4z\"/>\n",
              "    </g>\n",
              "</svg>\n",
              "      </button>\n",
              "    </div>\n",
              "\n",
              "<style>\n",
              "  .colab-df-quickchart {\n",
              "    background-color: #E8F0FE;\n",
              "    border: none;\n",
              "    border-radius: 50%;\n",
              "    cursor: pointer;\n",
              "    display: none;\n",
              "    fill: #1967D2;\n",
              "    height: 32px;\n",
              "    padding: 0 0 0 0;\n",
              "    width: 32px;\n",
              "  }\n",
              "\n",
              "  .colab-df-quickchart:hover {\n",
              "    background-color: #E2EBFA;\n",
              "    box-shadow: 0px 1px 2px rgba(60, 64, 67, 0.3), 0px 1px 3px 1px rgba(60, 64, 67, 0.15);\n",
              "    fill: #174EA6;\n",
              "  }\n",
              "\n",
              "  [theme=dark] .colab-df-quickchart {\n",
              "    background-color: #3B4455;\n",
              "    fill: #D2E3FC;\n",
              "  }\n",
              "\n",
              "  [theme=dark] .colab-df-quickchart:hover {\n",
              "    background-color: #434B5C;\n",
              "    box-shadow: 0px 1px 3px 1px rgba(0, 0, 0, 0.15);\n",
              "    filter: drop-shadow(0px 1px 2px rgba(0, 0, 0, 0.3));\n",
              "    fill: #FFFFFF;\n",
              "  }\n",
              "</style>\n",
              "\n",
              "    <script>\n",
              "      async function quickchart(key) {\n",
              "        const containerElement = document.querySelector('#' + key);\n",
              "        const charts = await google.colab.kernel.invokeFunction(\n",
              "            'suggestCharts', [key], {});\n",
              "      }\n",
              "    </script>\n",
              "\n",
              "      <script>\n",
              "\n",
              "function displayQuickchartButton(domScope) {\n",
              "  let quickchartButtonEl =\n",
              "    domScope.querySelector('#df-0b1ff339-4088-49bc-92e3-d0a00718373a button.colab-df-quickchart');\n",
              "  quickchartButtonEl.style.display =\n",
              "    google.colab.kernel.accessAllowed ? 'block' : 'none';\n",
              "}\n",
              "\n",
              "        displayQuickchartButton(document);\n",
              "      </script>\n",
              "      <style>\n",
              "    .colab-df-container {\n",
              "      display:flex;\n",
              "      flex-wrap:wrap;\n",
              "      gap: 12px;\n",
              "    }\n",
              "\n",
              "    .colab-df-convert {\n",
              "      background-color: #E8F0FE;\n",
              "      border: none;\n",
              "      border-radius: 50%;\n",
              "      cursor: pointer;\n",
              "      display: none;\n",
              "      fill: #1967D2;\n",
              "      height: 32px;\n",
              "      padding: 0 0 0 0;\n",
              "      width: 32px;\n",
              "    }\n",
              "\n",
              "    .colab-df-convert:hover {\n",
              "      background-color: #E2EBFA;\n",
              "      box-shadow: 0px 1px 2px rgba(60, 64, 67, 0.3), 0px 1px 3px 1px rgba(60, 64, 67, 0.15);\n",
              "      fill: #174EA6;\n",
              "    }\n",
              "\n",
              "    [theme=dark] .colab-df-convert {\n",
              "      background-color: #3B4455;\n",
              "      fill: #D2E3FC;\n",
              "    }\n",
              "\n",
              "    [theme=dark] .colab-df-convert:hover {\n",
              "      background-color: #434B5C;\n",
              "      box-shadow: 0px 1px 3px 1px rgba(0, 0, 0, 0.15);\n",
              "      filter: drop-shadow(0px 1px 2px rgba(0, 0, 0, 0.3));\n",
              "      fill: #FFFFFF;\n",
              "    }\n",
              "  </style>\n",
              "\n",
              "      <script>\n",
              "        const buttonEl =\n",
              "          document.querySelector('#df-3c89672c-bcb6-4096-968e-d5a3527f87c0 button.colab-df-convert');\n",
              "        buttonEl.style.display =\n",
              "          google.colab.kernel.accessAllowed ? 'block' : 'none';\n",
              "\n",
              "        async function convertToInteractive(key) {\n",
              "          const element = document.querySelector('#df-3c89672c-bcb6-4096-968e-d5a3527f87c0');\n",
              "          const dataTable =\n",
              "            await google.colab.kernel.invokeFunction('convertToInteractive',\n",
              "                                                     [key], {});\n",
              "          if (!dataTable) return;\n",
              "\n",
              "          const docLinkHtml = 'Like what you see? Visit the ' +\n",
              "            '<a target=\"_blank\" href=https://colab.research.google.com/notebooks/data_table.ipynb>data table notebook</a>'\n",
              "            + ' to learn more about interactive tables.';\n",
              "          element.innerHTML = '';\n",
              "          dataTable['output_type'] = 'display_data';\n",
              "          await google.colab.output.renderOutput(dataTable, element);\n",
              "          const docLink = document.createElement('div');\n",
              "          docLink.innerHTML = docLinkHtml;\n",
              "          element.appendChild(docLink);\n",
              "        }\n",
              "      </script>\n",
              "    </div>\n",
              "  </div>\n"
            ]
          },
          "metadata": {},
          "execution_count": 82
        }
      ]
    },
    {
      "cell_type": "code",
      "source": [
        "df_players = df_players.dropna(subset=['Position'])"
      ],
      "metadata": {
        "id": "IH_wkmfWTfAQ"
      },
      "execution_count": 83,
      "outputs": []
    },
    {
      "cell_type": "code",
      "source": [
        "def convert_height(height_str):\n",
        "    try:\n",
        "        if '-' in height_str:\n",
        "            feet, inches = map(int, height_str.split('-'))\n",
        "            return feet * 12 + inches\n",
        "        elif \"'\" in height_str:\n",
        "            inches = int(height_str.strip(\"'\"))\n",
        "            return inches\n",
        "        else:\n",
        "            return int(height_str)\n",
        "    except:\n",
        "        return None\n",
        "\n",
        "df_players['height'] = df_players['height'].apply(convert_height)"
      ],
      "metadata": {
        "id": "SpzCaExOTh3J"
      },
      "execution_count": 84,
      "outputs": []
    },
    {
      "cell_type": "code",
      "source": [
        "df_players = df_players.dropna(subset=['height'])"
      ],
      "metadata": {
        "id": "679n5vX8TiGq"
      },
      "execution_count": 85,
      "outputs": []
    },
    {
      "cell_type": "code",
      "source": [
        "features = df_players[['height', 'weight']]\n",
        "target = df_players['Position']"
      ],
      "metadata": {
        "id": "jdTIUdiUTiSV"
      },
      "execution_count": 86,
      "outputs": []
    },
    {
      "cell_type": "code",
      "source": [
        "X_train, X_test, y_train, y_test = train_test_split(features, target, test_size=0.2, random_state=42)"
      ],
      "metadata": {
        "id": "3GJ8OmHtTrJX"
      },
      "execution_count": 87,
      "outputs": []
    },
    {
      "cell_type": "code",
      "source": [
        "param_grid = {\n",
        "    'n_estimators': [50, 100, 200],\n",
        "    'max_depth': [None, 10, 20],\n",
        "    'min_samples_split': [2, 5, 10],\n",
        "    'min_samples_leaf': [1, 2, 4]\n",
        "}"
      ],
      "metadata": {
        "id": "GFxqo2aTTrQ8"
      },
      "execution_count": 88,
      "outputs": []
    },
    {
      "cell_type": "code",
      "source": [
        "rf_classifier = RandomForestClassifier(random_state=42)\n",
        "grid_search = GridSearchCV(rf_classifier, param_grid, cv=5, n_jobs=-1)\n",
        "grid_search.fit(X_train, y_train)"
      ],
      "metadata": {
        "colab": {
          "base_uri": "https://localhost:8080/",
          "height": 116
        },
        "id": "DwqJpe-8TraB",
        "outputId": "361fc281-a9d5-4de9-a04c-5d924f32de50"
      },
      "execution_count": 89,
      "outputs": [
        {
          "output_type": "execute_result",
          "data": {
            "text/plain": [
              "GridSearchCV(cv=5, estimator=RandomForestClassifier(random_state=42), n_jobs=-1,\n",
              "             param_grid={'max_depth': [None, 10, 20],\n",
              "                         'min_samples_leaf': [1, 2, 4],\n",
              "                         'min_samples_split': [2, 5, 10],\n",
              "                         'n_estimators': [50, 100, 200]})"
            ],
            "text/html": [
              "<style>#sk-container-id-1 {color: black;background-color: white;}#sk-container-id-1 pre{padding: 0;}#sk-container-id-1 div.sk-toggleable {background-color: white;}#sk-container-id-1 label.sk-toggleable__label {cursor: pointer;display: block;width: 100%;margin-bottom: 0;padding: 0.3em;box-sizing: border-box;text-align: center;}#sk-container-id-1 label.sk-toggleable__label-arrow:before {content: \"▸\";float: left;margin-right: 0.25em;color: #696969;}#sk-container-id-1 label.sk-toggleable__label-arrow:hover:before {color: black;}#sk-container-id-1 div.sk-estimator:hover label.sk-toggleable__label-arrow:before {color: black;}#sk-container-id-1 div.sk-toggleable__content {max-height: 0;max-width: 0;overflow: hidden;text-align: left;background-color: #f0f8ff;}#sk-container-id-1 div.sk-toggleable__content pre {margin: 0.2em;color: black;border-radius: 0.25em;background-color: #f0f8ff;}#sk-container-id-1 input.sk-toggleable__control:checked~div.sk-toggleable__content {max-height: 200px;max-width: 100%;overflow: auto;}#sk-container-id-1 input.sk-toggleable__control:checked~label.sk-toggleable__label-arrow:before {content: \"▾\";}#sk-container-id-1 div.sk-estimator input.sk-toggleable__control:checked~label.sk-toggleable__label {background-color: #d4ebff;}#sk-container-id-1 div.sk-label input.sk-toggleable__control:checked~label.sk-toggleable__label {background-color: #d4ebff;}#sk-container-id-1 input.sk-hidden--visually {border: 0;clip: rect(1px 1px 1px 1px);clip: rect(1px, 1px, 1px, 1px);height: 1px;margin: -1px;overflow: hidden;padding: 0;position: absolute;width: 1px;}#sk-container-id-1 div.sk-estimator {font-family: monospace;background-color: #f0f8ff;border: 1px dotted black;border-radius: 0.25em;box-sizing: border-box;margin-bottom: 0.5em;}#sk-container-id-1 div.sk-estimator:hover {background-color: #d4ebff;}#sk-container-id-1 div.sk-parallel-item::after {content: \"\";width: 100%;border-bottom: 1px solid gray;flex-grow: 1;}#sk-container-id-1 div.sk-label:hover label.sk-toggleable__label {background-color: #d4ebff;}#sk-container-id-1 div.sk-serial::before {content: \"\";position: absolute;border-left: 1px solid gray;box-sizing: border-box;top: 0;bottom: 0;left: 50%;z-index: 0;}#sk-container-id-1 div.sk-serial {display: flex;flex-direction: column;align-items: center;background-color: white;padding-right: 0.2em;padding-left: 0.2em;position: relative;}#sk-container-id-1 div.sk-item {position: relative;z-index: 1;}#sk-container-id-1 div.sk-parallel {display: flex;align-items: stretch;justify-content: center;background-color: white;position: relative;}#sk-container-id-1 div.sk-item::before, #sk-container-id-1 div.sk-parallel-item::before {content: \"\";position: absolute;border-left: 1px solid gray;box-sizing: border-box;top: 0;bottom: 0;left: 50%;z-index: -1;}#sk-container-id-1 div.sk-parallel-item {display: flex;flex-direction: column;z-index: 1;position: relative;background-color: white;}#sk-container-id-1 div.sk-parallel-item:first-child::after {align-self: flex-end;width: 50%;}#sk-container-id-1 div.sk-parallel-item:last-child::after {align-self: flex-start;width: 50%;}#sk-container-id-1 div.sk-parallel-item:only-child::after {width: 0;}#sk-container-id-1 div.sk-dashed-wrapped {border: 1px dashed gray;margin: 0 0.4em 0.5em 0.4em;box-sizing: border-box;padding-bottom: 0.4em;background-color: white;}#sk-container-id-1 div.sk-label label {font-family: monospace;font-weight: bold;display: inline-block;line-height: 1.2em;}#sk-container-id-1 div.sk-label-container {text-align: center;}#sk-container-id-1 div.sk-container {/* jupyter's `normalize.less` sets `[hidden] { display: none; }` but bootstrap.min.css set `[hidden] { display: none !important; }` so we also need the `!important` here to be able to override the default hidden behavior on the sphinx rendered scikit-learn.org. See: https://github.com/scikit-learn/scikit-learn/issues/21755 */display: inline-block !important;position: relative;}#sk-container-id-1 div.sk-text-repr-fallback {display: none;}</style><div id=\"sk-container-id-1\" class=\"sk-top-container\"><div class=\"sk-text-repr-fallback\"><pre>GridSearchCV(cv=5, estimator=RandomForestClassifier(random_state=42), n_jobs=-1,\n",
              "             param_grid={&#x27;max_depth&#x27;: [None, 10, 20],\n",
              "                         &#x27;min_samples_leaf&#x27;: [1, 2, 4],\n",
              "                         &#x27;min_samples_split&#x27;: [2, 5, 10],\n",
              "                         &#x27;n_estimators&#x27;: [50, 100, 200]})</pre><b>In a Jupyter environment, please rerun this cell to show the HTML representation or trust the notebook. <br />On GitHub, the HTML representation is unable to render, please try loading this page with nbviewer.org.</b></div><div class=\"sk-container\" hidden><div class=\"sk-item sk-dashed-wrapped\"><div class=\"sk-label-container\"><div class=\"sk-label sk-toggleable\"><input class=\"sk-toggleable__control sk-hidden--visually\" id=\"sk-estimator-id-1\" type=\"checkbox\" ><label for=\"sk-estimator-id-1\" class=\"sk-toggleable__label sk-toggleable__label-arrow\">GridSearchCV</label><div class=\"sk-toggleable__content\"><pre>GridSearchCV(cv=5, estimator=RandomForestClassifier(random_state=42), n_jobs=-1,\n",
              "             param_grid={&#x27;max_depth&#x27;: [None, 10, 20],\n",
              "                         &#x27;min_samples_leaf&#x27;: [1, 2, 4],\n",
              "                         &#x27;min_samples_split&#x27;: [2, 5, 10],\n",
              "                         &#x27;n_estimators&#x27;: [50, 100, 200]})</pre></div></div></div><div class=\"sk-parallel\"><div class=\"sk-parallel-item\"><div class=\"sk-item\"><div class=\"sk-label-container\"><div class=\"sk-label sk-toggleable\"><input class=\"sk-toggleable__control sk-hidden--visually\" id=\"sk-estimator-id-2\" type=\"checkbox\" ><label for=\"sk-estimator-id-2\" class=\"sk-toggleable__label sk-toggleable__label-arrow\">estimator: RandomForestClassifier</label><div class=\"sk-toggleable__content\"><pre>RandomForestClassifier(random_state=42)</pre></div></div></div><div class=\"sk-serial\"><div class=\"sk-item\"><div class=\"sk-estimator sk-toggleable\"><input class=\"sk-toggleable__control sk-hidden--visually\" id=\"sk-estimator-id-3\" type=\"checkbox\" ><label for=\"sk-estimator-id-3\" class=\"sk-toggleable__label sk-toggleable__label-arrow\">RandomForestClassifier</label><div class=\"sk-toggleable__content\"><pre>RandomForestClassifier(random_state=42)</pre></div></div></div></div></div></div></div></div></div></div>"
            ]
          },
          "metadata": {},
          "execution_count": 89
        }
      ]
    },
    {
      "cell_type": "code",
      "source": [
        "best_rf_classifier = grid_search.best_estimator_"
      ],
      "metadata": {
        "id": "RKwfIWQhTz-G"
      },
      "execution_count": 90,
      "outputs": []
    },
    {
      "cell_type": "code",
      "source": [
        "cv_scores = cross_val_score(best_rf_classifier, features, target, cv=5)\n",
        "mean_cv_score = cv_scores.mean()"
      ],
      "metadata": {
        "id": "l4P5DD0pUcbr"
      },
      "execution_count": 91,
      "outputs": []
    },
    {
      "cell_type": "code",
      "source": [
        "y_pred = best_rf_classifier.predict(X_test)\n",
        "classification_rep = classification_report(y_test, y_pred)"
      ],
      "metadata": {
        "id": "8NHcGPxWUhmM"
      },
      "execution_count": 92,
      "outputs": []
    },
    {
      "cell_type": "code",
      "source": [
        "print(\"Cross-Validation Mean Score:\", mean_cv_score)\n",
        "print(\"Classification Report:\\n\", classification_rep)"
      ],
      "metadata": {
        "colab": {
          "base_uri": "https://localhost:8080/"
        },
        "id": "XRZuvdDJUkIr",
        "outputId": "7a60673a-8f01-4144-8015-837a02be9ce3"
      },
      "execution_count": 93,
      "outputs": [
        {
          "output_type": "stream",
          "name": "stdout",
          "text": [
            "Cross-Validation Mean Score: 0.41801300466748365\n",
            "Classification Report:\n",
            "               precision    recall  f1-score   support\n",
            "\n",
            "           C       0.43      0.16      0.23        19\n",
            "          CB       0.46      0.63      0.54        60\n",
            "          DB       0.00      0.00      0.00         6\n",
            "          DE       0.54      0.59      0.56        46\n",
            "          DT       0.39      0.44      0.41        32\n",
            "          FB       0.00      0.00      0.00         5\n",
            "          FS       0.43      0.21      0.29        28\n",
            "           G       0.33      0.46      0.38        28\n",
            "          HB       0.00      0.00      0.00         1\n",
            "         ILB       0.42      0.52      0.47        27\n",
            "           K       0.00      0.00      0.00        10\n",
            "          LB       0.00      0.00      0.00        11\n",
            "          LS       0.00      0.00      0.00         9\n",
            "         MLB       0.00      0.00      0.00         5\n",
            "          NT       0.33      0.07      0.11        15\n",
            "         OLB       0.30      0.33      0.31        40\n",
            "          OT       0.00      0.00      0.00         1\n",
            "           P       0.00      0.00      0.00         8\n",
            "          QB       0.00      0.00      0.00         3\n",
            "          RB       0.47      0.59      0.52        34\n",
            "          SS       0.15      0.16      0.16        25\n",
            "           T       0.60      0.79      0.68        33\n",
            "          TE       0.60      0.74      0.67        39\n",
            "          WR       0.34      0.42      0.38        62\n",
            "\n",
            "    accuracy                           0.43       547\n",
            "   macro avg       0.24      0.25      0.24       547\n",
            "weighted avg       0.38      0.43      0.39       547\n",
            "\n"
          ]
        }
      ]
    }
  ]
}